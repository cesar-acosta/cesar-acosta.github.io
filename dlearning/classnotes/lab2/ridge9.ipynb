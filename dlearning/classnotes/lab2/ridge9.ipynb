{
 "cells": [
  {
   "cell_type": "markdown",
   "metadata": {},
   "source": [
    "# Regression models with Regularization"
   ]
  },
  {
   "cell_type": "code",
   "execution_count": 3,
   "metadata": {},
   "outputs": [],
   "source": [
    "import numpy as np\n",
    "import pandas as pd\n",
    "import matplotlib.pyplot as plt"
   ]
  },
  {
   "cell_type": "code",
   "execution_count": 4,
   "metadata": {},
   "outputs": [
    {
     "data": {
      "text/plain": [
       "'1.21.6'"
      ]
     },
     "execution_count": 4,
     "metadata": {},
     "output_type": "execute_result"
    }
   ],
   "source": [
    "np. __version__"
   ]
  },
  {
   "cell_type": "code",
   "execution_count": 5,
   "metadata": {},
   "outputs": [
    {
     "data": {
      "text/plain": [
       "'1.3.5'"
      ]
     },
     "execution_count": 5,
     "metadata": {},
     "output_type": "execute_result"
    }
   ],
   "source": [
    "pd. __version__"
   ]
  },
  {
   "cell_type": "code",
   "execution_count": 6,
   "metadata": {},
   "outputs": [],
   "source": [
    "from sklearn.metrics import mean_squared_error"
   ]
  },
  {
   "cell_type": "code",
   "execution_count": 7,
   "metadata": {},
   "outputs": [],
   "source": [
    "# for holdout cv\n",
    "from sklearn.model_selection import train_test_split"
   ]
  },
  {
   "cell_type": "code",
   "execution_count": 8,
   "metadata": {
    "scrolled": false
   },
   "outputs": [],
   "source": [
    "# for K-fold cv\n",
    "from sklearn.linear_model import RidgeCV, LassoCV"
   ]
  },
  {
   "cell_type": "code",
   "execution_count": 9,
   "metadata": {},
   "outputs": [],
   "source": [
    "from sklearn.preprocessing import StandardScaler\n",
    "from sklearn.preprocessing import MinMaxScaler\n",
    "from sklearn.preprocessing import Normalizer\n",
    "from sklearn.pipeline import make_pipeline\n",
    "from sklearn.linear_model import Ridge, Lasso"
   ]
  },
  {
   "cell_type": "code",
   "execution_count": 10,
   "metadata": {
    "scrolled": false
   },
   "outputs": [
    {
     "data": {
      "text/plain": [
       "(322, 20)"
      ]
     },
     "execution_count": 10,
     "metadata": {},
     "output_type": "execute_result"
    }
   ],
   "source": [
    "df = pd.read_csv('Hitters.csv')\n",
    "df.shape"
   ]
  },
  {
   "cell_type": "code",
   "execution_count": 11,
   "metadata": {
    "scrolled": false
   },
   "outputs": [
    {
     "data": {
      "text/html": [
       "<div>\n",
       "<style scoped>\n",
       "    .dataframe tbody tr th:only-of-type {\n",
       "        vertical-align: middle;\n",
       "    }\n",
       "\n",
       "    .dataframe tbody tr th {\n",
       "        vertical-align: top;\n",
       "    }\n",
       "\n",
       "    .dataframe thead th {\n",
       "        text-align: right;\n",
       "    }\n",
       "</style>\n",
       "<table border=\"1\" class=\"dataframe\">\n",
       "  <thead>\n",
       "    <tr style=\"text-align: right;\">\n",
       "      <th></th>\n",
       "      <th>CRuns</th>\n",
       "      <th>CRBI</th>\n",
       "      <th>CWalks</th>\n",
       "      <th>League</th>\n",
       "      <th>Division</th>\n",
       "      <th>PutOuts</th>\n",
       "      <th>Assists</th>\n",
       "      <th>Errors</th>\n",
       "      <th>Salary</th>\n",
       "      <th>NewLeague</th>\n",
       "    </tr>\n",
       "  </thead>\n",
       "  <tbody>\n",
       "    <tr>\n",
       "      <th>0</th>\n",
       "      <td>30</td>\n",
       "      <td>29</td>\n",
       "      <td>14</td>\n",
       "      <td>A</td>\n",
       "      <td>E</td>\n",
       "      <td>446</td>\n",
       "      <td>33</td>\n",
       "      <td>20</td>\n",
       "      <td>NaN</td>\n",
       "      <td>A</td>\n",
       "    </tr>\n",
       "    <tr>\n",
       "      <th>1</th>\n",
       "      <td>321</td>\n",
       "      <td>414</td>\n",
       "      <td>375</td>\n",
       "      <td>N</td>\n",
       "      <td>W</td>\n",
       "      <td>632</td>\n",
       "      <td>43</td>\n",
       "      <td>10</td>\n",
       "      <td>475.0</td>\n",
       "      <td>N</td>\n",
       "    </tr>\n",
       "    <tr>\n",
       "      <th>2</th>\n",
       "      <td>224</td>\n",
       "      <td>266</td>\n",
       "      <td>263</td>\n",
       "      <td>A</td>\n",
       "      <td>W</td>\n",
       "      <td>880</td>\n",
       "      <td>82</td>\n",
       "      <td>14</td>\n",
       "      <td>480.0</td>\n",
       "      <td>A</td>\n",
       "    </tr>\n",
       "    <tr>\n",
       "      <th>3</th>\n",
       "      <td>828</td>\n",
       "      <td>838</td>\n",
       "      <td>354</td>\n",
       "      <td>N</td>\n",
       "      <td>E</td>\n",
       "      <td>200</td>\n",
       "      <td>11</td>\n",
       "      <td>3</td>\n",
       "      <td>500.0</td>\n",
       "      <td>N</td>\n",
       "    </tr>\n",
       "    <tr>\n",
       "      <th>4</th>\n",
       "      <td>48</td>\n",
       "      <td>46</td>\n",
       "      <td>33</td>\n",
       "      <td>N</td>\n",
       "      <td>E</td>\n",
       "      <td>805</td>\n",
       "      <td>40</td>\n",
       "      <td>4</td>\n",
       "      <td>91.5</td>\n",
       "      <td>N</td>\n",
       "    </tr>\n",
       "  </tbody>\n",
       "</table>\n",
       "</div>"
      ],
      "text/plain": [
       "   CRuns  CRBI  CWalks League Division  PutOuts  Assists  Errors  Salary  \\\n",
       "0     30    29      14      A        E      446       33      20     NaN   \n",
       "1    321   414     375      N        W      632       43      10   475.0   \n",
       "2    224   266     263      A        W      880       82      14   480.0   \n",
       "3    828   838     354      N        E      200       11       3   500.0   \n",
       "4     48    46      33      N        E      805       40       4    91.5   \n",
       "\n",
       "  NewLeague  \n",
       "0         A  \n",
       "1         N  \n",
       "2         A  \n",
       "3         N  \n",
       "4         N  "
      ]
     },
     "execution_count": 11,
     "metadata": {},
     "output_type": "execute_result"
    }
   ],
   "source": [
    "df.iloc[:5,-10:]"
   ]
  },
  {
   "cell_type": "code",
   "execution_count": 12,
   "metadata": {
    "scrolled": false
   },
   "outputs": [],
   "source": [
    "# drop NAs"
   ]
  },
  {
   "cell_type": "code",
   "execution_count": 13,
   "metadata": {
    "scrolled": false
   },
   "outputs": [
    {
     "data": {
      "text/plain": [
       "(263, 20)"
      ]
     },
     "execution_count": 13,
     "metadata": {},
     "output_type": "execute_result"
    }
   ],
   "source": [
    "d0 = df.dropna()\n",
    "d0.shape"
   ]
  },
  {
   "cell_type": "code",
   "execution_count": 14,
   "metadata": {
    "scrolled": false
   },
   "outputs": [],
   "source": [
    "y = d0.Salary\n",
    "x0 = d0.drop(['Salary'],axis=1)"
   ]
  },
  {
   "cell_type": "code",
   "execution_count": 15,
   "metadata": {
    "scrolled": false
   },
   "outputs": [
    {
     "data": {
      "text/plain": [
       "AtBat         int64\n",
       "Hits          int64\n",
       "HmRun         int64\n",
       "Runs          int64\n",
       "RBI           int64\n",
       "Walks         int64\n",
       "Years         int64\n",
       "CAtBat        int64\n",
       "CHits         int64\n",
       "CHmRun        int64\n",
       "CRuns         int64\n",
       "CRBI          int64\n",
       "CWalks        int64\n",
       "League       object\n",
       "Division     object\n",
       "PutOuts       int64\n",
       "Assists       int64\n",
       "Errors        int64\n",
       "NewLeague    object\n",
       "dtype: object"
      ]
     },
     "execution_count": 15,
     "metadata": {},
     "output_type": "execute_result"
    }
   ],
   "source": [
    "x0.dtypes"
   ]
  },
  {
   "cell_type": "code",
   "execution_count": 16,
   "metadata": {
    "scrolled": false
   },
   "outputs": [],
   "source": [
    "# catgories of categorical columns"
   ]
  },
  {
   "cell_type": "code",
   "execution_count": 17,
   "metadata": {
    "scrolled": false
   },
   "outputs": [
    {
     "name": "stdout",
     "output_type": "stream",
     "text": [
      "A    139\n",
      "N    124\n",
      "Name: League, dtype: int64\n",
      "W    134\n",
      "E    129\n",
      "Name: Division, dtype: int64\n",
      "A    141\n",
      "N    122\n",
      "Name: NewLeague, dtype: int64\n"
     ]
    }
   ],
   "source": [
    "x2 = x0.loc[:,x0.dtypes == object]\n",
    "for i in x2.columns:\n",
    "    print(x2[i].value_counts())"
   ]
  },
  {
   "cell_type": "code",
   "execution_count": 18,
   "metadata": {
    "scrolled": false
   },
   "outputs": [
    {
     "data": {
      "text/html": [
       "<div>\n",
       "<style scoped>\n",
       "    .dataframe tbody tr th:only-of-type {\n",
       "        vertical-align: middle;\n",
       "    }\n",
       "\n",
       "    .dataframe tbody tr th {\n",
       "        vertical-align: top;\n",
       "    }\n",
       "\n",
       "    .dataframe thead th {\n",
       "        text-align: right;\n",
       "    }\n",
       "</style>\n",
       "<table border=\"1\" class=\"dataframe\">\n",
       "  <thead>\n",
       "    <tr style=\"text-align: right;\">\n",
       "      <th></th>\n",
       "      <th>CHmRun</th>\n",
       "      <th>CRuns</th>\n",
       "      <th>CRBI</th>\n",
       "      <th>CWalks</th>\n",
       "      <th>PutOuts</th>\n",
       "      <th>Assists</th>\n",
       "      <th>Errors</th>\n",
       "      <th>League_N</th>\n",
       "      <th>Division_W</th>\n",
       "      <th>NewLeague_N</th>\n",
       "    </tr>\n",
       "  </thead>\n",
       "  <tbody>\n",
       "    <tr>\n",
       "      <th>1</th>\n",
       "      <td>69</td>\n",
       "      <td>321</td>\n",
       "      <td>414</td>\n",
       "      <td>375</td>\n",
       "      <td>632</td>\n",
       "      <td>43</td>\n",
       "      <td>10</td>\n",
       "      <td>1</td>\n",
       "      <td>1</td>\n",
       "      <td>1</td>\n",
       "    </tr>\n",
       "    <tr>\n",
       "      <th>2</th>\n",
       "      <td>63</td>\n",
       "      <td>224</td>\n",
       "      <td>266</td>\n",
       "      <td>263</td>\n",
       "      <td>880</td>\n",
       "      <td>82</td>\n",
       "      <td>14</td>\n",
       "      <td>0</td>\n",
       "      <td>1</td>\n",
       "      <td>0</td>\n",
       "    </tr>\n",
       "    <tr>\n",
       "      <th>3</th>\n",
       "      <td>225</td>\n",
       "      <td>828</td>\n",
       "      <td>838</td>\n",
       "      <td>354</td>\n",
       "      <td>200</td>\n",
       "      <td>11</td>\n",
       "      <td>3</td>\n",
       "      <td>1</td>\n",
       "      <td>0</td>\n",
       "      <td>1</td>\n",
       "    </tr>\n",
       "    <tr>\n",
       "      <th>4</th>\n",
       "      <td>12</td>\n",
       "      <td>48</td>\n",
       "      <td>46</td>\n",
       "      <td>33</td>\n",
       "      <td>805</td>\n",
       "      <td>40</td>\n",
       "      <td>4</td>\n",
       "      <td>1</td>\n",
       "      <td>0</td>\n",
       "      <td>1</td>\n",
       "    </tr>\n",
       "    <tr>\n",
       "      <th>5</th>\n",
       "      <td>19</td>\n",
       "      <td>501</td>\n",
       "      <td>336</td>\n",
       "      <td>194</td>\n",
       "      <td>282</td>\n",
       "      <td>421</td>\n",
       "      <td>25</td>\n",
       "      <td>0</td>\n",
       "      <td>1</td>\n",
       "      <td>0</td>\n",
       "    </tr>\n",
       "  </tbody>\n",
       "</table>\n",
       "</div>"
      ],
      "text/plain": [
       "   CHmRun  CRuns  CRBI  CWalks  PutOuts  Assists  Errors  League_N  \\\n",
       "1      69    321   414     375      632       43      10         1   \n",
       "2      63    224   266     263      880       82      14         0   \n",
       "3     225    828   838     354      200       11       3         1   \n",
       "4      12     48    46      33      805       40       4         1   \n",
       "5      19    501   336     194      282      421      25         0   \n",
       "\n",
       "   Division_W  NewLeague_N  \n",
       "1           1            1  \n",
       "2           1            0  \n",
       "3           0            1  \n",
       "4           0            1  \n",
       "5           1            0  "
      ]
     },
     "execution_count": 18,
     "metadata": {},
     "output_type": "execute_result"
    }
   ],
   "source": [
    "# substitute categorical cols with dummy vars\n",
    "\n",
    "x = pd.get_dummies(x0,\n",
    "                   columns = ['League','Division','NewLeague'],\n",
    "                   drop_first=True)\n",
    "x.iloc[:5,-10:]"
   ]
  },
  {
   "cell_type": "code",
   "execution_count": 19,
   "metadata": {
    "scrolled": false
   },
   "outputs": [
    {
     "data": {
      "text/plain": [
       "AtBat          int64\n",
       "Hits           int64\n",
       "HmRun          int64\n",
       "Runs           int64\n",
       "RBI            int64\n",
       "Walks          int64\n",
       "Years          int64\n",
       "CAtBat         int64\n",
       "CHits          int64\n",
       "CHmRun         int64\n",
       "CRuns          int64\n",
       "CRBI           int64\n",
       "CWalks         int64\n",
       "PutOuts        int64\n",
       "Assists        int64\n",
       "Errors         int64\n",
       "League_N       uint8\n",
       "Division_W     uint8\n",
       "NewLeague_N    uint8\n",
       "dtype: object"
      ]
     },
     "execution_count": 19,
     "metadata": {},
     "output_type": "execute_result"
    }
   ],
   "source": [
    "x.dtypes"
   ]
  },
  {
   "cell_type": "code",
   "execution_count": 20,
   "metadata": {
    "scrolled": false
   },
   "outputs": [],
   "source": [
    "X = x.astype('float64')"
   ]
  },
  {
   "cell_type": "markdown",
   "metadata": {},
   "source": [
    "## Ridge Regression"
   ]
  },
  {
   "cell_type": "code",
   "execution_count": 21,
   "metadata": {},
   "outputs": [
    {
     "name": "stderr",
     "output_type": "stream",
     "text": [
      "/opt/anaconda3/lib/python3.7/site-packages/sklearn/linear_model/_base.py:145: FutureWarning: 'normalize' was deprecated in version 1.0 and will be removed in 1.2.\n",
      "If you wish to scale the data, use Pipeline with a StandardScaler in a preprocessing stage. To reproduce the previous behavior:\n",
      "\n",
      "from sklearn.pipeline import make_pipeline\n",
      "\n",
      "model = make_pipeline(StandardScaler(with_mean=False), Ridge())\n",
      "\n",
      "If you wish to pass a sample_weight parameter, you need to pass it as a fit parameter to each step of the pipeline as follows:\n",
      "\n",
      "kwargs = {s[0] + '__sample_weight': sample_weight for s in model.steps}\n",
      "model.fit(X, y, **kwargs)\n",
      "\n",
      "Set parameter alpha to: original_alpha * n_samples. \n",
      "  FutureWarning,\n"
     ]
    },
    {
     "data": {
      "text/plain": [
       "Ridge(alpha=0, normalize=True)"
      ]
     },
     "execution_count": 21,
     "metadata": {},
     "output_type": "execute_result"
    }
   ],
   "source": [
    "model = Ridge(alpha = 0, normalize = True)\n",
    "model.fit(X, y)"
   ]
  },
  {
   "cell_type": "code",
   "execution_count": null,
   "metadata": {},
   "outputs": [],
   "source": []
  },
  {
   "cell_type": "code",
   "execution_count": 22,
   "metadata": {
    "scrolled": false
   },
   "outputs": [],
   "source": [
    "# Create an array of 100 alpha values \n",
    "# ranging from very small to very large"
   ]
  },
  {
   "cell_type": "code",
   "execution_count": 23,
   "metadata": {
    "scrolled": false
   },
   "outputs": [],
   "source": [
    "alphas = 10**np.linspace(10,-2,100)"
   ]
  },
  {
   "cell_type": "code",
   "execution_count": 24,
   "metadata": {
    "scrolled": false
   },
   "outputs": [
    {
     "data": {
      "text/plain": [
       "(100,)"
      ]
     },
     "execution_count": 24,
     "metadata": {},
     "output_type": "execute_result"
    }
   ],
   "source": [
    "alphas.shape"
   ]
  },
  {
   "cell_type": "code",
   "execution_count": 25,
   "metadata": {
    "scrolled": false
   },
   "outputs": [
    {
     "data": {
      "text/plain": [
       "0.01"
      ]
     },
     "execution_count": 25,
     "metadata": {},
     "output_type": "execute_result"
    }
   ],
   "source": [
    "# 10^(-2)\n",
    "alphas.min()"
   ]
  },
  {
   "cell_type": "code",
   "execution_count": 26,
   "metadata": {
    "scrolled": false
   },
   "outputs": [
    {
     "data": {
      "text/plain": [
       "10000000000.0"
      ]
     },
     "execution_count": 26,
     "metadata": {},
     "output_type": "execute_result"
    }
   ],
   "source": [
    "# 10^!0\n",
    "alphas.max()"
   ]
  },
  {
   "cell_type": "code",
   "execution_count": null,
   "metadata": {},
   "outputs": [],
   "source": []
  },
  {
   "cell_type": "code",
   "execution_count": 27,
   "metadata": {
    "scrolled": false
   },
   "outputs": [],
   "source": [
    "# fit 100 Ridge regression models, \n",
    "# one for each alpha (normalizing all cols)"
   ]
  },
  {
   "cell_type": "code",
   "execution_count": 28,
   "metadata": {},
   "outputs": [],
   "source": [
    "scaler = StandardScaler(with_mean = False)\n",
    "scaler.fit(X)\n",
    "X_scaled = scaler.transform(X)"
   ]
  },
  {
   "cell_type": "code",
   "execution_count": 29,
   "metadata": {},
   "outputs": [],
   "source": [
    "model = Ridge(alpha=0)"
   ]
  },
  {
   "cell_type": "code",
   "execution_count": 30,
   "metadata": {
    "scrolled": false
   },
   "outputs": [],
   "source": [
    "coefs = []\n",
    "for a in alphas:\n",
    "    model.set_params(alpha = a*263)\n",
    "    model.fit(X_scaled, y)\n",
    "    coefs.append(model.coef_/X.std())"
   ]
  },
  {
   "cell_type": "code",
   "execution_count": 31,
   "metadata": {
    "scrolled": false
   },
   "outputs": [
    {
     "data": {
      "text/html": [
       "<div>\n",
       "<style scoped>\n",
       "    .dataframe tbody tr th:only-of-type {\n",
       "        vertical-align: middle;\n",
       "    }\n",
       "\n",
       "    .dataframe tbody tr th {\n",
       "        vertical-align: top;\n",
       "    }\n",
       "\n",
       "    .dataframe thead th {\n",
       "        text-align: right;\n",
       "    }\n",
       "</style>\n",
       "<table border=\"1\" class=\"dataframe\">\n",
       "  <thead>\n",
       "    <tr style=\"text-align: right;\">\n",
       "      <th></th>\n",
       "      <th>0</th>\n",
       "    </tr>\n",
       "  </thead>\n",
       "  <tbody>\n",
       "    <tr>\n",
       "      <th>AtBat</th>\n",
       "      <td>-1.580559</td>\n",
       "    </tr>\n",
       "    <tr>\n",
       "      <th>Hits</th>\n",
       "      <td>5.535534</td>\n",
       "    </tr>\n",
       "    <tr>\n",
       "      <th>HmRun</th>\n",
       "      <td>0.631065</td>\n",
       "    </tr>\n",
       "    <tr>\n",
       "      <th>Runs</th>\n",
       "      <td>-0.279468</td>\n",
       "    </tr>\n",
       "    <tr>\n",
       "      <th>RBI</th>\n",
       "      <td>0.064173</td>\n",
       "    </tr>\n",
       "    <tr>\n",
       "      <th>Walks</th>\n",
       "      <td>5.154704</td>\n",
       "    </tr>\n",
       "    <tr>\n",
       "      <th>Years</th>\n",
       "      <td>-10.339852</td>\n",
       "    </tr>\n",
       "    <tr>\n",
       "      <th>CAtBat</th>\n",
       "      <td>-0.053339</td>\n",
       "    </tr>\n",
       "    <tr>\n",
       "      <th>CHits</th>\n",
       "      <td>0.191263</td>\n",
       "    </tr>\n",
       "    <tr>\n",
       "      <th>CHmRun</th>\n",
       "      <td>0.676647</td>\n",
       "    </tr>\n",
       "    <tr>\n",
       "      <th>CRuns</th>\n",
       "      <td>0.683948</td>\n",
       "    </tr>\n",
       "    <tr>\n",
       "      <th>CRBI</th>\n",
       "      <td>0.380299</td>\n",
       "    </tr>\n",
       "    <tr>\n",
       "      <th>CWalks</th>\n",
       "      <td>-0.593415</td>\n",
       "    </tr>\n",
       "    <tr>\n",
       "      <th>PutOuts</th>\n",
       "      <td>0.278436</td>\n",
       "    </tr>\n",
       "    <tr>\n",
       "      <th>Assists</th>\n",
       "      <td>0.285468</td>\n",
       "    </tr>\n",
       "    <tr>\n",
       "      <th>Errors</th>\n",
       "      <td>-3.760325</td>\n",
       "    </tr>\n",
       "    <tr>\n",
       "      <th>League_N</th>\n",
       "      <td>61.011569</td>\n",
       "    </tr>\n",
       "    <tr>\n",
       "      <th>Division_W</th>\n",
       "      <td>-122.660426</td>\n",
       "    </tr>\n",
       "    <tr>\n",
       "      <th>NewLeague_N</th>\n",
       "      <td>-27.588467</td>\n",
       "    </tr>\n",
       "  </tbody>\n",
       "</table>\n",
       "</div>"
      ],
      "text/plain": [
       "                      0\n",
       "AtBat         -1.580559\n",
       "Hits           5.535534\n",
       "HmRun          0.631065\n",
       "Runs          -0.279468\n",
       "RBI            0.064173\n",
       "Walks          5.154704\n",
       "Years        -10.339852\n",
       "CAtBat        -0.053339\n",
       "CHits          0.191263\n",
       "CHmRun         0.676647\n",
       "CRuns          0.683948\n",
       "CRBI           0.380299\n",
       "CWalks        -0.593415\n",
       "PutOuts        0.278436\n",
       "Assists        0.285468\n",
       "Errors        -3.760325\n",
       "League_N      61.011569\n",
       "Division_W  -122.660426\n",
       "NewLeague_N  -27.588467"
      ]
     },
     "execution_count": 31,
     "metadata": {},
     "output_type": "execute_result"
    }
   ],
   "source": [
    "# regression coefficients of the last model\n",
    "pd.DataFrame(coefs[99], index = X.columns)"
   ]
  },
  {
   "cell_type": "code",
   "execution_count": 32,
   "metadata": {
    "scrolled": false
   },
   "outputs": [],
   "source": [
    "# Store all regression coeffs in a DataFrame"
   ]
  },
  {
   "cell_type": "code",
   "execution_count": 33,
   "metadata": {
    "scrolled": false
   },
   "outputs": [
    {
     "data": {
      "text/html": [
       "<div>\n",
       "<style scoped>\n",
       "    .dataframe tbody tr th:only-of-type {\n",
       "        vertical-align: middle;\n",
       "    }\n",
       "\n",
       "    .dataframe tbody tr th {\n",
       "        vertical-align: top;\n",
       "    }\n",
       "\n",
       "    .dataframe thead th {\n",
       "        text-align: right;\n",
       "    }\n",
       "</style>\n",
       "<table border=\"1\" class=\"dataframe\">\n",
       "  <thead>\n",
       "    <tr style=\"text-align: right;\">\n",
       "      <th></th>\n",
       "      <th>AtBat</th>\n",
       "      <th>Hits</th>\n",
       "      <th>HmRun</th>\n",
       "      <th>Runs</th>\n",
       "      <th>RBI</th>\n",
       "      <th>Walks</th>\n",
       "      <th>Years</th>\n",
       "      <th>CAtBat</th>\n",
       "      <th>CHits</th>\n",
       "      <th>CHmRun</th>\n",
       "      <th>CRuns</th>\n",
       "      <th>CRBI</th>\n",
       "      <th>CWalks</th>\n",
       "      <th>PutOuts</th>\n",
       "      <th>Assists</th>\n",
       "      <th>Errors</th>\n",
       "      <th>League_N</th>\n",
       "      <th>Division_W</th>\n",
       "      <th>NewLeague_N</th>\n",
       "    </tr>\n",
       "    <tr>\n",
       "      <th>alpha</th>\n",
       "      <th></th>\n",
       "      <th></th>\n",
       "      <th></th>\n",
       "      <th></th>\n",
       "      <th></th>\n",
       "      <th></th>\n",
       "      <th></th>\n",
       "      <th></th>\n",
       "      <th></th>\n",
       "      <th></th>\n",
       "      <th></th>\n",
       "      <th></th>\n",
       "      <th></th>\n",
       "      <th></th>\n",
       "      <th></th>\n",
       "      <th></th>\n",
       "      <th></th>\n",
       "      <th></th>\n",
       "      <th></th>\n",
       "    </tr>\n",
       "  </thead>\n",
       "  <tbody>\n",
       "    <tr>\n",
       "      <th>1.000000e+10</th>\n",
       "      <td>1.206660e-10</td>\n",
       "      <td>4.377094e-10</td>\n",
       "      <td>1.763732e-09</td>\n",
       "      <td>7.401996e-10</td>\n",
       "      <td>7.818834e-10</td>\n",
       "      <td>9.202286e-10</td>\n",
       "      <td>3.763337e-09</td>\n",
       "      <td>1.036034e-11</td>\n",
       "      <td>3.812902e-11</td>\n",
       "      <td>2.875454e-10</td>\n",
       "      <td>7.649532e-11</td>\n",
       "      <td>7.894484e-11</td>\n",
       "      <td>8.352300e-11</td>\n",
       "      <td>4.833070e-11</td>\n",
       "      <td>7.894151e-12</td>\n",
       "      <td>-3.680759e-11</td>\n",
       "      <td>-1.285753e-09</td>\n",
       "      <td>-1.730645e-08</td>\n",
       "      <td>-2.554306e-10</td>\n",
       "    </tr>\n",
       "    <tr>\n",
       "      <th>7.564633e+09</th>\n",
       "      <td>1.595133e-10</td>\n",
       "      <td>5.786260e-10</td>\n",
       "      <td>2.331550e-09</td>\n",
       "      <td>9.785003e-10</td>\n",
       "      <td>1.033604e-09</td>\n",
       "      <td>1.216488e-09</td>\n",
       "      <td>4.974910e-09</td>\n",
       "      <td>1.369576e-11</td>\n",
       "      <td>5.040431e-11</td>\n",
       "      <td>3.801181e-10</td>\n",
       "      <td>1.011223e-10</td>\n",
       "      <td>1.043604e-10</td>\n",
       "      <td>1.104125e-10</td>\n",
       "      <td>6.389035e-11</td>\n",
       "      <td>1.043560e-11</td>\n",
       "      <td>-4.865747e-11</td>\n",
       "      <td>-1.699690e-09</td>\n",
       "      <td>-2.287811e-08</td>\n",
       "      <td>-3.376642e-10</td>\n",
       "    </tr>\n",
       "    <tr>\n",
       "      <th>5.722368e+09</th>\n",
       "      <td>2.108672e-10</td>\n",
       "      <td>7.649096e-10</td>\n",
       "      <td>3.082172e-09</td>\n",
       "      <td>1.293520e-09</td>\n",
       "      <td>1.366363e-09</td>\n",
       "      <td>1.608126e-09</td>\n",
       "      <td>6.576538e-09</td>\n",
       "      <td>1.810499e-11</td>\n",
       "      <td>6.663154e-11</td>\n",
       "      <td>5.024937e-10</td>\n",
       "      <td>1.336777e-10</td>\n",
       "      <td>1.379584e-10</td>\n",
       "      <td>1.459588e-10</td>\n",
       "      <td>8.445928e-11</td>\n",
       "      <td>1.379525e-11</td>\n",
       "      <td>-6.432232e-11</td>\n",
       "      <td>-2.246890e-09</td>\n",
       "      <td>-3.024352e-08</td>\n",
       "      <td>-4.463722e-10</td>\n",
       "    </tr>\n",
       "    <tr>\n",
       "      <th>4.328761e+09</th>\n",
       "      <td>2.787540e-10</td>\n",
       "      <td>1.011165e-09</td>\n",
       "      <td>4.074449e-09</td>\n",
       "      <td>1.709957e-09</td>\n",
       "      <td>1.806252e-09</td>\n",
       "      <td>2.125848e-09</td>\n",
       "      <td>8.693796e-09</td>\n",
       "      <td>2.393373e-11</td>\n",
       "      <td>8.808297e-11</td>\n",
       "      <td>6.642671e-10</td>\n",
       "      <td>1.767141e-10</td>\n",
       "      <td>1.823728e-10</td>\n",
       "      <td>1.929490e-10</td>\n",
       "      <td>1.116502e-10</td>\n",
       "      <td>1.823651e-11</td>\n",
       "      <td>-8.503032e-11</td>\n",
       "      <td>-2.970257e-09</td>\n",
       "      <td>-3.998015e-08</td>\n",
       "      <td>-5.900778e-10</td>\n",
       "    </tr>\n",
       "    <tr>\n",
       "      <th>3.274549e+09</th>\n",
       "      <td>3.684964e-10</td>\n",
       "      <td>1.336701e-09</td>\n",
       "      <td>5.386182e-09</td>\n",
       "      <td>2.260463e-09</td>\n",
       "      <td>2.387759e-09</td>\n",
       "      <td>2.810245e-09</td>\n",
       "      <td>1.149269e-08</td>\n",
       "      <td>3.163899e-11</td>\n",
       "      <td>1.164405e-10</td>\n",
       "      <td>8.781221e-10</td>\n",
       "      <td>2.336056e-10</td>\n",
       "      <td>2.410861e-10</td>\n",
       "      <td>2.550672e-10</td>\n",
       "      <td>1.475950e-10</td>\n",
       "      <td>2.410760e-11</td>\n",
       "      <td>-1.124051e-10</td>\n",
       "      <td>-3.926505e-09</td>\n",
       "      <td>-5.285141e-08</td>\n",
       "      <td>-7.800481e-10</td>\n",
       "    </tr>\n",
       "    <tr>\n",
       "      <th>...</th>\n",
       "      <td>...</td>\n",
       "      <td>...</td>\n",
       "      <td>...</td>\n",
       "      <td>...</td>\n",
       "      <td>...</td>\n",
       "      <td>...</td>\n",
       "      <td>...</td>\n",
       "      <td>...</td>\n",
       "      <td>...</td>\n",
       "      <td>...</td>\n",
       "      <td>...</td>\n",
       "      <td>...</td>\n",
       "      <td>...</td>\n",
       "      <td>...</td>\n",
       "      <td>...</td>\n",
       "      <td>...</td>\n",
       "      <td>...</td>\n",
       "      <td>...</td>\n",
       "      <td>...</td>\n",
       "    </tr>\n",
       "    <tr>\n",
       "      <th>3.053856e-02</th>\n",
       "      <td>-1.028700e+00</td>\n",
       "      <td>3.739718e+00</td>\n",
       "      <td>-9.182336e-01</td>\n",
       "      <td>6.939502e-01</td>\n",
       "      <td>5.339658e-01</td>\n",
       "      <td>4.056337e+00</td>\n",
       "      <td>-1.055843e+01</td>\n",
       "      <td>-1.377871e-02</td>\n",
       "      <td>1.596741e-01</td>\n",
       "      <td>7.181724e-01</td>\n",
       "      <td>4.021751e-01</td>\n",
       "      <td>2.999470e-01</td>\n",
       "      <td>-4.017868e-01</td>\n",
       "      <td>2.710834e-01</td>\n",
       "      <td>2.149988e-01</td>\n",
       "      <td>-3.834378e+00</td>\n",
       "      <td>5.751891e+01</td>\n",
       "      <td>-1.239667e+02</td>\n",
       "      <td>-2.364769e+01</td>\n",
       "    </tr>\n",
       "    <tr>\n",
       "      <th>2.310130e-02</th>\n",
       "      <td>-1.185117e+00</td>\n",
       "      <td>4.211671e+00</td>\n",
       "      <td>-5.948357e-01</td>\n",
       "      <td>4.874766e-01</td>\n",
       "      <td>4.289051e-01</td>\n",
       "      <td>4.363164e+00</td>\n",
       "      <td>-1.087033e+01</td>\n",
       "      <td>-2.157743e-02</td>\n",
       "      <td>1.699208e-01</td>\n",
       "      <td>7.237746e-01</td>\n",
       "      <td>4.625025e-01</td>\n",
       "      <td>3.171636e-01</td>\n",
       "      <td>-4.557251e-01</td>\n",
       "      <td>2.735621e-01</td>\n",
       "      <td>2.345597e-01</td>\n",
       "      <td>-3.847627e+00</td>\n",
       "      <td>5.882616e+01</td>\n",
       "      <td>-1.239786e+02</td>\n",
       "      <td>-2.530875e+01</td>\n",
       "    </tr>\n",
       "    <tr>\n",
       "      <th>1.747528e-02</th>\n",
       "      <td>-1.332269e+00</td>\n",
       "      <td>4.679851e+00</td>\n",
       "      <td>-2.158357e-01</td>\n",
       "      <td>2.495479e-01</td>\n",
       "      <td>3.128479e-01</td>\n",
       "      <td>4.653153e+00</td>\n",
       "      <td>-1.092168e+01</td>\n",
       "      <td>-3.083296e-02</td>\n",
       "      <td>1.787509e-01</td>\n",
       "      <td>7.202408e-01</td>\n",
       "      <td>5.302618e-01</td>\n",
       "      <td>3.354586e-01</td>\n",
       "      <td>-5.061250e-01</td>\n",
       "      <td>2.755639e-01</td>\n",
       "      <td>2.529570e-01</td>\n",
       "      <td>-3.834637e+00</td>\n",
       "      <td>5.979132e+01</td>\n",
       "      <td>-1.237187e+02</td>\n",
       "      <td>-2.646826e+01</td>\n",
       "    </tr>\n",
       "    <tr>\n",
       "      <th>1.321941e-02</th>\n",
       "      <td>-1.465213e+00</td>\n",
       "      <td>5.126143e+00</td>\n",
       "      <td>1.988282e-01</td>\n",
       "      <td>-9.890888e-03</td>\n",
       "      <td>1.900171e-01</td>\n",
       "      <td>4.918695e+00</td>\n",
       "      <td>-1.073314e+01</td>\n",
       "      <td>-4.148133e-02</td>\n",
       "      <td>1.859121e-01</td>\n",
       "      <td>7.051903e-01</td>\n",
       "      <td>6.045822e-01</td>\n",
       "      <td>3.561015e-01</td>\n",
       "      <td>-5.521775e-01</td>\n",
       "      <td>2.771688e-01</td>\n",
       "      <td>2.699697e-01</td>\n",
       "      <td>-3.803126e+00</td>\n",
       "      <td>6.049529e+01</td>\n",
       "      <td>-1.232576e+02</td>\n",
       "      <td>-2.720000e+01</td>\n",
       "    </tr>\n",
       "    <tr>\n",
       "      <th>1.000000e-02</th>\n",
       "      <td>-1.580559e+00</td>\n",
       "      <td>5.535534e+00</td>\n",
       "      <td>6.310647e-01</td>\n",
       "      <td>-2.794682e-01</td>\n",
       "      <td>6.417293e-02</td>\n",
       "      <td>5.154704e+00</td>\n",
       "      <td>-1.033985e+01</td>\n",
       "      <td>-5.333884e-02</td>\n",
       "      <td>1.912630e-01</td>\n",
       "      <td>6.766468e-01</td>\n",
       "      <td>6.839479e-01</td>\n",
       "      <td>3.802991e-01</td>\n",
       "      <td>-5.934150e-01</td>\n",
       "      <td>2.784356e-01</td>\n",
       "      <td>2.854680e-01</td>\n",
       "      <td>-3.760325e+00</td>\n",
       "      <td>6.101157e+01</td>\n",
       "      <td>-1.226604e+02</td>\n",
       "      <td>-2.758847e+01</td>\n",
       "    </tr>\n",
       "  </tbody>\n",
       "</table>\n",
       "<p>100 rows × 19 columns</p>\n",
       "</div>"
      ],
      "text/plain": [
       "                     AtBat          Hits         HmRun          Runs  \\\n",
       "alpha                                                                  \n",
       "1.000000e+10  1.206660e-10  4.377094e-10  1.763732e-09  7.401996e-10   \n",
       "7.564633e+09  1.595133e-10  5.786260e-10  2.331550e-09  9.785003e-10   \n",
       "5.722368e+09  2.108672e-10  7.649096e-10  3.082172e-09  1.293520e-09   \n",
       "4.328761e+09  2.787540e-10  1.011165e-09  4.074449e-09  1.709957e-09   \n",
       "3.274549e+09  3.684964e-10  1.336701e-09  5.386182e-09  2.260463e-09   \n",
       "...                    ...           ...           ...           ...   \n",
       "3.053856e-02 -1.028700e+00  3.739718e+00 -9.182336e-01  6.939502e-01   \n",
       "2.310130e-02 -1.185117e+00  4.211671e+00 -5.948357e-01  4.874766e-01   \n",
       "1.747528e-02 -1.332269e+00  4.679851e+00 -2.158357e-01  2.495479e-01   \n",
       "1.321941e-02 -1.465213e+00  5.126143e+00  1.988282e-01 -9.890888e-03   \n",
       "1.000000e-02 -1.580559e+00  5.535534e+00  6.310647e-01 -2.794682e-01   \n",
       "\n",
       "                       RBI         Walks         Years        CAtBat  \\\n",
       "alpha                                                                  \n",
       "1.000000e+10  7.818834e-10  9.202286e-10  3.763337e-09  1.036034e-11   \n",
       "7.564633e+09  1.033604e-09  1.216488e-09  4.974910e-09  1.369576e-11   \n",
       "5.722368e+09  1.366363e-09  1.608126e-09  6.576538e-09  1.810499e-11   \n",
       "4.328761e+09  1.806252e-09  2.125848e-09  8.693796e-09  2.393373e-11   \n",
       "3.274549e+09  2.387759e-09  2.810245e-09  1.149269e-08  3.163899e-11   \n",
       "...                    ...           ...           ...           ...   \n",
       "3.053856e-02  5.339658e-01  4.056337e+00 -1.055843e+01 -1.377871e-02   \n",
       "2.310130e-02  4.289051e-01  4.363164e+00 -1.087033e+01 -2.157743e-02   \n",
       "1.747528e-02  3.128479e-01  4.653153e+00 -1.092168e+01 -3.083296e-02   \n",
       "1.321941e-02  1.900171e-01  4.918695e+00 -1.073314e+01 -4.148133e-02   \n",
       "1.000000e-02  6.417293e-02  5.154704e+00 -1.033985e+01 -5.333884e-02   \n",
       "\n",
       "                     CHits        CHmRun         CRuns          CRBI  \\\n",
       "alpha                                                                  \n",
       "1.000000e+10  3.812902e-11  2.875454e-10  7.649532e-11  7.894484e-11   \n",
       "7.564633e+09  5.040431e-11  3.801181e-10  1.011223e-10  1.043604e-10   \n",
       "5.722368e+09  6.663154e-11  5.024937e-10  1.336777e-10  1.379584e-10   \n",
       "4.328761e+09  8.808297e-11  6.642671e-10  1.767141e-10  1.823728e-10   \n",
       "3.274549e+09  1.164405e-10  8.781221e-10  2.336056e-10  2.410861e-10   \n",
       "...                    ...           ...           ...           ...   \n",
       "3.053856e-02  1.596741e-01  7.181724e-01  4.021751e-01  2.999470e-01   \n",
       "2.310130e-02  1.699208e-01  7.237746e-01  4.625025e-01  3.171636e-01   \n",
       "1.747528e-02  1.787509e-01  7.202408e-01  5.302618e-01  3.354586e-01   \n",
       "1.321941e-02  1.859121e-01  7.051903e-01  6.045822e-01  3.561015e-01   \n",
       "1.000000e-02  1.912630e-01  6.766468e-01  6.839479e-01  3.802991e-01   \n",
       "\n",
       "                    CWalks       PutOuts       Assists        Errors  \\\n",
       "alpha                                                                  \n",
       "1.000000e+10  8.352300e-11  4.833070e-11  7.894151e-12 -3.680759e-11   \n",
       "7.564633e+09  1.104125e-10  6.389035e-11  1.043560e-11 -4.865747e-11   \n",
       "5.722368e+09  1.459588e-10  8.445928e-11  1.379525e-11 -6.432232e-11   \n",
       "4.328761e+09  1.929490e-10  1.116502e-10  1.823651e-11 -8.503032e-11   \n",
       "3.274549e+09  2.550672e-10  1.475950e-10  2.410760e-11 -1.124051e-10   \n",
       "...                    ...           ...           ...           ...   \n",
       "3.053856e-02 -4.017868e-01  2.710834e-01  2.149988e-01 -3.834378e+00   \n",
       "2.310130e-02 -4.557251e-01  2.735621e-01  2.345597e-01 -3.847627e+00   \n",
       "1.747528e-02 -5.061250e-01  2.755639e-01  2.529570e-01 -3.834637e+00   \n",
       "1.321941e-02 -5.521775e-01  2.771688e-01  2.699697e-01 -3.803126e+00   \n",
       "1.000000e-02 -5.934150e-01  2.784356e-01  2.854680e-01 -3.760325e+00   \n",
       "\n",
       "                  League_N    Division_W   NewLeague_N  \n",
       "alpha                                                   \n",
       "1.000000e+10 -1.285753e-09 -1.730645e-08 -2.554306e-10  \n",
       "7.564633e+09 -1.699690e-09 -2.287811e-08 -3.376642e-10  \n",
       "5.722368e+09 -2.246890e-09 -3.024352e-08 -4.463722e-10  \n",
       "4.328761e+09 -2.970257e-09 -3.998015e-08 -5.900778e-10  \n",
       "3.274549e+09 -3.926505e-09 -5.285141e-08 -7.800481e-10  \n",
       "...                    ...           ...           ...  \n",
       "3.053856e-02  5.751891e+01 -1.239667e+02 -2.364769e+01  \n",
       "2.310130e-02  5.882616e+01 -1.239786e+02 -2.530875e+01  \n",
       "1.747528e-02  5.979132e+01 -1.237187e+02 -2.646826e+01  \n",
       "1.321941e-02  6.049529e+01 -1.232576e+02 -2.720000e+01  \n",
       "1.000000e-02  6.101157e+01 -1.226604e+02 -2.758847e+01  \n",
       "\n",
       "[100 rows x 19 columns]"
      ]
     },
     "execution_count": 33,
     "metadata": {},
     "output_type": "execute_result"
    }
   ],
   "source": [
    "df = pd.DataFrame(coefs)\n",
    "df.columns = x.columns\n",
    "df.index = alphas\n",
    "df.index.name = 'alpha'\n",
    "df"
   ]
  },
  {
   "cell_type": "markdown",
   "metadata": {},
   "source": [
    "Each row has 19 ridge regression coefficients"
   ]
  },
  {
   "cell_type": "code",
   "execution_count": 34,
   "metadata": {
    "scrolled": false
   },
   "outputs": [
    {
     "data": {
      "text/html": [
       "<div>\n",
       "<style scoped>\n",
       "    .dataframe tbody tr th:only-of-type {\n",
       "        vertical-align: middle;\n",
       "    }\n",
       "\n",
       "    .dataframe tbody tr th {\n",
       "        vertical-align: top;\n",
       "    }\n",
       "\n",
       "    .dataframe thead th {\n",
       "        text-align: right;\n",
       "    }\n",
       "</style>\n",
       "<table border=\"1\" class=\"dataframe\">\n",
       "  <thead>\n",
       "    <tr style=\"text-align: right;\">\n",
       "      <th></th>\n",
       "      <th>AtBat</th>\n",
       "      <th>Hits</th>\n",
       "      <th>HmRun</th>\n",
       "      <th>Runs</th>\n",
       "      <th>RBI</th>\n",
       "      <th>Walks</th>\n",
       "      <th>Years</th>\n",
       "      <th>CAtBat</th>\n",
       "      <th>CHits</th>\n",
       "      <th>CHmRun</th>\n",
       "      <th>CRuns</th>\n",
       "      <th>CRBI</th>\n",
       "      <th>CWalks</th>\n",
       "      <th>PutOuts</th>\n",
       "      <th>Assists</th>\n",
       "      <th>Errors</th>\n",
       "      <th>League_N</th>\n",
       "      <th>Division_W</th>\n",
       "      <th>NewLeague_N</th>\n",
       "    </tr>\n",
       "    <tr>\n",
       "      <th>alpha</th>\n",
       "      <th></th>\n",
       "      <th></th>\n",
       "      <th></th>\n",
       "      <th></th>\n",
       "      <th></th>\n",
       "      <th></th>\n",
       "      <th></th>\n",
       "      <th></th>\n",
       "      <th></th>\n",
       "      <th></th>\n",
       "      <th></th>\n",
       "      <th></th>\n",
       "      <th></th>\n",
       "      <th></th>\n",
       "      <th></th>\n",
       "      <th></th>\n",
       "      <th></th>\n",
       "      <th></th>\n",
       "      <th></th>\n",
       "    </tr>\n",
       "  </thead>\n",
       "  <tbody>\n",
       "    <tr>\n",
       "      <th>1.000000e+10</th>\n",
       "      <td>0.000</td>\n",
       "      <td>0.000</td>\n",
       "      <td>0.000</td>\n",
       "      <td>0.000</td>\n",
       "      <td>0.000</td>\n",
       "      <td>0.000</td>\n",
       "      <td>0.000</td>\n",
       "      <td>0.000</td>\n",
       "      <td>0.000</td>\n",
       "      <td>0.000</td>\n",
       "      <td>0.000</td>\n",
       "      <td>0.000</td>\n",
       "      <td>0.000</td>\n",
       "      <td>0.000</td>\n",
       "      <td>0.000</td>\n",
       "      <td>-0.000</td>\n",
       "      <td>-0.000</td>\n",
       "      <td>-0.000</td>\n",
       "      <td>-0.000</td>\n",
       "    </tr>\n",
       "    <tr>\n",
       "      <th>7.564633e+09</th>\n",
       "      <td>0.000</td>\n",
       "      <td>0.000</td>\n",
       "      <td>0.000</td>\n",
       "      <td>0.000</td>\n",
       "      <td>0.000</td>\n",
       "      <td>0.000</td>\n",
       "      <td>0.000</td>\n",
       "      <td>0.000</td>\n",
       "      <td>0.000</td>\n",
       "      <td>0.000</td>\n",
       "      <td>0.000</td>\n",
       "      <td>0.000</td>\n",
       "      <td>0.000</td>\n",
       "      <td>0.000</td>\n",
       "      <td>0.000</td>\n",
       "      <td>-0.000</td>\n",
       "      <td>-0.000</td>\n",
       "      <td>-0.000</td>\n",
       "      <td>-0.000</td>\n",
       "    </tr>\n",
       "    <tr>\n",
       "      <th>5.722368e+09</th>\n",
       "      <td>0.000</td>\n",
       "      <td>0.000</td>\n",
       "      <td>0.000</td>\n",
       "      <td>0.000</td>\n",
       "      <td>0.000</td>\n",
       "      <td>0.000</td>\n",
       "      <td>0.000</td>\n",
       "      <td>0.000</td>\n",
       "      <td>0.000</td>\n",
       "      <td>0.000</td>\n",
       "      <td>0.000</td>\n",
       "      <td>0.000</td>\n",
       "      <td>0.000</td>\n",
       "      <td>0.000</td>\n",
       "      <td>0.000</td>\n",
       "      <td>-0.000</td>\n",
       "      <td>-0.000</td>\n",
       "      <td>-0.000</td>\n",
       "      <td>-0.000</td>\n",
       "    </tr>\n",
       "    <tr>\n",
       "      <th>4.328761e+09</th>\n",
       "      <td>0.000</td>\n",
       "      <td>0.000</td>\n",
       "      <td>0.000</td>\n",
       "      <td>0.000</td>\n",
       "      <td>0.000</td>\n",
       "      <td>0.000</td>\n",
       "      <td>0.000</td>\n",
       "      <td>0.000</td>\n",
       "      <td>0.000</td>\n",
       "      <td>0.000</td>\n",
       "      <td>0.000</td>\n",
       "      <td>0.000</td>\n",
       "      <td>0.000</td>\n",
       "      <td>0.000</td>\n",
       "      <td>0.000</td>\n",
       "      <td>-0.000</td>\n",
       "      <td>-0.000</td>\n",
       "      <td>-0.000</td>\n",
       "      <td>-0.000</td>\n",
       "    </tr>\n",
       "    <tr>\n",
       "      <th>3.274549e+09</th>\n",
       "      <td>0.000</td>\n",
       "      <td>0.000</td>\n",
       "      <td>0.000</td>\n",
       "      <td>0.000</td>\n",
       "      <td>0.000</td>\n",
       "      <td>0.000</td>\n",
       "      <td>0.000</td>\n",
       "      <td>0.000</td>\n",
       "      <td>0.000</td>\n",
       "      <td>0.000</td>\n",
       "      <td>0.000</td>\n",
       "      <td>0.000</td>\n",
       "      <td>0.000</td>\n",
       "      <td>0.000</td>\n",
       "      <td>0.000</td>\n",
       "      <td>-0.000</td>\n",
       "      <td>-0.000</td>\n",
       "      <td>-0.000</td>\n",
       "      <td>-0.000</td>\n",
       "    </tr>\n",
       "    <tr>\n",
       "      <th>...</th>\n",
       "      <td>...</td>\n",
       "      <td>...</td>\n",
       "      <td>...</td>\n",
       "      <td>...</td>\n",
       "      <td>...</td>\n",
       "      <td>...</td>\n",
       "      <td>...</td>\n",
       "      <td>...</td>\n",
       "      <td>...</td>\n",
       "      <td>...</td>\n",
       "      <td>...</td>\n",
       "      <td>...</td>\n",
       "      <td>...</td>\n",
       "      <td>...</td>\n",
       "      <td>...</td>\n",
       "      <td>...</td>\n",
       "      <td>...</td>\n",
       "      <td>...</td>\n",
       "      <td>...</td>\n",
       "    </tr>\n",
       "    <tr>\n",
       "      <th>3.053856e-02</th>\n",
       "      <td>-1.029</td>\n",
       "      <td>3.740</td>\n",
       "      <td>-0.918</td>\n",
       "      <td>0.694</td>\n",
       "      <td>0.534</td>\n",
       "      <td>4.056</td>\n",
       "      <td>-10.558</td>\n",
       "      <td>-0.014</td>\n",
       "      <td>0.160</td>\n",
       "      <td>0.718</td>\n",
       "      <td>0.402</td>\n",
       "      <td>0.300</td>\n",
       "      <td>-0.402</td>\n",
       "      <td>0.271</td>\n",
       "      <td>0.215</td>\n",
       "      <td>-3.834</td>\n",
       "      <td>57.519</td>\n",
       "      <td>-123.967</td>\n",
       "      <td>-23.648</td>\n",
       "    </tr>\n",
       "    <tr>\n",
       "      <th>2.310130e-02</th>\n",
       "      <td>-1.185</td>\n",
       "      <td>4.212</td>\n",
       "      <td>-0.595</td>\n",
       "      <td>0.487</td>\n",
       "      <td>0.429</td>\n",
       "      <td>4.363</td>\n",
       "      <td>-10.870</td>\n",
       "      <td>-0.022</td>\n",
       "      <td>0.170</td>\n",
       "      <td>0.724</td>\n",
       "      <td>0.463</td>\n",
       "      <td>0.317</td>\n",
       "      <td>-0.456</td>\n",
       "      <td>0.274</td>\n",
       "      <td>0.235</td>\n",
       "      <td>-3.848</td>\n",
       "      <td>58.826</td>\n",
       "      <td>-123.979</td>\n",
       "      <td>-25.309</td>\n",
       "    </tr>\n",
       "    <tr>\n",
       "      <th>1.747528e-02</th>\n",
       "      <td>-1.332</td>\n",
       "      <td>4.680</td>\n",
       "      <td>-0.216</td>\n",
       "      <td>0.250</td>\n",
       "      <td>0.313</td>\n",
       "      <td>4.653</td>\n",
       "      <td>-10.922</td>\n",
       "      <td>-0.031</td>\n",
       "      <td>0.179</td>\n",
       "      <td>0.720</td>\n",
       "      <td>0.530</td>\n",
       "      <td>0.335</td>\n",
       "      <td>-0.506</td>\n",
       "      <td>0.276</td>\n",
       "      <td>0.253</td>\n",
       "      <td>-3.835</td>\n",
       "      <td>59.791</td>\n",
       "      <td>-123.719</td>\n",
       "      <td>-26.468</td>\n",
       "    </tr>\n",
       "    <tr>\n",
       "      <th>1.321941e-02</th>\n",
       "      <td>-1.465</td>\n",
       "      <td>5.126</td>\n",
       "      <td>0.199</td>\n",
       "      <td>-0.010</td>\n",
       "      <td>0.190</td>\n",
       "      <td>4.919</td>\n",
       "      <td>-10.733</td>\n",
       "      <td>-0.041</td>\n",
       "      <td>0.186</td>\n",
       "      <td>0.705</td>\n",
       "      <td>0.605</td>\n",
       "      <td>0.356</td>\n",
       "      <td>-0.552</td>\n",
       "      <td>0.277</td>\n",
       "      <td>0.270</td>\n",
       "      <td>-3.803</td>\n",
       "      <td>60.495</td>\n",
       "      <td>-123.258</td>\n",
       "      <td>-27.200</td>\n",
       "    </tr>\n",
       "    <tr>\n",
       "      <th>1.000000e-02</th>\n",
       "      <td>-1.581</td>\n",
       "      <td>5.536</td>\n",
       "      <td>0.631</td>\n",
       "      <td>-0.279</td>\n",
       "      <td>0.064</td>\n",
       "      <td>5.155</td>\n",
       "      <td>-10.340</td>\n",
       "      <td>-0.053</td>\n",
       "      <td>0.191</td>\n",
       "      <td>0.677</td>\n",
       "      <td>0.684</td>\n",
       "      <td>0.380</td>\n",
       "      <td>-0.593</td>\n",
       "      <td>0.278</td>\n",
       "      <td>0.285</td>\n",
       "      <td>-3.760</td>\n",
       "      <td>61.012</td>\n",
       "      <td>-122.660</td>\n",
       "      <td>-27.588</td>\n",
       "    </tr>\n",
       "  </tbody>\n",
       "</table>\n",
       "<p>100 rows × 19 columns</p>\n",
       "</div>"
      ],
      "text/plain": [
       "              AtBat   Hits  HmRun   Runs    RBI  Walks   Years  CAtBat  CHits  \\\n",
       "alpha                                                                           \n",
       "1.000000e+10  0.000  0.000  0.000  0.000  0.000  0.000   0.000   0.000  0.000   \n",
       "7.564633e+09  0.000  0.000  0.000  0.000  0.000  0.000   0.000   0.000  0.000   \n",
       "5.722368e+09  0.000  0.000  0.000  0.000  0.000  0.000   0.000   0.000  0.000   \n",
       "4.328761e+09  0.000  0.000  0.000  0.000  0.000  0.000   0.000   0.000  0.000   \n",
       "3.274549e+09  0.000  0.000  0.000  0.000  0.000  0.000   0.000   0.000  0.000   \n",
       "...             ...    ...    ...    ...    ...    ...     ...     ...    ...   \n",
       "3.053856e-02 -1.029  3.740 -0.918  0.694  0.534  4.056 -10.558  -0.014  0.160   \n",
       "2.310130e-02 -1.185  4.212 -0.595  0.487  0.429  4.363 -10.870  -0.022  0.170   \n",
       "1.747528e-02 -1.332  4.680 -0.216  0.250  0.313  4.653 -10.922  -0.031  0.179   \n",
       "1.321941e-02 -1.465  5.126  0.199 -0.010  0.190  4.919 -10.733  -0.041  0.186   \n",
       "1.000000e-02 -1.581  5.536  0.631 -0.279  0.064  5.155 -10.340  -0.053  0.191   \n",
       "\n",
       "              CHmRun  CRuns   CRBI  CWalks  PutOuts  Assists  Errors  \\\n",
       "alpha                                                                  \n",
       "1.000000e+10   0.000  0.000  0.000   0.000    0.000    0.000  -0.000   \n",
       "7.564633e+09   0.000  0.000  0.000   0.000    0.000    0.000  -0.000   \n",
       "5.722368e+09   0.000  0.000  0.000   0.000    0.000    0.000  -0.000   \n",
       "4.328761e+09   0.000  0.000  0.000   0.000    0.000    0.000  -0.000   \n",
       "3.274549e+09   0.000  0.000  0.000   0.000    0.000    0.000  -0.000   \n",
       "...              ...    ...    ...     ...      ...      ...     ...   \n",
       "3.053856e-02   0.718  0.402  0.300  -0.402    0.271    0.215  -3.834   \n",
       "2.310130e-02   0.724  0.463  0.317  -0.456    0.274    0.235  -3.848   \n",
       "1.747528e-02   0.720  0.530  0.335  -0.506    0.276    0.253  -3.835   \n",
       "1.321941e-02   0.705  0.605  0.356  -0.552    0.277    0.270  -3.803   \n",
       "1.000000e-02   0.677  0.684  0.380  -0.593    0.278    0.285  -3.760   \n",
       "\n",
       "              League_N  Division_W  NewLeague_N  \n",
       "alpha                                            \n",
       "1.000000e+10    -0.000      -0.000       -0.000  \n",
       "7.564633e+09    -0.000      -0.000       -0.000  \n",
       "5.722368e+09    -0.000      -0.000       -0.000  \n",
       "4.328761e+09    -0.000      -0.000       -0.000  \n",
       "3.274549e+09    -0.000      -0.000       -0.000  \n",
       "...                ...         ...          ...  \n",
       "3.053856e-02    57.519    -123.967      -23.648  \n",
       "2.310130e-02    58.826    -123.979      -25.309  \n",
       "1.747528e-02    59.791    -123.719      -26.468  \n",
       "1.321941e-02    60.495    -123.258      -27.200  \n",
       "1.000000e-02    61.012    -122.660      -27.588  \n",
       "\n",
       "[100 rows x 19 columns]"
      ]
     },
     "execution_count": 34,
     "metadata": {},
     "output_type": "execute_result"
    }
   ],
   "source": [
    "df.round(3)"
   ]
  },
  {
   "cell_type": "code",
   "execution_count": 35,
   "metadata": {
    "scrolled": false
   },
   "outputs": [],
   "source": [
    "# some models with close-to-zero coefficients"
   ]
  },
  {
   "cell_type": "code",
   "execution_count": 36,
   "metadata": {
    "scrolled": false
   },
   "outputs": [],
   "source": [
    "# plot coefficients vs alphas"
   ]
  },
  {
   "cell_type": "code",
   "execution_count": 37,
   "metadata": {
    "scrolled": false
   },
   "outputs": [
    {
     "data": {
      "image/png": "[encoded data removed]",
      "text/plain": [
       "<Figure size 864x432 with 1 Axes>"
      ]
     },
     "metadata": {
      "needs_background": "light"
     },
     "output_type": "display_data"
    }
   ],
   "source": [
    "df.plot(figsize=(12,6),grid=True,logx=True,xlim = (0.009,10**6))\n",
    "plt.legend(loc='right');"
   ]
  },
  {
   "cell_type": "code",
   "execution_count": 38,
   "metadata": {
    "scrolled": false
   },
   "outputs": [],
   "source": [
    "# coefficients shrink to zero as alpha values increase"
   ]
  },
  {
   "cell_type": "markdown",
   "metadata": {
    "collapsed": true
   },
   "source": [
    "### Validation approach with alpha predefined"
   ]
  },
  {
   "cell_type": "code",
   "execution_count": 39,
   "metadata": {},
   "outputs": [],
   "source": [
    "X_train,X_test,y_train,y_test = train_test_split(X,y,\n",
    "                                                 test_size=0.5,\n",
    "                                                 random_state=1)"
   ]
  },
  {
   "cell_type": "code",
   "execution_count": 40,
   "metadata": {
    "scrolled": false
   },
   "outputs": [],
   "source": [
    "scaler = StandardScaler(with_mean=False)\n",
    "scaler.fit(X_train)\n",
    "X_train_scaled = scaler.transform(X_train)\n",
    "X_test_scaled = scaler.transform(X_test)"
   ]
  },
  {
   "cell_type": "code",
   "execution_count": 41,
   "metadata": {},
   "outputs": [
    {
     "data": {
      "text/plain": [
       "(131, 19)"
      ]
     },
     "execution_count": 41,
     "metadata": {},
     "output_type": "execute_result"
    }
   ],
   "source": [
    "X_train.shape"
   ]
  },
  {
   "cell_type": "code",
   "execution_count": 42,
   "metadata": {},
   "outputs": [
    {
     "data": {
      "text/plain": [
       "AtBat           146.929926\n",
       "Hits             46.597298\n",
       "HmRun             8.013040\n",
       "Runs             26.105790\n",
       "RBI              25.979087\n",
       "Walks            23.070160\n",
       "Years             4.793713\n",
       "CAtBat         2322.125523\n",
       "CHits           658.595947\n",
       "CHmRun           88.964205\n",
       "CRuns           327.352068\n",
       "CRBI            354.166348\n",
       "CWalks          249.131889\n",
       "PutOuts         300.571362\n",
       "Assists         142.273192\n",
       "Errors            6.384012\n",
       "League_N          0.501554\n",
       "Division_W        0.501905\n",
       "NewLeague_N       0.501905\n",
       "dtype: float64"
      ]
     },
     "execution_count": 42,
     "metadata": {},
     "output_type": "execute_result"
    }
   ],
   "source": [
    "Xtrain = pd.DataFrame(X_train)\n",
    "Xtrain.std()"
   ]
  },
  {
   "cell_type": "markdown",
   "metadata": {},
   "source": [
    "#### fit model with alpha = 4"
   ]
  },
  {
   "cell_type": "code",
   "execution_count": 43,
   "metadata": {},
   "outputs": [],
   "source": [
    "np.set_printoptions(suppress=True)"
   ]
  },
  {
   "cell_type": "code",
   "execution_count": 44,
   "metadata": {
    "scrolled": false
   },
   "outputs": [
    {
     "data": {
      "text/plain": [
       "106216.52238005561"
      ]
     },
     "execution_count": 44,
     "metadata": {},
     "output_type": "execute_result"
    }
   ],
   "source": [
    "ridge2 = Ridge(alpha=4*131)\n",
    "ridge2.fit(X_train_scaled, y_train)\n",
    "pred2 = ridge2.predict(X_test_scaled)          \n",
    "mspe = mean_squared_error(y_test, pred2)\n",
    "mspe"
   ]
  },
  {
   "cell_type": "code",
   "execution_count": 45,
   "metadata": {},
   "outputs": [
    {
     "data": {
      "text/html": [
       "<div>\n",
       "<style scoped>\n",
       "    .dataframe tbody tr th:only-of-type {\n",
       "        vertical-align: middle;\n",
       "    }\n",
       "\n",
       "    .dataframe tbody tr th {\n",
       "        vertical-align: top;\n",
       "    }\n",
       "\n",
       "    .dataframe thead th {\n",
       "        text-align: right;\n",
       "    }\n",
       "</style>\n",
       "<table border=\"1\" class=\"dataframe\">\n",
       "  <thead>\n",
       "    <tr style=\"text-align: right;\">\n",
       "      <th></th>\n",
       "      <th>0</th>\n",
       "    </tr>\n",
       "  </thead>\n",
       "  <tbody>\n",
       "    <tr>\n",
       "      <th>AtBat</th>\n",
       "      <td>0.098281</td>\n",
       "    </tr>\n",
       "    <tr>\n",
       "      <th>Hits</th>\n",
       "      <td>0.444388</td>\n",
       "    </tr>\n",
       "    <tr>\n",
       "      <th>HmRun</th>\n",
       "      <td>1.406707</td>\n",
       "    </tr>\n",
       "    <tr>\n",
       "      <th>Runs</th>\n",
       "      <td>0.658247</td>\n",
       "    </tr>\n",
       "    <tr>\n",
       "      <th>RBI</th>\n",
       "      <td>0.840178</td>\n",
       "    </tr>\n",
       "    <tr>\n",
       "      <th>Walks</th>\n",
       "      <td>1.004617</td>\n",
       "    </tr>\n",
       "    <tr>\n",
       "      <th>Years</th>\n",
       "      <td>2.769252</td>\n",
       "    </tr>\n",
       "    <tr>\n",
       "      <th>CAtBat</th>\n",
       "      <td>0.008212</td>\n",
       "    </tr>\n",
       "    <tr>\n",
       "      <th>CHits</th>\n",
       "      <td>0.034019</td>\n",
       "    </tr>\n",
       "    <tr>\n",
       "      <th>CHmRun</th>\n",
       "      <td>0.267607</td>\n",
       "    </tr>\n",
       "    <tr>\n",
       "      <th>CRuns</th>\n",
       "      <td>0.070138</td>\n",
       "    </tr>\n",
       "    <tr>\n",
       "      <th>CRBI</th>\n",
       "      <td>0.069792</td>\n",
       "    </tr>\n",
       "    <tr>\n",
       "      <th>CWalks</th>\n",
       "      <td>0.082478</td>\n",
       "    </tr>\n",
       "    <tr>\n",
       "      <th>PutOuts</th>\n",
       "      <td>0.104346</td>\n",
       "    </tr>\n",
       "    <tr>\n",
       "      <th>Assists</th>\n",
       "      <td>-0.003725</td>\n",
       "    </tr>\n",
       "    <tr>\n",
       "      <th>Errors</th>\n",
       "      <td>0.267337</td>\n",
       "    </tr>\n",
       "    <tr>\n",
       "      <th>League_N</th>\n",
       "      <td>4.224833</td>\n",
       "    </tr>\n",
       "    <tr>\n",
       "      <th>Division_W</th>\n",
       "      <td>-30.651221</td>\n",
       "    </tr>\n",
       "    <tr>\n",
       "      <th>NewLeague_N</th>\n",
       "      <td>4.107706</td>\n",
       "    </tr>\n",
       "  </tbody>\n",
       "</table>\n",
       "</div>"
      ],
      "text/plain": [
       "                     0\n",
       "AtBat         0.098281\n",
       "Hits          0.444388\n",
       "HmRun         1.406707\n",
       "Runs          0.658247\n",
       "RBI           0.840178\n",
       "Walks         1.004617\n",
       "Years         2.769252\n",
       "CAtBat        0.008212\n",
       "CHits         0.034019\n",
       "CHmRun        0.267607\n",
       "CRuns         0.070138\n",
       "CRBI          0.069792\n",
       "CWalks        0.082478\n",
       "PutOuts       0.104346\n",
       "Assists      -0.003725\n",
       "Errors        0.267337\n",
       "League_N      4.224833\n",
       "Division_W  -30.651221\n",
       "NewLeague_N   4.107706"
      ]
     },
     "execution_count": 45,
     "metadata": {},
     "output_type": "execute_result"
    }
   ],
   "source": [
    "# coefficients = ridge2.coef_/B[0].scale_\n",
    "coefficients = ridge2.coef_/Xtrain.std()\n",
    "pd.DataFrame(coefficients, index = X.columns)"
   ]
  },
  {
   "cell_type": "markdown",
   "metadata": {},
   "source": [
    "#### fit model with huge alpha = 10^9"
   ]
  },
  {
   "cell_type": "code",
   "execution_count": 46,
   "metadata": {
    "scrolled": false
   },
   "outputs": [
    {
     "data": {
      "text/plain": [
       "172862.234750706"
      ]
     },
     "execution_count": 46,
     "metadata": {},
     "output_type": "execute_result"
    }
   ],
   "source": [
    "ridge3 = Ridge(alpha=131*10**9)\n",
    "ridge3.fit(X_train_scaled, y_train)\n",
    "pred3 = ridge3.predict(X_test_scaled)          \n",
    "mspe = mean_squared_error(y_test, pred3)\n",
    "mspe"
   ]
  },
  {
   "cell_type": "code",
   "execution_count": 47,
   "metadata": {},
   "outputs": [
    {
     "data": {
      "text/html": [
       "<div>\n",
       "<style scoped>\n",
       "    .dataframe tbody tr th:only-of-type {\n",
       "        vertical-align: middle;\n",
       "    }\n",
       "\n",
       "    .dataframe tbody tr th {\n",
       "        vertical-align: top;\n",
       "    }\n",
       "\n",
       "    .dataframe thead th {\n",
       "        text-align: right;\n",
       "    }\n",
       "</style>\n",
       "<table border=\"1\" class=\"dataframe\">\n",
       "  <thead>\n",
       "    <tr style=\"text-align: right;\">\n",
       "      <th></th>\n",
       "      <th>0</th>\n",
       "    </tr>\n",
       "  </thead>\n",
       "  <tbody>\n",
       "    <tr>\n",
       "      <th>AtBat</th>\n",
       "      <td>1.312426e-09</td>\n",
       "    </tr>\n",
       "    <tr>\n",
       "      <th>Hits</th>\n",
       "      <td>4.629713e-09</td>\n",
       "    </tr>\n",
       "    <tr>\n",
       "      <th>HmRun</th>\n",
       "      <td>2.071912e-08</td>\n",
       "    </tr>\n",
       "    <tr>\n",
       "      <th>Runs</th>\n",
       "      <td>7.696629e-09</td>\n",
       "    </tr>\n",
       "    <tr>\n",
       "      <th>RBI</th>\n",
       "      <td>9.354729e-09</td>\n",
       "    </tr>\n",
       "    <tr>\n",
       "      <th>Walks</th>\n",
       "      <td>9.731861e-09</td>\n",
       "    </tr>\n",
       "    <tr>\n",
       "      <th>Years</th>\n",
       "      <td>3.946293e-08</td>\n",
       "    </tr>\n",
       "    <tr>\n",
       "      <th>CAtBat</th>\n",
       "      <td>1.056478e-10</td>\n",
       "    </tr>\n",
       "    <tr>\n",
       "      <th>CHits</th>\n",
       "      <td>3.978333e-10</td>\n",
       "    </tr>\n",
       "    <tr>\n",
       "      <th>CHmRun</th>\n",
       "      <td>2.948110e-09</td>\n",
       "    </tr>\n",
       "    <tr>\n",
       "      <th>CRuns</th>\n",
       "      <td>8.213716e-10</td>\n",
       "    </tr>\n",
       "    <tr>\n",
       "      <th>CRBI</th>\n",
       "      <td>7.765640e-10</td>\n",
       "    </tr>\n",
       "    <tr>\n",
       "      <th>CWalks</th>\n",
       "      <td>9.856550e-10</td>\n",
       "    </tr>\n",
       "    <tr>\n",
       "      <th>PutOuts</th>\n",
       "      <td>7.241194e-10</td>\n",
       "    </tr>\n",
       "    <tr>\n",
       "      <th>Assists</th>\n",
       "      <td>-2.605882e-11</td>\n",
       "    </tr>\n",
       "    <tr>\n",
       "      <th>Errors</th>\n",
       "      <td>2.076543e-09</td>\n",
       "    </tr>\n",
       "    <tr>\n",
       "      <th>League_N</th>\n",
       "      <td>-2.491715e-08</td>\n",
       "    </tr>\n",
       "    <tr>\n",
       "      <th>Division_W</th>\n",
       "      <td>-1.544024e-07</td>\n",
       "    </tr>\n",
       "    <tr>\n",
       "      <th>NewLeague_N</th>\n",
       "      <td>-2.015459e-08</td>\n",
       "    </tr>\n",
       "  </tbody>\n",
       "</table>\n",
       "</div>"
      ],
      "text/plain": [
       "                        0\n",
       "AtBat        1.312426e-09\n",
       "Hits         4.629713e-09\n",
       "HmRun        2.071912e-08\n",
       "Runs         7.696629e-09\n",
       "RBI          9.354729e-09\n",
       "Walks        9.731861e-09\n",
       "Years        3.946293e-08\n",
       "CAtBat       1.056478e-10\n",
       "CHits        3.978333e-10\n",
       "CHmRun       2.948110e-09\n",
       "CRuns        8.213716e-10\n",
       "CRBI         7.765640e-10\n",
       "CWalks       9.856550e-10\n",
       "PutOuts      7.241194e-10\n",
       "Assists     -2.605882e-11\n",
       "Errors       2.076543e-09\n",
       "League_N    -2.491715e-08\n",
       "Division_W  -1.544024e-07\n",
       "NewLeague_N -2.015459e-08"
      ]
     },
     "execution_count": 47,
     "metadata": {},
     "output_type": "execute_result"
    }
   ],
   "source": [
    "# coefficients = ridge2.coef_/B[0].scale_\n",
    "coefficients = ridge3.coef_/Xtrain.std()\n",
    "pd.DataFrame(coefficients, index = X.columns)"
   ]
  },
  {
   "cell_type": "code",
   "execution_count": 48,
   "metadata": {
    "scrolled": false
   },
   "outputs": [],
   "source": [
    "# Huge alpha makes over-shrinking which increases test MSE"
   ]
  },
  {
   "cell_type": "code",
   "execution_count": 49,
   "metadata": {
    "scrolled": false
   },
   "outputs": [],
   "source": [
    "# all coeffs very close to zero"
   ]
  },
  {
   "cell_type": "markdown",
   "metadata": {},
   "source": [
    "### Linear Regression (alpha = 0)"
   ]
  },
  {
   "cell_type": "code",
   "execution_count": 50,
   "metadata": {
    "scrolled": false
   },
   "outputs": [
    {
     "data": {
      "text/plain": [
       "116690.46856660275"
      ]
     },
     "execution_count": 50,
     "metadata": {},
     "output_type": "execute_result"
    }
   ],
   "source": [
    "ols_model = Ridge(alpha=0)\n",
    "ols_model.fit(X_train_scaled, y_train)\n",
    "pred = ols_model.predict(X_test_scaled)          \n",
    "ols_mse = mean_squared_error(y_test, pred)\n",
    "ols_mse"
   ]
  },
  {
   "cell_type": "code",
   "execution_count": 51,
   "metadata": {},
   "outputs": [
    {
     "data": {
      "text/html": [
       "<div>\n",
       "<style scoped>\n",
       "    .dataframe tbody tr th:only-of-type {\n",
       "        vertical-align: middle;\n",
       "    }\n",
       "\n",
       "    .dataframe tbody tr th {\n",
       "        vertical-align: top;\n",
       "    }\n",
       "\n",
       "    .dataframe thead th {\n",
       "        text-align: right;\n",
       "    }\n",
       "</style>\n",
       "<table border=\"1\" class=\"dataframe\">\n",
       "  <thead>\n",
       "    <tr style=\"text-align: right;\">\n",
       "      <th></th>\n",
       "      <th>0</th>\n",
       "    </tr>\n",
       "  </thead>\n",
       "  <tbody>\n",
       "    <tr>\n",
       "      <th>AtBat</th>\n",
       "      <td>-1.814151</td>\n",
       "    </tr>\n",
       "    <tr>\n",
       "      <th>Hits</th>\n",
       "      <td>4.242869</td>\n",
       "    </tr>\n",
       "    <tr>\n",
       "      <th>HmRun</th>\n",
       "      <td>-4.755147</td>\n",
       "    </tr>\n",
       "    <tr>\n",
       "      <th>Runs</th>\n",
       "      <td>-0.038612</td>\n",
       "    </tr>\n",
       "    <tr>\n",
       "      <th>RBI</th>\n",
       "      <td>3.969341</td>\n",
       "    </tr>\n",
       "    <tr>\n",
       "      <th>Walks</th>\n",
       "      <td>3.456855</td>\n",
       "    </tr>\n",
       "    <tr>\n",
       "      <th>Years</th>\n",
       "      <td>9.461914</td>\n",
       "    </tr>\n",
       "    <tr>\n",
       "      <th>CAtBat</th>\n",
       "      <td>-0.602815</td>\n",
       "    </tr>\n",
       "    <tr>\n",
       "      <th>CHits</th>\n",
       "      <td>2.166662</td>\n",
       "    </tr>\n",
       "    <tr>\n",
       "      <th>CHmRun</th>\n",
       "      <td>2.967913</td>\n",
       "    </tr>\n",
       "    <tr>\n",
       "      <th>CRuns</th>\n",
       "      <td>0.265338</td>\n",
       "    </tr>\n",
       "    <tr>\n",
       "      <th>CRBI</th>\n",
       "      <td>-0.596167</td>\n",
       "    </tr>\n",
       "    <tr>\n",
       "      <th>CWalks</th>\n",
       "      <td>0.170727</td>\n",
       "    </tr>\n",
       "    <tr>\n",
       "      <th>PutOuts</th>\n",
       "      <td>0.419453</td>\n",
       "    </tr>\n",
       "    <tr>\n",
       "      <th>Assists</th>\n",
       "      <td>0.462604</td>\n",
       "    </tr>\n",
       "    <tr>\n",
       "      <th>Errors</th>\n",
       "      <td>-6.001537</td>\n",
       "    </tr>\n",
       "    <tr>\n",
       "      <th>League_N</th>\n",
       "      <td>133.231715</td>\n",
       "    </tr>\n",
       "    <tr>\n",
       "      <th>Division_W</th>\n",
       "      <td>-113.308906</td>\n",
       "    </tr>\n",
       "    <tr>\n",
       "      <th>NewLeague_N</th>\n",
       "      <td>-81.614463</td>\n",
       "    </tr>\n",
       "  </tbody>\n",
       "</table>\n",
       "</div>"
      ],
      "text/plain": [
       "                      0\n",
       "AtBat         -1.814151\n",
       "Hits           4.242869\n",
       "HmRun         -4.755147\n",
       "Runs          -0.038612\n",
       "RBI            3.969341\n",
       "Walks          3.456855\n",
       "Years          9.461914\n",
       "CAtBat        -0.602815\n",
       "CHits          2.166662\n",
       "CHmRun         2.967913\n",
       "CRuns          0.265338\n",
       "CRBI          -0.596167\n",
       "CWalks         0.170727\n",
       "PutOuts        0.419453\n",
       "Assists        0.462604\n",
       "Errors        -6.001537\n",
       "League_N     133.231715\n",
       "Division_W  -113.308906\n",
       "NewLeague_N  -81.614463"
      ]
     },
     "execution_count": 51,
     "metadata": {},
     "output_type": "execute_result"
    }
   ],
   "source": [
    "# coefficients = ridge2.coef_/B[0].scale_\n",
    "coefficients = ols_model.coef_/Xtrain.std()\n",
    "pd.DataFrame(coefficients, index = X.columns)"
   ]
  },
  {
   "cell_type": "code",
   "execution_count": 52,
   "metadata": {
    "scrolled": false
   },
   "outputs": [],
   "source": [
    "# RR improved the test MSE over OLS"
   ]
  },
  {
   "cell_type": "markdown",
   "metadata": {},
   "source": [
    "### MSPE varies with alpha"
   ]
  },
  {
   "cell_type": "code",
   "execution_count": 53,
   "metadata": {},
   "outputs": [],
   "source": [
    "ridge_model = Ridge(alpha = 0)\n",
    "mspes = []"
   ]
  },
  {
   "cell_type": "code",
   "execution_count": 54,
   "metadata": {},
   "outputs": [],
   "source": [
    "for a in alphas:\n",
    "    ridge_model.set_params(alpha = a * 131)\n",
    "    ridge_model.fit(X_train_scaled, y_train)\n",
    "    yhat = ridge_model.predict(X_test_scaled)\n",
    "    value = mean_squared_error(y_test,yhat)\n",
    "    mspes.append(value)"
   ]
  },
  {
   "cell_type": "code",
   "execution_count": 55,
   "metadata": {},
   "outputs": [
    {
     "data": {
      "text/html": [
       "<div>\n",
       "<style scoped>\n",
       "    .dataframe tbody tr th:only-of-type {\n",
       "        vertical-align: middle;\n",
       "    }\n",
       "\n",
       "    .dataframe tbody tr th {\n",
       "        vertical-align: top;\n",
       "    }\n",
       "\n",
       "    .dataframe thead th {\n",
       "        text-align: right;\n",
       "    }\n",
       "</style>\n",
       "<table border=\"1\" class=\"dataframe\">\n",
       "  <thead>\n",
       "    <tr style=\"text-align: right;\">\n",
       "      <th></th>\n",
       "      <th>MSPE</th>\n",
       "    </tr>\n",
       "    <tr>\n",
       "      <th>alpha</th>\n",
       "      <th></th>\n",
       "    </tr>\n",
       "  </thead>\n",
       "  <tbody>\n",
       "    <tr>\n",
       "      <th>1.000000e+10</th>\n",
       "      <td>172862.235804</td>\n",
       "    </tr>\n",
       "    <tr>\n",
       "      <th>7.564633e+09</th>\n",
       "      <td>172862.235766</td>\n",
       "    </tr>\n",
       "    <tr>\n",
       "      <th>5.722368e+09</th>\n",
       "      <td>172862.235716</td>\n",
       "    </tr>\n",
       "    <tr>\n",
       "      <th>4.328761e+09</th>\n",
       "      <td>172862.235651</td>\n",
       "    </tr>\n",
       "    <tr>\n",
       "      <th>3.274549e+09</th>\n",
       "      <td>172862.235563</td>\n",
       "    </tr>\n",
       "    <tr>\n",
       "      <th>...</th>\n",
       "      <td>...</td>\n",
       "    </tr>\n",
       "    <tr>\n",
       "      <th>3.053856e-02</th>\n",
       "      <td>102144.426231</td>\n",
       "    </tr>\n",
       "    <tr>\n",
       "      <th>2.310130e-02</th>\n",
       "      <td>102357.905350</td>\n",
       "    </tr>\n",
       "    <tr>\n",
       "      <th>1.747528e-02</th>\n",
       "      <td>102591.659514</td>\n",
       "    </tr>\n",
       "    <tr>\n",
       "      <th>1.321941e-02</th>\n",
       "      <td>102831.224821</td>\n",
       "    </tr>\n",
       "    <tr>\n",
       "      <th>1.000000e-02</th>\n",
       "      <td>103069.743901</td>\n",
       "    </tr>\n",
       "  </tbody>\n",
       "</table>\n",
       "<p>100 rows × 1 columns</p>\n",
       "</div>"
      ],
      "text/plain": [
       "                       MSPE\n",
       "alpha                      \n",
       "1.000000e+10  172862.235804\n",
       "7.564633e+09  172862.235766\n",
       "5.722368e+09  172862.235716\n",
       "4.328761e+09  172862.235651\n",
       "3.274549e+09  172862.235563\n",
       "...                     ...\n",
       "3.053856e-02  102144.426231\n",
       "2.310130e-02  102357.905350\n",
       "1.747528e-02  102591.659514\n",
       "1.321941e-02  102831.224821\n",
       "1.000000e-02  103069.743901\n",
       "\n",
       "[100 rows x 1 columns]"
      ]
     },
     "execution_count": 55,
     "metadata": {},
     "output_type": "execute_result"
    }
   ],
   "source": [
    "df = pd.DataFrame(mspes,columns = ['MSPE'])\n",
    "df.index = alphas\n",
    "df.index.name = 'alpha'\n",
    "df"
   ]
  },
  {
   "cell_type": "code",
   "execution_count": 56,
   "metadata": {
    "scrolled": false
   },
   "outputs": [],
   "source": [
    "# plot MSPE vs alpha"
   ]
  },
  {
   "cell_type": "code",
   "execution_count": 57,
   "metadata": {
    "scrolled": false
   },
   "outputs": [
    {
     "data": {
      "image/png": "[encoded data removed]",
      "text/plain": [
       "<Figure size 864x432 with 1 Axes>"
      ]
     },
     "metadata": {
      "needs_background": "light"
     },
     "output_type": "display_data"
    }
   ],
   "source": [
    "df.plot(figsize=(12,6),grid=True,logx=True,xlim = (0.001,10**6))\n",
    "# add horizontal line with OLS MSPE\n",
    "plt.axhline(y = ols_mse,linestyle = '--',c='r',linewidth=1)\n",
    "plt.annotate(round(ols_mse,0),xy=(0.014,1.01*ols_mse), c='r')\n",
    "plt.annotate('OLS MSPE = ',xy=(0.002,1.01*ols_mse), c='r')\n",
    "#\n",
    "plt.ylabel('MSPE')\n",
    "plt.legend((\"Ridge Regression\", \"Linear Regression\"));"
   ]
  },
  {
   "cell_type": "code",
   "execution_count": 58,
   "metadata": {},
   "outputs": [],
   "source": [
    "# index of best alpha"
   ]
  },
  {
   "cell_type": "code",
   "execution_count": 59,
   "metadata": {},
   "outputs": [
    {
     "data": {
      "text/plain": [
       "83"
      ]
     },
     "execution_count": 59,
     "metadata": {},
     "output_type": "execute_result"
    }
   ],
   "source": [
    "mspes.index(min(mspes))"
   ]
  },
  {
   "cell_type": "code",
   "execution_count": 60,
   "metadata": {},
   "outputs": [],
   "source": [
    "# best alpha (minimizing test MSE)"
   ]
  },
  {
   "cell_type": "code",
   "execution_count": 61,
   "metadata": {},
   "outputs": [
    {
     "data": {
      "text/plain": [
       "0.8697490026177834"
      ]
     },
     "execution_count": 61,
     "metadata": {},
     "output_type": "execute_result"
    }
   ],
   "source": [
    "alphas[83]"
   ]
  },
  {
   "cell_type": "code",
   "execution_count": 62,
   "metadata": {},
   "outputs": [
    {
     "data": {
      "text/plain": [
       "99541.51776483622"
      ]
     },
     "execution_count": 62,
     "metadata": {},
     "output_type": "execute_result"
    }
   ],
   "source": [
    "mspes[83]"
   ]
  },
  {
   "cell_type": "code",
   "execution_count": 63,
   "metadata": {},
   "outputs": [],
   "source": [
    "# Minimum MPSE is 99541.517"
   ]
  },
  {
   "cell_type": "markdown",
   "metadata": {},
   "source": [
    "## Ridge Regression  10-fold cross validation to find best alpha"
   ]
  },
  {
   "cell_type": "code",
   "execution_count": 64,
   "metadata": {
    "scrolled": false
   },
   "outputs": [
    {
     "data": {
      "text/plain": [
       "106216.52238005561"
      ]
     },
     "execution_count": 64,
     "metadata": {},
     "output_type": "execute_result"
    }
   ],
   "source": [
    "ridge2 = Ridge(alpha=4*131)\n",
    "ridge2.fit(X_train_scaled, y_train)\n",
    "pred2 = ridge2.predict(X_test_scaled)          \n",
    "mspe = mean_squared_error(y_test, pred2)\n",
    "mspe"
   ]
  },
  {
   "cell_type": "code",
   "execution_count": 65,
   "metadata": {
    "scrolled": false
   },
   "outputs": [],
   "source": [
    "ridgecv = RidgeCV(alphas = 131*alphas,cv = 10,\n",
    "                  scoring = 'neg_mean_squared_error')\n",
    "ridgecv.fit(X_train_scaled, y_train);"
   ]
  },
  {
   "cell_type": "code",
   "execution_count": 66,
   "metadata": {
    "scrolled": false
   },
   "outputs": [],
   "source": [
    "# best alpha (minimizing train MSE)"
   ]
  },
  {
   "cell_type": "code",
   "execution_count": 67,
   "metadata": {
    "scrolled": false
   },
   "outputs": [
    {
     "data": {
      "text/plain": [
       "0.4977023564332114"
      ]
     },
     "execution_count": 67,
     "metadata": {},
     "output_type": "execute_result"
    }
   ],
   "source": [
    "ridgecv.alpha_/131"
   ]
  },
  {
   "cell_type": "code",
   "execution_count": 68,
   "metadata": {
    "scrolled": false
   },
   "outputs": [],
   "source": [
    "# test MSE of best alpha"
   ]
  },
  {
   "cell_type": "code",
   "execution_count": 69,
   "metadata": {
    "scrolled": false
   },
   "outputs": [
    {
     "data": {
      "text/plain": [
       "99997.3517290255"
      ]
     },
     "execution_count": 69,
     "metadata": {},
     "output_type": "execute_result"
    }
   ],
   "source": [
    "yhatcv = ridgecv.predict(X_test_scaled)\n",
    "best_mspe = mean_squared_error(y_test, yhatcv)\n",
    "best_mspe"
   ]
  },
  {
   "cell_type": "code",
   "execution_count": 70,
   "metadata": {
    "scrolled": false
   },
   "outputs": [
    {
     "data": {
      "text/plain": [
       "316.22357870504453"
      ]
     },
     "execution_count": 70,
     "metadata": {},
     "output_type": "execute_result"
    }
   ],
   "source": [
    "np.sqrt(best_mspe)"
   ]
  },
  {
   "cell_type": "markdown",
   "metadata": {},
   "source": [
    "### predict salary of first player in test set"
   ]
  },
  {
   "cell_type": "code",
   "execution_count": 71,
   "metadata": {
    "scrolled": true
   },
   "outputs": [],
   "source": [
    "# coefficients of best RR model (when fitting train set)"
   ]
  },
  {
   "cell_type": "code",
   "execution_count": 72,
   "metadata": {},
   "outputs": [
    {
     "data": {
      "text/plain": [
       "Ridge(alpha=65.1990086927507)"
      ]
     },
     "execution_count": 72,
     "metadata": {},
     "output_type": "execute_result"
    }
   ],
   "source": [
    "ridge4 = Ridge(alpha = ridgecv.alpha_)\n",
    "ridge4.fit(X_train_scaled,y_train)"
   ]
  },
  {
   "cell_type": "code",
   "execution_count": 73,
   "metadata": {},
   "outputs": [
    {
     "data": {
      "text/html": [
       "<div>\n",
       "<style scoped>\n",
       "    .dataframe tbody tr th:only-of-type {\n",
       "        vertical-align: middle;\n",
       "    }\n",
       "\n",
       "    .dataframe tbody tr th {\n",
       "        vertical-align: top;\n",
       "    }\n",
       "\n",
       "    .dataframe thead th {\n",
       "        text-align: right;\n",
       "    }\n",
       "</style>\n",
       "<table border=\"1\" class=\"dataframe\">\n",
       "  <thead>\n",
       "    <tr style=\"text-align: right;\">\n",
       "      <th></th>\n",
       "      <th>ridge_coeff</th>\n",
       "    </tr>\n",
       "  </thead>\n",
       "  <tbody>\n",
       "    <tr>\n",
       "      <th>AtBat</th>\n",
       "      <td>-5.634293</td>\n",
       "    </tr>\n",
       "    <tr>\n",
       "      <th>Hits</th>\n",
       "      <td>42.536803</td>\n",
       "    </tr>\n",
       "    <tr>\n",
       "      <th>HmRun</th>\n",
       "      <td>-4.641034</td>\n",
       "    </tr>\n",
       "    <tr>\n",
       "      <th>Runs</th>\n",
       "      <td>18.248238</td>\n",
       "    </tr>\n",
       "    <tr>\n",
       "      <th>RBI</th>\n",
       "      <td>35.234766</td>\n",
       "    </tr>\n",
       "    <tr>\n",
       "      <th>Walks</th>\n",
       "      <td>50.250768</td>\n",
       "    </tr>\n",
       "    <tr>\n",
       "      <th>Years</th>\n",
       "      <td>4.106227</td>\n",
       "    </tr>\n",
       "    <tr>\n",
       "      <th>CAtBat</th>\n",
       "      <td>13.698612</td>\n",
       "    </tr>\n",
       "    <tr>\n",
       "      <th>CHits</th>\n",
       "      <td>35.010687</td>\n",
       "    </tr>\n",
       "    <tr>\n",
       "      <th>CHmRun</th>\n",
       "      <td>47.649574</td>\n",
       "    </tr>\n",
       "    <tr>\n",
       "      <th>CRuns</th>\n",
       "      <td>35.647318</td>\n",
       "    </tr>\n",
       "    <tr>\n",
       "      <th>CRBI</th>\n",
       "      <td>47.335623</td>\n",
       "    </tr>\n",
       "    <tr>\n",
       "      <th>CWalks</th>\n",
       "      <td>23.754069</td>\n",
       "    </tr>\n",
       "    <tr>\n",
       "      <th>PutOuts</th>\n",
       "      <td>87.873076</td>\n",
       "    </tr>\n",
       "    <tr>\n",
       "      <th>Assists</th>\n",
       "      <td>-2.292704</td>\n",
       "    </tr>\n",
       "    <tr>\n",
       "      <th>Errors</th>\n",
       "      <td>-2.708173</td>\n",
       "    </tr>\n",
       "    <tr>\n",
       "      <th>League_N</th>\n",
       "      <td>10.126445</td>\n",
       "    </tr>\n",
       "    <tr>\n",
       "      <th>Division_W</th>\n",
       "      <td>-48.184093</td>\n",
       "    </tr>\n",
       "    <tr>\n",
       "      <th>NewLeague_N</th>\n",
       "      <td>4.696729</td>\n",
       "    </tr>\n",
       "  </tbody>\n",
       "</table>\n",
       "</div>"
      ],
      "text/plain": [
       "             ridge_coeff\n",
       "AtBat          -5.634293\n",
       "Hits           42.536803\n",
       "HmRun          -4.641034\n",
       "Runs           18.248238\n",
       "RBI            35.234766\n",
       "Walks          50.250768\n",
       "Years           4.106227\n",
       "CAtBat         13.698612\n",
       "CHits          35.010687\n",
       "CHmRun         47.649574\n",
       "CRuns          35.647318\n",
       "CRBI           47.335623\n",
       "CWalks         23.754069\n",
       "PutOuts        87.873076\n",
       "Assists        -2.292704\n",
       "Errors         -2.708173\n",
       "League_N       10.126445\n",
       "Division_W    -48.184093\n",
       "NewLeague_N     4.696729"
      ]
     },
     "execution_count": 73,
     "metadata": {},
     "output_type": "execute_result"
    }
   ],
   "source": [
    "df4 = pd.DataFrame(ridge4.coef_,index=X.columns,\n",
    "                   columns=['ridge_coeff'])\n",
    "df4"
   ]
  },
  {
   "cell_type": "code",
   "execution_count": 74,
   "metadata": {
    "scrolled": true
   },
   "outputs": [],
   "source": [
    "# Coefficients of best RR model (when fitting full dataset)"
   ]
  },
  {
   "cell_type": "code",
   "execution_count": 75,
   "metadata": {
    "scrolled": false
   },
   "outputs": [
    {
     "data": {
      "text/html": [
       "<div>\n",
       "<style scoped>\n",
       "    .dataframe tbody tr th:only-of-type {\n",
       "        vertical-align: middle;\n",
       "    }\n",
       "\n",
       "    .dataframe tbody tr th {\n",
       "        vertical-align: top;\n",
       "    }\n",
       "\n",
       "    .dataframe thead th {\n",
       "        text-align: right;\n",
       "    }\n",
       "</style>\n",
       "<table border=\"1\" class=\"dataframe\">\n",
       "  <thead>\n",
       "    <tr style=\"text-align: right;\">\n",
       "      <th></th>\n",
       "      <th>ridge_coeff</th>\n",
       "    </tr>\n",
       "  </thead>\n",
       "  <tbody>\n",
       "    <tr>\n",
       "      <th>AtBat</th>\n",
       "      <td>-2.098697</td>\n",
       "    </tr>\n",
       "    <tr>\n",
       "      <th>Hits</th>\n",
       "      <td>7.652428</td>\n",
       "    </tr>\n",
       "    <tr>\n",
       "      <th>HmRun</th>\n",
       "      <td>3.184275</td>\n",
       "    </tr>\n",
       "    <tr>\n",
       "      <th>Runs</th>\n",
       "      <td>-2.153684</td>\n",
       "    </tr>\n",
       "    <tr>\n",
       "      <th>RBI</th>\n",
       "      <td>-0.488971</td>\n",
       "    </tr>\n",
       "    <tr>\n",
       "      <th>Walks</th>\n",
       "      <td>6.124918</td>\n",
       "    </tr>\n",
       "    <tr>\n",
       "      <th>Years</th>\n",
       "      <td>-2.552640</td>\n",
       "    </tr>\n",
       "    <tr>\n",
       "      <th>CAtBat</th>\n",
       "      <td>-0.174919</td>\n",
       "    </tr>\n",
       "    <tr>\n",
       "      <th>CHits</th>\n",
       "      <td>0.090927</td>\n",
       "    </tr>\n",
       "    <tr>\n",
       "      <th>CHmRun</th>\n",
       "      <td>-0.208067</td>\n",
       "    </tr>\n",
       "    <tr>\n",
       "      <th>CRuns</th>\n",
       "      <td>1.549933</td>\n",
       "    </tr>\n",
       "    <tr>\n",
       "      <th>CRBI</th>\n",
       "      <td>0.809602</td>\n",
       "    </tr>\n",
       "    <tr>\n",
       "      <th>CWalks</th>\n",
       "      <td>-0.800459</td>\n",
       "    </tr>\n",
       "    <tr>\n",
       "      <th>PutOuts</th>\n",
       "      <td>0.288065</td>\n",
       "    </tr>\n",
       "    <tr>\n",
       "      <th>Assists</th>\n",
       "      <td>0.378518</td>\n",
       "    </tr>\n",
       "    <tr>\n",
       "      <th>Errors</th>\n",
       "      <td>-3.047162</td>\n",
       "    </tr>\n",
       "    <tr>\n",
       "      <th>League_N</th>\n",
       "      <td>17.772515</td>\n",
       "    </tr>\n",
       "    <tr>\n",
       "      <th>Division_W</th>\n",
       "      <td>-56.793417</td>\n",
       "    </tr>\n",
       "    <tr>\n",
       "      <th>NewLeague_N</th>\n",
       "      <td>7.742508</td>\n",
       "    </tr>\n",
       "  </tbody>\n",
       "</table>\n",
       "</div>"
      ],
      "text/plain": [
       "             ridge_coeff\n",
       "AtBat          -2.098697\n",
       "Hits            7.652428\n",
       "HmRun           3.184275\n",
       "Runs           -2.153684\n",
       "RBI            -0.488971\n",
       "Walks           6.124918\n",
       "Years          -2.552640\n",
       "CAtBat         -0.174919\n",
       "CHits           0.090927\n",
       "CHmRun         -0.208067\n",
       "CRuns           1.549933\n",
       "CRBI            0.809602\n",
       "CWalks         -0.800459\n",
       "PutOuts         0.288065\n",
       "Assists         0.378518\n",
       "Errors         -3.047162\n",
       "League_N       17.772515\n",
       "Division_W    -56.793417\n",
       "NewLeague_N     7.742508"
      ]
     },
     "execution_count": 75,
     "metadata": {},
     "output_type": "execute_result"
    }
   ],
   "source": [
    "ridge4.fit(X,y)\n",
    "pd.DataFrame(ridge4.coef_,index=X.columns,\n",
    "                   columns=['ridge_coeff'])"
   ]
  },
  {
   "cell_type": "code",
   "execution_count": 76,
   "metadata": {},
   "outputs": [
    {
     "data": {
      "text/html": [
       "<div>\n",
       "<style scoped>\n",
       "    .dataframe tbody tr th:only-of-type {\n",
       "        vertical-align: middle;\n",
       "    }\n",
       "\n",
       "    .dataframe tbody tr th {\n",
       "        vertical-align: top;\n",
       "    }\n",
       "\n",
       "    .dataframe thead th {\n",
       "        text-align: right;\n",
       "    }\n",
       "</style>\n",
       "<table border=\"1\" class=\"dataframe\">\n",
       "  <thead>\n",
       "    <tr style=\"text-align: right;\">\n",
       "      <th></th>\n",
       "      <th>AtBat</th>\n",
       "      <th>Hits</th>\n",
       "      <th>HmRun</th>\n",
       "      <th>Runs</th>\n",
       "      <th>RBI</th>\n",
       "      <th>Walks</th>\n",
       "      <th>Years</th>\n",
       "      <th>CAtBat</th>\n",
       "      <th>CHits</th>\n",
       "      <th>CHmRun</th>\n",
       "      <th>CRuns</th>\n",
       "      <th>CRBI</th>\n",
       "      <th>CWalks</th>\n",
       "      <th>PutOuts</th>\n",
       "      <th>Assists</th>\n",
       "      <th>Errors</th>\n",
       "      <th>League_N</th>\n",
       "      <th>Division_W</th>\n",
       "      <th>NewLeague_N</th>\n",
       "    </tr>\n",
       "  </thead>\n",
       "  <tbody>\n",
       "    <tr>\n",
       "      <th>126</th>\n",
       "      <td>282.0</td>\n",
       "      <td>78.0</td>\n",
       "      <td>13.0</td>\n",
       "      <td>37.0</td>\n",
       "      <td>51.0</td>\n",
       "      <td>29.0</td>\n",
       "      <td>5.0</td>\n",
       "      <td>1649.0</td>\n",
       "      <td>453.0</td>\n",
       "      <td>73.0</td>\n",
       "      <td>211.0</td>\n",
       "      <td>280.0</td>\n",
       "      <td>138.0</td>\n",
       "      <td>670.0</td>\n",
       "      <td>57.0</td>\n",
       "      <td>5.0</td>\n",
       "      <td>0.0</td>\n",
       "      <td>1.0</td>\n",
       "      <td>0.0</td>\n",
       "    </tr>\n",
       "  </tbody>\n",
       "</table>\n",
       "</div>"
      ],
      "text/plain": [
       "     AtBat  Hits  HmRun  Runs   RBI  Walks  Years  CAtBat  CHits  CHmRun  \\\n",
       "126  282.0  78.0   13.0  37.0  51.0   29.0    5.0  1649.0  453.0    73.0   \n",
       "\n",
       "     CRuns   CRBI  CWalks  PutOuts  Assists  Errors  League_N  Division_W  \\\n",
       "126  211.0  280.0   138.0    670.0     57.0     5.0       0.0         1.0   \n",
       "\n",
       "     NewLeague_N  \n",
       "126          0.0  "
      ]
     },
     "execution_count": 76,
     "metadata": {},
     "output_type": "execute_result"
    }
   ],
   "source": [
    "newval = X_test[:1]\n",
    "newval"
   ]
  },
  {
   "cell_type": "code",
   "execution_count": 77,
   "metadata": {},
   "outputs": [],
   "source": [
    "# predict salary (000s dollars)"
   ]
  },
  {
   "cell_type": "code",
   "execution_count": 78,
   "metadata": {},
   "outputs": [
    {
     "data": {
      "text/plain": [
       "array([569.88418992])"
      ]
     },
     "execution_count": 78,
     "metadata": {},
     "output_type": "execute_result"
    }
   ],
   "source": [
    "ridge4.predict(newval)"
   ]
  },
  {
   "cell_type": "markdown",
   "metadata": {},
   "source": [
    "## Lasso Regression"
   ]
  },
  {
   "cell_type": "code",
   "execution_count": 79,
   "metadata": {
    "scrolled": false
   },
   "outputs": [],
   "source": [
    "# lasso may not converge unless large number of iterations"
   ]
  },
  {
   "cell_type": "code",
   "execution_count": 80,
   "metadata": {},
   "outputs": [],
   "source": [
    "lasso_model = Lasso(max_iter = 10000, alpha = 0)"
   ]
  },
  {
   "cell_type": "code",
   "execution_count": 81,
   "metadata": {},
   "outputs": [],
   "source": [
    "coefs = []\n",
    "for a in alphas:\n",
    "    lasso_model.set_params(alpha=a*131)\n",
    "    lasso_model.fit(X_train_scaled,y_train)\n",
    "    coefs.append(lasso_model.coef_/X_train.std())"
   ]
  },
  {
   "cell_type": "code",
   "execution_count": 82,
   "metadata": {},
   "outputs": [],
   "source": [
    "# convert list of coefficients to a dataframe"
   ]
  },
  {
   "cell_type": "code",
   "execution_count": 83,
   "metadata": {
    "scrolled": false
   },
   "outputs": [
    {
     "data": {
      "text/html": [
       "<div>\n",
       "<style scoped>\n",
       "    .dataframe tbody tr th:only-of-type {\n",
       "        vertical-align: middle;\n",
       "    }\n",
       "\n",
       "    .dataframe tbody tr th {\n",
       "        vertical-align: top;\n",
       "    }\n",
       "\n",
       "    .dataframe thead th {\n",
       "        text-align: right;\n",
       "    }\n",
       "</style>\n",
       "<table border=\"1\" class=\"dataframe\">\n",
       "  <thead>\n",
       "    <tr style=\"text-align: right;\">\n",
       "      <th></th>\n",
       "      <th>AtBat</th>\n",
       "      <th>Hits</th>\n",
       "      <th>HmRun</th>\n",
       "      <th>Runs</th>\n",
       "      <th>RBI</th>\n",
       "      <th>Walks</th>\n",
       "      <th>Years</th>\n",
       "      <th>CAtBat</th>\n",
       "      <th>CHits</th>\n",
       "      <th>CHmRun</th>\n",
       "      <th>CRuns</th>\n",
       "      <th>CRBI</th>\n",
       "      <th>CWalks</th>\n",
       "      <th>PutOuts</th>\n",
       "      <th>Assists</th>\n",
       "      <th>Errors</th>\n",
       "      <th>League_N</th>\n",
       "      <th>Division_W</th>\n",
       "      <th>NewLeague_N</th>\n",
       "    </tr>\n",
       "    <tr>\n",
       "      <th>alpha</th>\n",
       "      <th></th>\n",
       "      <th></th>\n",
       "      <th></th>\n",
       "      <th></th>\n",
       "      <th></th>\n",
       "      <th></th>\n",
       "      <th></th>\n",
       "      <th></th>\n",
       "      <th></th>\n",
       "      <th></th>\n",
       "      <th></th>\n",
       "      <th></th>\n",
       "      <th></th>\n",
       "      <th></th>\n",
       "      <th></th>\n",
       "      <th></th>\n",
       "      <th></th>\n",
       "      <th></th>\n",
       "      <th></th>\n",
       "    </tr>\n",
       "  </thead>\n",
       "  <tbody>\n",
       "    <tr>\n",
       "      <th>1.000000e+10</th>\n",
       "      <td>0.000000</td>\n",
       "      <td>0.000000</td>\n",
       "      <td>0.000000</td>\n",
       "      <td>0.000000</td>\n",
       "      <td>0.000000</td>\n",
       "      <td>0.000000</td>\n",
       "      <td>0.000000</td>\n",
       "      <td>0.000000</td>\n",
       "      <td>0.000000</td>\n",
       "      <td>0.000000</td>\n",
       "      <td>0.000000</td>\n",
       "      <td>0.000000</td>\n",
       "      <td>0.000000</td>\n",
       "      <td>0.000000</td>\n",
       "      <td>-0.000000</td>\n",
       "      <td>0.000000</td>\n",
       "      <td>-0.000000</td>\n",
       "      <td>-0.000000</td>\n",
       "      <td>-0.000000</td>\n",
       "    </tr>\n",
       "    <tr>\n",
       "      <th>7.564633e+09</th>\n",
       "      <td>0.000000</td>\n",
       "      <td>0.000000</td>\n",
       "      <td>0.000000</td>\n",
       "      <td>0.000000</td>\n",
       "      <td>0.000000</td>\n",
       "      <td>0.000000</td>\n",
       "      <td>0.000000</td>\n",
       "      <td>0.000000</td>\n",
       "      <td>0.000000</td>\n",
       "      <td>0.000000</td>\n",
       "      <td>0.000000</td>\n",
       "      <td>0.000000</td>\n",
       "      <td>0.000000</td>\n",
       "      <td>0.000000</td>\n",
       "      <td>-0.000000</td>\n",
       "      <td>0.000000</td>\n",
       "      <td>-0.000000</td>\n",
       "      <td>-0.000000</td>\n",
       "      <td>-0.000000</td>\n",
       "    </tr>\n",
       "    <tr>\n",
       "      <th>5.722368e+09</th>\n",
       "      <td>0.000000</td>\n",
       "      <td>0.000000</td>\n",
       "      <td>0.000000</td>\n",
       "      <td>0.000000</td>\n",
       "      <td>0.000000</td>\n",
       "      <td>0.000000</td>\n",
       "      <td>0.000000</td>\n",
       "      <td>0.000000</td>\n",
       "      <td>0.000000</td>\n",
       "      <td>0.000000</td>\n",
       "      <td>0.000000</td>\n",
       "      <td>0.000000</td>\n",
       "      <td>0.000000</td>\n",
       "      <td>0.000000</td>\n",
       "      <td>-0.000000</td>\n",
       "      <td>0.000000</td>\n",
       "      <td>-0.000000</td>\n",
       "      <td>-0.000000</td>\n",
       "      <td>-0.000000</td>\n",
       "    </tr>\n",
       "    <tr>\n",
       "      <th>4.328761e+09</th>\n",
       "      <td>0.000000</td>\n",
       "      <td>0.000000</td>\n",
       "      <td>0.000000</td>\n",
       "      <td>0.000000</td>\n",
       "      <td>0.000000</td>\n",
       "      <td>0.000000</td>\n",
       "      <td>0.000000</td>\n",
       "      <td>0.000000</td>\n",
       "      <td>0.000000</td>\n",
       "      <td>0.000000</td>\n",
       "      <td>0.000000</td>\n",
       "      <td>0.000000</td>\n",
       "      <td>0.000000</td>\n",
       "      <td>0.000000</td>\n",
       "      <td>-0.000000</td>\n",
       "      <td>0.000000</td>\n",
       "      <td>-0.000000</td>\n",
       "      <td>-0.000000</td>\n",
       "      <td>-0.000000</td>\n",
       "    </tr>\n",
       "    <tr>\n",
       "      <th>3.274549e+09</th>\n",
       "      <td>0.000000</td>\n",
       "      <td>0.000000</td>\n",
       "      <td>0.000000</td>\n",
       "      <td>0.000000</td>\n",
       "      <td>0.000000</td>\n",
       "      <td>0.000000</td>\n",
       "      <td>0.000000</td>\n",
       "      <td>0.000000</td>\n",
       "      <td>0.000000</td>\n",
       "      <td>0.000000</td>\n",
       "      <td>0.000000</td>\n",
       "      <td>0.000000</td>\n",
       "      <td>0.000000</td>\n",
       "      <td>0.000000</td>\n",
       "      <td>-0.000000</td>\n",
       "      <td>0.000000</td>\n",
       "      <td>-0.000000</td>\n",
       "      <td>-0.000000</td>\n",
       "      <td>-0.000000</td>\n",
       "    </tr>\n",
       "    <tr>\n",
       "      <th>...</th>\n",
       "      <td>...</td>\n",
       "      <td>...</td>\n",
       "      <td>...</td>\n",
       "      <td>...</td>\n",
       "      <td>...</td>\n",
       "      <td>...</td>\n",
       "      <td>...</td>\n",
       "      <td>...</td>\n",
       "      <td>...</td>\n",
       "      <td>...</td>\n",
       "      <td>...</td>\n",
       "      <td>...</td>\n",
       "      <td>...</td>\n",
       "      <td>...</td>\n",
       "      <td>...</td>\n",
       "      <td>...</td>\n",
       "      <td>...</td>\n",
       "      <td>...</td>\n",
       "      <td>...</td>\n",
       "    </tr>\n",
       "    <tr>\n",
       "      <th>3.053856e-02</th>\n",
       "      <td>-1.908304</td>\n",
       "      <td>6.382441</td>\n",
       "      <td>-3.190295</td>\n",
       "      <td>-0.000000</td>\n",
       "      <td>1.658744</td>\n",
       "      <td>3.767515</td>\n",
       "      <td>-0.204433</td>\n",
       "      <td>-0.000000</td>\n",
       "      <td>0.000000</td>\n",
       "      <td>1.054881</td>\n",
       "      <td>0.001259</td>\n",
       "      <td>0.388032</td>\n",
       "      <td>-0.017439</td>\n",
       "      <td>0.414145</td>\n",
       "      <td>0.094857</td>\n",
       "      <td>-0.000000</td>\n",
       "      <td>31.198446</td>\n",
       "      <td>-119.486292</td>\n",
       "      <td>-0.000000</td>\n",
       "    </tr>\n",
       "    <tr>\n",
       "      <th>2.310130e-02</th>\n",
       "      <td>-2.101790</td>\n",
       "      <td>6.661596</td>\n",
       "      <td>-3.708342</td>\n",
       "      <td>-0.000000</td>\n",
       "      <td>1.958916</td>\n",
       "      <td>3.964500</td>\n",
       "      <td>-0.000000</td>\n",
       "      <td>-0.052464</td>\n",
       "      <td>0.000000</td>\n",
       "      <td>0.700922</td>\n",
       "      <td>0.348254</td>\n",
       "      <td>0.558756</td>\n",
       "      <td>-0.115886</td>\n",
       "      <td>0.413102</td>\n",
       "      <td>0.138813</td>\n",
       "      <td>-0.035728</td>\n",
       "      <td>35.501684</td>\n",
       "      <td>-118.017768</td>\n",
       "      <td>-0.000000</td>\n",
       "    </tr>\n",
       "    <tr>\n",
       "      <th>1.747528e-02</th>\n",
       "      <td>-2.214714</td>\n",
       "      <td>6.961633</td>\n",
       "      <td>-3.486691</td>\n",
       "      <td>-0.568646</td>\n",
       "      <td>2.144794</td>\n",
       "      <td>4.228289</td>\n",
       "      <td>-0.000000</td>\n",
       "      <td>-0.104095</td>\n",
       "      <td>0.025866</td>\n",
       "      <td>0.412492</td>\n",
       "      <td>0.668828</td>\n",
       "      <td>0.668495</td>\n",
       "      <td>-0.192277</td>\n",
       "      <td>0.414899</td>\n",
       "      <td>0.201905</td>\n",
       "      <td>-0.998792</td>\n",
       "      <td>43.113947</td>\n",
       "      <td>-117.438276</td>\n",
       "      <td>-4.824146</td>\n",
       "    </tr>\n",
       "    <tr>\n",
       "      <th>1.321941e-02</th>\n",
       "      <td>-2.134750</td>\n",
       "      <td>6.304316</td>\n",
       "      <td>-3.912725</td>\n",
       "      <td>-0.465290</td>\n",
       "      <td>2.671133</td>\n",
       "      <td>4.050220</td>\n",
       "      <td>-0.000000</td>\n",
       "      <td>-0.216208</td>\n",
       "      <td>0.523777</td>\n",
       "      <td>0.989835</td>\n",
       "      <td>0.580653</td>\n",
       "      <td>0.374573</td>\n",
       "      <td>-0.107551</td>\n",
       "      <td>0.416116</td>\n",
       "      <td>0.266512</td>\n",
       "      <td>-2.299283</td>\n",
       "      <td>65.637477</td>\n",
       "      <td>-115.442231</td>\n",
       "      <td>-25.080430</td>\n",
       "    </tr>\n",
       "    <tr>\n",
       "      <th>1.000000e-02</th>\n",
       "      <td>-2.096917</td>\n",
       "      <td>5.927547</td>\n",
       "      <td>-4.134188</td>\n",
       "      <td>-0.462624</td>\n",
       "      <td>3.014536</td>\n",
       "      <td>3.970527</td>\n",
       "      <td>0.000000</td>\n",
       "      <td>-0.291058</td>\n",
       "      <td>0.841785</td>\n",
       "      <td>1.333951</td>\n",
       "      <td>0.547755</td>\n",
       "      <td>0.196776</td>\n",
       "      <td>-0.060783</td>\n",
       "      <td>0.417217</td>\n",
       "      <td>0.313451</td>\n",
       "      <td>-3.211564</td>\n",
       "      <td>81.933811</td>\n",
       "      <td>-114.154980</td>\n",
       "      <td>-39.930115</td>\n",
       "    </tr>\n",
       "  </tbody>\n",
       "</table>\n",
       "<p>100 rows × 19 columns</p>\n",
       "</div>"
      ],
      "text/plain": [
       "                 AtBat      Hits     HmRun      Runs       RBI     Walks  \\\n",
       "alpha                                                                      \n",
       "1.000000e+10  0.000000  0.000000  0.000000  0.000000  0.000000  0.000000   \n",
       "7.564633e+09  0.000000  0.000000  0.000000  0.000000  0.000000  0.000000   \n",
       "5.722368e+09  0.000000  0.000000  0.000000  0.000000  0.000000  0.000000   \n",
       "4.328761e+09  0.000000  0.000000  0.000000  0.000000  0.000000  0.000000   \n",
       "3.274549e+09  0.000000  0.000000  0.000000  0.000000  0.000000  0.000000   \n",
       "...                ...       ...       ...       ...       ...       ...   \n",
       "3.053856e-02 -1.908304  6.382441 -3.190295 -0.000000  1.658744  3.767515   \n",
       "2.310130e-02 -2.101790  6.661596 -3.708342 -0.000000  1.958916  3.964500   \n",
       "1.747528e-02 -2.214714  6.961633 -3.486691 -0.568646  2.144794  4.228289   \n",
       "1.321941e-02 -2.134750  6.304316 -3.912725 -0.465290  2.671133  4.050220   \n",
       "1.000000e-02 -2.096917  5.927547 -4.134188 -0.462624  3.014536  3.970527   \n",
       "\n",
       "                 Years    CAtBat     CHits    CHmRun     CRuns      CRBI  \\\n",
       "alpha                                                                      \n",
       "1.000000e+10  0.000000  0.000000  0.000000  0.000000  0.000000  0.000000   \n",
       "7.564633e+09  0.000000  0.000000  0.000000  0.000000  0.000000  0.000000   \n",
       "5.722368e+09  0.000000  0.000000  0.000000  0.000000  0.000000  0.000000   \n",
       "4.328761e+09  0.000000  0.000000  0.000000  0.000000  0.000000  0.000000   \n",
       "3.274549e+09  0.000000  0.000000  0.000000  0.000000  0.000000  0.000000   \n",
       "...                ...       ...       ...       ...       ...       ...   \n",
       "3.053856e-02 -0.204433 -0.000000  0.000000  1.054881  0.001259  0.388032   \n",
       "2.310130e-02 -0.000000 -0.052464  0.000000  0.700922  0.348254  0.558756   \n",
       "1.747528e-02 -0.000000 -0.104095  0.025866  0.412492  0.668828  0.668495   \n",
       "1.321941e-02 -0.000000 -0.216208  0.523777  0.989835  0.580653  0.374573   \n",
       "1.000000e-02  0.000000 -0.291058  0.841785  1.333951  0.547755  0.196776   \n",
       "\n",
       "                CWalks   PutOuts   Assists    Errors   League_N  Division_W  \\\n",
       "alpha                                                                         \n",
       "1.000000e+10  0.000000  0.000000 -0.000000  0.000000  -0.000000   -0.000000   \n",
       "7.564633e+09  0.000000  0.000000 -0.000000  0.000000  -0.000000   -0.000000   \n",
       "5.722368e+09  0.000000  0.000000 -0.000000  0.000000  -0.000000   -0.000000   \n",
       "4.328761e+09  0.000000  0.000000 -0.000000  0.000000  -0.000000   -0.000000   \n",
       "3.274549e+09  0.000000  0.000000 -0.000000  0.000000  -0.000000   -0.000000   \n",
       "...                ...       ...       ...       ...        ...         ...   \n",
       "3.053856e-02 -0.017439  0.414145  0.094857 -0.000000  31.198446 -119.486292   \n",
       "2.310130e-02 -0.115886  0.413102  0.138813 -0.035728  35.501684 -118.017768   \n",
       "1.747528e-02 -0.192277  0.414899  0.201905 -0.998792  43.113947 -117.438276   \n",
       "1.321941e-02 -0.107551  0.416116  0.266512 -2.299283  65.637477 -115.442231   \n",
       "1.000000e-02 -0.060783  0.417217  0.313451 -3.211564  81.933811 -114.154980   \n",
       "\n",
       "              NewLeague_N  \n",
       "alpha                      \n",
       "1.000000e+10    -0.000000  \n",
       "7.564633e+09    -0.000000  \n",
       "5.722368e+09    -0.000000  \n",
       "4.328761e+09    -0.000000  \n",
       "3.274549e+09    -0.000000  \n",
       "...                   ...  \n",
       "3.053856e-02    -0.000000  \n",
       "2.310130e-02    -0.000000  \n",
       "1.747528e-02    -4.824146  \n",
       "1.321941e-02   -25.080430  \n",
       "1.000000e-02   -39.930115  \n",
       "\n",
       "[100 rows x 19 columns]"
      ]
     },
     "execution_count": 83,
     "metadata": {},
     "output_type": "execute_result"
    }
   ],
   "source": [
    "df = pd.DataFrame(coefs)\n",
    "df.columns = x.columns\n",
    "df.index = alphas\n",
    "df.index.name = 'alpha'\n",
    "df"
   ]
  },
  {
   "cell_type": "code",
   "execution_count": 85,
   "metadata": {
    "scrolled": false
   },
   "outputs": [
    {
     "data": {
      "image/png": "[encoded data removed]",
      "text/plain": [
       "<Figure size 864x432 with 1 Axes>"
      ]
     },
     "metadata": {
      "needs_background": "light"
     },
     "output_type": "display_data"
    }
   ],
   "source": [
    "df.plot(figsize=(12,6),grid=True,logx=True,xlim = (0.002,10**6))\n",
    "plt.legend(loc='right');"
   ]
  },
  {
   "cell_type": "code",
   "execution_count": 82,
   "metadata": {
    "scrolled": false
   },
   "outputs": [],
   "source": [
    "# coefficients shrink to zero as alpha values increase"
   ]
  },
  {
   "cell_type": "markdown",
   "metadata": {},
   "source": [
    "## LASSO  10-fold cross validation to find best alpha"
   ]
  },
  {
   "cell_type": "code",
   "execution_count": 88,
   "metadata": {
    "scrolled": false
   },
   "outputs": [],
   "source": [
    "lassocv = LassoCV(alphas = alphas*131, cv=10, max_iter = 100000)\n",
    "#                  scoring = 'neg_mean_squared_error')\n",
    "lassocv.fit(X_train_scaled,y_train);"
   ]
  },
  {
   "cell_type": "code",
   "execution_count": 89,
   "metadata": {
    "scrolled": false
   },
   "outputs": [],
   "source": [
    "# best alpha (minimizing train MSE)"
   ]
  },
  {
   "cell_type": "code",
   "execution_count": 92,
   "metadata": {
    "scrolled": false
   },
   "outputs": [
    {
     "data": {
      "text/plain": [
       "28.2230944394176"
      ]
     },
     "execution_count": 92,
     "metadata": {},
     "output_type": "execute_result"
    }
   ],
   "source": [
    "lassocv.alpha_"
   ]
  },
  {
   "cell_type": "code",
   "execution_count": 93,
   "metadata": {
    "scrolled": false
   },
   "outputs": [],
   "source": [
    "# test MSE of best alpha (creating new model)"
   ]
  },
  {
   "cell_type": "code",
   "execution_count": 108,
   "metadata": {
    "scrolled": false
   },
   "outputs": [
    {
     "data": {
      "text/plain": [
       "105006.69234885278"
      ]
     },
     "execution_count": 108,
     "metadata": {},
     "output_type": "execute_result"
    }
   ],
   "source": [
    "lasso4 = Lasso(alpha = lassocv.alpha_,max_iter=100000)\n",
    "lasso4.fit(X_train_scaled, y_train)\n",
    "mean_squared_error(y_test,lasso4.predict(X_test_scaled))"
   ]
  },
  {
   "cell_type": "code",
   "execution_count": 109,
   "metadata": {
    "scrolled": false
   },
   "outputs": [],
   "source": [
    "# not as good as Ridge regression"
   ]
  },
  {
   "cell_type": "code",
   "execution_count": 110,
   "metadata": {
    "scrolled": false
   },
   "outputs": [
    {
     "data": {
      "text/html": [
       "<div>\n",
       "<style scoped>\n",
       "    .dataframe tbody tr th:only-of-type {\n",
       "        vertical-align: middle;\n",
       "    }\n",
       "\n",
       "    .dataframe tbody tr th {\n",
       "        vertical-align: top;\n",
       "    }\n",
       "\n",
       "    .dataframe thead th {\n",
       "        text-align: right;\n",
       "    }\n",
       "</style>\n",
       "<table border=\"1\" class=\"dataframe\">\n",
       "  <thead>\n",
       "    <tr style=\"text-align: right;\">\n",
       "      <th></th>\n",
       "      <th>lasso_coeff</th>\n",
       "    </tr>\n",
       "  </thead>\n",
       "  <tbody>\n",
       "    <tr>\n",
       "      <th>AtBat</th>\n",
       "      <td>0.000000</td>\n",
       "    </tr>\n",
       "    <tr>\n",
       "      <th>Hits</th>\n",
       "      <td>49.986581</td>\n",
       "    </tr>\n",
       "    <tr>\n",
       "      <th>HmRun</th>\n",
       "      <td>0.000000</td>\n",
       "    </tr>\n",
       "    <tr>\n",
       "      <th>Runs</th>\n",
       "      <td>0.000000</td>\n",
       "    </tr>\n",
       "    <tr>\n",
       "      <th>RBI</th>\n",
       "      <td>0.000000</td>\n",
       "    </tr>\n",
       "    <tr>\n",
       "      <th>Walks</th>\n",
       "      <td>66.527379</td>\n",
       "    </tr>\n",
       "    <tr>\n",
       "      <th>Years</th>\n",
       "      <td>0.000000</td>\n",
       "    </tr>\n",
       "    <tr>\n",
       "      <th>CAtBat</th>\n",
       "      <td>0.000000</td>\n",
       "    </tr>\n",
       "    <tr>\n",
       "      <th>CHits</th>\n",
       "      <td>0.000000</td>\n",
       "    </tr>\n",
       "    <tr>\n",
       "      <th>CHmRun</th>\n",
       "      <td>19.155726</td>\n",
       "    </tr>\n",
       "    <tr>\n",
       "      <th>CRuns</th>\n",
       "      <td>0.000000</td>\n",
       "    </tr>\n",
       "    <tr>\n",
       "      <th>CRBI</th>\n",
       "      <td>181.052856</td>\n",
       "    </tr>\n",
       "    <tr>\n",
       "      <th>CWalks</th>\n",
       "      <td>0.000000</td>\n",
       "    </tr>\n",
       "    <tr>\n",
       "      <th>PutOuts</th>\n",
       "      <td>109.955976</td>\n",
       "    </tr>\n",
       "    <tr>\n",
       "      <th>Assists</th>\n",
       "      <td>-0.000000</td>\n",
       "    </tr>\n",
       "    <tr>\n",
       "      <th>Errors</th>\n",
       "      <td>-0.000000</td>\n",
       "    </tr>\n",
       "    <tr>\n",
       "      <th>League_N</th>\n",
       "      <td>0.000000</td>\n",
       "    </tr>\n",
       "    <tr>\n",
       "      <th>Division_W</th>\n",
       "      <td>-43.836560</td>\n",
       "    </tr>\n",
       "    <tr>\n",
       "      <th>NewLeague_N</th>\n",
       "      <td>0.000000</td>\n",
       "    </tr>\n",
       "  </tbody>\n",
       "</table>\n",
       "</div>"
      ],
      "text/plain": [
       "             lasso_coeff\n",
       "AtBat           0.000000\n",
       "Hits           49.986581\n",
       "HmRun           0.000000\n",
       "Runs            0.000000\n",
       "RBI             0.000000\n",
       "Walks          66.527379\n",
       "Years           0.000000\n",
       "CAtBat          0.000000\n",
       "CHits           0.000000\n",
       "CHmRun         19.155726\n",
       "CRuns           0.000000\n",
       "CRBI          181.052856\n",
       "CWalks          0.000000\n",
       "PutOuts       109.955976\n",
       "Assists        -0.000000\n",
       "Errors         -0.000000\n",
       "League_N        0.000000\n",
       "Division_W    -43.836560\n",
       "NewLeague_N     0.000000"
      ]
     },
     "execution_count": 110,
     "metadata": {},
     "output_type": "execute_result"
    }
   ],
   "source": [
    "df4 = pd.DataFrame(lasso4.coef_,index=X.columns,columns=['lasso_coeff'])\n",
    "df4"
   ]
  },
  {
   "cell_type": "code",
   "execution_count": 111,
   "metadata": {},
   "outputs": [],
   "source": [
    "# 13 regression coeffs equal to zero \n",
    "# (using best alpha found by cross validation)"
   ]
  },
  {
   "cell_type": "code",
   "execution_count": 112,
   "metadata": {
    "scrolled": false
   },
   "outputs": [
    {
     "data": {
      "text/html": [
       "<div>\n",
       "<style scoped>\n",
       "    .dataframe tbody tr th:only-of-type {\n",
       "        vertical-align: middle;\n",
       "    }\n",
       "\n",
       "    .dataframe tbody tr th {\n",
       "        vertical-align: top;\n",
       "    }\n",
       "\n",
       "    .dataframe thead th {\n",
       "        text-align: right;\n",
       "    }\n",
       "</style>\n",
       "<table border=\"1\" class=\"dataframe\">\n",
       "  <thead>\n",
       "    <tr style=\"text-align: right;\">\n",
       "      <th></th>\n",
       "      <th>lasso_coeff</th>\n",
       "    </tr>\n",
       "  </thead>\n",
       "  <tbody>\n",
       "    <tr>\n",
       "      <th>Hits</th>\n",
       "      <td>49.986581</td>\n",
       "    </tr>\n",
       "    <tr>\n",
       "      <th>Walks</th>\n",
       "      <td>66.527379</td>\n",
       "    </tr>\n",
       "    <tr>\n",
       "      <th>CHmRun</th>\n",
       "      <td>19.155726</td>\n",
       "    </tr>\n",
       "    <tr>\n",
       "      <th>CRBI</th>\n",
       "      <td>181.052856</td>\n",
       "    </tr>\n",
       "    <tr>\n",
       "      <th>PutOuts</th>\n",
       "      <td>109.955976</td>\n",
       "    </tr>\n",
       "    <tr>\n",
       "      <th>Division_W</th>\n",
       "      <td>-43.836560</td>\n",
       "    </tr>\n",
       "  </tbody>\n",
       "</table>\n",
       "</div>"
      ],
      "text/plain": [
       "            lasso_coeff\n",
       "Hits          49.986581\n",
       "Walks         66.527379\n",
       "CHmRun        19.155726\n",
       "CRBI         181.052856\n",
       "PutOuts      109.955976\n",
       "Division_W   -43.836560"
      ]
     },
     "execution_count": 112,
     "metadata": {},
     "output_type": "execute_result"
    }
   ],
   "source": [
    "df4[df4.lasso_coeff != 0]"
   ]
  },
  {
   "cell_type": "code",
   "execution_count": 92,
   "metadata": {
    "scrolled": false
   },
   "outputs": [],
   "source": [
    "# coefficients for new predictions -use full data"
   ]
  },
  {
   "cell_type": "code",
   "execution_count": 116,
   "metadata": {
    "scrolled": false
   },
   "outputs": [
    {
     "data": {
      "text/html": [
       "<div>\n",
       "<style scoped>\n",
       "    .dataframe tbody tr th:only-of-type {\n",
       "        vertical-align: middle;\n",
       "    }\n",
       "\n",
       "    .dataframe tbody tr th {\n",
       "        vertical-align: top;\n",
       "    }\n",
       "\n",
       "    .dataframe thead th {\n",
       "        text-align: right;\n",
       "    }\n",
       "</style>\n",
       "<table border=\"1\" class=\"dataframe\">\n",
       "  <thead>\n",
       "    <tr style=\"text-align: right;\">\n",
       "      <th></th>\n",
       "      <th>lasso_coeff</th>\n",
       "    </tr>\n",
       "  </thead>\n",
       "  <tbody>\n",
       "    <tr>\n",
       "      <th>AtBat</th>\n",
       "      <td>0.000000</td>\n",
       "    </tr>\n",
       "    <tr>\n",
       "      <th>Hits</th>\n",
       "      <td>79.748085</td>\n",
       "    </tr>\n",
       "    <tr>\n",
       "      <th>HmRun</th>\n",
       "      <td>0.000000</td>\n",
       "    </tr>\n",
       "    <tr>\n",
       "      <th>Runs</th>\n",
       "      <td>0.000000</td>\n",
       "    </tr>\n",
       "    <tr>\n",
       "      <th>RBI</th>\n",
       "      <td>0.000000</td>\n",
       "    </tr>\n",
       "    <tr>\n",
       "      <th>Walks</th>\n",
       "      <td>45.156924</td>\n",
       "    </tr>\n",
       "    <tr>\n",
       "      <th>Years</th>\n",
       "      <td>0.000000</td>\n",
       "    </tr>\n",
       "    <tr>\n",
       "      <th>CAtBat</th>\n",
       "      <td>0.000000</td>\n",
       "    </tr>\n",
       "    <tr>\n",
       "      <th>CHits</th>\n",
       "      <td>0.000000</td>\n",
       "    </tr>\n",
       "    <tr>\n",
       "      <th>CHmRun</th>\n",
       "      <td>0.000000</td>\n",
       "    </tr>\n",
       "    <tr>\n",
       "      <th>CRuns</th>\n",
       "      <td>64.259036</td>\n",
       "    </tr>\n",
       "    <tr>\n",
       "      <th>CRBI</th>\n",
       "      <td>128.692010</td>\n",
       "    </tr>\n",
       "    <tr>\n",
       "      <th>CWalks</th>\n",
       "      <td>0.000000</td>\n",
       "    </tr>\n",
       "    <tr>\n",
       "      <th>PutOuts</th>\n",
       "      <td>53.368794</td>\n",
       "    </tr>\n",
       "    <tr>\n",
       "      <th>Assists</th>\n",
       "      <td>-0.000000</td>\n",
       "    </tr>\n",
       "    <tr>\n",
       "      <th>Errors</th>\n",
       "      <td>-0.000000</td>\n",
       "    </tr>\n",
       "    <tr>\n",
       "      <th>League_N</th>\n",
       "      <td>0.000000</td>\n",
       "    </tr>\n",
       "    <tr>\n",
       "      <th>Division_W</th>\n",
       "      <td>-41.397589</td>\n",
       "    </tr>\n",
       "    <tr>\n",
       "      <th>NewLeague_N</th>\n",
       "      <td>0.000000</td>\n",
       "    </tr>\n",
       "  </tbody>\n",
       "</table>\n",
       "</div>"
      ],
      "text/plain": [
       "             lasso_coeff\n",
       "AtBat           0.000000\n",
       "Hits           79.748085\n",
       "HmRun           0.000000\n",
       "Runs            0.000000\n",
       "RBI             0.000000\n",
       "Walks          45.156924\n",
       "Years           0.000000\n",
       "CAtBat          0.000000\n",
       "CHits           0.000000\n",
       "CHmRun          0.000000\n",
       "CRuns          64.259036\n",
       "CRBI          128.692010\n",
       "CWalks          0.000000\n",
       "PutOuts        53.368794\n",
       "Assists        -0.000000\n",
       "Errors         -0.000000\n",
       "League_N        0.000000\n",
       "Division_W    -41.397589\n",
       "NewLeague_N     0.000000"
      ]
     },
     "execution_count": 116,
     "metadata": {},
     "output_type": "execute_result"
    }
   ],
   "source": [
    "lasso4.fit(X_scaled, y)\n",
    "df5 = pd.DataFrame(lasso4.coef_, index=X.columns, \n",
    "                   columns = ['lasso_coeff'])\n",
    "df5"
   ]
  },
  {
   "cell_type": "code",
   "execution_count": 117,
   "metadata": {
    "scrolled": false
   },
   "outputs": [],
   "source": [
    "# predictors in lasso simplified model are"
   ]
  },
  {
   "cell_type": "code",
   "execution_count": 118,
   "metadata": {
    "scrolled": false
   },
   "outputs": [
    {
     "data": {
      "text/html": [
       "<div>\n",
       "<style scoped>\n",
       "    .dataframe tbody tr th:only-of-type {\n",
       "        vertical-align: middle;\n",
       "    }\n",
       "\n",
       "    .dataframe tbody tr th {\n",
       "        vertical-align: top;\n",
       "    }\n",
       "\n",
       "    .dataframe thead th {\n",
       "        text-align: right;\n",
       "    }\n",
       "</style>\n",
       "<table border=\"1\" class=\"dataframe\">\n",
       "  <thead>\n",
       "    <tr style=\"text-align: right;\">\n",
       "      <th></th>\n",
       "      <th>lasso_coeff</th>\n",
       "    </tr>\n",
       "  </thead>\n",
       "  <tbody>\n",
       "    <tr>\n",
       "      <th>Hits</th>\n",
       "      <td>79.748085</td>\n",
       "    </tr>\n",
       "    <tr>\n",
       "      <th>Walks</th>\n",
       "      <td>45.156924</td>\n",
       "    </tr>\n",
       "    <tr>\n",
       "      <th>CRuns</th>\n",
       "      <td>64.259036</td>\n",
       "    </tr>\n",
       "    <tr>\n",
       "      <th>CRBI</th>\n",
       "      <td>128.692010</td>\n",
       "    </tr>\n",
       "    <tr>\n",
       "      <th>PutOuts</th>\n",
       "      <td>53.368794</td>\n",
       "    </tr>\n",
       "    <tr>\n",
       "      <th>Division_W</th>\n",
       "      <td>-41.397589</td>\n",
       "    </tr>\n",
       "  </tbody>\n",
       "</table>\n",
       "</div>"
      ],
      "text/plain": [
       "            lasso_coeff\n",
       "Hits          79.748085\n",
       "Walks         45.156924\n",
       "CRuns         64.259036\n",
       "CRBI         128.692010\n",
       "PutOuts       53.368794\n",
       "Division_W   -41.397589"
      ]
     },
     "execution_count": 118,
     "metadata": {},
     "output_type": "execute_result"
    }
   ],
   "source": [
    "df5[df5.lasso_coeff != 0]"
   ]
  },
  {
   "cell_type": "markdown",
   "metadata": {},
   "source": [
    "### predict salary of first player in test set"
   ]
  },
  {
   "cell_type": "code",
   "execution_count": 121,
   "metadata": {},
   "outputs": [
    {
     "data": {
      "text/plain": [
       "array([[1.92664997, 1.68034262, 1.62858346, 1.42275086, 1.97065345,\n",
       "        1.26186053, 1.04703683, 0.71285128, 0.69046731, 0.82370467,\n",
       "        0.64704031, 0.79362385, 0.55604986, 2.23764494, 0.40217563,\n",
       "        0.78621312, 0.        , 2.00005827, 0.        ]])"
      ]
     },
     "execution_count": 121,
     "metadata": {},
     "output_type": "execute_result"
    }
   ],
   "source": [
    "newval = X_test_scaled[:1]\n",
    "newval"
   ]
  },
  {
   "cell_type": "code",
   "execution_count": 122,
   "metadata": {},
   "outputs": [
    {
     "data": {
      "text/plain": [
       "array([415.36933707])"
      ]
     },
     "execution_count": 122,
     "metadata": {},
     "output_type": "execute_result"
    }
   ],
   "source": [
    "df3 = lasso4.predict(newval)\n",
    "df3"
   ]
  },
  {
   "cell_type": "code",
   "execution_count": 98,
   "metadata": {},
   "outputs": [],
   "source": [
    "# predicted salary is 447,936 dollars"
   ]
  },
  {
   "cell_type": "code",
   "execution_count": null,
   "metadata": {
    "scrolled": false
   },
   "outputs": [],
   "source": []
  }
 ],
 "metadata": {
  "anaconda-cloud": {},
  "kernelspec": {
   "display_name": "Python 3",
   "language": "python",
   "name": "python3"
  },
  "language_info": {
   "codemirror_mode": {
    "name": "ipython",
    "version": 3
   },
   "file_extension": ".py",
   "mimetype": "text/x-python",
   "name": "python",
   "nbconvert_exporter": "python",
   "pygments_lexer": "ipython3",
   "version": "3.7.4"
  }
 },
 "nbformat": 4,
 "nbformat_minor": 1
}
