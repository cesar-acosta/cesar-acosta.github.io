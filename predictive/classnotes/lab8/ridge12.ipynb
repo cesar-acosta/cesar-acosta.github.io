{
 "cells": [
  {
   "cell_type": "markdown",
   "metadata": {},
   "source": [
    "# Regression models with Regularization"
   ]
  },
  {
   "cell_type": "code",
   "execution_count": 159,
   "metadata": {
    "scrolled": false
   },
   "outputs": [
    {
     "data": {
      "text/plain": [
       "'1.3.0'"
      ]
     },
     "execution_count": 159,
     "metadata": {},
     "output_type": "execute_result"
    }
   ],
   "source": [
    "from sklearn import __version__\n",
    "__version__"
   ]
  },
  {
   "cell_type": "code",
   "execution_count": 160,
   "metadata": {},
   "outputs": [],
   "source": [
    "import numpy as np\n",
    "import pandas as pd\n",
    "import matplotlib.pyplot as plt"
   ]
  },
  {
   "cell_type": "code",
   "execution_count": 161,
   "metadata": {},
   "outputs": [],
   "source": [
    "# for holdout cv\n",
    "from sklearn.model_selection import train_test_split"
   ]
  },
  {
   "cell_type": "code",
   "execution_count": 162,
   "metadata": {
    "scrolled": false
   },
   "outputs": [],
   "source": [
    "# for K-fold cv\n",
    "from sklearn.model_selection import GridSearchCV\n",
    "from sklearn.pipeline import Pipeline"
   ]
  },
  {
   "cell_type": "code",
   "execution_count": 163,
   "metadata": {},
   "outputs": [],
   "source": [
    "from sklearn.preprocessing import StandardScaler\n",
    "from sklearn.preprocessing import MinMaxScaler\n",
    "from sklearn.metrics import mean_squared_error"
   ]
  },
  {
   "cell_type": "code",
   "execution_count": 164,
   "metadata": {},
   "outputs": [],
   "source": [
    "from sklearn.linear_model import Ridge, Lasso"
   ]
  },
  {
   "cell_type": "code",
   "execution_count": 165,
   "metadata": {
    "scrolled": false
   },
   "outputs": [
    {
     "data": {
      "text/plain": [
       "(322, 20)"
      ]
     },
     "execution_count": 165,
     "metadata": {},
     "output_type": "execute_result"
    }
   ],
   "source": [
    "df = pd.read_csv('Hitters.csv')\n",
    "df.shape"
   ]
  },
  {
   "cell_type": "code",
   "execution_count": 166,
   "metadata": {
    "scrolled": false
   },
   "outputs": [
    {
     "data": {
      "text/html": [
       "<div>\n",
       "<style scoped>\n",
       "    .dataframe tbody tr th:only-of-type {\n",
       "        vertical-align: middle;\n",
       "    }\n",
       "\n",
       "    .dataframe tbody tr th {\n",
       "        vertical-align: top;\n",
       "    }\n",
       "\n",
       "    .dataframe thead th {\n",
       "        text-align: right;\n",
       "    }\n",
       "</style>\n",
       "<table border=\"1\" class=\"dataframe\">\n",
       "  <thead>\n",
       "    <tr style=\"text-align: right;\">\n",
       "      <th></th>\n",
       "      <th>CRuns</th>\n",
       "      <th>CRBI</th>\n",
       "      <th>CWalks</th>\n",
       "      <th>League</th>\n",
       "      <th>Division</th>\n",
       "      <th>PutOuts</th>\n",
       "      <th>Assists</th>\n",
       "      <th>Errors</th>\n",
       "      <th>Salary</th>\n",
       "      <th>NewLeague</th>\n",
       "    </tr>\n",
       "  </thead>\n",
       "  <tbody>\n",
       "    <tr>\n",
       "      <th>0</th>\n",
       "      <td>30</td>\n",
       "      <td>29</td>\n",
       "      <td>14</td>\n",
       "      <td>A</td>\n",
       "      <td>E</td>\n",
       "      <td>446</td>\n",
       "      <td>33</td>\n",
       "      <td>20</td>\n",
       "      <td>NaN</td>\n",
       "      <td>A</td>\n",
       "    </tr>\n",
       "    <tr>\n",
       "      <th>1</th>\n",
       "      <td>321</td>\n",
       "      <td>414</td>\n",
       "      <td>375</td>\n",
       "      <td>N</td>\n",
       "      <td>W</td>\n",
       "      <td>632</td>\n",
       "      <td>43</td>\n",
       "      <td>10</td>\n",
       "      <td>475.0</td>\n",
       "      <td>N</td>\n",
       "    </tr>\n",
       "    <tr>\n",
       "      <th>2</th>\n",
       "      <td>224</td>\n",
       "      <td>266</td>\n",
       "      <td>263</td>\n",
       "      <td>A</td>\n",
       "      <td>W</td>\n",
       "      <td>880</td>\n",
       "      <td>82</td>\n",
       "      <td>14</td>\n",
       "      <td>480.0</td>\n",
       "      <td>A</td>\n",
       "    </tr>\n",
       "    <tr>\n",
       "      <th>3</th>\n",
       "      <td>828</td>\n",
       "      <td>838</td>\n",
       "      <td>354</td>\n",
       "      <td>N</td>\n",
       "      <td>E</td>\n",
       "      <td>200</td>\n",
       "      <td>11</td>\n",
       "      <td>3</td>\n",
       "      <td>500.0</td>\n",
       "      <td>N</td>\n",
       "    </tr>\n",
       "    <tr>\n",
       "      <th>4</th>\n",
       "      <td>48</td>\n",
       "      <td>46</td>\n",
       "      <td>33</td>\n",
       "      <td>N</td>\n",
       "      <td>E</td>\n",
       "      <td>805</td>\n",
       "      <td>40</td>\n",
       "      <td>4</td>\n",
       "      <td>91.5</td>\n",
       "      <td>N</td>\n",
       "    </tr>\n",
       "  </tbody>\n",
       "</table>\n",
       "</div>"
      ],
      "text/plain": [
       "   CRuns  CRBI  CWalks League Division  PutOuts  Assists  Errors  Salary  \\\n",
       "0     30    29      14      A        E      446       33      20     NaN   \n",
       "1    321   414     375      N        W      632       43      10   475.0   \n",
       "2    224   266     263      A        W      880       82      14   480.0   \n",
       "3    828   838     354      N        E      200       11       3   500.0   \n",
       "4     48    46      33      N        E      805       40       4    91.5   \n",
       "\n",
       "  NewLeague  \n",
       "0         A  \n",
       "1         N  \n",
       "2         A  \n",
       "3         N  \n",
       "4         N  "
      ]
     },
     "execution_count": 166,
     "metadata": {},
     "output_type": "execute_result"
    }
   ],
   "source": [
    "df.iloc[:5,-10:]"
   ]
  },
  {
   "cell_type": "code",
   "execution_count": 167,
   "metadata": {
    "scrolled": false
   },
   "outputs": [],
   "source": [
    "# drop NAs"
   ]
  },
  {
   "cell_type": "code",
   "execution_count": 168,
   "metadata": {
    "scrolled": false
   },
   "outputs": [
    {
     "data": {
      "text/plain": [
       "(263, 20)"
      ]
     },
     "execution_count": 168,
     "metadata": {},
     "output_type": "execute_result"
    }
   ],
   "source": [
    "d0 = df.dropna()\n",
    "d0.shape"
   ]
  },
  {
   "cell_type": "code",
   "execution_count": 169,
   "metadata": {},
   "outputs": [],
   "source": [
    "# Reserve 1st row for prediction\n",
    "#d1 = d0[:1].copy()\n",
    "#d1"
   ]
  },
  {
   "cell_type": "code",
   "execution_count": 170,
   "metadata": {},
   "outputs": [],
   "source": [
    "#d0 = d0[1:]\n",
    "#d0.shape"
   ]
  },
  {
   "cell_type": "code",
   "execution_count": 171,
   "metadata": {
    "scrolled": false
   },
   "outputs": [],
   "source": [
    "y = d0.Salary\n",
    "x0 = d0.drop(['Salary'],axis=1)"
   ]
  },
  {
   "cell_type": "code",
   "execution_count": 172,
   "metadata": {
    "scrolled": false
   },
   "outputs": [
    {
     "data": {
      "text/plain": [
       "AtBat         int64\n",
       "Hits          int64\n",
       "HmRun         int64\n",
       "Runs          int64\n",
       "RBI           int64\n",
       "Walks         int64\n",
       "Years         int64\n",
       "CAtBat        int64\n",
       "CHits         int64\n",
       "CHmRun        int64\n",
       "CRuns         int64\n",
       "CRBI          int64\n",
       "CWalks        int64\n",
       "League       object\n",
       "Division     object\n",
       "PutOuts       int64\n",
       "Assists       int64\n",
       "Errors        int64\n",
       "NewLeague    object\n",
       "dtype: object"
      ]
     },
     "execution_count": 172,
     "metadata": {},
     "output_type": "execute_result"
    }
   ],
   "source": [
    "x0.dtypes"
   ]
  },
  {
   "cell_type": "code",
   "execution_count": 173,
   "metadata": {
    "scrolled": false
   },
   "outputs": [],
   "source": [
    "# there are 3 categorical columns"
   ]
  },
  {
   "cell_type": "code",
   "execution_count": 174,
   "metadata": {
    "scrolled": false
   },
   "outputs": [
    {
     "data": {
      "text/html": [
       "<div>\n",
       "<style scoped>\n",
       "    .dataframe tbody tr th:only-of-type {\n",
       "        vertical-align: middle;\n",
       "    }\n",
       "\n",
       "    .dataframe tbody tr th {\n",
       "        vertical-align: top;\n",
       "    }\n",
       "\n",
       "    .dataframe thead th {\n",
       "        text-align: right;\n",
       "    }\n",
       "</style>\n",
       "<table border=\"1\" class=\"dataframe\">\n",
       "  <thead>\n",
       "    <tr style=\"text-align: right;\">\n",
       "      <th></th>\n",
       "      <th>CHmRun</th>\n",
       "      <th>CRuns</th>\n",
       "      <th>CRBI</th>\n",
       "      <th>CWalks</th>\n",
       "      <th>PutOuts</th>\n",
       "      <th>Assists</th>\n",
       "      <th>Errors</th>\n",
       "      <th>League_N</th>\n",
       "      <th>Division_W</th>\n",
       "      <th>NewLeague_N</th>\n",
       "    </tr>\n",
       "  </thead>\n",
       "  <tbody>\n",
       "    <tr>\n",
       "      <th>1</th>\n",
       "      <td>69</td>\n",
       "      <td>321</td>\n",
       "      <td>414</td>\n",
       "      <td>375</td>\n",
       "      <td>632</td>\n",
       "      <td>43</td>\n",
       "      <td>10</td>\n",
       "      <td>1</td>\n",
       "      <td>1</td>\n",
       "      <td>1</td>\n",
       "    </tr>\n",
       "    <tr>\n",
       "      <th>2</th>\n",
       "      <td>63</td>\n",
       "      <td>224</td>\n",
       "      <td>266</td>\n",
       "      <td>263</td>\n",
       "      <td>880</td>\n",
       "      <td>82</td>\n",
       "      <td>14</td>\n",
       "      <td>0</td>\n",
       "      <td>1</td>\n",
       "      <td>0</td>\n",
       "    </tr>\n",
       "    <tr>\n",
       "      <th>3</th>\n",
       "      <td>225</td>\n",
       "      <td>828</td>\n",
       "      <td>838</td>\n",
       "      <td>354</td>\n",
       "      <td>200</td>\n",
       "      <td>11</td>\n",
       "      <td>3</td>\n",
       "      <td>1</td>\n",
       "      <td>0</td>\n",
       "      <td>1</td>\n",
       "    </tr>\n",
       "    <tr>\n",
       "      <th>4</th>\n",
       "      <td>12</td>\n",
       "      <td>48</td>\n",
       "      <td>46</td>\n",
       "      <td>33</td>\n",
       "      <td>805</td>\n",
       "      <td>40</td>\n",
       "      <td>4</td>\n",
       "      <td>1</td>\n",
       "      <td>0</td>\n",
       "      <td>1</td>\n",
       "    </tr>\n",
       "    <tr>\n",
       "      <th>5</th>\n",
       "      <td>19</td>\n",
       "      <td>501</td>\n",
       "      <td>336</td>\n",
       "      <td>194</td>\n",
       "      <td>282</td>\n",
       "      <td>421</td>\n",
       "      <td>25</td>\n",
       "      <td>0</td>\n",
       "      <td>1</td>\n",
       "      <td>0</td>\n",
       "    </tr>\n",
       "  </tbody>\n",
       "</table>\n",
       "</div>"
      ],
      "text/plain": [
       "   CHmRun  CRuns  CRBI  CWalks  PutOuts  Assists  Errors  League_N  \\\n",
       "1      69    321   414     375      632       43      10         1   \n",
       "2      63    224   266     263      880       82      14         0   \n",
       "3     225    828   838     354      200       11       3         1   \n",
       "4      12     48    46      33      805       40       4         1   \n",
       "5      19    501   336     194      282      421      25         0   \n",
       "\n",
       "   Division_W  NewLeague_N  \n",
       "1           1            1  \n",
       "2           1            0  \n",
       "3           0            1  \n",
       "4           0            1  \n",
       "5           1            0  "
      ]
     },
     "execution_count": 174,
     "metadata": {},
     "output_type": "execute_result"
    }
   ],
   "source": [
    "x = pd.get_dummies(x0,\n",
    "                   columns = ['League','Division','NewLeague'],\n",
    "                   drop_first=True)\n",
    "x.iloc[:5,-10:]"
   ]
  },
  {
   "cell_type": "code",
   "execution_count": 175,
   "metadata": {
    "scrolled": false
   },
   "outputs": [],
   "source": [
    "X = x.astype('float64')"
   ]
  },
  {
   "cell_type": "markdown",
   "metadata": {},
   "source": [
    "## Ridge Regression"
   ]
  },
  {
   "cell_type": "code",
   "execution_count": 176,
   "metadata": {
    "scrolled": false
   },
   "outputs": [],
   "source": [
    "# Create a 1D array of 100 alpha values \n",
    "# ranging from very small to very large"
   ]
  },
  {
   "cell_type": "code",
   "execution_count": 177,
   "metadata": {
    "scrolled": false
   },
   "outputs": [],
   "source": [
    "alphas = 10**np.linspace(10,-2,100)"
   ]
  },
  {
   "cell_type": "code",
   "execution_count": 178,
   "metadata": {
    "scrolled": false
   },
   "outputs": [
    {
     "data": {
      "text/plain": [
       "(100,)"
      ]
     },
     "execution_count": 178,
     "metadata": {},
     "output_type": "execute_result"
    }
   ],
   "source": [
    "alphas.shape"
   ]
  },
  {
   "cell_type": "code",
   "execution_count": 179,
   "metadata": {
    "scrolled": false
   },
   "outputs": [
    {
     "data": {
      "text/plain": [
       "0.01"
      ]
     },
     "execution_count": 179,
     "metadata": {},
     "output_type": "execute_result"
    }
   ],
   "source": [
    "# 10^(-2)\n",
    "alphas.min()"
   ]
  },
  {
   "cell_type": "code",
   "execution_count": 180,
   "metadata": {
    "scrolled": false
   },
   "outputs": [
    {
     "data": {
      "text/plain": [
       "10000000000.0"
      ]
     },
     "execution_count": 180,
     "metadata": {},
     "output_type": "execute_result"
    }
   ],
   "source": [
    "# 10^10\n",
    "alphas.max()"
   ]
  },
  {
   "cell_type": "code",
   "execution_count": 181,
   "metadata": {
    "scrolled": false
   },
   "outputs": [],
   "source": [
    "# fit 100 Ridge regression models, \n",
    "# one for each alpha (scaling all cols)"
   ]
  },
  {
   "cell_type": "code",
   "execution_count": 182,
   "metadata": {},
   "outputs": [],
   "source": [
    "scaler = StandardScaler()\n",
    "scaler.fit(X)\n",
    "X_scaled = scaler.transform(X)"
   ]
  },
  {
   "cell_type": "code",
   "execution_count": 183,
   "metadata": {},
   "outputs": [],
   "source": [
    "model = Ridge()"
   ]
  },
  {
   "cell_type": "code",
   "execution_count": 184,
   "metadata": {
    "scrolled": false
   },
   "outputs": [],
   "source": [
    "coefs = []\n",
    "for a in alphas:\n",
    "    model.set_params(alpha = a)\n",
    "    model.fit(X_scaled, y)\n",
    "    coefs.append(model.coef_)"
   ]
  },
  {
   "cell_type": "code",
   "execution_count": 185,
   "metadata": {
    "scrolled": false
   },
   "outputs": [
    {
     "data": {
      "text/html": [
       "<div>\n",
       "<style scoped>\n",
       "    .dataframe tbody tr th:only-of-type {\n",
       "        vertical-align: middle;\n",
       "    }\n",
       "\n",
       "    .dataframe tbody tr th {\n",
       "        vertical-align: top;\n",
       "    }\n",
       "\n",
       "    .dataframe thead th {\n",
       "        text-align: right;\n",
       "    }\n",
       "</style>\n",
       "<table border=\"1\" class=\"dataframe\">\n",
       "  <thead>\n",
       "    <tr style=\"text-align: right;\">\n",
       "      <th></th>\n",
       "      <th>0</th>\n",
       "    </tr>\n",
       "  </thead>\n",
       "  <tbody>\n",
       "    <tr>\n",
       "      <th>AtBat</th>\n",
       "      <td>-290.918728</td>\n",
       "    </tr>\n",
       "    <tr>\n",
       "      <th>Hits</th>\n",
       "      <td>337.229910</td>\n",
       "    </tr>\n",
       "    <tr>\n",
       "      <th>HmRun</th>\n",
       "      <td>37.495419</td>\n",
       "    </tr>\n",
       "    <tr>\n",
       "      <th>Runs</th>\n",
       "      <td>-60.017790</td>\n",
       "    </tr>\n",
       "    <tr>\n",
       "      <th>RBI</th>\n",
       "      <td>-26.665375</td>\n",
       "    </tr>\n",
       "    <tr>\n",
       "      <th>Walks</th>\n",
       "      <td>134.928045</td>\n",
       "    </tr>\n",
       "    <tr>\n",
       "      <th>Years</th>\n",
       "      <td>-17.051824</td>\n",
       "    </tr>\n",
       "    <tr>\n",
       "      <th>CAtBat</th>\n",
       "      <td>-388.777849</td>\n",
       "    </tr>\n",
       "    <tr>\n",
       "      <th>CHits</th>\n",
       "      <td>88.580588</td>\n",
       "    </tr>\n",
       "    <tr>\n",
       "      <th>CHmRun</th>\n",
       "      <td>-12.898994</td>\n",
       "    </tr>\n",
       "    <tr>\n",
       "      <th>CRuns</th>\n",
       "      <td>477.601029</td>\n",
       "    </tr>\n",
       "    <tr>\n",
       "      <th>CRBI</th>\n",
       "      <td>258.387712</td>\n",
       "    </tr>\n",
       "    <tr>\n",
       "      <th>CWalks</th>\n",
       "      <td>-213.378990</td>\n",
       "    </tr>\n",
       "    <tr>\n",
       "      <th>PutOuts</th>\n",
       "      <td>78.761482</td>\n",
       "    </tr>\n",
       "    <tr>\n",
       "      <th>Assists</th>\n",
       "      <td>53.656717</td>\n",
       "    </tr>\n",
       "    <tr>\n",
       "      <th>Errors</th>\n",
       "      <td>-22.192653</td>\n",
       "    </tr>\n",
       "    <tr>\n",
       "      <th>League_N</th>\n",
       "      <td>31.254601</td>\n",
       "    </tr>\n",
       "    <tr>\n",
       "      <th>Division_W</th>\n",
       "      <td>-58.443824</td>\n",
       "    </tr>\n",
       "    <tr>\n",
       "      <th>NewLeague_N</th>\n",
       "      <td>-12.384974</td>\n",
       "    </tr>\n",
       "  </tbody>\n",
       "</table>\n",
       "</div>"
      ],
      "text/plain": [
       "                      0\n",
       "AtBat       -290.918728\n",
       "Hits         337.229910\n",
       "HmRun         37.495419\n",
       "Runs         -60.017790\n",
       "RBI          -26.665375\n",
       "Walks        134.928045\n",
       "Years        -17.051824\n",
       "CAtBat      -388.777849\n",
       "CHits         88.580588\n",
       "CHmRun       -12.898994\n",
       "CRuns        477.601029\n",
       "CRBI         258.387712\n",
       "CWalks      -213.378990\n",
       "PutOuts       78.761482\n",
       "Assists       53.656717\n",
       "Errors       -22.192653\n",
       "League_N      31.254601\n",
       "Division_W   -58.443824\n",
       "NewLeague_N  -12.384974"
      ]
     },
     "execution_count": 185,
     "metadata": {},
     "output_type": "execute_result"
    }
   ],
   "source": [
    "# regression coefficients of the last model\n",
    "pd.DataFrame(coefs[99], index = X.columns)"
   ]
  },
  {
   "cell_type": "code",
   "execution_count": 186,
   "metadata": {
    "scrolled": false
   },
   "outputs": [],
   "source": [
    "# Store regression coeffs in a DataFrame"
   ]
  },
  {
   "cell_type": "code",
   "execution_count": 187,
   "metadata": {
    "scrolled": false
   },
   "outputs": [
    {
     "data": {
      "text/html": [
       "<div>\n",
       "<style scoped>\n",
       "    .dataframe tbody tr th:only-of-type {\n",
       "        vertical-align: middle;\n",
       "    }\n",
       "\n",
       "    .dataframe tbody tr th {\n",
       "        vertical-align: top;\n",
       "    }\n",
       "\n",
       "    .dataframe thead th {\n",
       "        text-align: right;\n",
       "    }\n",
       "</style>\n",
       "<table border=\"1\" class=\"dataframe\">\n",
       "  <thead>\n",
       "    <tr style=\"text-align: right;\">\n",
       "      <th></th>\n",
       "      <th>AtBat</th>\n",
       "      <th>Hits</th>\n",
       "      <th>HmRun</th>\n",
       "      <th>Runs</th>\n",
       "      <th>RBI</th>\n",
       "      <th>Walks</th>\n",
       "      <th>Years</th>\n",
       "      <th>CAtBat</th>\n",
       "      <th>CHits</th>\n",
       "      <th>CHmRun</th>\n",
       "      <th>CRuns</th>\n",
       "      <th>CRBI</th>\n",
       "      <th>CWalks</th>\n",
       "      <th>PutOuts</th>\n",
       "      <th>Assists</th>\n",
       "      <th>Errors</th>\n",
       "      <th>League_N</th>\n",
       "      <th>Division_W</th>\n",
       "      <th>NewLeague_N</th>\n",
       "    </tr>\n",
       "    <tr>\n",
       "      <th>alpha</th>\n",
       "      <th></th>\n",
       "      <th></th>\n",
       "      <th></th>\n",
       "      <th></th>\n",
       "      <th></th>\n",
       "      <th></th>\n",
       "      <th></th>\n",
       "      <th></th>\n",
       "      <th></th>\n",
       "      <th></th>\n",
       "      <th></th>\n",
       "      <th></th>\n",
       "      <th></th>\n",
       "      <th></th>\n",
       "      <th></th>\n",
       "      <th></th>\n",
       "      <th></th>\n",
       "      <th></th>\n",
       "      <th></th>\n",
       "    </tr>\n",
       "  </thead>\n",
       "  <tbody>\n",
       "    <tr>\n",
       "      <th>1.000000e+10</th>\n",
       "      <td>0.000005</td>\n",
       "      <td>0.000005</td>\n",
       "      <td>0.000004</td>\n",
       "      <td>0.000005</td>\n",
       "      <td>0.000005</td>\n",
       "      <td>0.000005</td>\n",
       "      <td>0.000005</td>\n",
       "      <td>0.000006</td>\n",
       "      <td>0.000007</td>\n",
       "      <td>0.000006</td>\n",
       "      <td>0.000007</td>\n",
       "      <td>0.000007</td>\n",
       "      <td>0.000006</td>\n",
       "      <td>0.000004</td>\n",
       "      <td>3.012107e-07</td>\n",
       "      <td>-6.395428e-08</td>\n",
       "      <td>-1.691230e-07</td>\n",
       "      <td>-0.000002</td>\n",
       "      <td>-3.356510e-08</td>\n",
       "    </tr>\n",
       "    <tr>\n",
       "      <th>7.564633e+09</th>\n",
       "      <td>0.000006</td>\n",
       "      <td>0.000007</td>\n",
       "      <td>0.000005</td>\n",
       "      <td>0.000007</td>\n",
       "      <td>0.000007</td>\n",
       "      <td>0.000007</td>\n",
       "      <td>0.000006</td>\n",
       "      <td>0.000008</td>\n",
       "      <td>0.000009</td>\n",
       "      <td>0.000008</td>\n",
       "      <td>0.000009</td>\n",
       "      <td>0.000009</td>\n",
       "      <td>0.000008</td>\n",
       "      <td>0.000005</td>\n",
       "      <td>3.981828e-07</td>\n",
       "      <td>-8.454381e-08</td>\n",
       "      <td>-2.235706e-07</td>\n",
       "      <td>-0.000003</td>\n",
       "      <td>-4.437104e-08</td>\n",
       "    </tr>\n",
       "    <tr>\n",
       "      <th>5.722368e+09</th>\n",
       "      <td>0.000008</td>\n",
       "      <td>0.000009</td>\n",
       "      <td>0.000007</td>\n",
       "      <td>0.000009</td>\n",
       "      <td>0.000009</td>\n",
       "      <td>0.000009</td>\n",
       "      <td>0.000008</td>\n",
       "      <td>0.000011</td>\n",
       "      <td>0.000011</td>\n",
       "      <td>0.000011</td>\n",
       "      <td>0.000012</td>\n",
       "      <td>0.000012</td>\n",
       "      <td>0.000010</td>\n",
       "      <td>0.000006</td>\n",
       "      <td>5.263742e-07</td>\n",
       "      <td>-1.117620e-07</td>\n",
       "      <td>-2.955470e-07</td>\n",
       "      <td>-0.000004</td>\n",
       "      <td>-5.865581e-08</td>\n",
       "    </tr>\n",
       "    <tr>\n",
       "      <th>4.328761e+09</th>\n",
       "      <td>0.000011</td>\n",
       "      <td>0.000012</td>\n",
       "      <td>0.000009</td>\n",
       "      <td>0.000011</td>\n",
       "      <td>0.000012</td>\n",
       "      <td>0.000012</td>\n",
       "      <td>0.000011</td>\n",
       "      <td>0.000014</td>\n",
       "      <td>0.000015</td>\n",
       "      <td>0.000014</td>\n",
       "      <td>0.000015</td>\n",
       "      <td>0.000016</td>\n",
       "      <td>0.000013</td>\n",
       "      <td>0.000008</td>\n",
       "      <td>6.958357e-07</td>\n",
       "      <td>-1.477427e-07</td>\n",
       "      <td>-3.906955e-07</td>\n",
       "      <td>-0.000005</td>\n",
       "      <td>-7.753936e-08</td>\n",
       "    </tr>\n",
       "    <tr>\n",
       "      <th>3.274549e+09</th>\n",
       "      <td>0.000014</td>\n",
       "      <td>0.000016</td>\n",
       "      <td>0.000012</td>\n",
       "      <td>0.000015</td>\n",
       "      <td>0.000016</td>\n",
       "      <td>0.000016</td>\n",
       "      <td>0.000014</td>\n",
       "      <td>0.000019</td>\n",
       "      <td>0.000020</td>\n",
       "      <td>0.000019</td>\n",
       "      <td>0.000020</td>\n",
       "      <td>0.000021</td>\n",
       "      <td>0.000018</td>\n",
       "      <td>0.000011</td>\n",
       "      <td>9.198538e-07</td>\n",
       "      <td>-1.953073e-07</td>\n",
       "      <td>-5.164761e-07</td>\n",
       "      <td>-0.000007</td>\n",
       "      <td>-1.025022e-07</td>\n",
       "    </tr>\n",
       "    <tr>\n",
       "      <th>...</th>\n",
       "      <td>...</td>\n",
       "      <td>...</td>\n",
       "      <td>...</td>\n",
       "      <td>...</td>\n",
       "      <td>...</td>\n",
       "      <td>...</td>\n",
       "      <td>...</td>\n",
       "      <td>...</td>\n",
       "      <td>...</td>\n",
       "      <td>...</td>\n",
       "      <td>...</td>\n",
       "      <td>...</td>\n",
       "      <td>...</td>\n",
       "      <td>...</td>\n",
       "      <td>...</td>\n",
       "      <td>...</td>\n",
       "      <td>...</td>\n",
       "      <td>...</td>\n",
       "      <td>...</td>\n",
       "    </tr>\n",
       "    <tr>\n",
       "      <th>3.053856e-02</th>\n",
       "      <td>-290.565733</td>\n",
       "      <td>336.039547</td>\n",
       "      <td>36.783312</td>\n",
       "      <td>-58.919331</td>\n",
       "      <td>-26.010245</td>\n",
       "      <td>134.636895</td>\n",
       "      <td>-17.778470</td>\n",
       "      <td>-384.094384</td>\n",
       "      <td>92.105310</td>\n",
       "      <td>-10.391640</td>\n",
       "      <td>471.394628</td>\n",
       "      <td>253.872789</td>\n",
       "      <td>-212.370325</td>\n",
       "      <td>78.762198</td>\n",
       "      <td>5.350006e+01</td>\n",
       "      <td>-2.225474e+01</td>\n",
       "      <td>3.126419e+01</td>\n",
       "      <td>-58.503548</td>\n",
       "      <td>-1.245482e+01</td>\n",
       "    </tr>\n",
       "    <tr>\n",
       "      <th>2.310130e-02</th>\n",
       "      <td>-290.692507</td>\n",
       "      <td>336.464367</td>\n",
       "      <td>37.037600</td>\n",
       "      <td>-59.311089</td>\n",
       "      <td>-26.244216</td>\n",
       "      <td>134.741106</td>\n",
       "      <td>-17.516885</td>\n",
       "      <td>-385.794898</td>\n",
       "      <td>90.881489</td>\n",
       "      <td>-11.280807</td>\n",
       "      <td>473.604369</td>\n",
       "      <td>255.476124</td>\n",
       "      <td>-212.728953</td>\n",
       "      <td>78.761896</td>\n",
       "      <td>5.355691e+01</td>\n",
       "      <td>-2.223273e+01</td>\n",
       "      <td>3.126106e+01</td>\n",
       "      <td>-58.482132</td>\n",
       "      <td>-1.243018e+01</td>\n",
       "    </tr>\n",
       "    <tr>\n",
       "      <th>1.747528e-02</th>\n",
       "      <td>-290.789150</td>\n",
       "      <td>336.790313</td>\n",
       "      <td>37.232619</td>\n",
       "      <td>-59.611894</td>\n",
       "      <td>-26.423634</td>\n",
       "      <td>134.820836</td>\n",
       "      <td>-17.317830</td>\n",
       "      <td>-387.078202</td>\n",
       "      <td>89.916997</td>\n",
       "      <td>-11.967363</td>\n",
       "      <td>475.303911</td>\n",
       "      <td>256.712435</td>\n",
       "      <td>-213.005133</td>\n",
       "      <td>78.761698</td>\n",
       "      <td>5.359983e+01</td>\n",
       "      <td>-2.221573e+01</td>\n",
       "      <td>3.125844e+01</td>\n",
       "      <td>-58.465774</td>\n",
       "      <td>-1.241105e+01</td>\n",
       "    </tr>\n",
       "    <tr>\n",
       "      <th>1.321941e-02</th>\n",
       "      <td>-290.862746</td>\n",
       "      <td>337.039648</td>\n",
       "      <td>37.381713</td>\n",
       "      <td>-59.842092</td>\n",
       "      <td>-26.560787</td>\n",
       "      <td>134.881689</td>\n",
       "      <td>-17.166596</td>\n",
       "      <td>-388.046721</td>\n",
       "      <td>89.164057</td>\n",
       "      <td>-12.494991</td>\n",
       "      <td>476.606154</td>\n",
       "      <td>257.661560</td>\n",
       "      <td>-213.216987</td>\n",
       "      <td>78.761568</td>\n",
       "      <td>5.363224e+01</td>\n",
       "      <td>-2.220266e+01</td>\n",
       "      <td>3.125631e+01</td>\n",
       "      <td>-58.453308</td>\n",
       "      <td>-1.239630e+01</td>\n",
       "    </tr>\n",
       "    <tr>\n",
       "      <th>1.000000e-02</th>\n",
       "      <td>-290.918728</td>\n",
       "      <td>337.229910</td>\n",
       "      <td>37.495419</td>\n",
       "      <td>-60.017790</td>\n",
       "      <td>-26.665375</td>\n",
       "      <td>134.928045</td>\n",
       "      <td>-17.051824</td>\n",
       "      <td>-388.777849</td>\n",
       "      <td>88.580588</td>\n",
       "      <td>-12.898994</td>\n",
       "      <td>477.601029</td>\n",
       "      <td>258.387712</td>\n",
       "      <td>-213.378990</td>\n",
       "      <td>78.761482</td>\n",
       "      <td>5.365672e+01</td>\n",
       "      <td>-2.219265e+01</td>\n",
       "      <td>3.125460e+01</td>\n",
       "      <td>-58.443824</td>\n",
       "      <td>-1.238497e+01</td>\n",
       "    </tr>\n",
       "  </tbody>\n",
       "</table>\n",
       "<p>100 rows × 19 columns</p>\n",
       "</div>"
      ],
      "text/plain": [
       "                   AtBat        Hits      HmRun       Runs        RBI  \\\n",
       "alpha                                                                   \n",
       "1.000000e+10    0.000005    0.000005   0.000004   0.000005   0.000005   \n",
       "7.564633e+09    0.000006    0.000007   0.000005   0.000007   0.000007   \n",
       "5.722368e+09    0.000008    0.000009   0.000007   0.000009   0.000009   \n",
       "4.328761e+09    0.000011    0.000012   0.000009   0.000011   0.000012   \n",
       "3.274549e+09    0.000014    0.000016   0.000012   0.000015   0.000016   \n",
       "...                  ...         ...        ...        ...        ...   \n",
       "3.053856e-02 -290.565733  336.039547  36.783312 -58.919331 -26.010245   \n",
       "2.310130e-02 -290.692507  336.464367  37.037600 -59.311089 -26.244216   \n",
       "1.747528e-02 -290.789150  336.790313  37.232619 -59.611894 -26.423634   \n",
       "1.321941e-02 -290.862746  337.039648  37.381713 -59.842092 -26.560787   \n",
       "1.000000e-02 -290.918728  337.229910  37.495419 -60.017790 -26.665375   \n",
       "\n",
       "                   Walks      Years      CAtBat      CHits     CHmRun  \\\n",
       "alpha                                                                   \n",
       "1.000000e+10    0.000005   0.000005    0.000006   0.000007   0.000006   \n",
       "7.564633e+09    0.000007   0.000006    0.000008   0.000009   0.000008   \n",
       "5.722368e+09    0.000009   0.000008    0.000011   0.000011   0.000011   \n",
       "4.328761e+09    0.000012   0.000011    0.000014   0.000015   0.000014   \n",
       "3.274549e+09    0.000016   0.000014    0.000019   0.000020   0.000019   \n",
       "...                  ...        ...         ...        ...        ...   \n",
       "3.053856e-02  134.636895 -17.778470 -384.094384  92.105310 -10.391640   \n",
       "2.310130e-02  134.741106 -17.516885 -385.794898  90.881489 -11.280807   \n",
       "1.747528e-02  134.820836 -17.317830 -387.078202  89.916997 -11.967363   \n",
       "1.321941e-02  134.881689 -17.166596 -388.046721  89.164057 -12.494991   \n",
       "1.000000e-02  134.928045 -17.051824 -388.777849  88.580588 -12.898994   \n",
       "\n",
       "                   CRuns        CRBI      CWalks    PutOuts       Assists  \\\n",
       "alpha                                                                       \n",
       "1.000000e+10    0.000007    0.000007    0.000006   0.000004  3.012107e-07   \n",
       "7.564633e+09    0.000009    0.000009    0.000008   0.000005  3.981828e-07   \n",
       "5.722368e+09    0.000012    0.000012    0.000010   0.000006  5.263742e-07   \n",
       "4.328761e+09    0.000015    0.000016    0.000013   0.000008  6.958357e-07   \n",
       "3.274549e+09    0.000020    0.000021    0.000018   0.000011  9.198538e-07   \n",
       "...                  ...         ...         ...        ...           ...   \n",
       "3.053856e-02  471.394628  253.872789 -212.370325  78.762198  5.350006e+01   \n",
       "2.310130e-02  473.604369  255.476124 -212.728953  78.761896  5.355691e+01   \n",
       "1.747528e-02  475.303911  256.712435 -213.005133  78.761698  5.359983e+01   \n",
       "1.321941e-02  476.606154  257.661560 -213.216987  78.761568  5.363224e+01   \n",
       "1.000000e-02  477.601029  258.387712 -213.378990  78.761482  5.365672e+01   \n",
       "\n",
       "                    Errors      League_N  Division_W   NewLeague_N  \n",
       "alpha                                                               \n",
       "1.000000e+10 -6.395428e-08 -1.691230e-07   -0.000002 -3.356510e-08  \n",
       "7.564633e+09 -8.454381e-08 -2.235706e-07   -0.000003 -4.437104e-08  \n",
       "5.722368e+09 -1.117620e-07 -2.955470e-07   -0.000004 -5.865581e-08  \n",
       "4.328761e+09 -1.477427e-07 -3.906955e-07   -0.000005 -7.753936e-08  \n",
       "3.274549e+09 -1.953073e-07 -5.164761e-07   -0.000007 -1.025022e-07  \n",
       "...                    ...           ...         ...           ...  \n",
       "3.053856e-02 -2.225474e+01  3.126419e+01  -58.503548 -1.245482e+01  \n",
       "2.310130e-02 -2.223273e+01  3.126106e+01  -58.482132 -1.243018e+01  \n",
       "1.747528e-02 -2.221573e+01  3.125844e+01  -58.465774 -1.241105e+01  \n",
       "1.321941e-02 -2.220266e+01  3.125631e+01  -58.453308 -1.239630e+01  \n",
       "1.000000e-02 -2.219265e+01  3.125460e+01  -58.443824 -1.238497e+01  \n",
       "\n",
       "[100 rows x 19 columns]"
      ]
     },
     "execution_count": 187,
     "metadata": {},
     "output_type": "execute_result"
    }
   ],
   "source": [
    "df = pd.DataFrame(coefs)\n",
    "df.columns = x.columns\n",
    "df.index = alphas\n",
    "df.index.name = 'alpha'\n",
    "df"
   ]
  },
  {
   "cell_type": "markdown",
   "metadata": {},
   "source": [
    "Each row has 19 ridge regression coefficients"
   ]
  },
  {
   "cell_type": "code",
   "execution_count": 191,
   "metadata": {
    "scrolled": false
   },
   "outputs": [
    {
     "data": {
      "text/html": [
       "<div>\n",
       "<style scoped>\n",
       "    .dataframe tbody tr th:only-of-type {\n",
       "        vertical-align: middle;\n",
       "    }\n",
       "\n",
       "    .dataframe tbody tr th {\n",
       "        vertical-align: top;\n",
       "    }\n",
       "\n",
       "    .dataframe thead th {\n",
       "        text-align: right;\n",
       "    }\n",
       "</style>\n",
       "<table border=\"1\" class=\"dataframe\">\n",
       "  <thead>\n",
       "    <tr style=\"text-align: right;\">\n",
       "      <th></th>\n",
       "      <th>AtBat</th>\n",
       "      <th>Hits</th>\n",
       "      <th>HmRun</th>\n",
       "      <th>Runs</th>\n",
       "      <th>RBI</th>\n",
       "      <th>Walks</th>\n",
       "      <th>Years</th>\n",
       "      <th>CAtBat</th>\n",
       "      <th>CHits</th>\n",
       "      <th>CHmRun</th>\n",
       "      <th>CRuns</th>\n",
       "      <th>CRBI</th>\n",
       "      <th>CWalks</th>\n",
       "      <th>PutOuts</th>\n",
       "      <th>Assists</th>\n",
       "      <th>Errors</th>\n",
       "      <th>League_N</th>\n",
       "      <th>Division_W</th>\n",
       "      <th>NewLeague_N</th>\n",
       "    </tr>\n",
       "    <tr>\n",
       "      <th>alpha</th>\n",
       "      <th></th>\n",
       "      <th></th>\n",
       "      <th></th>\n",
       "      <th></th>\n",
       "      <th></th>\n",
       "      <th></th>\n",
       "      <th></th>\n",
       "      <th></th>\n",
       "      <th></th>\n",
       "      <th></th>\n",
       "      <th></th>\n",
       "      <th></th>\n",
       "      <th></th>\n",
       "      <th></th>\n",
       "      <th></th>\n",
       "      <th></th>\n",
       "      <th></th>\n",
       "      <th></th>\n",
       "      <th></th>\n",
       "    </tr>\n",
       "  </thead>\n",
       "  <tbody>\n",
       "    <tr>\n",
       "      <th>1.000000e+10</th>\n",
       "      <td>0.000</td>\n",
       "      <td>0.000</td>\n",
       "      <td>0.000</td>\n",
       "      <td>0.000</td>\n",
       "      <td>0.000</td>\n",
       "      <td>0.000</td>\n",
       "      <td>0.000</td>\n",
       "      <td>0.000</td>\n",
       "      <td>0.000</td>\n",
       "      <td>0.000</td>\n",
       "      <td>0.000</td>\n",
       "      <td>0.000</td>\n",
       "      <td>0.000</td>\n",
       "      <td>0.000</td>\n",
       "      <td>0.000</td>\n",
       "      <td>-0.000</td>\n",
       "      <td>-0.000</td>\n",
       "      <td>-0.000</td>\n",
       "      <td>-0.000</td>\n",
       "    </tr>\n",
       "    <tr>\n",
       "      <th>7.564633e+09</th>\n",
       "      <td>0.000</td>\n",
       "      <td>0.000</td>\n",
       "      <td>0.000</td>\n",
       "      <td>0.000</td>\n",
       "      <td>0.000</td>\n",
       "      <td>0.000</td>\n",
       "      <td>0.000</td>\n",
       "      <td>0.000</td>\n",
       "      <td>0.000</td>\n",
       "      <td>0.000</td>\n",
       "      <td>0.000</td>\n",
       "      <td>0.000</td>\n",
       "      <td>0.000</td>\n",
       "      <td>0.000</td>\n",
       "      <td>0.000</td>\n",
       "      <td>-0.000</td>\n",
       "      <td>-0.000</td>\n",
       "      <td>-0.000</td>\n",
       "      <td>-0.000</td>\n",
       "    </tr>\n",
       "    <tr>\n",
       "      <th>5.722368e+09</th>\n",
       "      <td>0.000</td>\n",
       "      <td>0.000</td>\n",
       "      <td>0.000</td>\n",
       "      <td>0.000</td>\n",
       "      <td>0.000</td>\n",
       "      <td>0.000</td>\n",
       "      <td>0.000</td>\n",
       "      <td>0.000</td>\n",
       "      <td>0.000</td>\n",
       "      <td>0.000</td>\n",
       "      <td>0.000</td>\n",
       "      <td>0.000</td>\n",
       "      <td>0.000</td>\n",
       "      <td>0.000</td>\n",
       "      <td>0.000</td>\n",
       "      <td>-0.000</td>\n",
       "      <td>-0.000</td>\n",
       "      <td>-0.000</td>\n",
       "      <td>-0.000</td>\n",
       "    </tr>\n",
       "    <tr>\n",
       "      <th>4.328761e+09</th>\n",
       "      <td>0.000</td>\n",
       "      <td>0.000</td>\n",
       "      <td>0.000</td>\n",
       "      <td>0.000</td>\n",
       "      <td>0.000</td>\n",
       "      <td>0.000</td>\n",
       "      <td>0.000</td>\n",
       "      <td>0.000</td>\n",
       "      <td>0.000</td>\n",
       "      <td>0.000</td>\n",
       "      <td>0.000</td>\n",
       "      <td>0.000</td>\n",
       "      <td>0.000</td>\n",
       "      <td>0.000</td>\n",
       "      <td>0.000</td>\n",
       "      <td>-0.000</td>\n",
       "      <td>-0.000</td>\n",
       "      <td>-0.000</td>\n",
       "      <td>-0.000</td>\n",
       "    </tr>\n",
       "    <tr>\n",
       "      <th>3.274549e+09</th>\n",
       "      <td>0.000</td>\n",
       "      <td>0.000</td>\n",
       "      <td>0.000</td>\n",
       "      <td>0.000</td>\n",
       "      <td>0.000</td>\n",
       "      <td>0.000</td>\n",
       "      <td>0.000</td>\n",
       "      <td>0.000</td>\n",
       "      <td>0.000</td>\n",
       "      <td>0.000</td>\n",
       "      <td>0.000</td>\n",
       "      <td>0.000</td>\n",
       "      <td>0.000</td>\n",
       "      <td>0.000</td>\n",
       "      <td>0.000</td>\n",
       "      <td>-0.000</td>\n",
       "      <td>-0.000</td>\n",
       "      <td>-0.000</td>\n",
       "      <td>-0.000</td>\n",
       "    </tr>\n",
       "    <tr>\n",
       "      <th>...</th>\n",
       "      <td>...</td>\n",
       "      <td>...</td>\n",
       "      <td>...</td>\n",
       "      <td>...</td>\n",
       "      <td>...</td>\n",
       "      <td>...</td>\n",
       "      <td>...</td>\n",
       "      <td>...</td>\n",
       "      <td>...</td>\n",
       "      <td>...</td>\n",
       "      <td>...</td>\n",
       "      <td>...</td>\n",
       "      <td>...</td>\n",
       "      <td>...</td>\n",
       "      <td>...</td>\n",
       "      <td>...</td>\n",
       "      <td>...</td>\n",
       "      <td>...</td>\n",
       "      <td>...</td>\n",
       "    </tr>\n",
       "    <tr>\n",
       "      <th>3.053856e-02</th>\n",
       "      <td>-290.566</td>\n",
       "      <td>336.040</td>\n",
       "      <td>36.783</td>\n",
       "      <td>-58.919</td>\n",
       "      <td>-26.010</td>\n",
       "      <td>134.637</td>\n",
       "      <td>-17.778</td>\n",
       "      <td>-384.094</td>\n",
       "      <td>92.105</td>\n",
       "      <td>-10.392</td>\n",
       "      <td>471.395</td>\n",
       "      <td>253.873</td>\n",
       "      <td>-212.370</td>\n",
       "      <td>78.762</td>\n",
       "      <td>53.500</td>\n",
       "      <td>-22.255</td>\n",
       "      <td>31.264</td>\n",
       "      <td>-58.504</td>\n",
       "      <td>-12.455</td>\n",
       "    </tr>\n",
       "    <tr>\n",
       "      <th>2.310130e-02</th>\n",
       "      <td>-290.693</td>\n",
       "      <td>336.464</td>\n",
       "      <td>37.038</td>\n",
       "      <td>-59.311</td>\n",
       "      <td>-26.244</td>\n",
       "      <td>134.741</td>\n",
       "      <td>-17.517</td>\n",
       "      <td>-385.795</td>\n",
       "      <td>90.881</td>\n",
       "      <td>-11.281</td>\n",
       "      <td>473.604</td>\n",
       "      <td>255.476</td>\n",
       "      <td>-212.729</td>\n",
       "      <td>78.762</td>\n",
       "      <td>53.557</td>\n",
       "      <td>-22.233</td>\n",
       "      <td>31.261</td>\n",
       "      <td>-58.482</td>\n",
       "      <td>-12.430</td>\n",
       "    </tr>\n",
       "    <tr>\n",
       "      <th>1.747528e-02</th>\n",
       "      <td>-290.789</td>\n",
       "      <td>336.790</td>\n",
       "      <td>37.233</td>\n",
       "      <td>-59.612</td>\n",
       "      <td>-26.424</td>\n",
       "      <td>134.821</td>\n",
       "      <td>-17.318</td>\n",
       "      <td>-387.078</td>\n",
       "      <td>89.917</td>\n",
       "      <td>-11.967</td>\n",
       "      <td>475.304</td>\n",
       "      <td>256.712</td>\n",
       "      <td>-213.005</td>\n",
       "      <td>78.762</td>\n",
       "      <td>53.600</td>\n",
       "      <td>-22.216</td>\n",
       "      <td>31.258</td>\n",
       "      <td>-58.466</td>\n",
       "      <td>-12.411</td>\n",
       "    </tr>\n",
       "    <tr>\n",
       "      <th>1.321941e-02</th>\n",
       "      <td>-290.863</td>\n",
       "      <td>337.040</td>\n",
       "      <td>37.382</td>\n",
       "      <td>-59.842</td>\n",
       "      <td>-26.561</td>\n",
       "      <td>134.882</td>\n",
       "      <td>-17.167</td>\n",
       "      <td>-388.047</td>\n",
       "      <td>89.164</td>\n",
       "      <td>-12.495</td>\n",
       "      <td>476.606</td>\n",
       "      <td>257.662</td>\n",
       "      <td>-213.217</td>\n",
       "      <td>78.762</td>\n",
       "      <td>53.632</td>\n",
       "      <td>-22.203</td>\n",
       "      <td>31.256</td>\n",
       "      <td>-58.453</td>\n",
       "      <td>-12.396</td>\n",
       "    </tr>\n",
       "    <tr>\n",
       "      <th>1.000000e-02</th>\n",
       "      <td>-290.919</td>\n",
       "      <td>337.230</td>\n",
       "      <td>37.495</td>\n",
       "      <td>-60.018</td>\n",
       "      <td>-26.665</td>\n",
       "      <td>134.928</td>\n",
       "      <td>-17.052</td>\n",
       "      <td>-388.778</td>\n",
       "      <td>88.581</td>\n",
       "      <td>-12.899</td>\n",
       "      <td>477.601</td>\n",
       "      <td>258.388</td>\n",
       "      <td>-213.379</td>\n",
       "      <td>78.761</td>\n",
       "      <td>53.657</td>\n",
       "      <td>-22.193</td>\n",
       "      <td>31.255</td>\n",
       "      <td>-58.444</td>\n",
       "      <td>-12.385</td>\n",
       "    </tr>\n",
       "  </tbody>\n",
       "</table>\n",
       "<p>100 rows × 19 columns</p>\n",
       "</div>"
      ],
      "text/plain": [
       "                AtBat     Hits   HmRun    Runs     RBI    Walks   Years  \\\n",
       "alpha                                                                     \n",
       "1.000000e+10    0.000    0.000   0.000   0.000   0.000    0.000   0.000   \n",
       "7.564633e+09    0.000    0.000   0.000   0.000   0.000    0.000   0.000   \n",
       "5.722368e+09    0.000    0.000   0.000   0.000   0.000    0.000   0.000   \n",
       "4.328761e+09    0.000    0.000   0.000   0.000   0.000    0.000   0.000   \n",
       "3.274549e+09    0.000    0.000   0.000   0.000   0.000    0.000   0.000   \n",
       "...               ...      ...     ...     ...     ...      ...     ...   \n",
       "3.053856e-02 -290.566  336.040  36.783 -58.919 -26.010  134.637 -17.778   \n",
       "2.310130e-02 -290.693  336.464  37.038 -59.311 -26.244  134.741 -17.517   \n",
       "1.747528e-02 -290.789  336.790  37.233 -59.612 -26.424  134.821 -17.318   \n",
       "1.321941e-02 -290.863  337.040  37.382 -59.842 -26.561  134.882 -17.167   \n",
       "1.000000e-02 -290.919  337.230  37.495 -60.018 -26.665  134.928 -17.052   \n",
       "\n",
       "               CAtBat   CHits  CHmRun    CRuns     CRBI   CWalks  PutOuts  \\\n",
       "alpha                                                                       \n",
       "1.000000e+10    0.000   0.000   0.000    0.000    0.000    0.000    0.000   \n",
       "7.564633e+09    0.000   0.000   0.000    0.000    0.000    0.000    0.000   \n",
       "5.722368e+09    0.000   0.000   0.000    0.000    0.000    0.000    0.000   \n",
       "4.328761e+09    0.000   0.000   0.000    0.000    0.000    0.000    0.000   \n",
       "3.274549e+09    0.000   0.000   0.000    0.000    0.000    0.000    0.000   \n",
       "...               ...     ...     ...      ...      ...      ...      ...   \n",
       "3.053856e-02 -384.094  92.105 -10.392  471.395  253.873 -212.370   78.762   \n",
       "2.310130e-02 -385.795  90.881 -11.281  473.604  255.476 -212.729   78.762   \n",
       "1.747528e-02 -387.078  89.917 -11.967  475.304  256.712 -213.005   78.762   \n",
       "1.321941e-02 -388.047  89.164 -12.495  476.606  257.662 -213.217   78.762   \n",
       "1.000000e-02 -388.778  88.581 -12.899  477.601  258.388 -213.379   78.761   \n",
       "\n",
       "              Assists  Errors  League_N  Division_W  NewLeague_N  \n",
       "alpha                                                             \n",
       "1.000000e+10    0.000  -0.000    -0.000      -0.000       -0.000  \n",
       "7.564633e+09    0.000  -0.000    -0.000      -0.000       -0.000  \n",
       "5.722368e+09    0.000  -0.000    -0.000      -0.000       -0.000  \n",
       "4.328761e+09    0.000  -0.000    -0.000      -0.000       -0.000  \n",
       "3.274549e+09    0.000  -0.000    -0.000      -0.000       -0.000  \n",
       "...               ...     ...       ...         ...          ...  \n",
       "3.053856e-02   53.500 -22.255    31.264     -58.504      -12.455  \n",
       "2.310130e-02   53.557 -22.233    31.261     -58.482      -12.430  \n",
       "1.747528e-02   53.600 -22.216    31.258     -58.466      -12.411  \n",
       "1.321941e-02   53.632 -22.203    31.256     -58.453      -12.396  \n",
       "1.000000e-02   53.657 -22.193    31.255     -58.444      -12.385  \n",
       "\n",
       "[100 rows x 19 columns]"
      ]
     },
     "execution_count": 191,
     "metadata": {},
     "output_type": "execute_result"
    }
   ],
   "source": [
    "df.round(3)"
   ]
  },
  {
   "cell_type": "code",
   "execution_count": 33,
   "metadata": {
    "scrolled": false
   },
   "outputs": [],
   "source": [
    "# some models with close-to-zero coefficients"
   ]
  },
  {
   "cell_type": "code",
   "execution_count": 34,
   "metadata": {
    "scrolled": false
   },
   "outputs": [],
   "source": [
    "# plot coefficients vs alphas"
   ]
  },
  {
   "cell_type": "code",
   "execution_count": 194,
   "metadata": {
    "scrolled": false
   },
   "outputs": [
    {
     "name": "stderr",
     "output_type": "stream",
     "text": [
      "/Users/cam/anaconda3/lib/python3.11/site-packages/pandas/plotting/_matplotlib/core.py:701: UserWarning: Attempt to set non-positive xlim on a log-scaled axis will be ignored.\n",
      "  ax.set_xlim(self.xlim)\n"
     ]
    },
    {
     "data": {
      "image/png": "[encoded data removed]",
      "text/plain": [
       "<Figure size 1200x600 with 1 Axes>"
      ]
     },
     "metadata": {},
     "output_type": "display_data"
    }
   ],
   "source": [
    "df.plot(figsize=(12,6),grid=True,logx=True,xlim = (0.00,10**6))\n",
    "plt.legend(loc='upper right');"
   ]
  },
  {
   "cell_type": "code",
   "execution_count": 36,
   "metadata": {
    "scrolled": false
   },
   "outputs": [],
   "source": [
    "# coefficients shrink to zero as alpha values increase"
   ]
  },
  {
   "cell_type": "code",
   "execution_count": null,
   "metadata": {
    "scrolled": false
   },
   "outputs": [],
   "source": []
  },
  {
   "cell_type": "code",
   "execution_count": 40,
   "metadata": {},
   "outputs": [],
   "source": [
    "np.set_printoptions(suppress=True)"
   ]
  },
  {
   "cell_type": "markdown",
   "metadata": {
    "collapsed": true
   },
   "source": [
    "### Holdout Cross Validation with alpha known"
   ]
  },
  {
   "cell_type": "code",
   "execution_count": 37,
   "metadata": {},
   "outputs": [],
   "source": [
    "X_train,X_test,y_train,y_test = train_test_split(X,y,\n",
    "                                                 test_size=0.5,\n",
    "                                                 random_state=1)"
   ]
  },
  {
   "cell_type": "code",
   "execution_count": 38,
   "metadata": {
    "scrolled": false
   },
   "outputs": [],
   "source": [
    "scaler = StandardScaler()\n",
    "scaler.fit(X_train)\n",
    "X_train_scaled = scaler.transform(X_train)\n",
    "X_test_scaled = scaler.transform(X_test)"
   ]
  },
  {
   "cell_type": "markdown",
   "metadata": {},
   "source": [
    "#### fit model with alpha = 4"
   ]
  },
  {
   "cell_type": "code",
   "execution_count": 41,
   "metadata": {
    "scrolled": false
   },
   "outputs": [
    {
     "data": {
      "text/plain": [
       "102144.52395076505"
      ]
     },
     "execution_count": 41,
     "metadata": {},
     "output_type": "execute_result"
    }
   ],
   "source": [
    "ridge2 = Ridge(alpha=4)\n",
    "ridge2.fit(X_train_scaled, y_train)\n",
    "pred2 = ridge2.predict(X_test_scaled)     \n",
    "mspe = mean_squared_error(y_test, pred2)\n",
    "mspe"
   ]
  },
  {
   "cell_type": "markdown",
   "metadata": {},
   "source": [
    "#### fit model with huge alpha = 10^9"
   ]
  },
  {
   "cell_type": "code",
   "execution_count": 42,
   "metadata": {
    "scrolled": false
   },
   "outputs": [
    {
     "data": {
      "text/plain": [
       "172862.0826375247"
      ]
     },
     "execution_count": 42,
     "metadata": {},
     "output_type": "execute_result"
    }
   ],
   "source": [
    "ridge3 = Ridge(alpha=10**9)\n",
    "ridge3.fit(X_train_scaled, y_train)\n",
    "pred3 = ridge3.predict(X_test_scaled)          \n",
    "mspe = mean_squared_error(y_test, pred3)\n",
    "mspe"
   ]
  },
  {
   "cell_type": "code",
   "execution_count": null,
   "metadata": {
    "scrolled": false
   },
   "outputs": [],
   "source": [
    "# Huge alpha makes over-shrinking which increases test MSE\n",
    "# all coeffs very close to zero"
   ]
  },
  {
   "cell_type": "markdown",
   "metadata": {},
   "source": [
    "### Linear Regression (alpha = 0)"
   ]
  },
  {
   "cell_type": "code",
   "execution_count": 43,
   "metadata": {
    "scrolled": false
   },
   "outputs": [
    {
     "data": {
      "text/plain": [
       "116690.468566612"
      ]
     },
     "execution_count": 43,
     "metadata": {},
     "output_type": "execute_result"
    }
   ],
   "source": [
    "ols_model = Ridge(alpha=0)\n",
    "ols_model.fit(X_train_scaled, y_train)\n",
    "pred = ols_model.predict(X_test_scaled)          \n",
    "ols_mse = mean_squared_error(y_test, pred)\n",
    "ols_mse"
   ]
  },
  {
   "cell_type": "code",
   "execution_count": null,
   "metadata": {
    "scrolled": false
   },
   "outputs": [],
   "source": [
    "# RR test MSPE smaller than OLS"
   ]
  },
  {
   "cell_type": "markdown",
   "metadata": {
    "collapsed": true
   },
   "source": [
    "### Holdout Cross Validation searching for alpha"
   ]
  },
  {
   "cell_type": "code",
   "execution_count": 108,
   "metadata": {},
   "outputs": [],
   "source": [
    "X_nontest,X_test,y_nontest,y_test = train_test_split(X,y,\n",
    "                                                 test_size=0.40,\n",
    "                                                 random_state=1)"
   ]
  },
  {
   "cell_type": "code",
   "execution_count": null,
   "metadata": {},
   "outputs": [],
   "source": []
  },
  {
   "cell_type": "code",
   "execution_count": 109,
   "metadata": {},
   "outputs": [],
   "source": [
    "X_train,X_validation,y_train,y_validation = train_test_split(X_nontest,y_nontest,\n",
    "                                                 test_size=0.5,\n",
    "                                                 random_state=1)"
   ]
  },
  {
   "cell_type": "code",
   "execution_count": 110,
   "metadata": {},
   "outputs": [],
   "source": [
    "scaler = StandardScaler()\n",
    "scaler.fit(X_train)\n",
    "X_train_scaled = scaler.transform(X_train)\n",
    "X_validation_scaled = scaler.transform(X_validation)"
   ]
  },
  {
   "cell_type": "code",
   "execution_count": 111,
   "metadata": {},
   "outputs": [],
   "source": [
    "ridge_model = Ridge()"
   ]
  },
  {
   "cell_type": "code",
   "execution_count": 112,
   "metadata": {},
   "outputs": [],
   "source": [
    "validation_mspes = []\n",
    "\n",
    "for a in alphas:\n",
    "    ridge_model.set_params(alpha = a)\n",
    "    ridge_model.fit(X_train_scaled, y_train)\n",
    "    yhat = ridge_model.predict(X_validation_scaled)\n",
    "    mspe = mean_squared_error(y_validation,yhat)\n",
    "    validation_mspes.append(mspe)"
   ]
  },
  {
   "cell_type": "code",
   "execution_count": 113,
   "metadata": {},
   "outputs": [
    {
     "data": {
      "text/html": [
       "<div>\n",
       "<style scoped>\n",
       "    .dataframe tbody tr th:only-of-type {\n",
       "        vertical-align: middle;\n",
       "    }\n",
       "\n",
       "    .dataframe tbody tr th {\n",
       "        vertical-align: top;\n",
       "    }\n",
       "\n",
       "    .dataframe thead th {\n",
       "        text-align: right;\n",
       "    }\n",
       "</style>\n",
       "<table border=\"1\" class=\"dataframe\">\n",
       "  <thead>\n",
       "    <tr style=\"text-align: right;\">\n",
       "      <th></th>\n",
       "      <th>Valid_MSE</th>\n",
       "    </tr>\n",
       "    <tr>\n",
       "      <th>alpha</th>\n",
       "      <th></th>\n",
       "    </tr>\n",
       "  </thead>\n",
       "  <tbody>\n",
       "    <tr>\n",
       "      <th>1.000000e+10</th>\n",
       "      <td>161825.790184</td>\n",
       "    </tr>\n",
       "    <tr>\n",
       "      <th>7.564633e+09</th>\n",
       "      <td>161825.786925</td>\n",
       "    </tr>\n",
       "    <tr>\n",
       "      <th>5.722368e+09</th>\n",
       "      <td>161825.782617</td>\n",
       "    </tr>\n",
       "    <tr>\n",
       "      <th>4.328761e+09</th>\n",
       "      <td>161825.776922</td>\n",
       "    </tr>\n",
       "    <tr>\n",
       "      <th>3.274549e+09</th>\n",
       "      <td>161825.769393</td>\n",
       "    </tr>\n",
       "    <tr>\n",
       "      <th>...</th>\n",
       "      <td>...</td>\n",
       "    </tr>\n",
       "    <tr>\n",
       "      <th>3.053856e-02</th>\n",
       "      <td>111339.084798</td>\n",
       "    </tr>\n",
       "    <tr>\n",
       "      <th>2.310130e-02</th>\n",
       "      <td>111577.207548</td>\n",
       "    </tr>\n",
       "    <tr>\n",
       "      <th>1.747528e-02</th>\n",
       "      <td>111800.332935</td>\n",
       "    </tr>\n",
       "    <tr>\n",
       "      <th>1.321941e-02</th>\n",
       "      <td>112003.332742</td>\n",
       "    </tr>\n",
       "    <tr>\n",
       "      <th>1.000000e-02</th>\n",
       "      <td>112182.439807</td>\n",
       "    </tr>\n",
       "  </tbody>\n",
       "</table>\n",
       "<p>100 rows × 1 columns</p>\n",
       "</div>"
      ],
      "text/plain": [
       "                  Valid_MSE\n",
       "alpha                      \n",
       "1.000000e+10  161825.790184\n",
       "7.564633e+09  161825.786925\n",
       "5.722368e+09  161825.782617\n",
       "4.328761e+09  161825.776922\n",
       "3.274549e+09  161825.769393\n",
       "...                     ...\n",
       "3.053856e-02  111339.084798\n",
       "2.310130e-02  111577.207548\n",
       "1.747528e-02  111800.332935\n",
       "1.321941e-02  112003.332742\n",
       "1.000000e-02  112182.439807\n",
       "\n",
       "[100 rows x 1 columns]"
      ]
     },
     "execution_count": 113,
     "metadata": {},
     "output_type": "execute_result"
    }
   ],
   "source": [
    "df = pd.DataFrame(validation_mspes,\n",
    "                  columns = ['Valid_MSE'])\n",
    "df.index = alphas\n",
    "df.index.name = 'alpha'\n",
    "df"
   ]
  },
  {
   "cell_type": "code",
   "execution_count": 119,
   "metadata": {},
   "outputs": [
    {
     "data": {
      "text/plain": [
       "78821.05978981467"
      ]
     },
     "execution_count": 119,
     "metadata": {},
     "output_type": "execute_result"
    }
   ],
   "source": [
    "min1 = df.Valid_MSE.min()\n",
    "min1"
   ]
  },
  {
   "cell_type": "code",
   "execution_count": 120,
   "metadata": {},
   "outputs": [
    {
     "data": {
      "text/html": [
       "<div>\n",
       "<style scoped>\n",
       "    .dataframe tbody tr th:only-of-type {\n",
       "        vertical-align: middle;\n",
       "    }\n",
       "\n",
       "    .dataframe tbody tr th {\n",
       "        vertical-align: top;\n",
       "    }\n",
       "\n",
       "    .dataframe thead th {\n",
       "        text-align: right;\n",
       "    }\n",
       "</style>\n",
       "<table border=\"1\" class=\"dataframe\">\n",
       "  <thead>\n",
       "    <tr style=\"text-align: right;\">\n",
       "      <th></th>\n",
       "      <th>Valid_MSE</th>\n",
       "    </tr>\n",
       "    <tr>\n",
       "      <th>alpha</th>\n",
       "      <th></th>\n",
       "    </tr>\n",
       "  </thead>\n",
       "  <tbody>\n",
       "    <tr>\n",
       "      <th>75.646333</th>\n",
       "      <td>78821.05979</td>\n",
       "    </tr>\n",
       "  </tbody>\n",
       "</table>\n",
       "</div>"
      ],
      "text/plain": [
       "             Valid_MSE\n",
       "alpha                 \n",
       "75.646333  78821.05979"
      ]
     },
     "execution_count": 120,
     "metadata": {},
     "output_type": "execute_result"
    }
   ],
   "source": [
    "df[df.Valid_MSE == min1]"
   ]
  },
  {
   "cell_type": "code",
   "execution_count": 115,
   "metadata": {},
   "outputs": [
    {
     "data": {
      "text/plain": [
       "75.64633275546291"
      ]
     },
     "execution_count": 115,
     "metadata": {},
     "output_type": "execute_result"
    }
   ],
   "source": [
    "# best alpha giving min Validation MSE\n",
    "best_alpha = df.Valid_MSE.idxmin()\n",
    "best_alpha"
   ]
  },
  {
   "cell_type": "code",
   "execution_count": 116,
   "metadata": {
    "scrolled": false
   },
   "outputs": [],
   "source": [
    "# plot MSPE vs alpha"
   ]
  },
  {
   "cell_type": "code",
   "execution_count": 117,
   "metadata": {
    "scrolled": false
   },
   "outputs": [
    {
     "data": {
      "image/png": "[encoded data removed]",
      "text/plain": [
       "<Figure size 1200x600 with 1 Axes>"
      ]
     },
     "metadata": {},
     "output_type": "display_data"
    }
   ],
   "source": [
    "df.plot(figsize=(12,6),grid=True,logx=True,xlim = (0.001,10**6))\n",
    "# add horizontal line with OLS MSPE\n",
    "plt.axhline(y = ols_mse,linestyle = '--',c='r',linewidth=1)\n",
    "plt.annotate(round(ols_mse,0),xy=(0.012,1.01*ols_mse), c='r')\n",
    "plt.annotate('OLS MSPE',xy=(0.002,1.01*ols_mse), c='r')\n",
    "#\n",
    "plt.ylabel('Validation MSE')\n",
    "plt.legend((\"Ridge Regression\", \"Linear Regression\"));"
   ]
  },
  {
   "cell_type": "code",
   "execution_count": 118,
   "metadata": {},
   "outputs": [],
   "source": [
    "# Smallest Validation MSE"
   ]
  },
  {
   "cell_type": "code",
   "execution_count": 101,
   "metadata": {},
   "outputs": [
    {
     "data": {
      "text/plain": [
       "78821.05978981467"
      ]
     },
     "execution_count": 101,
     "metadata": {},
     "output_type": "execute_result"
    }
   ],
   "source": [
    "min1 = min(validation_mspes)\n",
    "min1"
   ]
  },
  {
   "cell_type": "code",
   "execution_count": 102,
   "metadata": {},
   "outputs": [
    {
     "data": {
      "text/plain": [
       "67"
      ]
     },
     "execution_count": 102,
     "metadata": {},
     "output_type": "execute_result"
    }
   ],
   "source": [
    "validation_mspes.index(min1)"
   ]
  },
  {
   "cell_type": "code",
   "execution_count": 103,
   "metadata": {},
   "outputs": [],
   "source": [
    "# best alpha (minimizing validation MSE)"
   ]
  },
  {
   "cell_type": "code",
   "execution_count": 121,
   "metadata": {},
   "outputs": [
    {
     "data": {
      "text/plain": [
       "75.64633275546291"
      ]
     },
     "execution_count": 121,
     "metadata": {},
     "output_type": "execute_result"
    }
   ],
   "source": [
    "alphas[67]"
   ]
  },
  {
   "cell_type": "code",
   "execution_count": 122,
   "metadata": {},
   "outputs": [],
   "source": [
    "# Min Validation MSE is 75.64633275546291"
   ]
  },
  {
   "cell_type": "code",
   "execution_count": 123,
   "metadata": {},
   "outputs": [],
   "source": [
    "scaler = StandardScaler()\n",
    "scaler.fit(X_nontest)\n",
    "X_nontest_scaled = scaler.transform(X_nontest)\n",
    "X_test_scaled = scaler.transform(X_test)"
   ]
  },
  {
   "cell_type": "code",
   "execution_count": 124,
   "metadata": {
    "scrolled": false
   },
   "outputs": [
    {
     "data": {
      "text/plain": [
       "99508.83201629658"
      ]
     },
     "execution_count": 124,
     "metadata": {},
     "output_type": "execute_result"
    }
   ],
   "source": [
    "ridge2 = Ridge(alpha = best_alpha)\n",
    "ridge2.fit(X_nontest_scaled, y_nontest)\n",
    "pred2 = ridge2.predict(X_test_scaled)          \n",
    "mspe = mean_squared_error(y_test, pred2)\n",
    "mspe"
   ]
  },
  {
   "cell_type": "code",
   "execution_count": null,
   "metadata": {},
   "outputs": [],
   "source": []
  },
  {
   "cell_type": "markdown",
   "metadata": {},
   "source": [
    "## Ridge Regression  5-fold cross validation to find best alpha"
   ]
  },
  {
   "cell_type": "code",
   "execution_count": 140,
   "metadata": {},
   "outputs": [],
   "source": [
    "X_train,X_test,\\\n",
    "y_train,y_test = train_test_split(X,y,test_size=0.5,\n",
    "                                  random_state=1)"
   ]
  },
  {
   "cell_type": "code",
   "execution_count": 141,
   "metadata": {
    "scrolled": false
   },
   "outputs": [],
   "source": [
    "scaler = StandardScaler()\n",
    "scaler.fit(X_train)\n",
    "X_train_scaled = scaler.transform(X_train)\n",
    "X_test_scaled = scaler.transform(X_test)"
   ]
  },
  {
   "cell_type": "code",
   "execution_count": 142,
   "metadata": {},
   "outputs": [],
   "source": [
    "scaler = StandardScaler()\n",
    "model = Ridge()\n",
    "pipe1 = Pipeline([('scaler', scaler),('ridge', model)])"
   ]
  },
  {
   "cell_type": "code",
   "execution_count": 143,
   "metadata": {},
   "outputs": [],
   "source": [
    "param_grid = {'ridge__alpha': alphas}"
   ]
  },
  {
   "cell_type": "code",
   "execution_count": 144,
   "metadata": {
    "scrolled": false
   },
   "outputs": [],
   "source": [
    "ridgecv = GridSearchCV(pipe1,param_grid,cv = 5,\n",
    "                       scoring = 'neg_mean_squared_error')\n",
    "ridgecv.fit(X_train, y_train);"
   ]
  },
  {
   "cell_type": "code",
   "execution_count": 145,
   "metadata": {},
   "outputs": [],
   "source": [
    "# best alpha (minimizing validation MSE)"
   ]
  },
  {
   "cell_type": "code",
   "execution_count": 146,
   "metadata": {
    "scrolled": false
   },
   "outputs": [
    {
     "data": {
      "text/plain": [
       "{'ridge__alpha': 100.0}"
      ]
     },
     "execution_count": 146,
     "metadata": {},
     "output_type": "execute_result"
    }
   ],
   "source": [
    "ridgecv.best_params_"
   ]
  },
  {
   "cell_type": "code",
   "execution_count": 147,
   "metadata": {},
   "outputs": [
    {
     "data": {
      "text/plain": [
       "100.0"
      ]
     },
     "execution_count": 147,
     "metadata": {},
     "output_type": "execute_result"
    }
   ],
   "source": [
    "alpha1 = ridgecv.best_params_['ridge__alpha']\n",
    "alpha1"
   ]
  },
  {
   "cell_type": "code",
   "execution_count": 148,
   "metadata": {},
   "outputs": [],
   "source": [
    "# test MSE with best alpha"
   ]
  },
  {
   "cell_type": "code",
   "execution_count": 149,
   "metadata": {},
   "outputs": [],
   "source": [
    "# fit RR model with best alpha\n",
    "ridge1 = Ridge(alpha=alpha1)\n",
    "ridge1.fit(X_train_scaled,y_train);"
   ]
  },
  {
   "cell_type": "code",
   "execution_count": 150,
   "metadata": {},
   "outputs": [
    {
     "data": {
      "text/plain": [
       "99586.56834382795"
      ]
     },
     "execution_count": 150,
     "metadata": {},
     "output_type": "execute_result"
    }
   ],
   "source": [
    "yhat = ridge1.predict(X_test_scaled)\n",
    "best_mspe = mean_squared_error(y_test, yhat)\n",
    "best_mspe"
   ]
  },
  {
   "cell_type": "code",
   "execution_count": 151,
   "metadata": {},
   "outputs": [
    {
     "data": {
      "text/plain": [
       "{'scaler': StandardScaler(), 'ridge': Ridge(alpha=100.0)}"
      ]
     },
     "execution_count": 151,
     "metadata": {},
     "output_type": "execute_result"
    }
   ],
   "source": [
    "ridgecv.best_estimator_.named_steps"
   ]
  },
  {
   "cell_type": "code",
   "execution_count": 152,
   "metadata": {},
   "outputs": [
    {
     "data": {
      "text/plain": [
       "array([  3.91135935,  36.09635974,   1.73668011,  19.61165904,\n",
       "        32.21913156,  43.97240993,   8.49644681,  17.99283943,\n",
       "        32.5450565 ,  41.51292542,  33.27193592,  41.57133374,\n",
       "        25.53583306,  75.76136575,  -2.47595326,  -0.79266655,\n",
       "         8.2142983 , -41.60836804,   5.21195537])"
      ]
     },
     "execution_count": 152,
     "metadata": {},
     "output_type": "execute_result"
    }
   ],
   "source": [
    "ridgecv.best_estimator_.named_steps.ridge.coef_"
   ]
  },
  {
   "cell_type": "code",
   "execution_count": 154,
   "metadata": {
    "scrolled": false
   },
   "outputs": [
    {
     "data": {
      "text/html": [
       "<div>\n",
       "<style scoped>\n",
       "    .dataframe tbody tr th:only-of-type {\n",
       "        vertical-align: middle;\n",
       "    }\n",
       "\n",
       "    .dataframe tbody tr th {\n",
       "        vertical-align: top;\n",
       "    }\n",
       "\n",
       "    .dataframe thead th {\n",
       "        text-align: right;\n",
       "    }\n",
       "</style>\n",
       "<table border=\"1\" class=\"dataframe\">\n",
       "  <thead>\n",
       "    <tr style=\"text-align: right;\">\n",
       "      <th></th>\n",
       "      <th>ridge_coeff</th>\n",
       "    </tr>\n",
       "  </thead>\n",
       "  <tbody>\n",
       "    <tr>\n",
       "      <th>AtBat</th>\n",
       "      <td>3.911359</td>\n",
       "    </tr>\n",
       "    <tr>\n",
       "      <th>Hits</th>\n",
       "      <td>36.096360</td>\n",
       "    </tr>\n",
       "    <tr>\n",
       "      <th>HmRun</th>\n",
       "      <td>1.736680</td>\n",
       "    </tr>\n",
       "    <tr>\n",
       "      <th>Runs</th>\n",
       "      <td>19.611659</td>\n",
       "    </tr>\n",
       "    <tr>\n",
       "      <th>RBI</th>\n",
       "      <td>32.219132</td>\n",
       "    </tr>\n",
       "    <tr>\n",
       "      <th>Walks</th>\n",
       "      <td>43.972410</td>\n",
       "    </tr>\n",
       "    <tr>\n",
       "      <th>Years</th>\n",
       "      <td>8.496447</td>\n",
       "    </tr>\n",
       "    <tr>\n",
       "      <th>CAtBat</th>\n",
       "      <td>17.992839</td>\n",
       "    </tr>\n",
       "    <tr>\n",
       "      <th>CHits</th>\n",
       "      <td>32.545056</td>\n",
       "    </tr>\n",
       "    <tr>\n",
       "      <th>CHmRun</th>\n",
       "      <td>41.512925</td>\n",
       "    </tr>\n",
       "    <tr>\n",
       "      <th>CRuns</th>\n",
       "      <td>33.271936</td>\n",
       "    </tr>\n",
       "    <tr>\n",
       "      <th>CRBI</th>\n",
       "      <td>41.571334</td>\n",
       "    </tr>\n",
       "    <tr>\n",
       "      <th>CWalks</th>\n",
       "      <td>25.535833</td>\n",
       "    </tr>\n",
       "    <tr>\n",
       "      <th>PutOuts</th>\n",
       "      <td>75.761366</td>\n",
       "    </tr>\n",
       "    <tr>\n",
       "      <th>Assists</th>\n",
       "      <td>-2.475953</td>\n",
       "    </tr>\n",
       "    <tr>\n",
       "      <th>Errors</th>\n",
       "      <td>-0.792667</td>\n",
       "    </tr>\n",
       "    <tr>\n",
       "      <th>League_N</th>\n",
       "      <td>8.214298</td>\n",
       "    </tr>\n",
       "    <tr>\n",
       "      <th>Division_W</th>\n",
       "      <td>-41.608368</td>\n",
       "    </tr>\n",
       "    <tr>\n",
       "      <th>NewLeague_N</th>\n",
       "      <td>5.211955</td>\n",
       "    </tr>\n",
       "  </tbody>\n",
       "</table>\n",
       "</div>"
      ],
      "text/plain": [
       "             ridge_coeff\n",
       "AtBat           3.911359\n",
       "Hits           36.096360\n",
       "HmRun           1.736680\n",
       "Runs           19.611659\n",
       "RBI            32.219132\n",
       "Walks          43.972410\n",
       "Years           8.496447\n",
       "CAtBat         17.992839\n",
       "CHits          32.545056\n",
       "CHmRun         41.512925\n",
       "CRuns          33.271936\n",
       "CRBI           41.571334\n",
       "CWalks         25.535833\n",
       "PutOuts        75.761366\n",
       "Assists        -2.475953\n",
       "Errors         -0.792667\n",
       "League_N        8.214298\n",
       "Division_W    -41.608368\n",
       "NewLeague_N     5.211955"
      ]
     },
     "execution_count": 154,
     "metadata": {},
     "output_type": "execute_result"
    }
   ],
   "source": [
    "# coefficients of best RR model\n",
    "\n",
    "df4 = pd.DataFrame(ridge1.coef_,index=X.columns,\n",
    "                   columns=['ridge_coeff'])\n",
    "df4"
   ]
  },
  {
   "cell_type": "markdown",
   "metadata": {},
   "source": [
    "### predict salary of first player in test set"
   ]
  },
  {
   "cell_type": "code",
   "execution_count": 155,
   "metadata": {},
   "outputs": [
    {
     "data": {
      "text/plain": [
       "array([[-0.75403349, -0.59086622,  0.20177987, -0.63314908, -0.00973381,\n",
       "        -0.45405721, -0.50193827, -0.42197414, -0.40314783,  0.01162816,\n",
       "        -0.43551916, -0.17330772, -0.4452582 ,  1.27997267, -0.33878194,\n",
       "        -0.44171974, -1.03892496,  0.99239533, -1.00766295]])"
      ]
     },
     "execution_count": 155,
     "metadata": {},
     "output_type": "execute_result"
    }
   ],
   "source": [
    "newval = X_test_scaled[:1]\n",
    "newval"
   ]
  },
  {
   "cell_type": "code",
   "execution_count": 156,
   "metadata": {},
   "outputs": [
    {
     "data": {
      "text/plain": [
       "array([461.60866494])"
      ]
     },
     "execution_count": 156,
     "metadata": {},
     "output_type": "execute_result"
    }
   ],
   "source": [
    "ridge1.predict(newval)"
   ]
  },
  {
   "cell_type": "code",
   "execution_count": 157,
   "metadata": {},
   "outputs": [
    {
     "data": {
      "text/plain": [
       "475.0"
      ]
     },
     "execution_count": 157,
     "metadata": {},
     "output_type": "execute_result"
    }
   ],
   "source": [
    "d0.loc[1,'Salary']"
   ]
  },
  {
   "cell_type": "markdown",
   "metadata": {},
   "source": [
    "## Lasso Regression"
   ]
  },
  {
   "cell_type": "code",
   "execution_count": null,
   "metadata": {
    "scrolled": false
   },
   "outputs": [],
   "source": [
    "# lasso may not converge unless large number of iterations"
   ]
  },
  {
   "cell_type": "code",
   "execution_count": null,
   "metadata": {
    "scrolled": false
   },
   "outputs": [],
   "source": [
    "lasso_model = Lasso(max_iter = 10000, normalize = True)\n",
    "\n",
    "coefs = []\n",
    "for a in alphas:\n",
    "    lasso_model.set_params(alpha=a)\n",
    "    lasso_model.fit(X_train,y_train)\n",
    "    coefs.append(lasso_model.coef_)"
   ]
  },
  {
   "cell_type": "code",
   "execution_count": null,
   "metadata": {},
   "outputs": [],
   "source": [
    "# convert list of coefficients to a dataframe"
   ]
  },
  {
   "cell_type": "code",
   "execution_count": null,
   "metadata": {
    "scrolled": false
   },
   "outputs": [],
   "source": [
    "df = pd.DataFrame(coefs)\n",
    "df.columns = x.columns\n",
    "df.index = alphas\n",
    "df.index.name = 'alpha'"
   ]
  },
  {
   "cell_type": "code",
   "execution_count": null,
   "metadata": {
    "scrolled": false
   },
   "outputs": [],
   "source": [
    "df.plot(figsize=(12,6),grid=True,logx=True,xlim = (0.007,10**6))\n",
    "plt.legend(loc='right');"
   ]
  },
  {
   "cell_type": "code",
   "execution_count": null,
   "metadata": {
    "scrolled": false
   },
   "outputs": [],
   "source": [
    "# coefficients shrink to zero as alpha values increase"
   ]
  },
  {
   "cell_type": "markdown",
   "metadata": {},
   "source": [
    "## LASSO  10-fold cross validation to find best alpha"
   ]
  },
  {
   "cell_type": "code",
   "execution_count": null,
   "metadata": {
    "scrolled": false
   },
   "outputs": [],
   "source": [
    "lassocv = LassoCV(alphas = alphas, cv=10, max_iter = 100000, \n",
    "                  normalize = True)\n",
    "lassocv.fit(X_train,y_train);"
   ]
  },
  {
   "cell_type": "code",
   "execution_count": null,
   "metadata": {
    "scrolled": false
   },
   "outputs": [],
   "source": [
    "# best alpha (minimizing train MSE)"
   ]
  },
  {
   "cell_type": "code",
   "execution_count": null,
   "metadata": {
    "scrolled": false
   },
   "outputs": [],
   "source": [
    "lassocv.alpha_"
   ]
  },
  {
   "cell_type": "code",
   "execution_count": null,
   "metadata": {
    "scrolled": false
   },
   "outputs": [],
   "source": [
    "# test MSE of best alpha (creating new model)"
   ]
  },
  {
   "cell_type": "code",
   "execution_count": null,
   "metadata": {
    "scrolled": false
   },
   "outputs": [],
   "source": [
    "lasso4 = Lasso(alpha = lassocv.alpha_,normalize = True)\n",
    "lasso4.fit(X_train, y_train)\n",
    "mean_squared_error(y_test,lasso4.predict(X_test))"
   ]
  },
  {
   "cell_type": "code",
   "execution_count": null,
   "metadata": {
    "scrolled": false
   },
   "outputs": [],
   "source": [
    "# not as good as Ridge regression (99691.75)"
   ]
  },
  {
   "cell_type": "code",
   "execution_count": null,
   "metadata": {
    "scrolled": false
   },
   "outputs": [],
   "source": [
    "df4 = pd.DataFrame(lasso4.coef_,index=X.columns,columns=['lasso_coeff'])\n",
    "\n",
    "df4"
   ]
  },
  {
   "cell_type": "code",
   "execution_count": null,
   "metadata": {},
   "outputs": [],
   "source": [
    "# 13 regression coeffs equal to zero \n",
    "# (using best alpha found by cross validation)"
   ]
  },
  {
   "cell_type": "code",
   "execution_count": null,
   "metadata": {
    "scrolled": false
   },
   "outputs": [],
   "source": [
    "df4[df4.lasso_coeff != 0]"
   ]
  },
  {
   "cell_type": "code",
   "execution_count": null,
   "metadata": {
    "scrolled": false
   },
   "outputs": [],
   "source": [
    "# coefficients for new predictions -use full data"
   ]
  },
  {
   "cell_type": "code",
   "execution_count": null,
   "metadata": {
    "scrolled": false
   },
   "outputs": [],
   "source": [
    "lasso4.fit(X, y)\n",
    "df5 = pd.DataFrame(lasso4.coef_, index=X.columns, columns = ['lasso_coeff'])\n",
    "df5"
   ]
  },
  {
   "cell_type": "code",
   "execution_count": null,
   "metadata": {
    "scrolled": false
   },
   "outputs": [],
   "source": [
    "# predictors in lasso simplified model are"
   ]
  },
  {
   "cell_type": "code",
   "execution_count": null,
   "metadata": {
    "scrolled": false
   },
   "outputs": [],
   "source": [
    "df5[df5.lasso_coeff != 0]"
   ]
  },
  {
   "cell_type": "markdown",
   "metadata": {},
   "source": [
    "### predict salary of first player in test set"
   ]
  },
  {
   "cell_type": "code",
   "execution_count": null,
   "metadata": {},
   "outputs": [],
   "source": [
    "newval = X_test[:1]\n",
    "newval"
   ]
  },
  {
   "cell_type": "code",
   "execution_count": null,
   "metadata": {},
   "outputs": [],
   "source": [
    "df3 = lasso4.predict(newval)\n",
    "df3"
   ]
  },
  {
   "cell_type": "code",
   "execution_count": null,
   "metadata": {},
   "outputs": [],
   "source": [
    "# predicted salary is 447,936 dollars"
   ]
  },
  {
   "cell_type": "code",
   "execution_count": null,
   "metadata": {
    "scrolled": false
   },
   "outputs": [],
   "source": []
  }
 ],
 "metadata": {
  "anaconda-cloud": {},
  "kernelspec": {
   "display_name": "Python 3 (ipykernel)",
   "language": "python",
   "name": "python3"
  },
  "language_info": {
   "codemirror_mode": {
    "name": "ipython",
    "version": 3
   },
   "file_extension": ".py",
   "mimetype": "text/x-python",
   "name": "python",
   "nbconvert_exporter": "python",
   "pygments_lexer": "ipython3",
   "version": "3.11.4"
  }
 },
 "nbformat": 4,
 "nbformat_minor": 1
}
