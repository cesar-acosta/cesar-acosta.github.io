{
 "cells": [
  {
   "cell_type": "markdown",
   "metadata": {},
   "source": [
    "# Feature Selection and Cross validation"
   ]
  },
  {
   "cell_type": "code",
   "execution_count": 1,
   "metadata": {},
   "outputs": [],
   "source": [
    "import numpy as np\n",
    "import pandas as pd"
   ]
  },
  {
   "cell_type": "code",
   "execution_count": 2,
   "metadata": {},
   "outputs": [],
   "source": [
    "import itertools\n",
    "from scipy.special import comb"
   ]
  },
  {
   "cell_type": "code",
   "execution_count": 3,
   "metadata": {},
   "outputs": [],
   "source": [
    "from sklearn.linear_model import LinearRegression\n",
    "from sklearn.metrics import mean_squared_error"
   ]
  },
  {
   "cell_type": "code",
   "execution_count": 4,
   "metadata": {},
   "outputs": [],
   "source": [
    "from sklearn.model_selection import train_test_split\n",
    "\n",
    "from sklearn.model_selection import KFold\n",
    "from sklearn.model_selection import cross_val_score"
   ]
  },
  {
   "cell_type": "code",
   "execution_count": 5,
   "metadata": {},
   "outputs": [
    {
     "data": {
      "text/html": [
       "<div>\n",
       "<style scoped>\n",
       "    .dataframe tbody tr th:only-of-type {\n",
       "        vertical-align: middle;\n",
       "    }\n",
       "\n",
       "    .dataframe tbody tr th {\n",
       "        vertical-align: top;\n",
       "    }\n",
       "\n",
       "    .dataframe thead th {\n",
       "        text-align: right;\n",
       "    }\n",
       "</style>\n",
       "<table border=\"1\" class=\"dataframe\">\n",
       "  <thead>\n",
       "    <tr style=\"text-align: right;\">\n",
       "      <th></th>\n",
       "      <th>Income</th>\n",
       "      <th>Limit</th>\n",
       "      <th>Rating</th>\n",
       "      <th>Cards</th>\n",
       "      <th>Age</th>\n",
       "      <th>Education</th>\n",
       "      <th>Gender</th>\n",
       "      <th>Student</th>\n",
       "      <th>Married</th>\n",
       "      <th>Ethnicity</th>\n",
       "      <th>Balance</th>\n",
       "    </tr>\n",
       "  </thead>\n",
       "  <tbody>\n",
       "    <tr>\n",
       "      <th>0</th>\n",
       "      <td>14.891</td>\n",
       "      <td>3606</td>\n",
       "      <td>283</td>\n",
       "      <td>2</td>\n",
       "      <td>34</td>\n",
       "      <td>11</td>\n",
       "      <td>Male</td>\n",
       "      <td>No</td>\n",
       "      <td>Yes</td>\n",
       "      <td>Caucasian</td>\n",
       "      <td>333</td>\n",
       "    </tr>\n",
       "    <tr>\n",
       "      <th>1</th>\n",
       "      <td>106.025</td>\n",
       "      <td>6645</td>\n",
       "      <td>483</td>\n",
       "      <td>3</td>\n",
       "      <td>82</td>\n",
       "      <td>15</td>\n",
       "      <td>Female</td>\n",
       "      <td>Yes</td>\n",
       "      <td>Yes</td>\n",
       "      <td>Asian</td>\n",
       "      <td>903</td>\n",
       "    </tr>\n",
       "    <tr>\n",
       "      <th>2</th>\n",
       "      <td>104.593</td>\n",
       "      <td>7075</td>\n",
       "      <td>514</td>\n",
       "      <td>4</td>\n",
       "      <td>71</td>\n",
       "      <td>11</td>\n",
       "      <td>Male</td>\n",
       "      <td>No</td>\n",
       "      <td>No</td>\n",
       "      <td>Asian</td>\n",
       "      <td>580</td>\n",
       "    </tr>\n",
       "    <tr>\n",
       "      <th>3</th>\n",
       "      <td>148.924</td>\n",
       "      <td>9504</td>\n",
       "      <td>681</td>\n",
       "      <td>3</td>\n",
       "      <td>36</td>\n",
       "      <td>11</td>\n",
       "      <td>Female</td>\n",
       "      <td>No</td>\n",
       "      <td>No</td>\n",
       "      <td>Asian</td>\n",
       "      <td>964</td>\n",
       "    </tr>\n",
       "    <tr>\n",
       "      <th>4</th>\n",
       "      <td>55.882</td>\n",
       "      <td>4897</td>\n",
       "      <td>357</td>\n",
       "      <td>2</td>\n",
       "      <td>68</td>\n",
       "      <td>16</td>\n",
       "      <td>Male</td>\n",
       "      <td>No</td>\n",
       "      <td>Yes</td>\n",
       "      <td>Caucasian</td>\n",
       "      <td>331</td>\n",
       "    </tr>\n",
       "  </tbody>\n",
       "</table>\n",
       "</div>"
      ],
      "text/plain": [
       "    Income  Limit  Rating  Cards  Age  Education  Gender Student Married  \\\n",
       "0   14.891   3606     283      2   34         11    Male      No     Yes   \n",
       "1  106.025   6645     483      3   82         15  Female     Yes     Yes   \n",
       "2  104.593   7075     514      4   71         11    Male      No      No   \n",
       "3  148.924   9504     681      3   36         11  Female      No      No   \n",
       "4   55.882   4897     357      2   68         16    Male      No     Yes   \n",
       "\n",
       "   Ethnicity  Balance  \n",
       "0  Caucasian      333  \n",
       "1      Asian      903  \n",
       "2      Asian      580  \n",
       "3      Asian      964  \n",
       "4  Caucasian      331  "
      ]
     },
     "execution_count": 5,
     "metadata": {},
     "output_type": "execute_result"
    }
   ],
   "source": [
    "credit = pd.read_csv('Credit.csv')\n",
    "credit[:5]"
   ]
  },
  {
   "cell_type": "code",
   "execution_count": 6,
   "metadata": {},
   "outputs": [
    {
     "data": {
      "text/plain": [
       "(400, 11)"
      ]
     },
     "execution_count": 6,
     "metadata": {},
     "output_type": "execute_result"
    }
   ],
   "source": [
    "credit.shape"
   ]
  },
  {
   "cell_type": "code",
   "execution_count": 7,
   "metadata": {},
   "outputs": [
    {
     "data": {
      "text/plain": [
       "Caucasian           199\n",
       "Asian               102\n",
       "African American     99\n",
       "Name: Ethnicity, dtype: int64"
      ]
     },
     "execution_count": 7,
     "metadata": {},
     "output_type": "execute_result"
    }
   ],
   "source": [
    "credit['Ethnicity'].value_counts()"
   ]
  },
  {
   "cell_type": "markdown",
   "metadata": {},
   "source": [
    "### Encode categorical vars"
   ]
  },
  {
   "cell_type": "code",
   "execution_count": 8,
   "metadata": {},
   "outputs": [
    {
     "data": {
      "text/html": [
       "<div>\n",
       "<style scoped>\n",
       "    .dataframe tbody tr th:only-of-type {\n",
       "        vertical-align: middle;\n",
       "    }\n",
       "\n",
       "    .dataframe tbody tr th {\n",
       "        vertical-align: top;\n",
       "    }\n",
       "\n",
       "    .dataframe thead th {\n",
       "        text-align: right;\n",
       "    }\n",
       "</style>\n",
       "<table border=\"1\" class=\"dataframe\">\n",
       "  <thead>\n",
       "    <tr style=\"text-align: right;\">\n",
       "      <th></th>\n",
       "      <th>Income</th>\n",
       "      <th>Limit</th>\n",
       "      <th>Rating</th>\n",
       "      <th>Cards</th>\n",
       "      <th>Age</th>\n",
       "      <th>Education</th>\n",
       "      <th>Gender</th>\n",
       "      <th>Student</th>\n",
       "      <th>Married</th>\n",
       "      <th>Ethnicity</th>\n",
       "      <th>Balance</th>\n",
       "    </tr>\n",
       "  </thead>\n",
       "  <tbody>\n",
       "    <tr>\n",
       "      <th>0</th>\n",
       "      <td>14.891</td>\n",
       "      <td>3606</td>\n",
       "      <td>283</td>\n",
       "      <td>2</td>\n",
       "      <td>34</td>\n",
       "      <td>11</td>\n",
       "      <td>Male</td>\n",
       "      <td>No</td>\n",
       "      <td>Yes</td>\n",
       "      <td>Caucasian</td>\n",
       "      <td>333</td>\n",
       "    </tr>\n",
       "    <tr>\n",
       "      <th>1</th>\n",
       "      <td>106.025</td>\n",
       "      <td>6645</td>\n",
       "      <td>483</td>\n",
       "      <td>3</td>\n",
       "      <td>82</td>\n",
       "      <td>15</td>\n",
       "      <td>Female</td>\n",
       "      <td>Yes</td>\n",
       "      <td>Yes</td>\n",
       "      <td>Asian</td>\n",
       "      <td>903</td>\n",
       "    </tr>\n",
       "    <tr>\n",
       "      <th>2</th>\n",
       "      <td>104.593</td>\n",
       "      <td>7075</td>\n",
       "      <td>514</td>\n",
       "      <td>4</td>\n",
       "      <td>71</td>\n",
       "      <td>11</td>\n",
       "      <td>Male</td>\n",
       "      <td>No</td>\n",
       "      <td>No</td>\n",
       "      <td>Asian</td>\n",
       "      <td>580</td>\n",
       "    </tr>\n",
       "    <tr>\n",
       "      <th>3</th>\n",
       "      <td>148.924</td>\n",
       "      <td>9504</td>\n",
       "      <td>681</td>\n",
       "      <td>3</td>\n",
       "      <td>36</td>\n",
       "      <td>11</td>\n",
       "      <td>Female</td>\n",
       "      <td>No</td>\n",
       "      <td>No</td>\n",
       "      <td>Asian</td>\n",
       "      <td>964</td>\n",
       "    </tr>\n",
       "    <tr>\n",
       "      <th>4</th>\n",
       "      <td>55.882</td>\n",
       "      <td>4897</td>\n",
       "      <td>357</td>\n",
       "      <td>2</td>\n",
       "      <td>68</td>\n",
       "      <td>16</td>\n",
       "      <td>Male</td>\n",
       "      <td>No</td>\n",
       "      <td>Yes</td>\n",
       "      <td>Caucasian</td>\n",
       "      <td>331</td>\n",
       "    </tr>\n",
       "  </tbody>\n",
       "</table>\n",
       "</div>"
      ],
      "text/plain": [
       "    Income  Limit  Rating  Cards  Age  Education  Gender Student Married  \\\n",
       "0   14.891   3606     283      2   34         11    Male      No     Yes   \n",
       "1  106.025   6645     483      3   82         15  Female     Yes     Yes   \n",
       "2  104.593   7075     514      4   71         11    Male      No      No   \n",
       "3  148.924   9504     681      3   36         11  Female      No      No   \n",
       "4   55.882   4897     357      2   68         16    Male      No     Yes   \n",
       "\n",
       "   Ethnicity  Balance  \n",
       "0  Caucasian      333  \n",
       "1      Asian      903  \n",
       "2      Asian      580  \n",
       "3      Asian      964  \n",
       "4  Caucasian      331  "
      ]
     },
     "execution_count": 8,
     "metadata": {},
     "output_type": "execute_result"
    }
   ],
   "source": [
    "credit[:5]"
   ]
  },
  {
   "cell_type": "code",
   "execution_count": 9,
   "metadata": {},
   "outputs": [
    {
     "data": {
      "text/html": [
       "<div>\n",
       "<style scoped>\n",
       "    .dataframe tbody tr th:only-of-type {\n",
       "        vertical-align: middle;\n",
       "    }\n",
       "\n",
       "    .dataframe tbody tr th {\n",
       "        vertical-align: top;\n",
       "    }\n",
       "\n",
       "    .dataframe thead th {\n",
       "        text-align: right;\n",
       "    }\n",
       "</style>\n",
       "<table border=\"1\" class=\"dataframe\">\n",
       "  <thead>\n",
       "    <tr style=\"text-align: right;\">\n",
       "      <th></th>\n",
       "      <th>Income</th>\n",
       "      <th>Limit</th>\n",
       "      <th>Rating</th>\n",
       "      <th>Cards</th>\n",
       "      <th>Age</th>\n",
       "      <th>Education</th>\n",
       "      <th>Balance</th>\n",
       "      <th>Gender_Female</th>\n",
       "      <th>Student_Yes</th>\n",
       "      <th>Married_Yes</th>\n",
       "      <th>Ethnicity_Asian</th>\n",
       "      <th>Ethnicity_Caucasian</th>\n",
       "    </tr>\n",
       "  </thead>\n",
       "  <tbody>\n",
       "    <tr>\n",
       "      <th>0</th>\n",
       "      <td>14.891</td>\n",
       "      <td>3606</td>\n",
       "      <td>283</td>\n",
       "      <td>2</td>\n",
       "      <td>34</td>\n",
       "      <td>11</td>\n",
       "      <td>333</td>\n",
       "      <td>0</td>\n",
       "      <td>0</td>\n",
       "      <td>1</td>\n",
       "      <td>0</td>\n",
       "      <td>1</td>\n",
       "    </tr>\n",
       "    <tr>\n",
       "      <th>1</th>\n",
       "      <td>106.025</td>\n",
       "      <td>6645</td>\n",
       "      <td>483</td>\n",
       "      <td>3</td>\n",
       "      <td>82</td>\n",
       "      <td>15</td>\n",
       "      <td>903</td>\n",
       "      <td>1</td>\n",
       "      <td>1</td>\n",
       "      <td>1</td>\n",
       "      <td>1</td>\n",
       "      <td>0</td>\n",
       "    </tr>\n",
       "    <tr>\n",
       "      <th>2</th>\n",
       "      <td>104.593</td>\n",
       "      <td>7075</td>\n",
       "      <td>514</td>\n",
       "      <td>4</td>\n",
       "      <td>71</td>\n",
       "      <td>11</td>\n",
       "      <td>580</td>\n",
       "      <td>0</td>\n",
       "      <td>0</td>\n",
       "      <td>0</td>\n",
       "      <td>1</td>\n",
       "      <td>0</td>\n",
       "    </tr>\n",
       "    <tr>\n",
       "      <th>3</th>\n",
       "      <td>148.924</td>\n",
       "      <td>9504</td>\n",
       "      <td>681</td>\n",
       "      <td>3</td>\n",
       "      <td>36</td>\n",
       "      <td>11</td>\n",
       "      <td>964</td>\n",
       "      <td>1</td>\n",
       "      <td>0</td>\n",
       "      <td>0</td>\n",
       "      <td>1</td>\n",
       "      <td>0</td>\n",
       "    </tr>\n",
       "    <tr>\n",
       "      <th>4</th>\n",
       "      <td>55.882</td>\n",
       "      <td>4897</td>\n",
       "      <td>357</td>\n",
       "      <td>2</td>\n",
       "      <td>68</td>\n",
       "      <td>16</td>\n",
       "      <td>331</td>\n",
       "      <td>0</td>\n",
       "      <td>0</td>\n",
       "      <td>1</td>\n",
       "      <td>0</td>\n",
       "      <td>1</td>\n",
       "    </tr>\n",
       "  </tbody>\n",
       "</table>\n",
       "</div>"
      ],
      "text/plain": [
       "    Income  Limit  Rating  Cards  Age  Education  Balance  Gender_Female  \\\n",
       "0   14.891   3606     283      2   34         11      333              0   \n",
       "1  106.025   6645     483      3   82         15      903              1   \n",
       "2  104.593   7075     514      4   71         11      580              0   \n",
       "3  148.924   9504     681      3   36         11      964              1   \n",
       "4   55.882   4897     357      2   68         16      331              0   \n",
       "\n",
       "   Student_Yes  Married_Yes  Ethnicity_Asian  Ethnicity_Caucasian  \n",
       "0            0            1                0                    1  \n",
       "1            1            1                1                    0  \n",
       "2            0            0                1                    0  \n",
       "3            0            0                1                    0  \n",
       "4            0            1                0                    1  "
      ]
     },
     "execution_count": 9,
     "metadata": {},
     "output_type": "execute_result"
    }
   ],
   "source": [
    "credit1 = pd.get_dummies(credit,\n",
    "                         columns = ['Gender','Student','Married','Ethnicity'],\n",
    "                         drop_first = True)\n",
    "credit1[:5]"
   ]
  },
  {
   "cell_type": "code",
   "execution_count": 10,
   "metadata": {},
   "outputs": [
    {
     "data": {
      "text/plain": [
       "(400, 12)"
      ]
     },
     "execution_count": 10,
     "metadata": {},
     "output_type": "execute_result"
    }
   ],
   "source": [
    "credit1.shape"
   ]
  },
  {
   "cell_type": "code",
   "execution_count": 11,
   "metadata": {},
   "outputs": [
    {
     "data": {
      "text/html": [
       "<div>\n",
       "<style scoped>\n",
       "    .dataframe tbody tr th:only-of-type {\n",
       "        vertical-align: middle;\n",
       "    }\n",
       "\n",
       "    .dataframe tbody tr th {\n",
       "        vertical-align: top;\n",
       "    }\n",
       "\n",
       "    .dataframe thead th {\n",
       "        text-align: right;\n",
       "    }\n",
       "</style>\n",
       "<table border=\"1\" class=\"dataframe\">\n",
       "  <thead>\n",
       "    <tr style=\"text-align: right;\">\n",
       "      <th></th>\n",
       "      <th>Income</th>\n",
       "      <th>Limit</th>\n",
       "      <th>Rating</th>\n",
       "      <th>Cards</th>\n",
       "      <th>Age</th>\n",
       "      <th>Education</th>\n",
       "      <th>Gender_Female</th>\n",
       "      <th>Student_Yes</th>\n",
       "      <th>Married_Yes</th>\n",
       "      <th>Ethnicity_Asian</th>\n",
       "      <th>Ethnicity_Caucasian</th>\n",
       "    </tr>\n",
       "  </thead>\n",
       "  <tbody>\n",
       "    <tr>\n",
       "      <th>0</th>\n",
       "      <td>14.891</td>\n",
       "      <td>3606</td>\n",
       "      <td>283</td>\n",
       "      <td>2</td>\n",
       "      <td>34</td>\n",
       "      <td>11</td>\n",
       "      <td>0</td>\n",
       "      <td>0</td>\n",
       "      <td>1</td>\n",
       "      <td>0</td>\n",
       "      <td>1</td>\n",
       "    </tr>\n",
       "    <tr>\n",
       "      <th>1</th>\n",
       "      <td>106.025</td>\n",
       "      <td>6645</td>\n",
       "      <td>483</td>\n",
       "      <td>3</td>\n",
       "      <td>82</td>\n",
       "      <td>15</td>\n",
       "      <td>1</td>\n",
       "      <td>1</td>\n",
       "      <td>1</td>\n",
       "      <td>1</td>\n",
       "      <td>0</td>\n",
       "    </tr>\n",
       "    <tr>\n",
       "      <th>2</th>\n",
       "      <td>104.593</td>\n",
       "      <td>7075</td>\n",
       "      <td>514</td>\n",
       "      <td>4</td>\n",
       "      <td>71</td>\n",
       "      <td>11</td>\n",
       "      <td>0</td>\n",
       "      <td>0</td>\n",
       "      <td>0</td>\n",
       "      <td>1</td>\n",
       "      <td>0</td>\n",
       "    </tr>\n",
       "    <tr>\n",
       "      <th>3</th>\n",
       "      <td>148.924</td>\n",
       "      <td>9504</td>\n",
       "      <td>681</td>\n",
       "      <td>3</td>\n",
       "      <td>36</td>\n",
       "      <td>11</td>\n",
       "      <td>1</td>\n",
       "      <td>0</td>\n",
       "      <td>0</td>\n",
       "      <td>1</td>\n",
       "      <td>0</td>\n",
       "    </tr>\n",
       "    <tr>\n",
       "      <th>4</th>\n",
       "      <td>55.882</td>\n",
       "      <td>4897</td>\n",
       "      <td>357</td>\n",
       "      <td>2</td>\n",
       "      <td>68</td>\n",
       "      <td>16</td>\n",
       "      <td>0</td>\n",
       "      <td>0</td>\n",
       "      <td>1</td>\n",
       "      <td>0</td>\n",
       "      <td>1</td>\n",
       "    </tr>\n",
       "  </tbody>\n",
       "</table>\n",
       "</div>"
      ],
      "text/plain": [
       "    Income  Limit  Rating  Cards  Age  Education  Gender_Female  Student_Yes  \\\n",
       "0   14.891   3606     283      2   34         11              0            0   \n",
       "1  106.025   6645     483      3   82         15              1            1   \n",
       "2  104.593   7075     514      4   71         11              0            0   \n",
       "3  148.924   9504     681      3   36         11              1            0   \n",
       "4   55.882   4897     357      2   68         16              0            0   \n",
       "\n",
       "   Married_Yes  Ethnicity_Asian  Ethnicity_Caucasian  \n",
       "0            1                0                    1  \n",
       "1            1                1                    0  \n",
       "2            0                1                    0  \n",
       "3            0                1                    0  \n",
       "4            1                0                    1  "
      ]
     },
     "execution_count": 11,
     "metadata": {},
     "output_type": "execute_result"
    }
   ],
   "source": [
    "credit2 = credit1.drop('Balance',axis=1)\n",
    "credit2[:5]"
   ]
  },
  {
   "cell_type": "code",
   "execution_count": 12,
   "metadata": {},
   "outputs": [
    {
     "data": {
      "text/plain": [
       "(400, 11)"
      ]
     },
     "execution_count": 12,
     "metadata": {},
     "output_type": "execute_result"
    }
   ],
   "source": [
    "credit2.shape"
   ]
  },
  {
   "cell_type": "code",
   "execution_count": 13,
   "metadata": {},
   "outputs": [
    {
     "data": {
      "text/plain": [
       "55.0"
      ]
     },
     "execution_count": 13,
     "metadata": {},
     "output_type": "execute_result"
    }
   ],
   "source": [
    "# How many models with 2 predictors?\n",
    "comb(11,2)"
   ]
  },
  {
   "cell_type": "code",
   "execution_count": 14,
   "metadata": {},
   "outputs": [
    {
     "data": {
      "text/plain": [
       "165.0"
      ]
     },
     "execution_count": 14,
     "metadata": {},
     "output_type": "execute_result"
    }
   ],
   "source": [
    "# How many models with 3 predictors?\n",
    "comb(11,3)"
   ]
  },
  {
   "cell_type": "code",
   "execution_count": 15,
   "metadata": {},
   "outputs": [
    {
     "data": {
      "text/plain": [
       "2048"
      ]
     },
     "execution_count": 15,
     "metadata": {},
     "output_type": "execute_result"
    }
   ],
   "source": [
    "# How many models overall?\n",
    "2**11"
   ]
  },
  {
   "cell_type": "markdown",
   "metadata": {},
   "source": [
    "## Split into train and test sets"
   ]
  },
  {
   "cell_type": "code",
   "execution_count": 16,
   "metadata": {},
   "outputs": [],
   "source": [
    "y0 = credit1.Balance\n",
    "X0 = credit1.drop(columns = 'Balance', axis = 1)"
   ]
  },
  {
   "cell_type": "code",
   "execution_count": 17,
   "metadata": {},
   "outputs": [],
   "source": [
    "X,X_test,y,y_test = train_test_split(X0,y0,\n",
    "                                     test_size = 0.25,\n",
    "                                     random_state=1)"
   ]
  },
  {
   "cell_type": "code",
   "execution_count": 18,
   "metadata": {},
   "outputs": [],
   "source": [
    "# train sets are X,y\n",
    "# test sets are X_test,y_test"
   ]
  },
  {
   "cell_type": "code",
   "execution_count": 19,
   "metadata": {},
   "outputs": [
    {
     "name": "stdout",
     "output_type": "stream",
     "text": [
      "(300, 11) (100, 11)\n"
     ]
    }
   ],
   "source": [
    "print(X.shape,X_test.shape)"
   ]
  },
  {
   "cell_type": "code",
   "execution_count": 20,
   "metadata": {},
   "outputs": [],
   "source": [
    "# train set size\n",
    "n = 300"
   ]
  },
  {
   "cell_type": "code",
   "execution_count": null,
   "metadata": {},
   "outputs": [],
   "source": []
  },
  {
   "cell_type": "markdown",
   "metadata": {},
   "source": [
    "## Build Model with all predictors"
   ]
  },
  {
   "cell_type": "markdown",
   "metadata": {},
   "source": [
    "### Holdout Cross Validation"
   ]
  },
  {
   "cell_type": "code",
   "execution_count": 21,
   "metadata": {},
   "outputs": [],
   "source": [
    "model0 = LinearRegression().fit(X,y)"
   ]
  },
  {
   "cell_type": "code",
   "execution_count": 22,
   "metadata": {},
   "outputs": [],
   "source": [
    "# MSPE"
   ]
  },
  {
   "cell_type": "code",
   "execution_count": 23,
   "metadata": {},
   "outputs": [
    {
     "data": {
      "text/plain": [
       "11521.699081990417"
      ]
     },
     "execution_count": 23,
     "metadata": {},
     "output_type": "execute_result"
    }
   ],
   "source": [
    "yhat0 = model0.predict(X_test)\n",
    "MSPE = mean_squared_error(y_test,yhat0)\n",
    "MSPE"
   ]
  },
  {
   "cell_type": "code",
   "execution_count": 24,
   "metadata": {},
   "outputs": [
    {
     "data": {
      "text/plain": [
       "107.33917775905691"
      ]
     },
     "execution_count": 24,
     "metadata": {},
     "output_type": "execute_result"
    }
   ],
   "source": [
    "np.sqrt(MSPE)"
   ]
  },
  {
   "cell_type": "markdown",
   "metadata": {},
   "source": [
    "### K-fold Cross Validation (K = 10)"
   ]
  },
  {
   "cell_type": "code",
   "execution_count": 25,
   "metadata": {},
   "outputs": [],
   "source": [
    "# Split all rows of data into 10 folds"
   ]
  },
  {
   "cell_type": "code",
   "execution_count": 26,
   "metadata": {},
   "outputs": [],
   "source": [
    "kfold = KFold(n_splits=10,random_state=1,shuffle = True)"
   ]
  },
  {
   "cell_type": "code",
   "execution_count": 27,
   "metadata": {},
   "outputs": [],
   "source": [
    "mspe = cross_val_score(LinearRegression(),X0,y0,\n",
    "                       cv = kfold,\n",
    "                       scoring = 'neg_mean_squared_error')"
   ]
  },
  {
   "cell_type": "code",
   "execution_count": 28,
   "metadata": {},
   "outputs": [
    {
     "data": {
      "text/plain": [
       "array([ -9977.31246066, -16049.63211923,  -8256.55274834, -10718.06396806,\n",
       "        -9983.7567259 , -10455.00758441,  -9675.20399605,  -9789.97445626,\n",
       "        -6454.62129103, -10230.20348514])"
      ]
     },
     "execution_count": 28,
     "metadata": {},
     "output_type": "execute_result"
    }
   ],
   "source": [
    "mspe"
   ]
  },
  {
   "cell_type": "code",
   "execution_count": 29,
   "metadata": {},
   "outputs": [
    {
     "data": {
      "text/plain": [
       "10159.032883508191"
      ]
     },
     "execution_count": 29,
     "metadata": {},
     "output_type": "execute_result"
    }
   ],
   "source": [
    "-mspe.mean()"
   ]
  },
  {
   "cell_type": "code",
   "execution_count": 30,
   "metadata": {},
   "outputs": [
    {
     "data": {
      "text/plain": [
       "100.79202787675318"
      ]
     },
     "execution_count": 30,
     "metadata": {},
     "output_type": "execute_result"
    }
   ],
   "source": [
    "np.sqrt(-mspe.mean())"
   ]
  },
  {
   "cell_type": "markdown",
   "metadata": {},
   "source": [
    "## Find best models based on AIC and Adj R-squared"
   ]
  },
  {
   "cell_type": "code",
   "execution_count": 31,
   "metadata": {},
   "outputs": [],
   "source": [
    "# A function returning SSE, R-squared"
   ]
  },
  {
   "cell_type": "code",
   "execution_count": 32,
   "metadata": {},
   "outputs": [],
   "source": [
    "def get_sse(X,Y):\n",
    "    model = LinearRegression().fit(X,Y)\n",
    "    yhat = model.predict(X)\n",
    "    SSE = mean_squared_error(Y,yhat)*n\n",
    "    R_squared = model.score(X,Y)\n",
    "    return SSE, R_squared"
   ]
  },
  {
   "cell_type": "code",
   "execution_count": 33,
   "metadata": {},
   "outputs": [],
   "source": [
    "# Get SSE, R-squared for the full model\n",
    "SSE, R_squared = get_sse(X,y)"
   ]
  },
  {
   "cell_type": "code",
   "execution_count": 34,
   "metadata": {},
   "outputs": [
    {
     "data": {
      "text/plain": [
       "2695832.2458131495"
      ]
     },
     "execution_count": 34,
     "metadata": {},
     "output_type": "execute_result"
    }
   ],
   "source": [
    "SSE"
   ]
  },
  {
   "cell_type": "code",
   "execution_count": 35,
   "metadata": {},
   "outputs": [
    {
     "data": {
      "text/plain": [
       "0.9557279779952305"
      ]
     },
     "execution_count": 35,
     "metadata": {},
     "output_type": "execute_result"
    }
   ],
   "source": [
    "R_squared"
   ]
  },
  {
   "cell_type": "code",
   "execution_count": 36,
   "metadata": {},
   "outputs": [
    {
     "data": {
      "text/plain": [
       "['Income',\n",
       " 'Limit',\n",
       " 'Rating',\n",
       " 'Cards',\n",
       " 'Age',\n",
       " 'Education',\n",
       " 'Gender_Female',\n",
       " 'Student_Yes',\n",
       " 'Married_Yes',\n",
       " 'Ethnicity_Asian',\n",
       " 'Ethnicity_Caucasian']"
      ]
     },
     "execution_count": 36,
     "metadata": {},
     "output_type": "execute_result"
    }
   ],
   "source": [
    "list(X.columns)"
   ]
  },
  {
   "cell_type": "code",
   "execution_count": 37,
   "metadata": {},
   "outputs": [],
   "source": [
    "# all sets of two column names"
   ]
  },
  {
   "cell_type": "code",
   "execution_count": 38,
   "metadata": {},
   "outputs": [
    {
     "data": {
      "text/plain": [
       "[('Income', 'Limit'),\n",
       " ('Income', 'Rating'),\n",
       " ('Income', 'Cards'),\n",
       " ('Income', 'Age'),\n",
       " ('Income', 'Education'),\n",
       " ('Income', 'Gender_Female'),\n",
       " ('Income', 'Student_Yes'),\n",
       " ('Income', 'Married_Yes'),\n",
       " ('Income', 'Ethnicity_Asian'),\n",
       " ('Income', 'Ethnicity_Caucasian'),\n",
       " ('Limit', 'Rating'),\n",
       " ('Limit', 'Cards'),\n",
       " ('Limit', 'Age'),\n",
       " ('Limit', 'Education'),\n",
       " ('Limit', 'Gender_Female'),\n",
       " ('Limit', 'Student_Yes'),\n",
       " ('Limit', 'Married_Yes'),\n",
       " ('Limit', 'Ethnicity_Asian'),\n",
       " ('Limit', 'Ethnicity_Caucasian'),\n",
       " ('Rating', 'Cards'),\n",
       " ('Rating', 'Age'),\n",
       " ('Rating', 'Education'),\n",
       " ('Rating', 'Gender_Female'),\n",
       " ('Rating', 'Student_Yes'),\n",
       " ('Rating', 'Married_Yes'),\n",
       " ('Rating', 'Ethnicity_Asian'),\n",
       " ('Rating', 'Ethnicity_Caucasian'),\n",
       " ('Cards', 'Age'),\n",
       " ('Cards', 'Education'),\n",
       " ('Cards', 'Gender_Female'),\n",
       " ('Cards', 'Student_Yes'),\n",
       " ('Cards', 'Married_Yes'),\n",
       " ('Cards', 'Ethnicity_Asian'),\n",
       " ('Cards', 'Ethnicity_Caucasian'),\n",
       " ('Age', 'Education'),\n",
       " ('Age', 'Gender_Female'),\n",
       " ('Age', 'Student_Yes'),\n",
       " ('Age', 'Married_Yes'),\n",
       " ('Age', 'Ethnicity_Asian'),\n",
       " ('Age', 'Ethnicity_Caucasian'),\n",
       " ('Education', 'Gender_Female'),\n",
       " ('Education', 'Student_Yes'),\n",
       " ('Education', 'Married_Yes'),\n",
       " ('Education', 'Ethnicity_Asian'),\n",
       " ('Education', 'Ethnicity_Caucasian'),\n",
       " ('Gender_Female', 'Student_Yes'),\n",
       " ('Gender_Female', 'Married_Yes'),\n",
       " ('Gender_Female', 'Ethnicity_Asian'),\n",
       " ('Gender_Female', 'Ethnicity_Caucasian'),\n",
       " ('Student_Yes', 'Married_Yes'),\n",
       " ('Student_Yes', 'Ethnicity_Asian'),\n",
       " ('Student_Yes', 'Ethnicity_Caucasian'),\n",
       " ('Married_Yes', 'Ethnicity_Asian'),\n",
       " ('Married_Yes', 'Ethnicity_Caucasian'),\n",
       " ('Ethnicity_Asian', 'Ethnicity_Caucasian')]"
      ]
     },
     "execution_count": 38,
     "metadata": {},
     "output_type": "execute_result"
    }
   ],
   "source": [
    "list(itertools.combinations(X.columns,2))"
   ]
  },
  {
   "cell_type": "code",
   "execution_count": 39,
   "metadata": {},
   "outputs": [
    {
     "data": {
      "text/plain": [
       "11"
      ]
     },
     "execution_count": 39,
     "metadata": {},
     "output_type": "execute_result"
    }
   ],
   "source": [
    "p = len(X.columns)\n",
    "p"
   ]
  },
  {
   "cell_type": "code",
   "execution_count": 40,
   "metadata": {},
   "outputs": [
    {
     "data": {
      "text/plain": [
       "[1, 2, 3, 4, 5, 6, 7, 8, 9, 10, 11]"
      ]
     },
     "execution_count": 40,
     "metadata": {},
     "output_type": "execute_result"
    }
   ],
   "source": [
    "list(range(1,p+1))"
   ]
  },
  {
   "cell_type": "code",
   "execution_count": 41,
   "metadata": {},
   "outputs": [],
   "source": [
    "# Create 2**11 regression models\n",
    "# getting their R-squared and SSE"
   ]
  },
  {
   "cell_type": "code",
   "execution_count": 42,
   "metadata": {},
   "outputs": [],
   "source": [
    "SSE_list, R2_list, feature_list, num_features = [],[],[],[]"
   ]
  },
  {
   "cell_type": "code",
   "execution_count": 43,
   "metadata": {},
   "outputs": [],
   "source": [
    "for k in range(1,p+1):\n",
    "    for subset in itertools.combinations(X.columns,k):\n",
    "        num_features.append(k)\n",
    "        feature_list.append(subset)\n",
    "        \n",
    "        X2 = X[list(subset)]\n",
    "        SSE, R_squared = get_sse(X2,y)\n",
    "        \n",
    "        SSE_list.append(SSE)\n",
    "        R2_list.append(R_squared)"
   ]
  },
  {
   "cell_type": "code",
   "execution_count": 44,
   "metadata": {},
   "outputs": [
    {
     "data": {
      "text/plain": [
       "2047"
      ]
     },
     "execution_count": 44,
     "metadata": {},
     "output_type": "execute_result"
    }
   ],
   "source": [
    "len(num_features)"
   ]
  },
  {
   "cell_type": "code",
   "execution_count": 45,
   "metadata": {},
   "outputs": [
    {
     "data": {
      "text/plain": [
       "[1, 1, 1, 1, 1]"
      ]
     },
     "execution_count": 45,
     "metadata": {},
     "output_type": "execute_result"
    }
   ],
   "source": [
    "num_features[:5]"
   ]
  },
  {
   "cell_type": "code",
   "execution_count": 46,
   "metadata": {},
   "outputs": [
    {
     "data": {
      "text/plain": [
       "[('Income',), ('Limit',), ('Rating',), ('Cards',), ('Age',)]"
      ]
     },
     "execution_count": 46,
     "metadata": {},
     "output_type": "execute_result"
    }
   ],
   "source": [
    "feature_list[:5]"
   ]
  },
  {
   "cell_type": "code",
   "execution_count": 47,
   "metadata": {},
   "outputs": [
    {
     "data": {
      "text/plain": [
       "[0.2200181327359455,\n",
       " 0.7568493163363378,\n",
       " 0.7616305879459113,\n",
       " 0.014850886580138,\n",
       " 0.0005190442873671541]"
      ]
     },
     "execution_count": 47,
     "metadata": {},
     "output_type": "execute_result"
    }
   ],
   "source": [
    "R2_list[:5]"
   ]
  },
  {
   "cell_type": "code",
   "execution_count": 48,
   "metadata": {},
   "outputs": [
    {
     "data": {
      "text/plain": [
       "[47495013.18673583,\n",
       " 14806042.82183892,\n",
       " 14514899.44059262,\n",
       " 59988151.13087408,\n",
       " 60860852.23746908]"
      ]
     },
     "execution_count": 48,
     "metadata": {},
     "output_type": "execute_result"
    }
   ],
   "source": [
    "SSE_list[:5]"
   ]
  },
  {
   "cell_type": "code",
   "execution_count": 49,
   "metadata": {},
   "outputs": [],
   "source": [
    "# create dataframe with the four lists"
   ]
  },
  {
   "cell_type": "code",
   "execution_count": 50,
   "metadata": {},
   "outputs": [],
   "source": [
    "zip1 = zip(num_features,feature_list,R2_list,SSE_list)\n",
    "df = pd.DataFrame(list(zip1),\n",
    "                  columns = ['n_features','features','R-squared','SSE'])"
   ]
  },
  {
   "cell_type": "code",
   "execution_count": 51,
   "metadata": {},
   "outputs": [
    {
     "data": {
      "text/html": [
       "<div>\n",
       "<style scoped>\n",
       "    .dataframe tbody tr th:only-of-type {\n",
       "        vertical-align: middle;\n",
       "    }\n",
       "\n",
       "    .dataframe tbody tr th {\n",
       "        vertical-align: top;\n",
       "    }\n",
       "\n",
       "    .dataframe thead th {\n",
       "        text-align: right;\n",
       "    }\n",
       "</style>\n",
       "<table border=\"1\" class=\"dataframe\">\n",
       "  <thead>\n",
       "    <tr style=\"text-align: right;\">\n",
       "      <th></th>\n",
       "      <th>n_features</th>\n",
       "      <th>features</th>\n",
       "      <th>R-squared</th>\n",
       "      <th>SSE</th>\n",
       "    </tr>\n",
       "  </thead>\n",
       "  <tbody>\n",
       "    <tr>\n",
       "      <th>0</th>\n",
       "      <td>1</td>\n",
       "      <td>(Income,)</td>\n",
       "      <td>0.220018</td>\n",
       "      <td>47495013.0</td>\n",
       "    </tr>\n",
       "    <tr>\n",
       "      <th>1</th>\n",
       "      <td>1</td>\n",
       "      <td>(Limit,)</td>\n",
       "      <td>0.756849</td>\n",
       "      <td>14806043.0</td>\n",
       "    </tr>\n",
       "    <tr>\n",
       "      <th>2</th>\n",
       "      <td>1</td>\n",
       "      <td>(Rating,)</td>\n",
       "      <td>0.761631</td>\n",
       "      <td>14514899.0</td>\n",
       "    </tr>\n",
       "    <tr>\n",
       "      <th>3</th>\n",
       "      <td>1</td>\n",
       "      <td>(Cards,)</td>\n",
       "      <td>0.014851</td>\n",
       "      <td>59988151.0</td>\n",
       "    </tr>\n",
       "    <tr>\n",
       "      <th>4</th>\n",
       "      <td>1</td>\n",
       "      <td>(Age,)</td>\n",
       "      <td>0.000519</td>\n",
       "      <td>60860852.0</td>\n",
       "    </tr>\n",
       "  </tbody>\n",
       "</table>\n",
       "</div>"
      ],
      "text/plain": [
       "   n_features   features  R-squared         SSE\n",
       "0           1  (Income,)   0.220018  47495013.0\n",
       "1           1   (Limit,)   0.756849  14806043.0\n",
       "2           1  (Rating,)   0.761631  14514899.0\n",
       "3           1   (Cards,)   0.014851  59988151.0\n",
       "4           1     (Age,)   0.000519  60860852.0"
      ]
     },
     "execution_count": 51,
     "metadata": {},
     "output_type": "execute_result"
    }
   ],
   "source": [
    "df['SSE'] = df['SSE'].round(0)\n",
    "df[:5]"
   ]
  },
  {
   "cell_type": "code",
   "execution_count": 52,
   "metadata": {},
   "outputs": [
    {
     "data": {
      "text/plain": [
       "(2047, 4)"
      ]
     },
     "execution_count": 52,
     "metadata": {},
     "output_type": "execute_result"
    }
   ],
   "source": [
    "df.shape"
   ]
  },
  {
   "cell_type": "code",
   "execution_count": 53,
   "metadata": {},
   "outputs": [
    {
     "data": {
      "text/plain": [
       "2047"
      ]
     },
     "execution_count": 53,
     "metadata": {},
     "output_type": "execute_result"
    }
   ],
   "source": [
    "2**11 - 1"
   ]
  },
  {
   "cell_type": "markdown",
   "metadata": {},
   "source": [
    "We just built 2047 regression models. Lets see few of them."
   ]
  },
  {
   "cell_type": "code",
   "execution_count": 54,
   "metadata": {},
   "outputs": [
    {
     "data": {
      "text/html": [
       "<div>\n",
       "<style scoped>\n",
       "    .dataframe tbody tr th:only-of-type {\n",
       "        vertical-align: middle;\n",
       "    }\n",
       "\n",
       "    .dataframe tbody tr th {\n",
       "        vertical-align: top;\n",
       "    }\n",
       "\n",
       "    .dataframe thead th {\n",
       "        text-align: right;\n",
       "    }\n",
       "</style>\n",
       "<table border=\"1\" class=\"dataframe\">\n",
       "  <thead>\n",
       "    <tr style=\"text-align: right;\">\n",
       "      <th></th>\n",
       "      <th>n_features</th>\n",
       "      <th>features</th>\n",
       "      <th>R-squared</th>\n",
       "      <th>SSE</th>\n",
       "    </tr>\n",
       "  </thead>\n",
       "  <tbody>\n",
       "    <tr>\n",
       "      <th>309</th>\n",
       "      <td>4</td>\n",
       "      <td>(Income, Cards, Gender_Female, Ethnicity_Cauca...</td>\n",
       "      <td>0.242865</td>\n",
       "      <td>46103833.0</td>\n",
       "    </tr>\n",
       "    <tr>\n",
       "      <th>1199</th>\n",
       "      <td>6</td>\n",
       "      <td>(Income, Rating, Age, Gender_Female, Ethnicity...</td>\n",
       "      <td>0.879609</td>\n",
       "      <td>7330923.0</td>\n",
       "    </tr>\n",
       "    <tr>\n",
       "      <th>1755</th>\n",
       "      <td>7</td>\n",
       "      <td>(Limit, Cards, Age, Education, Gender_Female, ...</td>\n",
       "      <td>0.771386</td>\n",
       "      <td>13920841.0</td>\n",
       "    </tr>\n",
       "    <tr>\n",
       "      <th>563</th>\n",
       "      <td>5</td>\n",
       "      <td>(Income, Limit, Rating, Cards, Gender_Female)</td>\n",
       "      <td>0.878893</td>\n",
       "      <td>7374524.0</td>\n",
       "    </tr>\n",
       "    <tr>\n",
       "      <th>56</th>\n",
       "      <td>2</td>\n",
       "      <td>(Gender_Female, Student_Yes)</td>\n",
       "      <td>0.073873</td>\n",
       "      <td>56394170.0</td>\n",
       "    </tr>\n",
       "    <tr>\n",
       "      <th>546</th>\n",
       "      <td>4</td>\n",
       "      <td>(Education, Gender_Female, Student_Yes, Marrie...</td>\n",
       "      <td>0.075743</td>\n",
       "      <td>56280289.0</td>\n",
       "    </tr>\n",
       "    <tr>\n",
       "      <th>1293</th>\n",
       "      <td>6</td>\n",
       "      <td>(Limit, Rating, Cards, Education, Gender_Femal...</td>\n",
       "      <td>0.765966</td>\n",
       "      <td>14250915.0</td>\n",
       "    </tr>\n",
       "    <tr>\n",
       "      <th>181</th>\n",
       "      <td>3</td>\n",
       "      <td>(Cards, Education, Gender_Female)</td>\n",
       "      <td>0.025366</td>\n",
       "      <td>59347877.0</td>\n",
       "    </tr>\n",
       "    <tr>\n",
       "      <th>613</th>\n",
       "      <td>5</td>\n",
       "      <td>(Income, Limit, Age, Education, Ethnicity_Asian)</td>\n",
       "      <td>0.872174</td>\n",
       "      <td>7783615.0</td>\n",
       "    </tr>\n",
       "  </tbody>\n",
       "</table>\n",
       "</div>"
      ],
      "text/plain": [
       "      n_features                                           features  \\\n",
       "309            4  (Income, Cards, Gender_Female, Ethnicity_Cauca...   \n",
       "1199           6  (Income, Rating, Age, Gender_Female, Ethnicity...   \n",
       "1755           7  (Limit, Cards, Age, Education, Gender_Female, ...   \n",
       "563            5      (Income, Limit, Rating, Cards, Gender_Female)   \n",
       "56             2                       (Gender_Female, Student_Yes)   \n",
       "546            4  (Education, Gender_Female, Student_Yes, Marrie...   \n",
       "1293           6  (Limit, Rating, Cards, Education, Gender_Femal...   \n",
       "181            3                  (Cards, Education, Gender_Female)   \n",
       "613            5   (Income, Limit, Age, Education, Ethnicity_Asian)   \n",
       "\n",
       "      R-squared         SSE  \n",
       "309    0.242865  46103833.0  \n",
       "1199   0.879609   7330923.0  \n",
       "1755   0.771386  13920841.0  \n",
       "563    0.878893   7374524.0  \n",
       "56     0.073873  56394170.0  \n",
       "546    0.075743  56280289.0  \n",
       "1293   0.765966  14250915.0  \n",
       "181    0.025366  59347877.0  \n",
       "613    0.872174   7783615.0  "
      ]
     },
     "execution_count": 54,
     "metadata": {},
     "output_type": "execute_result"
    }
   ],
   "source": [
    "df.sample(9, random_state=1)"
   ]
  },
  {
   "cell_type": "code",
   "execution_count": 55,
   "metadata": {},
   "outputs": [],
   "source": [
    "pd.set_option('display.max_colwidth',190)"
   ]
  },
  {
   "cell_type": "code",
   "execution_count": 56,
   "metadata": {},
   "outputs": [
    {
     "data": {
      "text/html": [
       "<div>\n",
       "<style scoped>\n",
       "    .dataframe tbody tr th:only-of-type {\n",
       "        vertical-align: middle;\n",
       "    }\n",
       "\n",
       "    .dataframe tbody tr th {\n",
       "        vertical-align: top;\n",
       "    }\n",
       "\n",
       "    .dataframe thead th {\n",
       "        text-align: right;\n",
       "    }\n",
       "</style>\n",
       "<table border=\"1\" class=\"dataframe\">\n",
       "  <thead>\n",
       "    <tr style=\"text-align: right;\">\n",
       "      <th></th>\n",
       "      <th>n_features</th>\n",
       "      <th>features</th>\n",
       "      <th>R-squared</th>\n",
       "      <th>SSE</th>\n",
       "    </tr>\n",
       "  </thead>\n",
       "  <tbody>\n",
       "    <tr>\n",
       "      <th>309</th>\n",
       "      <td>4</td>\n",
       "      <td>(Income, Cards, Gender_Female, Ethnicity_Caucasian)</td>\n",
       "      <td>0.242865</td>\n",
       "      <td>46103833.0</td>\n",
       "    </tr>\n",
       "    <tr>\n",
       "      <th>1199</th>\n",
       "      <td>6</td>\n",
       "      <td>(Income, Rating, Age, Gender_Female, Ethnicity_Asian, Ethnicity_Caucasian)</td>\n",
       "      <td>0.879609</td>\n",
       "      <td>7330923.0</td>\n",
       "    </tr>\n",
       "    <tr>\n",
       "      <th>1755</th>\n",
       "      <td>7</td>\n",
       "      <td>(Limit, Cards, Age, Education, Gender_Female, Married_Yes, Ethnicity_Caucasian)</td>\n",
       "      <td>0.771386</td>\n",
       "      <td>13920841.0</td>\n",
       "    </tr>\n",
       "    <tr>\n",
       "      <th>563</th>\n",
       "      <td>5</td>\n",
       "      <td>(Income, Limit, Rating, Cards, Gender_Female)</td>\n",
       "      <td>0.878893</td>\n",
       "      <td>7374524.0</td>\n",
       "    </tr>\n",
       "    <tr>\n",
       "      <th>56</th>\n",
       "      <td>2</td>\n",
       "      <td>(Gender_Female, Student_Yes)</td>\n",
       "      <td>0.073873</td>\n",
       "      <td>56394170.0</td>\n",
       "    </tr>\n",
       "    <tr>\n",
       "      <th>546</th>\n",
       "      <td>4</td>\n",
       "      <td>(Education, Gender_Female, Student_Yes, Married_Yes)</td>\n",
       "      <td>0.075743</td>\n",
       "      <td>56280289.0</td>\n",
       "    </tr>\n",
       "    <tr>\n",
       "      <th>1293</th>\n",
       "      <td>6</td>\n",
       "      <td>(Limit, Rating, Cards, Education, Gender_Female, Ethnicity_Caucasian)</td>\n",
       "      <td>0.765966</td>\n",
       "      <td>14250915.0</td>\n",
       "    </tr>\n",
       "    <tr>\n",
       "      <th>181</th>\n",
       "      <td>3</td>\n",
       "      <td>(Cards, Education, Gender_Female)</td>\n",
       "      <td>0.025366</td>\n",
       "      <td>59347877.0</td>\n",
       "    </tr>\n",
       "    <tr>\n",
       "      <th>613</th>\n",
       "      <td>5</td>\n",
       "      <td>(Income, Limit, Age, Education, Ethnicity_Asian)</td>\n",
       "      <td>0.872174</td>\n",
       "      <td>7783615.0</td>\n",
       "    </tr>\n",
       "  </tbody>\n",
       "</table>\n",
       "</div>"
      ],
      "text/plain": [
       "      n_features  \\\n",
       "309            4   \n",
       "1199           6   \n",
       "1755           7   \n",
       "563            5   \n",
       "56             2   \n",
       "546            4   \n",
       "1293           6   \n",
       "181            3   \n",
       "613            5   \n",
       "\n",
       "                                                                             features  \\\n",
       "309                               (Income, Cards, Gender_Female, Ethnicity_Caucasian)   \n",
       "1199       (Income, Rating, Age, Gender_Female, Ethnicity_Asian, Ethnicity_Caucasian)   \n",
       "1755  (Limit, Cards, Age, Education, Gender_Female, Married_Yes, Ethnicity_Caucasian)   \n",
       "563                                     (Income, Limit, Rating, Cards, Gender_Female)   \n",
       "56                                                       (Gender_Female, Student_Yes)   \n",
       "546                              (Education, Gender_Female, Student_Yes, Married_Yes)   \n",
       "1293            (Limit, Rating, Cards, Education, Gender_Female, Ethnicity_Caucasian)   \n",
       "181                                                 (Cards, Education, Gender_Female)   \n",
       "613                                  (Income, Limit, Age, Education, Ethnicity_Asian)   \n",
       "\n",
       "      R-squared         SSE  \n",
       "309    0.242865  46103833.0  \n",
       "1199   0.879609   7330923.0  \n",
       "1755   0.771386  13920841.0  \n",
       "563    0.878893   7374524.0  \n",
       "56     0.073873  56394170.0  \n",
       "546    0.075743  56280289.0  \n",
       "1293   0.765966  14250915.0  \n",
       "181    0.025366  59347877.0  \n",
       "613    0.872174   7783615.0  "
      ]
     },
     "execution_count": 56,
     "metadata": {},
     "output_type": "execute_result"
    }
   ],
   "source": [
    "df.sample(9, random_state=1)"
   ]
  },
  {
   "cell_type": "code",
   "execution_count": 57,
   "metadata": {
    "scrolled": true
   },
   "outputs": [
    {
     "data": {
      "text/html": [
       "<div>\n",
       "<style scoped>\n",
       "    .dataframe tbody tr th:only-of-type {\n",
       "        vertical-align: middle;\n",
       "    }\n",
       "\n",
       "    .dataframe tbody tr th {\n",
       "        vertical-align: top;\n",
       "    }\n",
       "\n",
       "    .dataframe thead th {\n",
       "        text-align: right;\n",
       "    }\n",
       "</style>\n",
       "<table border=\"1\" class=\"dataframe\">\n",
       "  <thead>\n",
       "    <tr style=\"text-align: right;\">\n",
       "      <th></th>\n",
       "      <th>n_features</th>\n",
       "      <th>features</th>\n",
       "      <th>R-squared</th>\n",
       "      <th>SSE</th>\n",
       "    </tr>\n",
       "  </thead>\n",
       "  <tbody>\n",
       "    <tr>\n",
       "      <th>2041</th>\n",
       "      <td>10</td>\n",
       "      <td>(Income, Limit, Rating, Cards, Education, Gender_Female, Student_Yes, Married_Yes, Ethnicity_Asian, Ethnicity_Caucasian)</td>\n",
       "      <td>0.954878</td>\n",
       "      <td>2747582.0</td>\n",
       "    </tr>\n",
       "    <tr>\n",
       "      <th>2042</th>\n",
       "      <td>10</td>\n",
       "      <td>(Income, Limit, Rating, Age, Education, Gender_Female, Student_Yes, Married_Yes, Ethnicity_Asian, Ethnicity_Caucasian)</td>\n",
       "      <td>0.954477</td>\n",
       "      <td>2772027.0</td>\n",
       "    </tr>\n",
       "    <tr>\n",
       "      <th>2043</th>\n",
       "      <td>10</td>\n",
       "      <td>(Income, Limit, Cards, Age, Education, Gender_Female, Student_Yes, Married_Yes, Ethnicity_Asian, Ethnicity_Caucasian)</td>\n",
       "      <td>0.954157</td>\n",
       "      <td>2791499.0</td>\n",
       "    </tr>\n",
       "    <tr>\n",
       "      <th>2044</th>\n",
       "      <td>10</td>\n",
       "      <td>(Income, Rating, Cards, Age, Education, Gender_Female, Student_Yes, Married_Yes, Ethnicity_Asian, Ethnicity_Caucasian)</td>\n",
       "      <td>0.953555</td>\n",
       "      <td>2828153.0</td>\n",
       "    </tr>\n",
       "    <tr>\n",
       "      <th>2045</th>\n",
       "      <td>10</td>\n",
       "      <td>(Limit, Rating, Cards, Age, Education, Gender_Female, Student_Yes, Married_Yes, Ethnicity_Asian, Ethnicity_Caucasian)</td>\n",
       "      <td>0.830560</td>\n",
       "      <td>10317590.0</td>\n",
       "    </tr>\n",
       "    <tr>\n",
       "      <th>2046</th>\n",
       "      <td>11</td>\n",
       "      <td>(Income, Limit, Rating, Cards, Age, Education, Gender_Female, Student_Yes, Married_Yes, Ethnicity_Asian, Ethnicity_Caucasian)</td>\n",
       "      <td>0.955728</td>\n",
       "      <td>2695832.0</td>\n",
       "    </tr>\n",
       "  </tbody>\n",
       "</table>\n",
       "</div>"
      ],
      "text/plain": [
       "      n_features  \\\n",
       "2041          10   \n",
       "2042          10   \n",
       "2043          10   \n",
       "2044          10   \n",
       "2045          10   \n",
       "2046          11   \n",
       "\n",
       "                                                                                                                           features  \\\n",
       "2041       (Income, Limit, Rating, Cards, Education, Gender_Female, Student_Yes, Married_Yes, Ethnicity_Asian, Ethnicity_Caucasian)   \n",
       "2042         (Income, Limit, Rating, Age, Education, Gender_Female, Student_Yes, Married_Yes, Ethnicity_Asian, Ethnicity_Caucasian)   \n",
       "2043          (Income, Limit, Cards, Age, Education, Gender_Female, Student_Yes, Married_Yes, Ethnicity_Asian, Ethnicity_Caucasian)   \n",
       "2044         (Income, Rating, Cards, Age, Education, Gender_Female, Student_Yes, Married_Yes, Ethnicity_Asian, Ethnicity_Caucasian)   \n",
       "2045          (Limit, Rating, Cards, Age, Education, Gender_Female, Student_Yes, Married_Yes, Ethnicity_Asian, Ethnicity_Caucasian)   \n",
       "2046  (Income, Limit, Rating, Cards, Age, Education, Gender_Female, Student_Yes, Married_Yes, Ethnicity_Asian, Ethnicity_Caucasian)   \n",
       "\n",
       "      R-squared         SSE  \n",
       "2041   0.954878   2747582.0  \n",
       "2042   0.954477   2772027.0  \n",
       "2043   0.954157   2791499.0  \n",
       "2044   0.953555   2828153.0  \n",
       "2045   0.830560  10317590.0  \n",
       "2046   0.955728   2695832.0  "
      ]
     },
     "execution_count": 57,
     "metadata": {},
     "output_type": "execute_result"
    }
   ],
   "source": [
    "df[-6:]"
   ]
  },
  {
   "cell_type": "code",
   "execution_count": 58,
   "metadata": {},
   "outputs": [],
   "source": [
    "# Largest R-squared by n_features"
   ]
  },
  {
   "cell_type": "code",
   "execution_count": 59,
   "metadata": {},
   "outputs": [
    {
     "data": {
      "text/plain": [
       "n_features\n",
       "1     0.761631\n",
       "2     0.877077\n",
       "3     0.951700\n",
       "4     0.952881\n",
       "5     0.954163\n",
       "6     0.955137\n",
       "7     0.955429\n",
       "8     0.955688\n",
       "9     0.955719\n",
       "10    0.955724\n",
       "11    0.955728\n",
       "Name: R-squared, dtype: float64"
      ]
     },
     "execution_count": 59,
     "metadata": {},
     "output_type": "execute_result"
    }
   ],
   "source": [
    "best_r2 = df.groupby(['n_features'])['R-squared'].max()\n",
    "best_r2"
   ]
  },
  {
   "cell_type": "code",
   "execution_count": 60,
   "metadata": {},
   "outputs": [
    {
     "data": {
      "text/html": [
       "<div>\n",
       "<style scoped>\n",
       "    .dataframe tbody tr th:only-of-type {\n",
       "        vertical-align: middle;\n",
       "    }\n",
       "\n",
       "    .dataframe tbody tr th {\n",
       "        vertical-align: top;\n",
       "    }\n",
       "\n",
       "    .dataframe thead th {\n",
       "        text-align: right;\n",
       "    }\n",
       "</style>\n",
       "<table border=\"1\" class=\"dataframe\">\n",
       "  <thead>\n",
       "    <tr style=\"text-align: right;\">\n",
       "      <th></th>\n",
       "      <th>n_features</th>\n",
       "      <th>features</th>\n",
       "      <th>R-squared</th>\n",
       "      <th>SSE</th>\n",
       "    </tr>\n",
       "  </thead>\n",
       "  <tbody>\n",
       "    <tr>\n",
       "      <th>2</th>\n",
       "      <td>1</td>\n",
       "      <td>(Rating,)</td>\n",
       "      <td>0.761631</td>\n",
       "      <td>14514899.0</td>\n",
       "    </tr>\n",
       "  </tbody>\n",
       "</table>\n",
       "</div>"
      ],
      "text/plain": [
       "   n_features   features  R-squared         SSE\n",
       "2           1  (Rating,)   0.761631  14514899.0"
      ]
     },
     "execution_count": 60,
     "metadata": {},
     "output_type": "execute_result"
    }
   ],
   "source": [
    "# Best model with one feature\n",
    "df2 = df[df['R-squared'] == best_r2[1]]\n",
    "df2"
   ]
  },
  {
   "cell_type": "code",
   "execution_count": 61,
   "metadata": {},
   "outputs": [
    {
     "data": {
      "text/html": [
       "<div>\n",
       "<style scoped>\n",
       "    .dataframe tbody tr th:only-of-type {\n",
       "        vertical-align: middle;\n",
       "    }\n",
       "\n",
       "    .dataframe tbody tr th {\n",
       "        vertical-align: top;\n",
       "    }\n",
       "\n",
       "    .dataframe thead th {\n",
       "        text-align: right;\n",
       "    }\n",
       "</style>\n",
       "<table border=\"1\" class=\"dataframe\">\n",
       "  <thead>\n",
       "    <tr style=\"text-align: right;\">\n",
       "      <th></th>\n",
       "      <th>n_features</th>\n",
       "      <th>features</th>\n",
       "      <th>R-squared</th>\n",
       "      <th>SSE</th>\n",
       "    </tr>\n",
       "  </thead>\n",
       "  <tbody>\n",
       "    <tr>\n",
       "      <th>12</th>\n",
       "      <td>2</td>\n",
       "      <td>(Income, Rating)</td>\n",
       "      <td>0.877077</td>\n",
       "      <td>7485072.0</td>\n",
       "    </tr>\n",
       "  </tbody>\n",
       "</table>\n",
       "</div>"
      ],
      "text/plain": [
       "    n_features          features  R-squared        SSE\n",
       "12           2  (Income, Rating)   0.877077  7485072.0"
      ]
     },
     "execution_count": 61,
     "metadata": {},
     "output_type": "execute_result"
    }
   ],
   "source": [
    "# Best model with two features\n",
    "df2 = df[df['R-squared'] == best_r2[2]]\n",
    "df2"
   ]
  },
  {
   "cell_type": "code",
   "execution_count": 62,
   "metadata": {},
   "outputs": [
    {
     "name": "stdout",
     "output_type": "stream",
     "text": [
      "[2]\n",
      "[12]\n",
      "[79]\n",
      "[235]\n",
      "[564]\n",
      "[1025]\n",
      "[1495]\n",
      "[1833]\n",
      "[1988]\n",
      "[2039]\n",
      "[2046]\n"
     ]
    }
   ],
   "source": [
    "for i in range(1,12):\n",
    "    df2 = df[df['R-squared'] == best_r2[i]]\n",
    "    print(df2.index.values)"
   ]
  },
  {
   "cell_type": "code",
   "execution_count": 63,
   "metadata": {},
   "outputs": [],
   "source": [
    "list1 = list()\n",
    "for i in range(1,12):\n",
    "    df2 = df[df['R-squared'] == best_r2[i]]\n",
    "    list1.extend(df2.index.values.tolist())"
   ]
  },
  {
   "cell_type": "code",
   "execution_count": 64,
   "metadata": {},
   "outputs": [
    {
     "data": {
      "text/plain": [
       "[2, 12, 79, 235, 564, 1025, 1495, 1833, 1988, 2039, 2046]"
      ]
     },
     "execution_count": 64,
     "metadata": {},
     "output_type": "execute_result"
    }
   ],
   "source": [
    "list1"
   ]
  },
  {
   "cell_type": "code",
   "execution_count": 65,
   "metadata": {},
   "outputs": [
    {
     "data": {
      "text/html": [
       "<div>\n",
       "<style scoped>\n",
       "    .dataframe tbody tr th:only-of-type {\n",
       "        vertical-align: middle;\n",
       "    }\n",
       "\n",
       "    .dataframe tbody tr th {\n",
       "        vertical-align: top;\n",
       "    }\n",
       "\n",
       "    .dataframe thead th {\n",
       "        text-align: right;\n",
       "    }\n",
       "</style>\n",
       "<table border=\"1\" class=\"dataframe\">\n",
       "  <thead>\n",
       "    <tr style=\"text-align: right;\">\n",
       "      <th></th>\n",
       "      <th>n_features</th>\n",
       "      <th>features</th>\n",
       "      <th>R-squared</th>\n",
       "      <th>SSE</th>\n",
       "    </tr>\n",
       "  </thead>\n",
       "  <tbody>\n",
       "    <tr>\n",
       "      <th>2</th>\n",
       "      <td>1</td>\n",
       "      <td>(Rating,)</td>\n",
       "      <td>0.761631</td>\n",
       "      <td>14514899.0</td>\n",
       "    </tr>\n",
       "    <tr>\n",
       "      <th>12</th>\n",
       "      <td>2</td>\n",
       "      <td>(Income, Rating)</td>\n",
       "      <td>0.877077</td>\n",
       "      <td>7485072.0</td>\n",
       "    </tr>\n",
       "    <tr>\n",
       "      <th>79</th>\n",
       "      <td>3</td>\n",
       "      <td>(Income, Rating, Student_Yes)</td>\n",
       "      <td>0.951700</td>\n",
       "      <td>2941135.0</td>\n",
       "    </tr>\n",
       "    <tr>\n",
       "      <th>235</th>\n",
       "      <td>4</td>\n",
       "      <td>(Income, Limit, Rating, Student_Yes)</td>\n",
       "      <td>0.952881</td>\n",
       "      <td>2869207.0</td>\n",
       "    </tr>\n",
       "    <tr>\n",
       "      <th>564</th>\n",
       "      <td>5</td>\n",
       "      <td>(Income, Limit, Rating, Cards, Student_Yes)</td>\n",
       "      <td>0.954163</td>\n",
       "      <td>2791149.0</td>\n",
       "    </tr>\n",
       "    <tr>\n",
       "      <th>1025</th>\n",
       "      <td>6</td>\n",
       "      <td>(Income, Limit, Rating, Cards, Age, Student_Yes)</td>\n",
       "      <td>0.955137</td>\n",
       "      <td>2731792.0</td>\n",
       "    </tr>\n",
       "    <tr>\n",
       "      <th>1495</th>\n",
       "      <td>7</td>\n",
       "      <td>(Income, Limit, Rating, Cards, Age, Student_Yes, Ethnicity_Asian)</td>\n",
       "      <td>0.955429</td>\n",
       "      <td>2714033.0</td>\n",
       "    </tr>\n",
       "    <tr>\n",
       "      <th>1833</th>\n",
       "      <td>8</td>\n",
       "      <td>(Income, Limit, Rating, Cards, Age, Student_Yes, Ethnicity_Asian, Ethnicity_Caucasian)</td>\n",
       "      <td>0.955688</td>\n",
       "      <td>2698241.0</td>\n",
       "    </tr>\n",
       "    <tr>\n",
       "      <th>1988</th>\n",
       "      <td>9</td>\n",
       "      <td>(Income, Limit, Rating, Cards, Age, Education, Student_Yes, Ethnicity_Asian, Ethnicity_Caucasian)</td>\n",
       "      <td>0.955719</td>\n",
       "      <td>2696376.0</td>\n",
       "    </tr>\n",
       "    <tr>\n",
       "      <th>2039</th>\n",
       "      <td>10</td>\n",
       "      <td>(Income, Limit, Rating, Cards, Age, Education, Student_Yes, Married_Yes, Ethnicity_Asian, Ethnicity_Caucasian)</td>\n",
       "      <td>0.955724</td>\n",
       "      <td>2696091.0</td>\n",
       "    </tr>\n",
       "    <tr>\n",
       "      <th>2046</th>\n",
       "      <td>11</td>\n",
       "      <td>(Income, Limit, Rating, Cards, Age, Education, Gender_Female, Student_Yes, Married_Yes, Ethnicity_Asian, Ethnicity_Caucasian)</td>\n",
       "      <td>0.955728</td>\n",
       "      <td>2695832.0</td>\n",
       "    </tr>\n",
       "  </tbody>\n",
       "</table>\n",
       "</div>"
      ],
      "text/plain": [
       "      n_features  \\\n",
       "2              1   \n",
       "12             2   \n",
       "79             3   \n",
       "235            4   \n",
       "564            5   \n",
       "1025           6   \n",
       "1495           7   \n",
       "1833           8   \n",
       "1988           9   \n",
       "2039          10   \n",
       "2046          11   \n",
       "\n",
       "                                                                                                                           features  \\\n",
       "2                                                                                                                         (Rating,)   \n",
       "12                                                                                                                 (Income, Rating)   \n",
       "79                                                                                                    (Income, Rating, Student_Yes)   \n",
       "235                                                                                            (Income, Limit, Rating, Student_Yes)   \n",
       "564                                                                                     (Income, Limit, Rating, Cards, Student_Yes)   \n",
       "1025                                                                               (Income, Limit, Rating, Cards, Age, Student_Yes)   \n",
       "1495                                                              (Income, Limit, Rating, Cards, Age, Student_Yes, Ethnicity_Asian)   \n",
       "1833                                         (Income, Limit, Rating, Cards, Age, Student_Yes, Ethnicity_Asian, Ethnicity_Caucasian)   \n",
       "1988                              (Income, Limit, Rating, Cards, Age, Education, Student_Yes, Ethnicity_Asian, Ethnicity_Caucasian)   \n",
       "2039                 (Income, Limit, Rating, Cards, Age, Education, Student_Yes, Married_Yes, Ethnicity_Asian, Ethnicity_Caucasian)   \n",
       "2046  (Income, Limit, Rating, Cards, Age, Education, Gender_Female, Student_Yes, Married_Yes, Ethnicity_Asian, Ethnicity_Caucasian)   \n",
       "\n",
       "      R-squared         SSE  \n",
       "2      0.761631  14514899.0  \n",
       "12     0.877077   7485072.0  \n",
       "79     0.951700   2941135.0  \n",
       "235    0.952881   2869207.0  \n",
       "564    0.954163   2791149.0  \n",
       "1025   0.955137   2731792.0  \n",
       "1495   0.955429   2714033.0  \n",
       "1833   0.955688   2698241.0  \n",
       "1988   0.955719   2696376.0  \n",
       "2039   0.955724   2696091.0  \n",
       "2046   0.955728   2695832.0  "
      ]
     },
     "execution_count": 65,
     "metadata": {},
     "output_type": "execute_result"
    }
   ],
   "source": [
    "df2 = df.iloc[list1].copy()\n",
    "df2"
   ]
  },
  {
   "cell_type": "code",
   "execution_count": 66,
   "metadata": {},
   "outputs": [],
   "source": [
    "# best predictor is Rating,   followed by Income. \n",
    "# Worst predictor is Gender."
   ]
  },
  {
   "cell_type": "code",
   "execution_count": 67,
   "metadata": {},
   "outputs": [],
   "source": [
    "# Add new columns for AIC, adj R-squared "
   ]
  },
  {
   "cell_type": "code",
   "execution_count": 68,
   "metadata": {},
   "outputs": [],
   "source": [
    "df2['adj_R-squared'] = 1 - ((1-df2['R-squared'])*(n-1)/\n",
    "                            (n - df2['n_features'] - 1))\n",
    "df2['AIC'] = n * np.log(df2['SSE']/n) + 2*df2['n_features']"
   ]
  },
  {
   "cell_type": "code",
   "execution_count": 69,
   "metadata": {},
   "outputs": [],
   "source": [
    "# Remove R-squared, SSE columns"
   ]
  },
  {
   "cell_type": "code",
   "execution_count": 70,
   "metadata": {},
   "outputs": [],
   "source": [
    "df2.drop(['R-squared','SSE'],axis=1,inplace=True)"
   ]
  },
  {
   "cell_type": "code",
   "execution_count": 71,
   "metadata": {},
   "outputs": [
    {
     "data": {
      "text/html": [
       "<div>\n",
       "<style scoped>\n",
       "    .dataframe tbody tr th:only-of-type {\n",
       "        vertical-align: middle;\n",
       "    }\n",
       "\n",
       "    .dataframe tbody tr th {\n",
       "        vertical-align: top;\n",
       "    }\n",
       "\n",
       "    .dataframe thead th {\n",
       "        text-align: right;\n",
       "    }\n",
       "</style>\n",
       "<table border=\"1\" class=\"dataframe\">\n",
       "  <thead>\n",
       "    <tr style=\"text-align: right;\">\n",
       "      <th></th>\n",
       "      <th>n_features</th>\n",
       "      <th>features</th>\n",
       "      <th>adj_R-squared</th>\n",
       "      <th>AIC</th>\n",
       "    </tr>\n",
       "  </thead>\n",
       "  <tbody>\n",
       "    <tr>\n",
       "      <th>2</th>\n",
       "      <td>1</td>\n",
       "      <td>(Rating,)</td>\n",
       "      <td>0.760831</td>\n",
       "      <td>3238.071117</td>\n",
       "    </tr>\n",
       "    <tr>\n",
       "      <th>12</th>\n",
       "      <td>2</td>\n",
       "      <td>(Income, Rating)</td>\n",
       "      <td>0.876249</td>\n",
       "      <td>3041.391616</td>\n",
       "    </tr>\n",
       "    <tr>\n",
       "      <th>79</th>\n",
       "      <td>3</td>\n",
       "      <td>(Income, Rating, Student_Yes)</td>\n",
       "      <td>0.951210</td>\n",
       "      <td>2763.157093</td>\n",
       "    </tr>\n",
       "    <tr>\n",
       "      <th>235</th>\n",
       "      <td>4</td>\n",
       "      <td>(Income, Limit, Rating, Student_Yes)</td>\n",
       "      <td>0.952242</td>\n",
       "      <td>2757.729130</td>\n",
       "    </tr>\n",
       "    <tr>\n",
       "      <th>564</th>\n",
       "      <td>5</td>\n",
       "      <td>(Income, Limit, Rating, Cards, Student_Yes)</td>\n",
       "      <td>0.953383</td>\n",
       "      <td>2751.454427</td>\n",
       "    </tr>\n",
       "    <tr>\n",
       "      <th>1025</th>\n",
       "      <td>6</td>\n",
       "      <td>(Income, Limit, Rating, Cards, Age, Student_Yes)</td>\n",
       "      <td>0.954219</td>\n",
       "      <td>2747.005766</td>\n",
       "    </tr>\n",
       "    <tr>\n",
       "      <th>1495</th>\n",
       "      <td>7</td>\n",
       "      <td>(Income, Limit, Rating, Cards, Age, Student_Yes, Ethnicity_Asian)</td>\n",
       "      <td>0.954361</td>\n",
       "      <td>2747.049141</td>\n",
       "    </tr>\n",
       "    <tr>\n",
       "      <th>1833</th>\n",
       "      <td>8</td>\n",
       "      <td>(Income, Limit, Rating, Cards, Age, Student_Yes, Ethnicity_Asian, Ethnicity_Caucasian)</td>\n",
       "      <td>0.954470</td>\n",
       "      <td>2747.298449</td>\n",
       "    </tr>\n",
       "    <tr>\n",
       "      <th>1988</th>\n",
       "      <td>9</td>\n",
       "      <td>(Income, Limit, Rating, Cards, Age, Education, Student_Yes, Ethnicity_Asian, Ethnicity_Caucasian)</td>\n",
       "      <td>0.954345</td>\n",
       "      <td>2749.091020</td>\n",
       "    </tr>\n",
       "    <tr>\n",
       "      <th>2039</th>\n",
       "      <td>10</td>\n",
       "      <td>(Income, Limit, Rating, Cards, Age, Education, Student_Yes, Married_Yes, Ethnicity_Asian, Ethnicity_Caucasian)</td>\n",
       "      <td>0.954192</td>\n",
       "      <td>2751.059309</td>\n",
       "    </tr>\n",
       "    <tr>\n",
       "      <th>2046</th>\n",
       "      <td>11</td>\n",
       "      <td>(Income, Limit, Rating, Cards, Age, Education, Gender_Female, Student_Yes, Married_Yes, Ethnicity_Asian, Ethnicity_Caucasian)</td>\n",
       "      <td>0.954037</td>\n",
       "      <td>2753.030488</td>\n",
       "    </tr>\n",
       "  </tbody>\n",
       "</table>\n",
       "</div>"
      ],
      "text/plain": [
       "      n_features  \\\n",
       "2              1   \n",
       "12             2   \n",
       "79             3   \n",
       "235            4   \n",
       "564            5   \n",
       "1025           6   \n",
       "1495           7   \n",
       "1833           8   \n",
       "1988           9   \n",
       "2039          10   \n",
       "2046          11   \n",
       "\n",
       "                                                                                                                           features  \\\n",
       "2                                                                                                                         (Rating,)   \n",
       "12                                                                                                                 (Income, Rating)   \n",
       "79                                                                                                    (Income, Rating, Student_Yes)   \n",
       "235                                                                                            (Income, Limit, Rating, Student_Yes)   \n",
       "564                                                                                     (Income, Limit, Rating, Cards, Student_Yes)   \n",
       "1025                                                                               (Income, Limit, Rating, Cards, Age, Student_Yes)   \n",
       "1495                                                              (Income, Limit, Rating, Cards, Age, Student_Yes, Ethnicity_Asian)   \n",
       "1833                                         (Income, Limit, Rating, Cards, Age, Student_Yes, Ethnicity_Asian, Ethnicity_Caucasian)   \n",
       "1988                              (Income, Limit, Rating, Cards, Age, Education, Student_Yes, Ethnicity_Asian, Ethnicity_Caucasian)   \n",
       "2039                 (Income, Limit, Rating, Cards, Age, Education, Student_Yes, Married_Yes, Ethnicity_Asian, Ethnicity_Caucasian)   \n",
       "2046  (Income, Limit, Rating, Cards, Age, Education, Gender_Female, Student_Yes, Married_Yes, Ethnicity_Asian, Ethnicity_Caucasian)   \n",
       "\n",
       "      adj_R-squared          AIC  \n",
       "2          0.760831  3238.071117  \n",
       "12         0.876249  3041.391616  \n",
       "79         0.951210  2763.157093  \n",
       "235        0.952242  2757.729130  \n",
       "564        0.953383  2751.454427  \n",
       "1025       0.954219  2747.005766  \n",
       "1495       0.954361  2747.049141  \n",
       "1833       0.954470  2747.298449  \n",
       "1988       0.954345  2749.091020  \n",
       "2039       0.954192  2751.059309  \n",
       "2046       0.954037  2753.030488  "
      ]
     },
     "execution_count": 71,
     "metadata": {},
     "output_type": "execute_result"
    }
   ],
   "source": [
    "df2"
   ]
  },
  {
   "cell_type": "markdown",
   "metadata": {},
   "source": [
    "### AIC best model"
   ]
  },
  {
   "cell_type": "code",
   "execution_count": 72,
   "metadata": {},
   "outputs": [
    {
     "data": {
      "text/html": [
       "<div>\n",
       "<style scoped>\n",
       "    .dataframe tbody tr th:only-of-type {\n",
       "        vertical-align: middle;\n",
       "    }\n",
       "\n",
       "    .dataframe tbody tr th {\n",
       "        vertical-align: top;\n",
       "    }\n",
       "\n",
       "    .dataframe thead th {\n",
       "        text-align: right;\n",
       "    }\n",
       "</style>\n",
       "<table border=\"1\" class=\"dataframe\">\n",
       "  <thead>\n",
       "    <tr style=\"text-align: right;\">\n",
       "      <th></th>\n",
       "      <th>n_features</th>\n",
       "      <th>features</th>\n",
       "      <th>adj_R-squared</th>\n",
       "      <th>AIC</th>\n",
       "    </tr>\n",
       "  </thead>\n",
       "  <tbody>\n",
       "    <tr>\n",
       "      <th>1025</th>\n",
       "      <td>6</td>\n",
       "      <td>(Income, Limit, Rating, Cards, Age, Student_Yes)</td>\n",
       "      <td>0.954219</td>\n",
       "      <td>2747.005766</td>\n",
       "    </tr>\n",
       "  </tbody>\n",
       "</table>\n",
       "</div>"
      ],
      "text/plain": [
       "      n_features                                          features  \\\n",
       "1025           6  (Income, Limit, Rating, Cards, Age, Student_Yes)   \n",
       "\n",
       "      adj_R-squared          AIC  \n",
       "1025       0.954219  2747.005766  "
      ]
     },
     "execution_count": 72,
     "metadata": {},
     "output_type": "execute_result"
    }
   ],
   "source": [
    "row6 = df2[df2.AIC == df2.AIC.min()]\n",
    "row6"
   ]
  },
  {
   "cell_type": "code",
   "execution_count": 73,
   "metadata": {},
   "outputs": [],
   "source": [
    "# get predictor names of AIC best model"
   ]
  },
  {
   "cell_type": "code",
   "execution_count": 74,
   "metadata": {},
   "outputs": [
    {
     "data": {
      "text/plain": [
       "('Income', 'Limit', 'Rating', 'Cards', 'Age', 'Student_Yes')"
      ]
     },
     "execution_count": 74,
     "metadata": {},
     "output_type": "execute_result"
    }
   ],
   "source": [
    "row6.features.iloc[0]"
   ]
  },
  {
   "cell_type": "code",
   "execution_count": 75,
   "metadata": {},
   "outputs": [
    {
     "data": {
      "text/plain": [
       "['Income', 'Limit', 'Rating', 'Cards', 'Age', 'Student_Yes']"
      ]
     },
     "execution_count": 75,
     "metadata": {},
     "output_type": "execute_result"
    }
   ],
   "source": [
    "list1 = list(row6.features.iloc[0])\n",
    "list1"
   ]
  },
  {
   "cell_type": "code",
   "execution_count": 76,
   "metadata": {},
   "outputs": [],
   "source": [
    "# make dataset with these columns only"
   ]
  },
  {
   "cell_type": "code",
   "execution_count": 77,
   "metadata": {},
   "outputs": [
    {
     "data": {
      "text/html": [
       "<div>\n",
       "<style scoped>\n",
       "    .dataframe tbody tr th:only-of-type {\n",
       "        vertical-align: middle;\n",
       "    }\n",
       "\n",
       "    .dataframe tbody tr th {\n",
       "        vertical-align: top;\n",
       "    }\n",
       "\n",
       "    .dataframe thead th {\n",
       "        text-align: right;\n",
       "    }\n",
       "</style>\n",
       "<table border=\"1\" class=\"dataframe\">\n",
       "  <thead>\n",
       "    <tr style=\"text-align: right;\">\n",
       "      <th></th>\n",
       "      <th>Income</th>\n",
       "      <th>Limit</th>\n",
       "      <th>Rating</th>\n",
       "      <th>Cards</th>\n",
       "      <th>Age</th>\n",
       "      <th>Student_Yes</th>\n",
       "    </tr>\n",
       "  </thead>\n",
       "  <tbody>\n",
       "    <tr>\n",
       "      <th>82</th>\n",
       "      <td>23.672</td>\n",
       "      <td>4433</td>\n",
       "      <td>344</td>\n",
       "      <td>3</td>\n",
       "      <td>63</td>\n",
       "      <td>0</td>\n",
       "    </tr>\n",
       "    <tr>\n",
       "      <th>367</th>\n",
       "      <td>23.793</td>\n",
       "      <td>3615</td>\n",
       "      <td>263</td>\n",
       "      <td>2</td>\n",
       "      <td>70</td>\n",
       "      <td>0</td>\n",
       "    </tr>\n",
       "    <tr>\n",
       "      <th>179</th>\n",
       "      <td>58.026</td>\n",
       "      <td>7499</td>\n",
       "      <td>560</td>\n",
       "      <td>5</td>\n",
       "      <td>67</td>\n",
       "      <td>0</td>\n",
       "    </tr>\n",
       "    <tr>\n",
       "      <th>27</th>\n",
       "      <td>32.793</td>\n",
       "      <td>4534</td>\n",
       "      <td>333</td>\n",
       "      <td>2</td>\n",
       "      <td>44</td>\n",
       "      <td>0</td>\n",
       "    </tr>\n",
       "    <tr>\n",
       "      <th>89</th>\n",
       "      <td>59.530</td>\n",
       "      <td>7518</td>\n",
       "      <td>543</td>\n",
       "      <td>3</td>\n",
       "      <td>52</td>\n",
       "      <td>0</td>\n",
       "    </tr>\n",
       "  </tbody>\n",
       "</table>\n",
       "</div>"
      ],
      "text/plain": [
       "     Income  Limit  Rating  Cards  Age  Student_Yes\n",
       "82   23.672   4433     344      3   63            0\n",
       "367  23.793   3615     263      2   70            0\n",
       "179  58.026   7499     560      5   67            0\n",
       "27   32.793   4534     333      2   44            0\n",
       "89   59.530   7518     543      3   52            0"
      ]
     },
     "execution_count": 77,
     "metadata": {},
     "output_type": "execute_result"
    }
   ],
   "source": [
    "X1 = X[list1]\n",
    "X1[:5]"
   ]
  },
  {
   "cell_type": "code",
   "execution_count": null,
   "metadata": {},
   "outputs": [],
   "source": []
  },
  {
   "cell_type": "markdown",
   "metadata": {},
   "source": [
    "### Adj-R2 best model"
   ]
  },
  {
   "cell_type": "code",
   "execution_count": 78,
   "metadata": {},
   "outputs": [
    {
     "data": {
      "text/plain": [
       "0.9544702381591676"
      ]
     },
     "execution_count": 78,
     "metadata": {},
     "output_type": "execute_result"
    }
   ],
   "source": [
    "max_R2 = df2['adj_R-squared'].max()\n",
    "max_R2"
   ]
  },
  {
   "cell_type": "code",
   "execution_count": 79,
   "metadata": {},
   "outputs": [
    {
     "data": {
      "text/html": [
       "<div>\n",
       "<style scoped>\n",
       "    .dataframe tbody tr th:only-of-type {\n",
       "        vertical-align: middle;\n",
       "    }\n",
       "\n",
       "    .dataframe tbody tr th {\n",
       "        vertical-align: top;\n",
       "    }\n",
       "\n",
       "    .dataframe thead th {\n",
       "        text-align: right;\n",
       "    }\n",
       "</style>\n",
       "<table border=\"1\" class=\"dataframe\">\n",
       "  <thead>\n",
       "    <tr style=\"text-align: right;\">\n",
       "      <th></th>\n",
       "      <th>n_features</th>\n",
       "      <th>features</th>\n",
       "      <th>adj_R-squared</th>\n",
       "      <th>AIC</th>\n",
       "    </tr>\n",
       "  </thead>\n",
       "  <tbody>\n",
       "    <tr>\n",
       "      <th>1833</th>\n",
       "      <td>8</td>\n",
       "      <td>(Income, Limit, Rating, Cards, Age, Student_Yes, Ethnicity_Asian, Ethnicity_Caucasian)</td>\n",
       "      <td>0.95447</td>\n",
       "      <td>2747.298449</td>\n",
       "    </tr>\n",
       "  </tbody>\n",
       "</table>\n",
       "</div>"
      ],
      "text/plain": [
       "      n_features  \\\n",
       "1833           8   \n",
       "\n",
       "                                                                                    features  \\\n",
       "1833  (Income, Limit, Rating, Cards, Age, Student_Yes, Ethnicity_Asian, Ethnicity_Caucasian)   \n",
       "\n",
       "      adj_R-squared          AIC  \n",
       "1833        0.95447  2747.298449  "
      ]
     },
     "execution_count": 79,
     "metadata": {},
     "output_type": "execute_result"
    }
   ],
   "source": [
    "df2[df2['adj_R-squared'] == max_R2]"
   ]
  },
  {
   "cell_type": "code",
   "execution_count": 80,
   "metadata": {},
   "outputs": [],
   "source": [
    "# Adj-R2 best model has 8 features"
   ]
  },
  {
   "cell_type": "code",
   "execution_count": 81,
   "metadata": {},
   "outputs": [
    {
     "data": {
      "text/html": [
       "<div>\n",
       "<style scoped>\n",
       "    .dataframe tbody tr th:only-of-type {\n",
       "        vertical-align: middle;\n",
       "    }\n",
       "\n",
       "    .dataframe tbody tr th {\n",
       "        vertical-align: top;\n",
       "    }\n",
       "\n",
       "    .dataframe thead th {\n",
       "        text-align: right;\n",
       "    }\n",
       "</style>\n",
       "<table border=\"1\" class=\"dataframe\">\n",
       "  <thead>\n",
       "    <tr style=\"text-align: right;\">\n",
       "      <th></th>\n",
       "      <th>n_features</th>\n",
       "      <th>features</th>\n",
       "      <th>adj_R-squared</th>\n",
       "      <th>AIC</th>\n",
       "    </tr>\n",
       "  </thead>\n",
       "  <tbody>\n",
       "    <tr>\n",
       "      <th>1833</th>\n",
       "      <td>8</td>\n",
       "      <td>(Income, Limit, Rating, Cards, Age, Student_Yes, Ethnicity_Asian, Ethnicity_Caucasian)</td>\n",
       "      <td>0.95447</td>\n",
       "      <td>2747.298449</td>\n",
       "    </tr>\n",
       "  </tbody>\n",
       "</table>\n",
       "</div>"
      ],
      "text/plain": [
       "      n_features  \\\n",
       "1833           8   \n",
       "\n",
       "                                                                                    features  \\\n",
       "1833  (Income, Limit, Rating, Cards, Age, Student_Yes, Ethnicity_Asian, Ethnicity_Caucasian)   \n",
       "\n",
       "      adj_R-squared          AIC  \n",
       "1833        0.95447  2747.298449  "
      ]
     },
     "execution_count": 81,
     "metadata": {},
     "output_type": "execute_result"
    }
   ],
   "source": [
    "row8 = df2[df2['adj_R-squared'] == max_R2]\n",
    "row8"
   ]
  },
  {
   "cell_type": "code",
   "execution_count": 82,
   "metadata": {},
   "outputs": [],
   "source": [
    "# get feature names of adj-R2 best model"
   ]
  },
  {
   "cell_type": "code",
   "execution_count": 83,
   "metadata": {},
   "outputs": [
    {
     "data": {
      "text/plain": [
       "('Income',\n",
       " 'Limit',\n",
       " 'Rating',\n",
       " 'Cards',\n",
       " 'Age',\n",
       " 'Student_Yes',\n",
       " 'Ethnicity_Asian',\n",
       " 'Ethnicity_Caucasian')"
      ]
     },
     "execution_count": 83,
     "metadata": {},
     "output_type": "execute_result"
    }
   ],
   "source": [
    "row8.features.iloc[0]"
   ]
  },
  {
   "cell_type": "code",
   "execution_count": 84,
   "metadata": {},
   "outputs": [
    {
     "data": {
      "text/plain": [
       "['Income',\n",
       " 'Limit',\n",
       " 'Rating',\n",
       " 'Cards',\n",
       " 'Age',\n",
       " 'Student_Yes',\n",
       " 'Ethnicity_Asian',\n",
       " 'Ethnicity_Caucasian']"
      ]
     },
     "execution_count": 84,
     "metadata": {},
     "output_type": "execute_result"
    }
   ],
   "source": [
    "list2 = list(row8.features.iloc[0])\n",
    "list2"
   ]
  },
  {
   "cell_type": "markdown",
   "metadata": {},
   "source": [
    "## Holdout Validation"
   ]
  },
  {
   "cell_type": "code",
   "execution_count": 85,
   "metadata": {},
   "outputs": [],
   "source": [
    "# SQ(MSPE) of best AIC model"
   ]
  },
  {
   "cell_type": "code",
   "execution_count": 86,
   "metadata": {},
   "outputs": [],
   "source": [
    "X1 = X[list1]"
   ]
  },
  {
   "cell_type": "code",
   "execution_count": 87,
   "metadata": {},
   "outputs": [],
   "source": [
    "model1 = LinearRegression().fit(X1,y)"
   ]
  },
  {
   "cell_type": "code",
   "execution_count": 88,
   "metadata": {},
   "outputs": [],
   "source": [
    "X1_test = X_test[list1]\n",
    "yhat1 = model1.predict(X1_test) "
   ]
  },
  {
   "cell_type": "code",
   "execution_count": 89,
   "metadata": {},
   "outputs": [
    {
     "data": {
      "text/plain": [
       "105.78913727639262"
      ]
     },
     "execution_count": 89,
     "metadata": {},
     "output_type": "execute_result"
    }
   ],
   "source": [
    "MSPE = mean_squared_error(y_test,yhat1)\n",
    "np.sqrt(MSPE)"
   ]
  },
  {
   "cell_type": "code",
   "execution_count": 90,
   "metadata": {},
   "outputs": [],
   "source": [
    "# SQ(MSPE) of best Adj R-squared model"
   ]
  },
  {
   "cell_type": "code",
   "execution_count": 91,
   "metadata": {},
   "outputs": [],
   "source": [
    "X2 = X[list2]"
   ]
  },
  {
   "cell_type": "code",
   "execution_count": 92,
   "metadata": {},
   "outputs": [],
   "source": [
    "model2 = LinearRegression().fit(X2,y)"
   ]
  },
  {
   "cell_type": "code",
   "execution_count": 93,
   "metadata": {},
   "outputs": [],
   "source": [
    "X2_test = X_test[list2]\n",
    "yhat2 = model2.predict(X2_test)"
   ]
  },
  {
   "cell_type": "code",
   "execution_count": 94,
   "metadata": {},
   "outputs": [
    {
     "data": {
      "text/plain": [
       "107.37550073954556"
      ]
     },
     "execution_count": 94,
     "metadata": {},
     "output_type": "execute_result"
    }
   ],
   "source": [
    "MSPE = mean_squared_error(y_test,yhat2)\n",
    "np.sqrt(MSPE)"
   ]
  },
  {
   "cell_type": "code",
   "execution_count": 95,
   "metadata": {},
   "outputs": [],
   "source": [
    "# AIC model is best predictive model"
   ]
  },
  {
   "cell_type": "markdown",
   "metadata": {},
   "source": [
    "## K-fold Cross Validation (K = 10)"
   ]
  },
  {
   "cell_type": "code",
   "execution_count": 96,
   "metadata": {},
   "outputs": [],
   "source": [
    "from sklearn.model_selection import KFold\n",
    "from sklearn.model_selection import cross_val_score"
   ]
  },
  {
   "cell_type": "markdown",
   "metadata": {},
   "source": [
    "### full model -dataset X0"
   ]
  },
  {
   "cell_type": "code",
   "execution_count": 97,
   "metadata": {},
   "outputs": [],
   "source": [
    "kfold = KFold(n_splits=10,random_state=1,shuffle = True)"
   ]
  },
  {
   "cell_type": "code",
   "execution_count": 98,
   "metadata": {},
   "outputs": [],
   "source": [
    "# Use all rows of data (Data sets X0,y0)"
   ]
  },
  {
   "cell_type": "code",
   "execution_count": 99,
   "metadata": {},
   "outputs": [],
   "source": [
    "mspe = cross_val_score(LinearRegression(),X0,y0,\n",
    "                       cv = kfold,\n",
    "                       scoring = 'neg_mean_squared_error')"
   ]
  },
  {
   "cell_type": "code",
   "execution_count": 100,
   "metadata": {},
   "outputs": [
    {
     "data": {
      "text/plain": [
       "(10159.032883508191,)"
      ]
     },
     "execution_count": 100,
     "metadata": {},
     "output_type": "execute_result"
    }
   ],
   "source": [
    "-mspe.mean(), "
   ]
  },
  {
   "cell_type": "code",
   "execution_count": 101,
   "metadata": {},
   "outputs": [
    {
     "data": {
      "text/plain": [
       "100.79202787675318"
      ]
     },
     "execution_count": 101,
     "metadata": {},
     "output_type": "execute_result"
    }
   ],
   "source": [
    "np.sqrt(-mspe.mean())"
   ]
  },
  {
   "cell_type": "markdown",
   "metadata": {},
   "source": [
    "### best AIC model -dataset X1"
   ]
  },
  {
   "cell_type": "code",
   "execution_count": 102,
   "metadata": {},
   "outputs": [],
   "source": [
    "X1 = X0[list1]"
   ]
  },
  {
   "cell_type": "code",
   "execution_count": 103,
   "metadata": {},
   "outputs": [],
   "source": [
    "mspe = cross_val_score(LinearRegression(),X1,y0,\n",
    "                       cv = kfold,\n",
    "                       scoring = 'neg_mean_squared_error')"
   ]
  },
  {
   "cell_type": "code",
   "execution_count": 104,
   "metadata": {},
   "outputs": [
    {
     "data": {
      "text/plain": [
       "10066.384682386239"
      ]
     },
     "execution_count": 104,
     "metadata": {},
     "output_type": "execute_result"
    }
   ],
   "source": [
    "-mspe.mean()"
   ]
  },
  {
   "cell_type": "code",
   "execution_count": 105,
   "metadata": {},
   "outputs": [
    {
     "data": {
      "text/plain": [
       "100.33137436707543"
      ]
     },
     "execution_count": 105,
     "metadata": {},
     "output_type": "execute_result"
    }
   ],
   "source": [
    "np.sqrt(-mspe.mean())"
   ]
  },
  {
   "cell_type": "markdown",
   "metadata": {},
   "source": [
    "### best adj-R2 model -dataset X2"
   ]
  },
  {
   "cell_type": "code",
   "execution_count": 106,
   "metadata": {},
   "outputs": [],
   "source": [
    "X2 = X0[list2]"
   ]
  },
  {
   "cell_type": "code",
   "execution_count": 107,
   "metadata": {},
   "outputs": [],
   "source": [
    "mspe = cross_val_score(LinearRegression(),X2,y0,\n",
    "                       cv = kfold,\n",
    "                       scoring = 'neg_mean_squared_error')"
   ]
  },
  {
   "cell_type": "code",
   "execution_count": 108,
   "metadata": {},
   "outputs": [
    {
     "data": {
      "text/plain": [
       "10102.635473660017"
      ]
     },
     "execution_count": 108,
     "metadata": {},
     "output_type": "execute_result"
    }
   ],
   "source": [
    "-mspe.mean()"
   ]
  },
  {
   "cell_type": "code",
   "execution_count": 109,
   "metadata": {},
   "outputs": [
    {
     "data": {
      "text/plain": [
       "100.5118673274953"
      ]
     },
     "execution_count": 109,
     "metadata": {},
     "output_type": "execute_result"
    }
   ],
   "source": [
    "np.sqrt(-mspe.mean())"
   ]
  },
  {
   "cell_type": "code",
   "execution_count": 110,
   "metadata": {},
   "outputs": [],
   "source": [
    "# AIC model has smallest mspe, it is best predictive model"
   ]
  },
  {
   "cell_type": "markdown",
   "metadata": {},
   "source": [
    "## Predict Price of a new house with the best AIC Model"
   ]
  },
  {
   "cell_type": "code",
   "execution_count": 111,
   "metadata": {},
   "outputs": [
    {
     "data": {
      "text/html": [
       "<div>\n",
       "<style scoped>\n",
       "    .dataframe tbody tr th:only-of-type {\n",
       "        vertical-align: middle;\n",
       "    }\n",
       "\n",
       "    .dataframe tbody tr th {\n",
       "        vertical-align: top;\n",
       "    }\n",
       "\n",
       "    .dataframe thead th {\n",
       "        text-align: right;\n",
       "    }\n",
       "</style>\n",
       "<table border=\"1\" class=\"dataframe\">\n",
       "  <thead>\n",
       "    <tr style=\"text-align: right;\">\n",
       "      <th></th>\n",
       "      <th>Income</th>\n",
       "      <th>Limit</th>\n",
       "      <th>Rating</th>\n",
       "      <th>Cards</th>\n",
       "      <th>Age</th>\n",
       "      <th>Student_Yes</th>\n",
       "    </tr>\n",
       "  </thead>\n",
       "  <tbody>\n",
       "    <tr>\n",
       "      <th>0</th>\n",
       "      <td>14.891</td>\n",
       "      <td>3606</td>\n",
       "      <td>283</td>\n",
       "      <td>2</td>\n",
       "      <td>34</td>\n",
       "      <td>0</td>\n",
       "    </tr>\n",
       "  </tbody>\n",
       "</table>\n",
       "</div>"
      ],
      "text/plain": [
       "   Income  Limit  Rating  Cards  Age  Student_Yes\n",
       "0  14.891   3606     283      2   34            0"
      ]
     },
     "execution_count": 111,
     "metadata": {},
     "output_type": "execute_result"
    }
   ],
   "source": [
    "newval = X1.head(1).copy()\n",
    "newval"
   ]
  },
  {
   "cell_type": "code",
   "execution_count": 112,
   "metadata": {},
   "outputs": [],
   "source": [
    "newval.Income = np.median(X1.Income)\n",
    "newval.Limit = np.median(X1.Limit)\n",
    "newval.Rating = np.median(X1.Rating)\n",
    "newval.Cards = np.median(X1.Cards)\n",
    "newval.Age = np.median(X1.Age)"
   ]
  },
  {
   "cell_type": "code",
   "execution_count": 113,
   "metadata": {},
   "outputs": [],
   "source": [
    "# most common student status"
   ]
  },
  {
   "cell_type": "code",
   "execution_count": 114,
   "metadata": {},
   "outputs": [
    {
     "data": {
      "text/plain": [
       "0    360\n",
       "1     40\n",
       "Name: Student_Yes, dtype: int64"
      ]
     },
     "execution_count": 114,
     "metadata": {},
     "output_type": "execute_result"
    }
   ],
   "source": [
    "pd.value_counts(X1.Student_Yes)"
   ]
  },
  {
   "cell_type": "code",
   "execution_count": 115,
   "metadata": {},
   "outputs": [],
   "source": [
    "newval.Student_Yes = 0"
   ]
  },
  {
   "cell_type": "code",
   "execution_count": 116,
   "metadata": {},
   "outputs": [
    {
     "data": {
      "text/html": [
       "<div>\n",
       "<style scoped>\n",
       "    .dataframe tbody tr th:only-of-type {\n",
       "        vertical-align: middle;\n",
       "    }\n",
       "\n",
       "    .dataframe tbody tr th {\n",
       "        vertical-align: top;\n",
       "    }\n",
       "\n",
       "    .dataframe thead th {\n",
       "        text-align: right;\n",
       "    }\n",
       "</style>\n",
       "<table border=\"1\" class=\"dataframe\">\n",
       "  <thead>\n",
       "    <tr style=\"text-align: right;\">\n",
       "      <th></th>\n",
       "      <th>Income</th>\n",
       "      <th>Limit</th>\n",
       "      <th>Rating</th>\n",
       "      <th>Cards</th>\n",
       "      <th>Age</th>\n",
       "      <th>Student_Yes</th>\n",
       "    </tr>\n",
       "  </thead>\n",
       "  <tbody>\n",
       "    <tr>\n",
       "      <th>0</th>\n",
       "      <td>33.1155</td>\n",
       "      <td>4622.5</td>\n",
       "      <td>344.0</td>\n",
       "      <td>3.0</td>\n",
       "      <td>56.0</td>\n",
       "      <td>0</td>\n",
       "    </tr>\n",
       "  </tbody>\n",
       "</table>\n",
       "</div>"
      ],
      "text/plain": [
       "    Income   Limit  Rating  Cards   Age  Student_Yes\n",
       "0  33.1155  4622.5   344.0    3.0  56.0            0"
      ]
     },
     "execution_count": 116,
     "metadata": {},
     "output_type": "execute_result"
    }
   ],
   "source": [
    "newval"
   ]
  },
  {
   "cell_type": "code",
   "execution_count": 117,
   "metadata": {},
   "outputs": [],
   "source": [
    "# fit model and predict Balance"
   ]
  },
  {
   "cell_type": "code",
   "execution_count": 118,
   "metadata": {},
   "outputs": [
    {
     "data": {
      "text/plain": [
       "array([538.52330854])"
      ]
     },
     "execution_count": 118,
     "metadata": {},
     "output_type": "execute_result"
    }
   ],
   "source": [
    "model = LinearRegression().fit(X1,y0)\n",
    "model.predict(newval)"
   ]
  },
  {
   "cell_type": "markdown",
   "metadata": {},
   "source": [
    "Predicted Customer Balance is 538.52 dollars"
   ]
  }
 ],
 "metadata": {
  "kernelspec": {
   "display_name": "Python 3 (ipykernel)",
   "language": "python",
   "name": "python3"
  },
  "language_info": {
   "codemirror_mode": {
    "name": "ipython",
    "version": 3
   },
   "file_extension": ".py",
   "mimetype": "text/x-python",
   "name": "python",
   "nbconvert_exporter": "python",
   "pygments_lexer": "ipython3",
   "version": "3.11.4"
  }
 },
 "nbformat": 4,
 "nbformat_minor": 2
}
