{
 "cells": [
  {
   "cell_type": "markdown",
   "metadata": {},
   "source": [
    "# MLR with Categorical predictors"
   ]
  },
  {
   "cell_type": "code",
   "execution_count": 20,
   "metadata": {},
   "outputs": [],
   "source": [
    "import numpy as np\n",
    "import pandas as pd\n",
    "import statsmodels.formula.api as smf"
   ]
  },
  {
   "cell_type": "code",
   "execution_count": 21,
   "metadata": {},
   "outputs": [
    {
     "name": "stdout",
     "output_type": "stream",
     "text": [
      "0.14.0\n"
     ]
    }
   ],
   "source": [
    "from statsmodels import __version__\n",
    "print(__version__)"
   ]
  },
  {
   "cell_type": "code",
   "execution_count": 22,
   "metadata": {},
   "outputs": [
    {
     "data": {
      "text/html": [
       "<div>\n",
       "<style scoped>\n",
       "    .dataframe tbody tr th:only-of-type {\n",
       "        vertical-align: middle;\n",
       "    }\n",
       "\n",
       "    .dataframe tbody tr th {\n",
       "        vertical-align: top;\n",
       "    }\n",
       "\n",
       "    .dataframe thead th {\n",
       "        text-align: right;\n",
       "    }\n",
       "</style>\n",
       "<table border=\"1\" class=\"dataframe\">\n",
       "  <thead>\n",
       "    <tr style=\"text-align: right;\">\n",
       "      <th></th>\n",
       "      <th>price</th>\n",
       "      <th>area</th>\n",
       "      <th>beds</th>\n",
       "      <th>baths</th>\n",
       "      <th>garage</th>\n",
       "      <th>year</th>\n",
       "      <th>style</th>\n",
       "      <th>lotsize</th>\n",
       "      <th>ac</th>\n",
       "      <th>pool</th>\n",
       "      <th>quality</th>\n",
       "      <th>highway</th>\n",
       "    </tr>\n",
       "  </thead>\n",
       "  <tbody>\n",
       "    <tr>\n",
       "      <th>0</th>\n",
       "      <td>360000</td>\n",
       "      <td>3032</td>\n",
       "      <td>4</td>\n",
       "      <td>4</td>\n",
       "      <td>2</td>\n",
       "      <td>1972</td>\n",
       "      <td>1</td>\n",
       "      <td>22221</td>\n",
       "      <td>YES</td>\n",
       "      <td>NO</td>\n",
       "      <td>MEDIUM</td>\n",
       "      <td>NO</td>\n",
       "    </tr>\n",
       "    <tr>\n",
       "      <th>1</th>\n",
       "      <td>340000</td>\n",
       "      <td>2058</td>\n",
       "      <td>4</td>\n",
       "      <td>2</td>\n",
       "      <td>2</td>\n",
       "      <td>1976</td>\n",
       "      <td>1</td>\n",
       "      <td>22912</td>\n",
       "      <td>YES</td>\n",
       "      <td>NO</td>\n",
       "      <td>MEDIUM</td>\n",
       "      <td>NO</td>\n",
       "    </tr>\n",
       "    <tr>\n",
       "      <th>2</th>\n",
       "      <td>250000</td>\n",
       "      <td>1780</td>\n",
       "      <td>4</td>\n",
       "      <td>3</td>\n",
       "      <td>2</td>\n",
       "      <td>1980</td>\n",
       "      <td>1</td>\n",
       "      <td>21345</td>\n",
       "      <td>YES</td>\n",
       "      <td>NO</td>\n",
       "      <td>MEDIUM</td>\n",
       "      <td>NO</td>\n",
       "    </tr>\n",
       "  </tbody>\n",
       "</table>\n",
       "</div>"
      ],
      "text/plain": [
       "    price  area  beds  baths  garage  year  style  lotsize   ac pool quality  \\\n",
       "0  360000  3032     4      4       2  1972      1    22221  YES   NO  MEDIUM   \n",
       "1  340000  2058     4      2       2  1976      1    22912  YES   NO  MEDIUM   \n",
       "2  250000  1780     4      3       2  1980      1    21345  YES   NO  MEDIUM   \n",
       "\n",
       "  highway  \n",
       "0      NO  \n",
       "1      NO  \n",
       "2      NO  "
      ]
     },
     "execution_count": 22,
     "metadata": {},
     "output_type": "execute_result"
    }
   ],
   "source": [
    "df0 = pd.read_csv('homes.csv')\n",
    "df0[:3]"
   ]
  },
  {
   "cell_type": "code",
   "execution_count": 23,
   "metadata": {},
   "outputs": [],
   "source": [
    "# Change style to categorical"
   ]
  },
  {
   "cell_type": "code",
   "execution_count": 24,
   "metadata": {},
   "outputs": [
    {
     "data": {
      "text/plain": [
       "price       int64\n",
       "area        int64\n",
       "beds        int64\n",
       "baths       int64\n",
       "garage      int64\n",
       "year        int64\n",
       "style      object\n",
       "lotsize     int64\n",
       "ac         object\n",
       "pool       object\n",
       "quality    object\n",
       "highway    object\n",
       "dtype: object"
      ]
     },
     "execution_count": 24,
     "metadata": {},
     "output_type": "execute_result"
    }
   ],
   "source": [
    "df0['style'] = df0['style'].astype(object)\n",
    "df0.dtypes"
   ]
  },
  {
   "cell_type": "code",
   "execution_count": 25,
   "metadata": {},
   "outputs": [
    {
     "data": {
      "text/plain": [
       "3    202\n",
       "4    179\n",
       "2     64\n",
       "5     52\n",
       "6     12\n",
       "1      9\n",
       "7      3\n",
       "0      1\n",
       "Name: beds, dtype: int64"
      ]
     },
     "execution_count": 25,
     "metadata": {},
     "output_type": "execute_result"
    }
   ],
   "source": [
    "pd.value_counts(df0.beds)"
   ]
  },
  {
   "cell_type": "code",
   "execution_count": 26,
   "metadata": {},
   "outputs": [],
   "source": [
    "# restrict on the number of beds"
   ]
  },
  {
   "cell_type": "code",
   "execution_count": 27,
   "metadata": {},
   "outputs": [],
   "source": [
    "df = df0.copy()"
   ]
  },
  {
   "cell_type": "code",
   "execution_count": 28,
   "metadata": {},
   "outputs": [
    {
     "data": {
      "text/plain": [
       "((445, 12), (522, 12))"
      ]
     },
     "execution_count": 28,
     "metadata": {},
     "output_type": "execute_result"
    }
   ],
   "source": [
    "df = df[(df.beds > 1) & (df.beds < 5)]\n",
    "df.shape, df0.shape"
   ]
  },
  {
   "cell_type": "code",
   "execution_count": 29,
   "metadata": {},
   "outputs": [
    {
     "data": {
      "text/plain": [
       "((445, 12), (522, 12))"
      ]
     },
     "execution_count": 29,
     "metadata": {},
     "output_type": "execute_result"
    }
   ],
   "source": [
    "df.shape, df0.shape"
   ]
  },
  {
   "cell_type": "markdown",
   "metadata": {},
   "source": [
    "## statsmodels.formula.api"
   ]
  },
  {
   "cell_type": "code",
   "execution_count": 30,
   "metadata": {},
   "outputs": [],
   "source": [
    "model1 = smf.ols(formula = 'price ~ area+beds+baths+garage+year+\\\n",
    "                                    C(style)+lotsize+C(ac)+C(pool)+\\\n",
    "                                    C(quality)+C(highway)',\n",
    "                 data = df).fit()"
   ]
  },
  {
   "cell_type": "code",
   "execution_count": 31,
   "metadata": {
    "scrolled": false
   },
   "outputs": [
    {
     "data": {
      "text/html": [
       "<table class=\"simpletable\">\n",
       "<caption>OLS Regression Results</caption>\n",
       "<tr>\n",
       "  <th>Dep. Variable:</th>          <td>price</td>      <th>  R-squared:         </th> <td>   0.852</td> \n",
       "</tr>\n",
       "<tr>\n",
       "  <th>Model:</th>                   <td>OLS</td>       <th>  Adj. R-squared:    </th> <td>   0.845</td> \n",
       "</tr>\n",
       "<tr>\n",
       "  <th>Method:</th>             <td>Least Squares</td>  <th>  F-statistic:       </th> <td>   135.9</td> \n",
       "</tr>\n",
       "<tr>\n",
       "  <th>Date:</th>             <td>Wed, 20 Sep 2023</td> <th>  Prob (F-statistic):</th> <td>1.08e-163</td>\n",
       "</tr>\n",
       "<tr>\n",
       "  <th>Time:</th>                 <td>13:12:15</td>     <th>  Log-Likelihood:    </th> <td> -5451.8</td> \n",
       "</tr>\n",
       "<tr>\n",
       "  <th>No. Observations:</th>      <td>   445</td>      <th>  AIC:               </th> <td>1.094e+04</td>\n",
       "</tr>\n",
       "<tr>\n",
       "  <th>Df Residuals:</th>          <td>   426</td>      <th>  BIC:               </th> <td>1.102e+04</td>\n",
       "</tr>\n",
       "<tr>\n",
       "  <th>Df Model:</th>              <td>    18</td>      <th>                     </th>     <td> </td>    \n",
       "</tr>\n",
       "<tr>\n",
       "  <th>Covariance Type:</th>      <td>nonrobust</td>    <th>                     </th>     <td> </td>    \n",
       "</tr>\n",
       "</table>\n",
       "<table class=\"simpletable\">\n",
       "<tr>\n",
       "          <td></td>             <th>coef</th>     <th>std err</th>      <th>t</th>      <th>P>|t|</th>  <th>[0.025</th>    <th>0.975]</th>  \n",
       "</tr>\n",
       "<tr>\n",
       "  <th>Intercept</th>         <td>-2.473e+06</td> <td> 3.93e+05</td> <td>   -6.285</td> <td> 0.000</td> <td>-3.25e+06</td> <td> -1.7e+06</td>\n",
       "</tr>\n",
       "<tr>\n",
       "  <th>style[T.2]</th>        <td>-2.006e+04</td> <td> 8638.441</td> <td>   -2.322</td> <td> 0.021</td> <td> -3.7e+04</td> <td>-3080.425</td>\n",
       "</tr>\n",
       "<tr>\n",
       "  <th>style[T.3]</th>        <td>-1.151e+04</td> <td> 8251.632</td> <td>   -1.395</td> <td> 0.164</td> <td>-2.77e+04</td> <td> 4707.107</td>\n",
       "</tr>\n",
       "<tr>\n",
       "  <th>style[T.4]</th>        <td>  2.31e+04</td> <td> 1.72e+04</td> <td>    1.346</td> <td> 0.179</td> <td>-1.06e+04</td> <td> 5.68e+04</td>\n",
       "</tr>\n",
       "<tr>\n",
       "  <th>style[T.5]</th>        <td>-7407.6304</td> <td> 1.55e+04</td> <td>   -0.479</td> <td> 0.632</td> <td>-3.78e+04</td> <td>  2.3e+04</td>\n",
       "</tr>\n",
       "<tr>\n",
       "  <th>style[T.6]</th>        <td> -3.06e+04</td> <td> 1.51e+04</td> <td>   -2.029</td> <td> 0.043</td> <td>-6.02e+04</td> <td> -951.905</td>\n",
       "</tr>\n",
       "<tr>\n",
       "  <th>style[T.7]</th>        <td>-4.664e+04</td> <td> 8514.836</td> <td>   -5.477</td> <td> 0.000</td> <td>-6.34e+04</td> <td>-2.99e+04</td>\n",
       "</tr>\n",
       "<tr>\n",
       "  <th>style[T.9]</th>        <td>-9.094e+04</td> <td> 5.26e+04</td> <td>   -1.728</td> <td> 0.085</td> <td>-1.94e+05</td> <td> 1.25e+04</td>\n",
       "</tr>\n",
       "<tr>\n",
       "  <th>ac[T.YES]</th>         <td>-1075.0761</td> <td> 7501.411</td> <td>   -0.143</td> <td> 0.886</td> <td>-1.58e+04</td> <td> 1.37e+04</td>\n",
       "</tr>\n",
       "<tr>\n",
       "  <th>pool[T.YES]</th>       <td> 2.163e+04</td> <td> 1.06e+04</td> <td>    2.042</td> <td> 0.042</td> <td>  813.263</td> <td> 4.25e+04</td>\n",
       "</tr>\n",
       "<tr>\n",
       "  <th>quality[T.LOW]</th>    <td>-1.368e+05</td> <td> 1.45e+04</td> <td>   -9.433</td> <td> 0.000</td> <td>-1.65e+05</td> <td>-1.08e+05</td>\n",
       "</tr>\n",
       "<tr>\n",
       "  <th>quality[T.MEDIUM]</th> <td>-1.363e+05</td> <td> 1.08e+04</td> <td>  -12.640</td> <td> 0.000</td> <td>-1.58e+05</td> <td>-1.15e+05</td>\n",
       "</tr>\n",
       "<tr>\n",
       "  <th>highway[T.YES]</th>    <td> -3.18e+04</td> <td> 1.69e+04</td> <td>   -1.884</td> <td> 0.060</td> <td> -6.5e+04</td> <td> 1380.295</td>\n",
       "</tr>\n",
       "<tr>\n",
       "  <th>area</th>              <td>  117.2176</td> <td>    7.739</td> <td>   15.146</td> <td> 0.000</td> <td>  102.006</td> <td>  132.429</td>\n",
       "</tr>\n",
       "<tr>\n",
       "  <th>beds</th>              <td>-2222.9820</td> <td> 4148.594</td> <td>   -0.536</td> <td> 0.592</td> <td>-1.04e+04</td> <td> 5931.279</td>\n",
       "</tr>\n",
       "<tr>\n",
       "  <th>baths</th>             <td> 9246.5631</td> <td> 4285.513</td> <td>    2.158</td> <td> 0.032</td> <td>  823.180</td> <td> 1.77e+04</td>\n",
       "</tr>\n",
       "<tr>\n",
       "  <th>garage</th>            <td> 7423.7368</td> <td> 4914.563</td> <td>    1.511</td> <td> 0.132</td> <td>-2236.074</td> <td> 1.71e+04</td>\n",
       "</tr>\n",
       "<tr>\n",
       "  <th>year</th>              <td> 1300.6190</td> <td>  199.782</td> <td>    6.510</td> <td> 0.000</td> <td>  907.938</td> <td> 1693.300</td>\n",
       "</tr>\n",
       "<tr>\n",
       "  <th>lotsize</th>           <td>    1.3283</td> <td>    0.238</td> <td>    5.584</td> <td> 0.000</td> <td>    0.861</td> <td>    1.796</td>\n",
       "</tr>\n",
       "</table>\n",
       "<table class=\"simpletable\">\n",
       "<tr>\n",
       "  <th>Omnibus:</th>       <td>58.445</td> <th>  Durbin-Watson:     </th> <td>   1.344</td>\n",
       "</tr>\n",
       "<tr>\n",
       "  <th>Prob(Omnibus):</th> <td> 0.000</td> <th>  Jarque-Bera (JB):  </th> <td> 269.978</td>\n",
       "</tr>\n",
       "<tr>\n",
       "  <th>Skew:</th>          <td> 0.449</td> <th>  Prob(JB):          </th> <td>2.37e-59</td>\n",
       "</tr>\n",
       "<tr>\n",
       "  <th>Kurtosis:</th>      <td> 6.709</td> <th>  Cond. No.          </th> <td>4.26e+06</td>\n",
       "</tr>\n",
       "</table><br/><br/>Notes:<br/>[1] Standard Errors assume that the covariance matrix of the errors is correctly specified.<br/>[2] The condition number is large, 4.26e+06. This might indicate that there are<br/>strong multicollinearity or other numerical problems."
      ],
      "text/latex": [
       "\\begin{center}\n",
       "\\begin{tabular}{lclc}\n",
       "\\toprule\n",
       "\\textbf{Dep. Variable:}    &      price       & \\textbf{  R-squared:         } &     0.852   \\\\\n",
       "\\textbf{Model:}            &       OLS        & \\textbf{  Adj. R-squared:    } &     0.845   \\\\\n",
       "\\textbf{Method:}           &  Least Squares   & \\textbf{  F-statistic:       } &     135.9   \\\\\n",
       "\\textbf{Date:}             & Wed, 20 Sep 2023 & \\textbf{  Prob (F-statistic):} & 1.08e-163   \\\\\n",
       "\\textbf{Time:}             &     13:12:15     & \\textbf{  Log-Likelihood:    } &   -5451.8   \\\\\n",
       "\\textbf{No. Observations:} &         445      & \\textbf{  AIC:               } & 1.094e+04   \\\\\n",
       "\\textbf{Df Residuals:}     &         426      & \\textbf{  BIC:               } & 1.102e+04   \\\\\n",
       "\\textbf{Df Model:}         &          18      & \\textbf{                     } &             \\\\\n",
       "\\textbf{Covariance Type:}  &    nonrobust     & \\textbf{                     } &             \\\\\n",
       "\\bottomrule\n",
       "\\end{tabular}\n",
       "\\begin{tabular}{lcccccc}\n",
       "                           & \\textbf{coef} & \\textbf{std err} & \\textbf{t} & \\textbf{P$> |$t$|$} & \\textbf{[0.025} & \\textbf{0.975]}  \\\\\n",
       "\\midrule\n",
       "\\textbf{Intercept}         &   -2.473e+06  &     3.93e+05     &    -6.285  &         0.000        &    -3.25e+06    &     -1.7e+06     \\\\\n",
       "\\textbf{style[T.2]}        &   -2.006e+04  &     8638.441     &    -2.322  &         0.021        &     -3.7e+04    &    -3080.425     \\\\\n",
       "\\textbf{style[T.3]}        &   -1.151e+04  &     8251.632     &    -1.395  &         0.164        &    -2.77e+04    &     4707.107     \\\\\n",
       "\\textbf{style[T.4]}        &     2.31e+04  &     1.72e+04     &     1.346  &         0.179        &    -1.06e+04    &     5.68e+04     \\\\\n",
       "\\textbf{style[T.5]}        &   -7407.6304  &     1.55e+04     &    -0.479  &         0.632        &    -3.78e+04    &      2.3e+04     \\\\\n",
       "\\textbf{style[T.6]}        &    -3.06e+04  &     1.51e+04     &    -2.029  &         0.043        &    -6.02e+04    &     -951.905     \\\\\n",
       "\\textbf{style[T.7]}        &   -4.664e+04  &     8514.836     &    -5.477  &         0.000        &    -6.34e+04    &    -2.99e+04     \\\\\n",
       "\\textbf{style[T.9]}        &   -9.094e+04  &     5.26e+04     &    -1.728  &         0.085        &    -1.94e+05    &     1.25e+04     \\\\\n",
       "\\textbf{ac[T.YES]}         &   -1075.0761  &     7501.411     &    -0.143  &         0.886        &    -1.58e+04    &     1.37e+04     \\\\\n",
       "\\textbf{pool[T.YES]}       &    2.163e+04  &     1.06e+04     &     2.042  &         0.042        &      813.263    &     4.25e+04     \\\\\n",
       "\\textbf{quality[T.LOW]}    &   -1.368e+05  &     1.45e+04     &    -9.433  &         0.000        &    -1.65e+05    &    -1.08e+05     \\\\\n",
       "\\textbf{quality[T.MEDIUM]} &   -1.363e+05  &     1.08e+04     &   -12.640  &         0.000        &    -1.58e+05    &    -1.15e+05     \\\\\n",
       "\\textbf{highway[T.YES]}    &    -3.18e+04  &     1.69e+04     &    -1.884  &         0.060        &     -6.5e+04    &     1380.295     \\\\\n",
       "\\textbf{area}              &     117.2176  &        7.739     &    15.146  &         0.000        &      102.006    &      132.429     \\\\\n",
       "\\textbf{beds}              &   -2222.9820  &     4148.594     &    -0.536  &         0.592        &    -1.04e+04    &     5931.279     \\\\\n",
       "\\textbf{baths}             &    9246.5631  &     4285.513     &     2.158  &         0.032        &      823.180    &     1.77e+04     \\\\\n",
       "\\textbf{garage}            &    7423.7368  &     4914.563     &     1.511  &         0.132        &    -2236.074    &     1.71e+04     \\\\\n",
       "\\textbf{year}              &    1300.6190  &      199.782     &     6.510  &         0.000        &      907.938    &     1693.300     \\\\\n",
       "\\textbf{lotsize}           &       1.3283  &        0.238     &     5.584  &         0.000        &        0.861    &        1.796     \\\\\n",
       "\\bottomrule\n",
       "\\end{tabular}\n",
       "\\begin{tabular}{lclc}\n",
       "\\textbf{Omnibus:}       & 58.445 & \\textbf{  Durbin-Watson:     } &    1.344  \\\\\n",
       "\\textbf{Prob(Omnibus):} &  0.000 & \\textbf{  Jarque-Bera (JB):  } &  269.978  \\\\\n",
       "\\textbf{Skew:}          &  0.449 & \\textbf{  Prob(JB):          } & 2.37e-59  \\\\\n",
       "\\textbf{Kurtosis:}      &  6.709 & \\textbf{  Cond. No.          } & 4.26e+06  \\\\\n",
       "\\bottomrule\n",
       "\\end{tabular}\n",
       "%\\caption{OLS Regression Results}\n",
       "\\end{center}\n",
       "\n",
       "Notes: \\newline\n",
       " [1] Standard Errors assume that the covariance matrix of the errors is correctly specified. \\newline\n",
       " [2] The condition number is large, 4.26e+06. This might indicate that there are \\newline\n",
       " strong multicollinearity or other numerical problems."
      ],
      "text/plain": [
       "<class 'statsmodels.iolib.summary.Summary'>\n",
       "\"\"\"\n",
       "                            OLS Regression Results                            \n",
       "==============================================================================\n",
       "Dep. Variable:                  price   R-squared:                       0.852\n",
       "Model:                            OLS   Adj. R-squared:                  0.845\n",
       "Method:                 Least Squares   F-statistic:                     135.9\n",
       "Date:                Wed, 20 Sep 2023   Prob (F-statistic):          1.08e-163\n",
       "Time:                        13:12:15   Log-Likelihood:                -5451.8\n",
       "No. Observations:                 445   AIC:                         1.094e+04\n",
       "Df Residuals:                     426   BIC:                         1.102e+04\n",
       "Df Model:                          18                                         \n",
       "Covariance Type:            nonrobust                                         \n",
       "=====================================================================================\n",
       "                        coef    std err          t      P>|t|      [0.025      0.975]\n",
       "-------------------------------------------------------------------------------------\n",
       "Intercept         -2.473e+06   3.93e+05     -6.285      0.000   -3.25e+06    -1.7e+06\n",
       "style[T.2]        -2.006e+04   8638.441     -2.322      0.021    -3.7e+04   -3080.425\n",
       "style[T.3]        -1.151e+04   8251.632     -1.395      0.164   -2.77e+04    4707.107\n",
       "style[T.4]          2.31e+04   1.72e+04      1.346      0.179   -1.06e+04    5.68e+04\n",
       "style[T.5]        -7407.6304   1.55e+04     -0.479      0.632   -3.78e+04     2.3e+04\n",
       "style[T.6]         -3.06e+04   1.51e+04     -2.029      0.043   -6.02e+04    -951.905\n",
       "style[T.7]        -4.664e+04   8514.836     -5.477      0.000   -6.34e+04   -2.99e+04\n",
       "style[T.9]        -9.094e+04   5.26e+04     -1.728      0.085   -1.94e+05    1.25e+04\n",
       "ac[T.YES]         -1075.0761   7501.411     -0.143      0.886   -1.58e+04    1.37e+04\n",
       "pool[T.YES]        2.163e+04   1.06e+04      2.042      0.042     813.263    4.25e+04\n",
       "quality[T.LOW]    -1.368e+05   1.45e+04     -9.433      0.000   -1.65e+05   -1.08e+05\n",
       "quality[T.MEDIUM] -1.363e+05   1.08e+04    -12.640      0.000   -1.58e+05   -1.15e+05\n",
       "highway[T.YES]     -3.18e+04   1.69e+04     -1.884      0.060    -6.5e+04    1380.295\n",
       "area                117.2176      7.739     15.146      0.000     102.006     132.429\n",
       "beds              -2222.9820   4148.594     -0.536      0.592   -1.04e+04    5931.279\n",
       "baths              9246.5631   4285.513      2.158      0.032     823.180    1.77e+04\n",
       "garage             7423.7368   4914.563      1.511      0.132   -2236.074    1.71e+04\n",
       "year               1300.6190    199.782      6.510      0.000     907.938    1693.300\n",
       "lotsize               1.3283      0.238      5.584      0.000       0.861       1.796\n",
       "==============================================================================\n",
       "Omnibus:                       58.445   Durbin-Watson:                   1.344\n",
       "Prob(Omnibus):                  0.000   Jarque-Bera (JB):              269.978\n",
       "Skew:                           0.449   Prob(JB):                     2.37e-59\n",
       "Kurtosis:                       6.709   Cond. No.                     4.26e+06\n",
       "==============================================================================\n",
       "\n",
       "Notes:\n",
       "[1] Standard Errors assume that the covariance matrix of the errors is correctly specified.\n",
       "[2] The condition number is large, 4.26e+06. This might indicate that there are\n",
       "strong multicollinearity or other numerical problems.\n",
       "\"\"\""
      ]
     },
     "execution_count": 31,
     "metadata": {},
     "output_type": "execute_result"
    }
   ],
   "source": [
    "model1 = smf.ols(formula = 'price ~ area+beds+baths+garage+year+\\\n",
    "                             style+lotsize+ac+pool+quality+highway',\n",
    "                 data = df).fit()\n",
    "model1.summary()"
   ]
  },
  {
   "cell_type": "code",
   "execution_count": 32,
   "metadata": {},
   "outputs": [],
   "source": [
    "# Change quality base level to LOW"
   ]
  },
  {
   "cell_type": "code",
   "execution_count": 33,
   "metadata": {},
   "outputs": [
    {
     "data": {
      "text/html": [
       "<table class=\"simpletable\">\n",
       "<caption>OLS Regression Results</caption>\n",
       "<tr>\n",
       "  <th>Dep. Variable:</th>          <td>price</td>      <th>  R-squared:         </th> <td>   0.852</td> \n",
       "</tr>\n",
       "<tr>\n",
       "  <th>Model:</th>                   <td>OLS</td>       <th>  Adj. R-squared:    </th> <td>   0.845</td> \n",
       "</tr>\n",
       "<tr>\n",
       "  <th>Method:</th>             <td>Least Squares</td>  <th>  F-statistic:       </th> <td>   135.9</td> \n",
       "</tr>\n",
       "<tr>\n",
       "  <th>Date:</th>             <td>Wed, 20 Sep 2023</td> <th>  Prob (F-statistic):</th> <td>1.08e-163</td>\n",
       "</tr>\n",
       "<tr>\n",
       "  <th>Time:</th>                 <td>13:12:15</td>     <th>  Log-Likelihood:    </th> <td> -5451.8</td> \n",
       "</tr>\n",
       "<tr>\n",
       "  <th>No. Observations:</th>      <td>   445</td>      <th>  AIC:               </th> <td>1.094e+04</td>\n",
       "</tr>\n",
       "<tr>\n",
       "  <th>Df Residuals:</th>          <td>   426</td>      <th>  BIC:               </th> <td>1.102e+04</td>\n",
       "</tr>\n",
       "<tr>\n",
       "  <th>Df Model:</th>              <td>    18</td>      <th>                     </th>     <td> </td>    \n",
       "</tr>\n",
       "<tr>\n",
       "  <th>Covariance Type:</th>      <td>nonrobust</td>    <th>                     </th>     <td> </td>    \n",
       "</tr>\n",
       "</table>\n",
       "<table class=\"simpletable\">\n",
       "<tr>\n",
       "                          <td></td>                            <th>coef</th>     <th>std err</th>      <th>t</th>      <th>P>|t|</th>  <th>[0.025</th>    <th>0.975]</th>  \n",
       "</tr>\n",
       "<tr>\n",
       "  <th>Intercept</th>                                        <td> -2.61e+06</td> <td> 3.89e+05</td> <td>   -6.711</td> <td> 0.000</td> <td>-3.37e+06</td> <td>-1.85e+06</td>\n",
       "</tr>\n",
       "<tr>\n",
       "  <th>C(style)[T.2]</th>                                    <td>-2.006e+04</td> <td> 8638.441</td> <td>   -2.322</td> <td> 0.021</td> <td> -3.7e+04</td> <td>-3080.425</td>\n",
       "</tr>\n",
       "<tr>\n",
       "  <th>C(style)[T.3]</th>                                    <td>-1.151e+04</td> <td> 8251.632</td> <td>   -1.395</td> <td> 0.164</td> <td>-2.77e+04</td> <td> 4707.107</td>\n",
       "</tr>\n",
       "<tr>\n",
       "  <th>C(style)[T.4]</th>                                    <td>  2.31e+04</td> <td> 1.72e+04</td> <td>    1.346</td> <td> 0.179</td> <td>-1.06e+04</td> <td> 5.68e+04</td>\n",
       "</tr>\n",
       "<tr>\n",
       "  <th>C(style)[T.5]</th>                                    <td>-7407.6304</td> <td> 1.55e+04</td> <td>   -0.479</td> <td> 0.632</td> <td>-3.78e+04</td> <td>  2.3e+04</td>\n",
       "</tr>\n",
       "<tr>\n",
       "  <th>C(style)[T.6]</th>                                    <td> -3.06e+04</td> <td> 1.51e+04</td> <td>   -2.029</td> <td> 0.043</td> <td>-6.02e+04</td> <td> -951.905</td>\n",
       "</tr>\n",
       "<tr>\n",
       "  <th>C(style)[T.7]</th>                                    <td>-4.664e+04</td> <td> 8514.836</td> <td>   -5.477</td> <td> 0.000</td> <td>-6.34e+04</td> <td>-2.99e+04</td>\n",
       "</tr>\n",
       "<tr>\n",
       "  <th>C(style)[T.9]</th>                                    <td>-9.094e+04</td> <td> 5.26e+04</td> <td>   -1.728</td> <td> 0.085</td> <td>-1.94e+05</td> <td> 1.25e+04</td>\n",
       "</tr>\n",
       "<tr>\n",
       "  <th>C(ac)[T.YES]</th>                                     <td>-1075.0761</td> <td> 7501.411</td> <td>   -0.143</td> <td> 0.886</td> <td>-1.58e+04</td> <td> 1.37e+04</td>\n",
       "</tr>\n",
       "<tr>\n",
       "  <th>C(pool)[T.YES]</th>                                   <td> 2.163e+04</td> <td> 1.06e+04</td> <td>    2.042</td> <td> 0.042</td> <td>  813.263</td> <td> 4.25e+04</td>\n",
       "</tr>\n",
       "<tr>\n",
       "  <th>C(quality, Treatment(reference=\"LOW\"))[T.HIGH]</th>   <td> 1.368e+05</td> <td> 1.45e+04</td> <td>    9.433</td> <td> 0.000</td> <td> 1.08e+05</td> <td> 1.65e+05</td>\n",
       "</tr>\n",
       "<tr>\n",
       "  <th>C(quality, Treatment(reference=\"LOW\"))[T.MEDIUM]</th> <td>  437.0813</td> <td> 7899.182</td> <td>    0.055</td> <td> 0.956</td> <td>-1.51e+04</td> <td>  1.6e+04</td>\n",
       "</tr>\n",
       "<tr>\n",
       "  <th>C(highway)[T.YES]</th>                                <td> -3.18e+04</td> <td> 1.69e+04</td> <td>   -1.884</td> <td> 0.060</td> <td> -6.5e+04</td> <td> 1380.295</td>\n",
       "</tr>\n",
       "<tr>\n",
       "  <th>area</th>                                             <td>  117.2176</td> <td>    7.739</td> <td>   15.146</td> <td> 0.000</td> <td>  102.006</td> <td>  132.429</td>\n",
       "</tr>\n",
       "<tr>\n",
       "  <th>beds</th>                                             <td>-2222.9820</td> <td> 4148.594</td> <td>   -0.536</td> <td> 0.592</td> <td>-1.04e+04</td> <td> 5931.279</td>\n",
       "</tr>\n",
       "<tr>\n",
       "  <th>baths</th>                                            <td> 9246.5631</td> <td> 4285.513</td> <td>    2.158</td> <td> 0.032</td> <td>  823.180</td> <td> 1.77e+04</td>\n",
       "</tr>\n",
       "<tr>\n",
       "  <th>garage</th>                                           <td> 7423.7368</td> <td> 4914.563</td> <td>    1.511</td> <td> 0.132</td> <td>-2236.074</td> <td> 1.71e+04</td>\n",
       "</tr>\n",
       "<tr>\n",
       "  <th>year</th>                                             <td> 1300.6190</td> <td>  199.782</td> <td>    6.510</td> <td> 0.000</td> <td>  907.938</td> <td> 1693.300</td>\n",
       "</tr>\n",
       "<tr>\n",
       "  <th>lotsize</th>                                          <td>    1.3283</td> <td>    0.238</td> <td>    5.584</td> <td> 0.000</td> <td>    0.861</td> <td>    1.796</td>\n",
       "</tr>\n",
       "</table>\n",
       "<table class=\"simpletable\">\n",
       "<tr>\n",
       "  <th>Omnibus:</th>       <td>58.445</td> <th>  Durbin-Watson:     </th> <td>   1.344</td>\n",
       "</tr>\n",
       "<tr>\n",
       "  <th>Prob(Omnibus):</th> <td> 0.000</td> <th>  Jarque-Bera (JB):  </th> <td> 269.978</td>\n",
       "</tr>\n",
       "<tr>\n",
       "  <th>Skew:</th>          <td> 0.449</td> <th>  Prob(JB):          </th> <td>2.37e-59</td>\n",
       "</tr>\n",
       "<tr>\n",
       "  <th>Kurtosis:</th>      <td> 6.709</td> <th>  Cond. No.          </th> <td>4.22e+06</td>\n",
       "</tr>\n",
       "</table><br/><br/>Notes:<br/>[1] Standard Errors assume that the covariance matrix of the errors is correctly specified.<br/>[2] The condition number is large, 4.22e+06. This might indicate that there are<br/>strong multicollinearity or other numerical problems."
      ],
      "text/latex": [
       "\\begin{center}\n",
       "\\begin{tabular}{lclc}\n",
       "\\toprule\n",
       "\\textbf{Dep. Variable:}                                   &      price       & \\textbf{  R-squared:         } &     0.852   \\\\\n",
       "\\textbf{Model:}                                           &       OLS        & \\textbf{  Adj. R-squared:    } &     0.845   \\\\\n",
       "\\textbf{Method:}                                          &  Least Squares   & \\textbf{  F-statistic:       } &     135.9   \\\\\n",
       "\\textbf{Date:}                                            & Wed, 20 Sep 2023 & \\textbf{  Prob (F-statistic):} & 1.08e-163   \\\\\n",
       "\\textbf{Time:}                                            &     13:12:15     & \\textbf{  Log-Likelihood:    } &   -5451.8   \\\\\n",
       "\\textbf{No. Observations:}                                &         445      & \\textbf{  AIC:               } & 1.094e+04   \\\\\n",
       "\\textbf{Df Residuals:}                                    &         426      & \\textbf{  BIC:               } & 1.102e+04   \\\\\n",
       "\\textbf{Df Model:}                                        &          18      & \\textbf{                     } &             \\\\\n",
       "\\textbf{Covariance Type:}                                 &    nonrobust     & \\textbf{                     } &             \\\\\n",
       "\\bottomrule\n",
       "\\end{tabular}\n",
       "\\begin{tabular}{lcccccc}\n",
       "                                                          & \\textbf{coef} & \\textbf{std err} & \\textbf{t} & \\textbf{P$> |$t$|$} & \\textbf{[0.025} & \\textbf{0.975]}  \\\\\n",
       "\\midrule\n",
       "\\textbf{Intercept}                                        &    -2.61e+06  &     3.89e+05     &    -6.711  &         0.000        &    -3.37e+06    &    -1.85e+06     \\\\\n",
       "\\textbf{C(style)[T.2]}                                    &   -2.006e+04  &     8638.441     &    -2.322  &         0.021        &     -3.7e+04    &    -3080.425     \\\\\n",
       "\\textbf{C(style)[T.3]}                                    &   -1.151e+04  &     8251.632     &    -1.395  &         0.164        &    -2.77e+04    &     4707.107     \\\\\n",
       "\\textbf{C(style)[T.4]}                                    &     2.31e+04  &     1.72e+04     &     1.346  &         0.179        &    -1.06e+04    &     5.68e+04     \\\\\n",
       "\\textbf{C(style)[T.5]}                                    &   -7407.6304  &     1.55e+04     &    -0.479  &         0.632        &    -3.78e+04    &      2.3e+04     \\\\\n",
       "\\textbf{C(style)[T.6]}                                    &    -3.06e+04  &     1.51e+04     &    -2.029  &         0.043        &    -6.02e+04    &     -951.905     \\\\\n",
       "\\textbf{C(style)[T.7]}                                    &   -4.664e+04  &     8514.836     &    -5.477  &         0.000        &    -6.34e+04    &    -2.99e+04     \\\\\n",
       "\\textbf{C(style)[T.9]}                                    &   -9.094e+04  &     5.26e+04     &    -1.728  &         0.085        &    -1.94e+05    &     1.25e+04     \\\\\n",
       "\\textbf{C(ac)[T.YES]}                                     &   -1075.0761  &     7501.411     &    -0.143  &         0.886        &    -1.58e+04    &     1.37e+04     \\\\\n",
       "\\textbf{C(pool)[T.YES]}                                   &    2.163e+04  &     1.06e+04     &     2.042  &         0.042        &      813.263    &     4.25e+04     \\\\\n",
       "\\textbf{C(quality, Treatment(reference=\"LOW\"))[T.HIGH]}   &    1.368e+05  &     1.45e+04     &     9.433  &         0.000        &     1.08e+05    &     1.65e+05     \\\\\n",
       "\\textbf{C(quality, Treatment(reference=\"LOW\"))[T.MEDIUM]} &     437.0813  &     7899.182     &     0.055  &         0.956        &    -1.51e+04    &      1.6e+04     \\\\\n",
       "\\textbf{C(highway)[T.YES]}                                &    -3.18e+04  &     1.69e+04     &    -1.884  &         0.060        &     -6.5e+04    &     1380.295     \\\\\n",
       "\\textbf{area}                                             &     117.2176  &        7.739     &    15.146  &         0.000        &      102.006    &      132.429     \\\\\n",
       "\\textbf{beds}                                             &   -2222.9820  &     4148.594     &    -0.536  &         0.592        &    -1.04e+04    &     5931.279     \\\\\n",
       "\\textbf{baths}                                            &    9246.5631  &     4285.513     &     2.158  &         0.032        &      823.180    &     1.77e+04     \\\\\n",
       "\\textbf{garage}                                           &    7423.7368  &     4914.563     &     1.511  &         0.132        &    -2236.074    &     1.71e+04     \\\\\n",
       "\\textbf{year}                                             &    1300.6190  &      199.782     &     6.510  &         0.000        &      907.938    &     1693.300     \\\\\n",
       "\\textbf{lotsize}                                          &       1.3283  &        0.238     &     5.584  &         0.000        &        0.861    &        1.796     \\\\\n",
       "\\bottomrule\n",
       "\\end{tabular}\n",
       "\\begin{tabular}{lclc}\n",
       "\\textbf{Omnibus:}       & 58.445 & \\textbf{  Durbin-Watson:     } &    1.344  \\\\\n",
       "\\textbf{Prob(Omnibus):} &  0.000 & \\textbf{  Jarque-Bera (JB):  } &  269.978  \\\\\n",
       "\\textbf{Skew:}          &  0.449 & \\textbf{  Prob(JB):          } & 2.37e-59  \\\\\n",
       "\\textbf{Kurtosis:}      &  6.709 & \\textbf{  Cond. No.          } & 4.22e+06  \\\\\n",
       "\\bottomrule\n",
       "\\end{tabular}\n",
       "%\\caption{OLS Regression Results}\n",
       "\\end{center}\n",
       "\n",
       "Notes: \\newline\n",
       " [1] Standard Errors assume that the covariance matrix of the errors is correctly specified. \\newline\n",
       " [2] The condition number is large, 4.22e+06. This might indicate that there are \\newline\n",
       " strong multicollinearity or other numerical problems."
      ],
      "text/plain": [
       "<class 'statsmodels.iolib.summary.Summary'>\n",
       "\"\"\"\n",
       "                            OLS Regression Results                            \n",
       "==============================================================================\n",
       "Dep. Variable:                  price   R-squared:                       0.852\n",
       "Model:                            OLS   Adj. R-squared:                  0.845\n",
       "Method:                 Least Squares   F-statistic:                     135.9\n",
       "Date:                Wed, 20 Sep 2023   Prob (F-statistic):          1.08e-163\n",
       "Time:                        13:12:15   Log-Likelihood:                -5451.8\n",
       "No. Observations:                 445   AIC:                         1.094e+04\n",
       "Df Residuals:                     426   BIC:                         1.102e+04\n",
       "Df Model:                          18                                         \n",
       "Covariance Type:            nonrobust                                         \n",
       "====================================================================================================================\n",
       "                                                       coef    std err          t      P>|t|      [0.025      0.975]\n",
       "--------------------------------------------------------------------------------------------------------------------\n",
       "Intercept                                         -2.61e+06   3.89e+05     -6.711      0.000   -3.37e+06   -1.85e+06\n",
       "C(style)[T.2]                                    -2.006e+04   8638.441     -2.322      0.021    -3.7e+04   -3080.425\n",
       "C(style)[T.3]                                    -1.151e+04   8251.632     -1.395      0.164   -2.77e+04    4707.107\n",
       "C(style)[T.4]                                      2.31e+04   1.72e+04      1.346      0.179   -1.06e+04    5.68e+04\n",
       "C(style)[T.5]                                    -7407.6304   1.55e+04     -0.479      0.632   -3.78e+04     2.3e+04\n",
       "C(style)[T.6]                                     -3.06e+04   1.51e+04     -2.029      0.043   -6.02e+04    -951.905\n",
       "C(style)[T.7]                                    -4.664e+04   8514.836     -5.477      0.000   -6.34e+04   -2.99e+04\n",
       "C(style)[T.9]                                    -9.094e+04   5.26e+04     -1.728      0.085   -1.94e+05    1.25e+04\n",
       "C(ac)[T.YES]                                     -1075.0761   7501.411     -0.143      0.886   -1.58e+04    1.37e+04\n",
       "C(pool)[T.YES]                                    2.163e+04   1.06e+04      2.042      0.042     813.263    4.25e+04\n",
       "C(quality, Treatment(reference=\"LOW\"))[T.HIGH]    1.368e+05   1.45e+04      9.433      0.000    1.08e+05    1.65e+05\n",
       "C(quality, Treatment(reference=\"LOW\"))[T.MEDIUM]   437.0813   7899.182      0.055      0.956   -1.51e+04     1.6e+04\n",
       "C(highway)[T.YES]                                 -3.18e+04   1.69e+04     -1.884      0.060    -6.5e+04    1380.295\n",
       "area                                               117.2176      7.739     15.146      0.000     102.006     132.429\n",
       "beds                                             -2222.9820   4148.594     -0.536      0.592   -1.04e+04    5931.279\n",
       "baths                                             9246.5631   4285.513      2.158      0.032     823.180    1.77e+04\n",
       "garage                                            7423.7368   4914.563      1.511      0.132   -2236.074    1.71e+04\n",
       "year                                              1300.6190    199.782      6.510      0.000     907.938    1693.300\n",
       "lotsize                                              1.3283      0.238      5.584      0.000       0.861       1.796\n",
       "==============================================================================\n",
       "Omnibus:                       58.445   Durbin-Watson:                   1.344\n",
       "Prob(Omnibus):                  0.000   Jarque-Bera (JB):              269.978\n",
       "Skew:                           0.449   Prob(JB):                     2.37e-59\n",
       "Kurtosis:                       6.709   Cond. No.                     4.22e+06\n",
       "==============================================================================\n",
       "\n",
       "Notes:\n",
       "[1] Standard Errors assume that the covariance matrix of the errors is correctly specified.\n",
       "[2] The condition number is large, 4.22e+06. This might indicate that there are\n",
       "strong multicollinearity or other numerical problems.\n",
       "\"\"\""
      ]
     },
     "execution_count": 33,
     "metadata": {},
     "output_type": "execute_result"
    }
   ],
   "source": [
    "model1 = smf.ols(formula = 'price ~ area+beds+baths+garage+year+\\\n",
    "                                    C(style)+lotsize+C(ac)+C(pool)+\\\n",
    "                                    C(quality,Treatment(reference=\"LOW\"))+\\\n",
    "                                    C(highway)',\n",
    "                 data = df).fit()\n",
    "model1.summary()"
   ]
  },
  {
   "cell_type": "code",
   "execution_count": 34,
   "metadata": {},
   "outputs": [],
   "source": [
    "# Remove beds, ac"
   ]
  },
  {
   "cell_type": "code",
   "execution_count": 35,
   "metadata": {},
   "outputs": [
    {
     "data": {
      "text/html": [
       "<table class=\"simpletable\">\n",
       "<caption>OLS Regression Results</caption>\n",
       "<tr>\n",
       "  <th>Dep. Variable:</th>          <td>price</td>      <th>  R-squared:         </th> <td>   0.852</td> \n",
       "</tr>\n",
       "<tr>\n",
       "  <th>Model:</th>                   <td>OLS</td>       <th>  Adj. R-squared:    </th> <td>   0.846</td> \n",
       "</tr>\n",
       "<tr>\n",
       "  <th>Method:</th>             <td>Least Squares</td>  <th>  F-statistic:       </th> <td>   153.4</td> \n",
       "</tr>\n",
       "<tr>\n",
       "  <th>Date:</th>             <td>Wed, 20 Sep 2023</td> <th>  Prob (F-statistic):</th> <td>8.21e-166</td>\n",
       "</tr>\n",
       "<tr>\n",
       "  <th>Time:</th>                 <td>13:12:15</td>     <th>  Log-Likelihood:    </th> <td> -5452.0</td> \n",
       "</tr>\n",
       "<tr>\n",
       "  <th>No. Observations:</th>      <td>   445</td>      <th>  AIC:               </th> <td>1.094e+04</td>\n",
       "</tr>\n",
       "<tr>\n",
       "  <th>Df Residuals:</th>          <td>   428</td>      <th>  BIC:               </th> <td>1.101e+04</td>\n",
       "</tr>\n",
       "<tr>\n",
       "  <th>Df Model:</th>              <td>    16</td>      <th>                     </th>     <td> </td>    \n",
       "</tr>\n",
       "<tr>\n",
       "  <th>Covariance Type:</th>      <td>nonrobust</td>    <th>                     </th>     <td> </td>    \n",
       "</tr>\n",
       "</table>\n",
       "<table class=\"simpletable\">\n",
       "<tr>\n",
       "                          <td></td>                            <th>coef</th>     <th>std err</th>      <th>t</th>      <th>P>|t|</th>  <th>[0.025</th>    <th>0.975]</th>  \n",
       "</tr>\n",
       "<tr>\n",
       "  <th>Intercept</th>                                        <td>-2.601e+06</td> <td> 3.82e+05</td> <td>   -6.803</td> <td> 0.000</td> <td>-3.35e+06</td> <td>-1.85e+06</td>\n",
       "</tr>\n",
       "<tr>\n",
       "  <th>C(style)[T.2]</th>                                    <td>-2.081e+04</td> <td> 8517.731</td> <td>   -2.443</td> <td> 0.015</td> <td>-3.76e+04</td> <td>-4067.036</td>\n",
       "</tr>\n",
       "<tr>\n",
       "  <th>C(style)[T.3]</th>                                    <td>-1.162e+04</td> <td> 8230.471</td> <td>   -1.412</td> <td> 0.159</td> <td>-2.78e+04</td> <td> 4557.609</td>\n",
       "</tr>\n",
       "<tr>\n",
       "  <th>C(style)[T.4]</th>                                    <td> 2.298e+04</td> <td> 1.71e+04</td> <td>    1.343</td> <td> 0.180</td> <td>-1.06e+04</td> <td> 5.66e+04</td>\n",
       "</tr>\n",
       "<tr>\n",
       "  <th>C(style)[T.5]</th>                                    <td>-7512.9785</td> <td> 1.53e+04</td> <td>   -0.490</td> <td> 0.624</td> <td>-3.76e+04</td> <td> 2.26e+04</td>\n",
       "</tr>\n",
       "<tr>\n",
       "  <th>C(style)[T.6]</th>                                    <td>-3.101e+04</td> <td>  1.5e+04</td> <td>   -2.066</td> <td> 0.039</td> <td>-6.05e+04</td> <td>-1506.413</td>\n",
       "</tr>\n",
       "<tr>\n",
       "  <th>C(style)[T.7]</th>                                    <td> -4.67e+04</td> <td> 8487.820</td> <td>   -5.502</td> <td> 0.000</td> <td>-6.34e+04</td> <td>   -3e+04</td>\n",
       "</tr>\n",
       "<tr>\n",
       "  <th>C(style)[T.9]</th>                                    <td> -9.06e+04</td> <td> 5.25e+04</td> <td>   -1.725</td> <td> 0.085</td> <td>-1.94e+05</td> <td> 1.26e+04</td>\n",
       "</tr>\n",
       "<tr>\n",
       "  <th>C(pool)[T.YES]</th>                                   <td> 2.179e+04</td> <td> 1.05e+04</td> <td>    2.068</td> <td> 0.039</td> <td> 1075.399</td> <td> 4.25e+04</td>\n",
       "</tr>\n",
       "<tr>\n",
       "  <th>C(quality, Treatment(reference=\"LOW\"))[T.HIGH]</th>   <td> 1.373e+05</td> <td> 1.44e+04</td> <td>    9.564</td> <td> 0.000</td> <td> 1.09e+05</td> <td> 1.66e+05</td>\n",
       "</tr>\n",
       "<tr>\n",
       "  <th>C(quality, Treatment(reference=\"LOW\"))[T.MEDIUM]</th> <td>  257.4791</td> <td> 7729.184</td> <td>    0.033</td> <td> 0.973</td> <td>-1.49e+04</td> <td> 1.54e+04</td>\n",
       "</tr>\n",
       "<tr>\n",
       "  <th>C(highway)[T.YES]</th>                                <td>-3.163e+04</td> <td> 1.68e+04</td> <td>   -1.879</td> <td> 0.061</td> <td>-6.47e+04</td> <td> 1453.863</td>\n",
       "</tr>\n",
       "<tr>\n",
       "  <th>area</th>                                             <td>  116.5845</td> <td>    7.632</td> <td>   15.275</td> <td> 0.000</td> <td>  101.583</td> <td>  131.586</td>\n",
       "</tr>\n",
       "<tr>\n",
       "  <th>baths</th>                                            <td> 8764.8329</td> <td> 4184.614</td> <td>    2.095</td> <td> 0.037</td> <td>  539.881</td> <td>  1.7e+04</td>\n",
       "</tr>\n",
       "<tr>\n",
       "  <th>garage</th>                                           <td> 7219.2587</td> <td> 4858.982</td> <td>    1.486</td> <td> 0.138</td> <td>-2331.178</td> <td> 1.68e+04</td>\n",
       "</tr>\n",
       "<tr>\n",
       "  <th>year</th>                                             <td> 1293.7214</td> <td>  196.090</td> <td>    6.598</td> <td> 0.000</td> <td>  908.303</td> <td> 1679.140</td>\n",
       "</tr>\n",
       "<tr>\n",
       "  <th>lotsize</th>                                          <td>    1.3304</td> <td>    0.234</td> <td>    5.675</td> <td> 0.000</td> <td>    0.870</td> <td>    1.791</td>\n",
       "</tr>\n",
       "</table>\n",
       "<table class=\"simpletable\">\n",
       "<tr>\n",
       "  <th>Omnibus:</th>       <td>58.505</td> <th>  Durbin-Watson:     </th> <td>   1.340</td>\n",
       "</tr>\n",
       "<tr>\n",
       "  <th>Prob(Omnibus):</th> <td> 0.000</td> <th>  Jarque-Bera (JB):  </th> <td> 268.359</td>\n",
       "</tr>\n",
       "<tr>\n",
       "  <th>Skew:</th>          <td> 0.452</td> <th>  Prob(JB):          </th> <td>5.33e-59</td>\n",
       "</tr>\n",
       "<tr>\n",
       "  <th>Kurtosis:</th>      <td> 6.695</td> <th>  Cond. No.          </th> <td>4.15e+06</td>\n",
       "</tr>\n",
       "</table><br/><br/>Notes:<br/>[1] Standard Errors assume that the covariance matrix of the errors is correctly specified.<br/>[2] The condition number is large, 4.15e+06. This might indicate that there are<br/>strong multicollinearity or other numerical problems."
      ],
      "text/latex": [
       "\\begin{center}\n",
       "\\begin{tabular}{lclc}\n",
       "\\toprule\n",
       "\\textbf{Dep. Variable:}                                   &      price       & \\textbf{  R-squared:         } &     0.852   \\\\\n",
       "\\textbf{Model:}                                           &       OLS        & \\textbf{  Adj. R-squared:    } &     0.846   \\\\\n",
       "\\textbf{Method:}                                          &  Least Squares   & \\textbf{  F-statistic:       } &     153.4   \\\\\n",
       "\\textbf{Date:}                                            & Wed, 20 Sep 2023 & \\textbf{  Prob (F-statistic):} & 8.21e-166   \\\\\n",
       "\\textbf{Time:}                                            &     13:12:15     & \\textbf{  Log-Likelihood:    } &   -5452.0   \\\\\n",
       "\\textbf{No. Observations:}                                &         445      & \\textbf{  AIC:               } & 1.094e+04   \\\\\n",
       "\\textbf{Df Residuals:}                                    &         428      & \\textbf{  BIC:               } & 1.101e+04   \\\\\n",
       "\\textbf{Df Model:}                                        &          16      & \\textbf{                     } &             \\\\\n",
       "\\textbf{Covariance Type:}                                 &    nonrobust     & \\textbf{                     } &             \\\\\n",
       "\\bottomrule\n",
       "\\end{tabular}\n",
       "\\begin{tabular}{lcccccc}\n",
       "                                                          & \\textbf{coef} & \\textbf{std err} & \\textbf{t} & \\textbf{P$> |$t$|$} & \\textbf{[0.025} & \\textbf{0.975]}  \\\\\n",
       "\\midrule\n",
       "\\textbf{Intercept}                                        &   -2.601e+06  &     3.82e+05     &    -6.803  &         0.000        &    -3.35e+06    &    -1.85e+06     \\\\\n",
       "\\textbf{C(style)[T.2]}                                    &   -2.081e+04  &     8517.731     &    -2.443  &         0.015        &    -3.76e+04    &    -4067.036     \\\\\n",
       "\\textbf{C(style)[T.3]}                                    &   -1.162e+04  &     8230.471     &    -1.412  &         0.159        &    -2.78e+04    &     4557.609     \\\\\n",
       "\\textbf{C(style)[T.4]}                                    &    2.298e+04  &     1.71e+04     &     1.343  &         0.180        &    -1.06e+04    &     5.66e+04     \\\\\n",
       "\\textbf{C(style)[T.5]}                                    &   -7512.9785  &     1.53e+04     &    -0.490  &         0.624        &    -3.76e+04    &     2.26e+04     \\\\\n",
       "\\textbf{C(style)[T.6]}                                    &   -3.101e+04  &      1.5e+04     &    -2.066  &         0.039        &    -6.05e+04    &    -1506.413     \\\\\n",
       "\\textbf{C(style)[T.7]}                                    &    -4.67e+04  &     8487.820     &    -5.502  &         0.000        &    -6.34e+04    &       -3e+04     \\\\\n",
       "\\textbf{C(style)[T.9]}                                    &    -9.06e+04  &     5.25e+04     &    -1.725  &         0.085        &    -1.94e+05    &     1.26e+04     \\\\\n",
       "\\textbf{C(pool)[T.YES]}                                   &    2.179e+04  &     1.05e+04     &     2.068  &         0.039        &     1075.399    &     4.25e+04     \\\\\n",
       "\\textbf{C(quality, Treatment(reference=\"LOW\"))[T.HIGH]}   &    1.373e+05  &     1.44e+04     &     9.564  &         0.000        &     1.09e+05    &     1.66e+05     \\\\\n",
       "\\textbf{C(quality, Treatment(reference=\"LOW\"))[T.MEDIUM]} &     257.4791  &     7729.184     &     0.033  &         0.973        &    -1.49e+04    &     1.54e+04     \\\\\n",
       "\\textbf{C(highway)[T.YES]}                                &   -3.163e+04  &     1.68e+04     &    -1.879  &         0.061        &    -6.47e+04    &     1453.863     \\\\\n",
       "\\textbf{area}                                             &     116.5845  &        7.632     &    15.275  &         0.000        &      101.583    &      131.586     \\\\\n",
       "\\textbf{baths}                                            &    8764.8329  &     4184.614     &     2.095  &         0.037        &      539.881    &      1.7e+04     \\\\\n",
       "\\textbf{garage}                                           &    7219.2587  &     4858.982     &     1.486  &         0.138        &    -2331.178    &     1.68e+04     \\\\\n",
       "\\textbf{year}                                             &    1293.7214  &      196.090     &     6.598  &         0.000        &      908.303    &     1679.140     \\\\\n",
       "\\textbf{lotsize}                                          &       1.3304  &        0.234     &     5.675  &         0.000        &        0.870    &        1.791     \\\\\n",
       "\\bottomrule\n",
       "\\end{tabular}\n",
       "\\begin{tabular}{lclc}\n",
       "\\textbf{Omnibus:}       & 58.505 & \\textbf{  Durbin-Watson:     } &    1.340  \\\\\n",
       "\\textbf{Prob(Omnibus):} &  0.000 & \\textbf{  Jarque-Bera (JB):  } &  268.359  \\\\\n",
       "\\textbf{Skew:}          &  0.452 & \\textbf{  Prob(JB):          } & 5.33e-59  \\\\\n",
       "\\textbf{Kurtosis:}      &  6.695 & \\textbf{  Cond. No.          } & 4.15e+06  \\\\\n",
       "\\bottomrule\n",
       "\\end{tabular}\n",
       "%\\caption{OLS Regression Results}\n",
       "\\end{center}\n",
       "\n",
       "Notes: \\newline\n",
       " [1] Standard Errors assume that the covariance matrix of the errors is correctly specified. \\newline\n",
       " [2] The condition number is large, 4.15e+06. This might indicate that there are \\newline\n",
       " strong multicollinearity or other numerical problems."
      ],
      "text/plain": [
       "<class 'statsmodels.iolib.summary.Summary'>\n",
       "\"\"\"\n",
       "                            OLS Regression Results                            \n",
       "==============================================================================\n",
       "Dep. Variable:                  price   R-squared:                       0.852\n",
       "Model:                            OLS   Adj. R-squared:                  0.846\n",
       "Method:                 Least Squares   F-statistic:                     153.4\n",
       "Date:                Wed, 20 Sep 2023   Prob (F-statistic):          8.21e-166\n",
       "Time:                        13:12:15   Log-Likelihood:                -5452.0\n",
       "No. Observations:                 445   AIC:                         1.094e+04\n",
       "Df Residuals:                     428   BIC:                         1.101e+04\n",
       "Df Model:                          16                                         \n",
       "Covariance Type:            nonrobust                                         \n",
       "====================================================================================================================\n",
       "                                                       coef    std err          t      P>|t|      [0.025      0.975]\n",
       "--------------------------------------------------------------------------------------------------------------------\n",
       "Intercept                                        -2.601e+06   3.82e+05     -6.803      0.000   -3.35e+06   -1.85e+06\n",
       "C(style)[T.2]                                    -2.081e+04   8517.731     -2.443      0.015   -3.76e+04   -4067.036\n",
       "C(style)[T.3]                                    -1.162e+04   8230.471     -1.412      0.159   -2.78e+04    4557.609\n",
       "C(style)[T.4]                                     2.298e+04   1.71e+04      1.343      0.180   -1.06e+04    5.66e+04\n",
       "C(style)[T.5]                                    -7512.9785   1.53e+04     -0.490      0.624   -3.76e+04    2.26e+04\n",
       "C(style)[T.6]                                    -3.101e+04    1.5e+04     -2.066      0.039   -6.05e+04   -1506.413\n",
       "C(style)[T.7]                                     -4.67e+04   8487.820     -5.502      0.000   -6.34e+04      -3e+04\n",
       "C(style)[T.9]                                     -9.06e+04   5.25e+04     -1.725      0.085   -1.94e+05    1.26e+04\n",
       "C(pool)[T.YES]                                    2.179e+04   1.05e+04      2.068      0.039    1075.399    4.25e+04\n",
       "C(quality, Treatment(reference=\"LOW\"))[T.HIGH]    1.373e+05   1.44e+04      9.564      0.000    1.09e+05    1.66e+05\n",
       "C(quality, Treatment(reference=\"LOW\"))[T.MEDIUM]   257.4791   7729.184      0.033      0.973   -1.49e+04    1.54e+04\n",
       "C(highway)[T.YES]                                -3.163e+04   1.68e+04     -1.879      0.061   -6.47e+04    1453.863\n",
       "area                                               116.5845      7.632     15.275      0.000     101.583     131.586\n",
       "baths                                             8764.8329   4184.614      2.095      0.037     539.881     1.7e+04\n",
       "garage                                            7219.2587   4858.982      1.486      0.138   -2331.178    1.68e+04\n",
       "year                                              1293.7214    196.090      6.598      0.000     908.303    1679.140\n",
       "lotsize                                              1.3304      0.234      5.675      0.000       0.870       1.791\n",
       "==============================================================================\n",
       "Omnibus:                       58.505   Durbin-Watson:                   1.340\n",
       "Prob(Omnibus):                  0.000   Jarque-Bera (JB):              268.359\n",
       "Skew:                           0.452   Prob(JB):                     5.33e-59\n",
       "Kurtosis:                       6.695   Cond. No.                     4.15e+06\n",
       "==============================================================================\n",
       "\n",
       "Notes:\n",
       "[1] Standard Errors assume that the covariance matrix of the errors is correctly specified.\n",
       "[2] The condition number is large, 4.15e+06. This might indicate that there are\n",
       "strong multicollinearity or other numerical problems.\n",
       "\"\"\""
      ]
     },
     "execution_count": 35,
     "metadata": {},
     "output_type": "execute_result"
    }
   ],
   "source": [
    "model2 = smf.ols(formula = 'price ~ area+baths+garage+year+\\\n",
    "                                    C(style)+lotsize+C(pool)+\\\n",
    "                                    C(quality,Treatment(reference=\"LOW\"))+\\\n",
    "                                    C(highway)',\n",
    "                 data = df).fit()\n",
    "model2.summary()"
   ]
  },
  {
   "cell_type": "markdown",
   "metadata": {},
   "source": [
    "### Create DataFrame for prediction"
   ]
  },
  {
   "cell_type": "code",
   "execution_count": 36,
   "metadata": {},
   "outputs": [],
   "source": [
    "newvalue = df[:1].copy()\n",
    "del newvalue['price']"
   ]
  },
  {
   "cell_type": "code",
   "execution_count": 37,
   "metadata": {},
   "outputs": [
    {
     "data": {
      "text/html": [
       "<div>\n",
       "<style scoped>\n",
       "    .dataframe tbody tr th:only-of-type {\n",
       "        vertical-align: middle;\n",
       "    }\n",
       "\n",
       "    .dataframe tbody tr th {\n",
       "        vertical-align: top;\n",
       "    }\n",
       "\n",
       "    .dataframe thead th {\n",
       "        text-align: right;\n",
       "    }\n",
       "</style>\n",
       "<table border=\"1\" class=\"dataframe\">\n",
       "  <thead>\n",
       "    <tr style=\"text-align: right;\">\n",
       "      <th></th>\n",
       "      <th>area</th>\n",
       "      <th>beds</th>\n",
       "      <th>baths</th>\n",
       "      <th>garage</th>\n",
       "      <th>year</th>\n",
       "      <th>style</th>\n",
       "      <th>lotsize</th>\n",
       "      <th>ac</th>\n",
       "      <th>pool</th>\n",
       "      <th>quality</th>\n",
       "      <th>highway</th>\n",
       "    </tr>\n",
       "  </thead>\n",
       "  <tbody>\n",
       "    <tr>\n",
       "      <th>0</th>\n",
       "      <td>3032</td>\n",
       "      <td>4</td>\n",
       "      <td>4</td>\n",
       "      <td>2</td>\n",
       "      <td>1972</td>\n",
       "      <td>1</td>\n",
       "      <td>22221</td>\n",
       "      <td>YES</td>\n",
       "      <td>NO</td>\n",
       "      <td>MEDIUM</td>\n",
       "      <td>NO</td>\n",
       "    </tr>\n",
       "  </tbody>\n",
       "</table>\n",
       "</div>"
      ],
      "text/plain": [
       "   area  beds  baths  garage  year style  lotsize   ac pool quality highway\n",
       "0  3032     4      4       2  1972     1    22221  YES   NO  MEDIUM      NO"
      ]
     },
     "execution_count": 37,
     "metadata": {},
     "output_type": "execute_result"
    }
   ],
   "source": [
    "newvalue"
   ]
  },
  {
   "cell_type": "code",
   "execution_count": 38,
   "metadata": {},
   "outputs": [
    {
     "data": {
      "text/plain": [
       "[3150, 2, 3, 2, 1996, 1, 26250, 'YES', 'YES', 'HIGH', 'NO']"
      ]
     },
     "execution_count": 38,
     "metadata": {},
     "output_type": "execute_result"
    }
   ],
   "source": [
    "list1 = [3150,2,3,2,1996,1,26250,'YES','YES','HIGH','NO']\n",
    "list1"
   ]
  },
  {
   "cell_type": "code",
   "execution_count": 39,
   "metadata": {},
   "outputs": [
    {
     "data": {
      "text/plain": [
       "['area',\n",
       " 'beds',\n",
       " 'baths',\n",
       " 'garage',\n",
       " 'year',\n",
       " 'style',\n",
       " 'lotsize',\n",
       " 'ac',\n",
       " 'pool',\n",
       " 'quality',\n",
       " 'highway']"
      ]
     },
     "execution_count": 39,
     "metadata": {},
     "output_type": "execute_result"
    }
   ],
   "source": [
    "list2 = newvalue.columns.tolist()\n",
    "list2"
   ]
  },
  {
   "cell_type": "code",
   "execution_count": 40,
   "metadata": {},
   "outputs": [
    {
     "data": {
      "text/html": [
       "<div>\n",
       "<style scoped>\n",
       "    .dataframe tbody tr th:only-of-type {\n",
       "        vertical-align: middle;\n",
       "    }\n",
       "\n",
       "    .dataframe tbody tr th {\n",
       "        vertical-align: top;\n",
       "    }\n",
       "\n",
       "    .dataframe thead th {\n",
       "        text-align: right;\n",
       "    }\n",
       "</style>\n",
       "<table border=\"1\" class=\"dataframe\">\n",
       "  <thead>\n",
       "    <tr style=\"text-align: right;\">\n",
       "      <th></th>\n",
       "      <th>area</th>\n",
       "      <th>beds</th>\n",
       "      <th>baths</th>\n",
       "      <th>garage</th>\n",
       "      <th>year</th>\n",
       "      <th>style</th>\n",
       "      <th>lotsize</th>\n",
       "      <th>ac</th>\n",
       "      <th>pool</th>\n",
       "      <th>quality</th>\n",
       "      <th>highway</th>\n",
       "    </tr>\n",
       "  </thead>\n",
       "  <tbody>\n",
       "    <tr>\n",
       "      <th>0</th>\n",
       "      <td>3150</td>\n",
       "      <td>2</td>\n",
       "      <td>3</td>\n",
       "      <td>2</td>\n",
       "      <td>1996</td>\n",
       "      <td>1</td>\n",
       "      <td>26250</td>\n",
       "      <td>YES</td>\n",
       "      <td>YES</td>\n",
       "      <td>HIGH</td>\n",
       "      <td>NO</td>\n",
       "    </tr>\n",
       "  </tbody>\n",
       "</table>\n",
       "</div>"
      ],
      "text/plain": [
       "   area beds baths garage  year style lotsize   ac pool quality highway\n",
       "0  3150    2     3      2  1996     1   26250  YES  YES    HIGH      NO"
      ]
     },
     "execution_count": 40,
     "metadata": {},
     "output_type": "execute_result"
    }
   ],
   "source": [
    "newvalue2 = pd.DataFrame(list1,index = list2).T\n",
    "newvalue2"
   ]
  },
  {
   "cell_type": "code",
   "execution_count": 41,
   "metadata": {},
   "outputs": [],
   "source": [
    "# newvalue.append(list1,columns = list2)"
   ]
  },
  {
   "cell_type": "code",
   "execution_count": 42,
   "metadata": {},
   "outputs": [],
   "source": [
    "newvalue.area = 3150\n",
    "newvalue.beds = 2\n",
    "newvalue.baths = 3\n",
    "newvalue.garage = 2\n",
    "newvalue.year = 1996\n",
    "newvalue.style = 1\n",
    "newvalue.lotsize = 26250 \n",
    "newvalue.ac = 'YES'\n",
    "newvalue.pool = 'YES'\n",
    "newvalue.quality = 'HIGH'\n",
    "newvalue.highway = 'NO'"
   ]
  },
  {
   "cell_type": "code",
   "execution_count": 43,
   "metadata": {},
   "outputs": [
    {
     "data": {
      "text/html": [
       "<div>\n",
       "<style scoped>\n",
       "    .dataframe tbody tr th:only-of-type {\n",
       "        vertical-align: middle;\n",
       "    }\n",
       "\n",
       "    .dataframe tbody tr th {\n",
       "        vertical-align: top;\n",
       "    }\n",
       "\n",
       "    .dataframe thead th {\n",
       "        text-align: right;\n",
       "    }\n",
       "</style>\n",
       "<table border=\"1\" class=\"dataframe\">\n",
       "  <thead>\n",
       "    <tr style=\"text-align: right;\">\n",
       "      <th></th>\n",
       "      <th>area</th>\n",
       "      <th>beds</th>\n",
       "      <th>baths</th>\n",
       "      <th>garage</th>\n",
       "      <th>year</th>\n",
       "      <th>style</th>\n",
       "      <th>lotsize</th>\n",
       "      <th>ac</th>\n",
       "      <th>pool</th>\n",
       "      <th>quality</th>\n",
       "      <th>highway</th>\n",
       "    </tr>\n",
       "  </thead>\n",
       "  <tbody>\n",
       "    <tr>\n",
       "      <th>0</th>\n",
       "      <td>3150</td>\n",
       "      <td>2</td>\n",
       "      <td>3</td>\n",
       "      <td>2</td>\n",
       "      <td>1996</td>\n",
       "      <td>1</td>\n",
       "      <td>26250</td>\n",
       "      <td>YES</td>\n",
       "      <td>YES</td>\n",
       "      <td>HIGH</td>\n",
       "      <td>NO</td>\n",
       "    </tr>\n",
       "  </tbody>\n",
       "</table>\n",
       "</div>"
      ],
      "text/plain": [
       "   area  beds  baths  garage  year  style  lotsize   ac pool quality highway\n",
       "0  3150     2      3       2  1996      1    26250  YES  YES    HIGH      NO"
      ]
     },
     "execution_count": 43,
     "metadata": {},
     "output_type": "execute_result"
    }
   ],
   "source": [
    "newvalue"
   ]
  },
  {
   "cell_type": "code",
   "execution_count": 44,
   "metadata": {},
   "outputs": [
    {
     "data": {
      "text/plain": [
       "0    585922.526796\n",
       "dtype: float64"
      ]
     },
     "execution_count": 44,
     "metadata": {},
     "output_type": "execute_result"
    }
   ],
   "source": [
    "model1.predict(newvalue)"
   ]
  },
  {
   "cell_type": "code",
   "execution_count": 45,
   "metadata": {},
   "outputs": [],
   "source": [
    "# prediction with intervals"
   ]
  },
  {
   "cell_type": "code",
   "execution_count": 46,
   "metadata": {},
   "outputs": [
    {
     "data": {
      "text/html": [
       "<div>\n",
       "<style scoped>\n",
       "    .dataframe tbody tr th:only-of-type {\n",
       "        vertical-align: middle;\n",
       "    }\n",
       "\n",
       "    .dataframe tbody tr th {\n",
       "        vertical-align: top;\n",
       "    }\n",
       "\n",
       "    .dataframe thead th {\n",
       "        text-align: right;\n",
       "    }\n",
       "</style>\n",
       "<table border=\"1\" class=\"dataframe\">\n",
       "  <thead>\n",
       "    <tr style=\"text-align: right;\">\n",
       "      <th></th>\n",
       "      <th>mean</th>\n",
       "      <th>mean_se</th>\n",
       "      <th>mean_ci_lower</th>\n",
       "      <th>mean_ci_upper</th>\n",
       "      <th>obs_ci_lower</th>\n",
       "      <th>obs_ci_upper</th>\n",
       "    </tr>\n",
       "  </thead>\n",
       "  <tbody>\n",
       "    <tr>\n",
       "      <th>0</th>\n",
       "      <td>585922.526796</td>\n",
       "      <td>15323.494616</td>\n",
       "      <td>555803.458271</td>\n",
       "      <td>616041.595321</td>\n",
       "      <td>479849.693761</td>\n",
       "      <td>691995.359831</td>\n",
       "    </tr>\n",
       "  </tbody>\n",
       "</table>\n",
       "</div>"
      ],
      "text/plain": [
       "            mean       mean_se  mean_ci_lower  mean_ci_upper   obs_ci_lower  \\\n",
       "0  585922.526796  15323.494616  555803.458271  616041.595321  479849.693761   \n",
       "\n",
       "    obs_ci_upper  \n",
       "0  691995.359831  "
      ]
     },
     "execution_count": 46,
     "metadata": {},
     "output_type": "execute_result"
    }
   ],
   "source": [
    "df1 = model1.get_prediction(newvalue)\n",
    "df1.summary_frame()"
   ]
  },
  {
   "cell_type": "code",
   "execution_count": 47,
   "metadata": {},
   "outputs": [],
   "source": [
    "# house price PI is (479849.70, 691995.36) dollars"
   ]
  },
  {
   "cell_type": "markdown",
   "metadata": {},
   "source": [
    "## sklearn"
   ]
  },
  {
   "cell_type": "code",
   "execution_count": 48,
   "metadata": {},
   "outputs": [],
   "source": [
    "from sklearn.linear_model import LinearRegression"
   ]
  },
  {
   "cell_type": "code",
   "execution_count": 49,
   "metadata": {},
   "outputs": [],
   "source": [
    "# transform categoricals to binary columns"
   ]
  },
  {
   "cell_type": "code",
   "execution_count": 50,
   "metadata": {},
   "outputs": [
    {
     "name": "stderr",
     "output_type": "stream",
     "text": [
      "/var/folders/d7/8d55xd4s09x_gjbk8q8dlhvr0000gn/T/ipykernel_2637/3012360643.py:1: FutureWarning: In a future version, the Index constructor will not infer numeric dtypes when passed object-dtype sequences (matching Series behavior)\n",
      "  df2 = pd.get_dummies(df,columns = ['style','ac','pool','quality','highway'],\\\n"
     ]
    },
    {
     "data": {
      "text/html": [
       "<div>\n",
       "<style scoped>\n",
       "    .dataframe tbody tr th:only-of-type {\n",
       "        vertical-align: middle;\n",
       "    }\n",
       "\n",
       "    .dataframe tbody tr th {\n",
       "        vertical-align: top;\n",
       "    }\n",
       "\n",
       "    .dataframe thead th {\n",
       "        text-align: right;\n",
       "    }\n",
       "</style>\n",
       "<table border=\"1\" class=\"dataframe\">\n",
       "  <thead>\n",
       "    <tr style=\"text-align: right;\">\n",
       "      <th></th>\n",
       "      <th>price</th>\n",
       "      <th>area</th>\n",
       "      <th>beds</th>\n",
       "      <th>baths</th>\n",
       "      <th>garage</th>\n",
       "      <th>year</th>\n",
       "      <th>lotsize</th>\n",
       "      <th>style_2</th>\n",
       "      <th>style_3</th>\n",
       "      <th>style_4</th>\n",
       "      <th>style_5</th>\n",
       "      <th>style_6</th>\n",
       "      <th>style_7</th>\n",
       "      <th>style_9</th>\n",
       "      <th>ac_YES</th>\n",
       "      <th>pool_YES</th>\n",
       "      <th>quality_LOW</th>\n",
       "      <th>quality_MEDIUM</th>\n",
       "      <th>highway_YES</th>\n",
       "    </tr>\n",
       "  </thead>\n",
       "  <tbody>\n",
       "    <tr>\n",
       "      <th>0</th>\n",
       "      <td>360000</td>\n",
       "      <td>3032</td>\n",
       "      <td>4</td>\n",
       "      <td>4</td>\n",
       "      <td>2</td>\n",
       "      <td>1972</td>\n",
       "      <td>22221</td>\n",
       "      <td>0</td>\n",
       "      <td>0</td>\n",
       "      <td>0</td>\n",
       "      <td>0</td>\n",
       "      <td>0</td>\n",
       "      <td>0</td>\n",
       "      <td>0</td>\n",
       "      <td>1</td>\n",
       "      <td>0</td>\n",
       "      <td>0</td>\n",
       "      <td>1</td>\n",
       "      <td>0</td>\n",
       "    </tr>\n",
       "    <tr>\n",
       "      <th>1</th>\n",
       "      <td>340000</td>\n",
       "      <td>2058</td>\n",
       "      <td>4</td>\n",
       "      <td>2</td>\n",
       "      <td>2</td>\n",
       "      <td>1976</td>\n",
       "      <td>22912</td>\n",
       "      <td>0</td>\n",
       "      <td>0</td>\n",
       "      <td>0</td>\n",
       "      <td>0</td>\n",
       "      <td>0</td>\n",
       "      <td>0</td>\n",
       "      <td>0</td>\n",
       "      <td>1</td>\n",
       "      <td>0</td>\n",
       "      <td>0</td>\n",
       "      <td>1</td>\n",
       "      <td>0</td>\n",
       "    </tr>\n",
       "    <tr>\n",
       "      <th>2</th>\n",
       "      <td>250000</td>\n",
       "      <td>1780</td>\n",
       "      <td>4</td>\n",
       "      <td>3</td>\n",
       "      <td>2</td>\n",
       "      <td>1980</td>\n",
       "      <td>21345</td>\n",
       "      <td>0</td>\n",
       "      <td>0</td>\n",
       "      <td>0</td>\n",
       "      <td>0</td>\n",
       "      <td>0</td>\n",
       "      <td>0</td>\n",
       "      <td>0</td>\n",
       "      <td>1</td>\n",
       "      <td>0</td>\n",
       "      <td>0</td>\n",
       "      <td>1</td>\n",
       "      <td>0</td>\n",
       "    </tr>\n",
       "    <tr>\n",
       "      <th>3</th>\n",
       "      <td>205500</td>\n",
       "      <td>1638</td>\n",
       "      <td>4</td>\n",
       "      <td>2</td>\n",
       "      <td>2</td>\n",
       "      <td>1963</td>\n",
       "      <td>17342</td>\n",
       "      <td>0</td>\n",
       "      <td>0</td>\n",
       "      <td>0</td>\n",
       "      <td>0</td>\n",
       "      <td>0</td>\n",
       "      <td>0</td>\n",
       "      <td>0</td>\n",
       "      <td>1</td>\n",
       "      <td>0</td>\n",
       "      <td>0</td>\n",
       "      <td>1</td>\n",
       "      <td>0</td>\n",
       "    </tr>\n",
       "    <tr>\n",
       "      <th>4</th>\n",
       "      <td>275500</td>\n",
       "      <td>2196</td>\n",
       "      <td>4</td>\n",
       "      <td>3</td>\n",
       "      <td>2</td>\n",
       "      <td>1968</td>\n",
       "      <td>21786</td>\n",
       "      <td>0</td>\n",
       "      <td>0</td>\n",
       "      <td>0</td>\n",
       "      <td>0</td>\n",
       "      <td>0</td>\n",
       "      <td>1</td>\n",
       "      <td>0</td>\n",
       "      <td>1</td>\n",
       "      <td>0</td>\n",
       "      <td>0</td>\n",
       "      <td>1</td>\n",
       "      <td>0</td>\n",
       "    </tr>\n",
       "  </tbody>\n",
       "</table>\n",
       "</div>"
      ],
      "text/plain": [
       "    price  area  beds  baths  garage  year  lotsize  style_2  style_3  \\\n",
       "0  360000  3032     4      4       2  1972    22221        0        0   \n",
       "1  340000  2058     4      2       2  1976    22912        0        0   \n",
       "2  250000  1780     4      3       2  1980    21345        0        0   \n",
       "3  205500  1638     4      2       2  1963    17342        0        0   \n",
       "4  275500  2196     4      3       2  1968    21786        0        0   \n",
       "\n",
       "   style_4  style_5  style_6  style_7  style_9  ac_YES  pool_YES  quality_LOW  \\\n",
       "0        0        0        0        0        0       1         0            0   \n",
       "1        0        0        0        0        0       1         0            0   \n",
       "2        0        0        0        0        0       1         0            0   \n",
       "3        0        0        0        0        0       1         0            0   \n",
       "4        0        0        0        1        0       1         0            0   \n",
       "\n",
       "   quality_MEDIUM  highway_YES  \n",
       "0               1            0  \n",
       "1               1            0  \n",
       "2               1            0  \n",
       "3               1            0  \n",
       "4               1            0  "
      ]
     },
     "execution_count": 50,
     "metadata": {},
     "output_type": "execute_result"
    }
   ],
   "source": [
    "df2 = pd.get_dummies(df,columns = ['style','ac','pool','quality','highway'],\\\n",
    "                     drop_first = True)\n",
    "df2[:5]"
   ]
  },
  {
   "cell_type": "code",
   "execution_count": 51,
   "metadata": {},
   "outputs": [],
   "source": [
    "# Split df2 into response and predictors"
   ]
  },
  {
   "cell_type": "code",
   "execution_count": 52,
   "metadata": {},
   "outputs": [],
   "source": [
    "Y = df2.price\n",
    "X = df2.drop(columns = 'price',axis = 1)"
   ]
  },
  {
   "cell_type": "code",
   "execution_count": 53,
   "metadata": {},
   "outputs": [
    {
     "data": {
      "text/plain": [
       "18"
      ]
     },
     "execution_count": 53,
     "metadata": {},
     "output_type": "execute_result"
    }
   ],
   "source": [
    "len(X.columns)"
   ]
  },
  {
   "cell_type": "code",
   "execution_count": 54,
   "metadata": {},
   "outputs": [],
   "source": [
    "# fit model"
   ]
  },
  {
   "cell_type": "code",
   "execution_count": 55,
   "metadata": {},
   "outputs": [],
   "source": [
    "model2 = LinearRegression().fit(X,Y)"
   ]
  },
  {
   "cell_type": "code",
   "execution_count": 56,
   "metadata": {},
   "outputs": [
    {
     "data": {
      "text/plain": [
       "-2472913.9489935217"
      ]
     },
     "execution_count": 56,
     "metadata": {},
     "output_type": "execute_result"
    }
   ],
   "source": [
    "model2.intercept_"
   ]
  },
  {
   "cell_type": "code",
   "execution_count": 57,
   "metadata": {},
   "outputs": [],
   "source": [
    "# suppress scientific notation (on numpy output)"
   ]
  },
  {
   "cell_type": "code",
   "execution_count": 58,
   "metadata": {},
   "outputs": [],
   "source": [
    "np.set_printoptions(precision=None, suppress=True)"
   ]
  },
  {
   "cell_type": "code",
   "execution_count": 59,
   "metadata": {},
   "outputs": [],
   "source": [
    "# model2 regression coefficients"
   ]
  },
  {
   "cell_type": "code",
   "execution_count": 60,
   "metadata": {},
   "outputs": [
    {
     "data": {
      "text/html": [
       "<div>\n",
       "<style scoped>\n",
       "    .dataframe tbody tr th:only-of-type {\n",
       "        vertical-align: middle;\n",
       "    }\n",
       "\n",
       "    .dataframe tbody tr th {\n",
       "        vertical-align: top;\n",
       "    }\n",
       "\n",
       "    .dataframe thead th {\n",
       "        text-align: right;\n",
       "    }\n",
       "</style>\n",
       "<table border=\"1\" class=\"dataframe\">\n",
       "  <thead>\n",
       "    <tr style=\"text-align: right;\">\n",
       "      <th></th>\n",
       "      <th>coef</th>\n",
       "    </tr>\n",
       "  </thead>\n",
       "  <tbody>\n",
       "    <tr>\n",
       "      <th>area</th>\n",
       "      <td>117.22</td>\n",
       "    </tr>\n",
       "    <tr>\n",
       "      <th>beds</th>\n",
       "      <td>-2222.98</td>\n",
       "    </tr>\n",
       "    <tr>\n",
       "      <th>baths</th>\n",
       "      <td>9246.56</td>\n",
       "    </tr>\n",
       "    <tr>\n",
       "      <th>garage</th>\n",
       "      <td>7423.74</td>\n",
       "    </tr>\n",
       "    <tr>\n",
       "      <th>year</th>\n",
       "      <td>1300.62</td>\n",
       "    </tr>\n",
       "    <tr>\n",
       "      <th>lotsize</th>\n",
       "      <td>1.33</td>\n",
       "    </tr>\n",
       "    <tr>\n",
       "      <th>style_2</th>\n",
       "      <td>-20059.70</td>\n",
       "    </tr>\n",
       "    <tr>\n",
       "      <th>style_3</th>\n",
       "      <td>-11511.87</td>\n",
       "    </tr>\n",
       "    <tr>\n",
       "      <th>style_4</th>\n",
       "      <td>23097.27</td>\n",
       "    </tr>\n",
       "    <tr>\n",
       "      <th>style_5</th>\n",
       "      <td>-7407.63</td>\n",
       "    </tr>\n",
       "    <tr>\n",
       "      <th>style_6</th>\n",
       "      <td>-30595.70</td>\n",
       "    </tr>\n",
       "    <tr>\n",
       "      <th>style_7</th>\n",
       "      <td>-46636.80</td>\n",
       "    </tr>\n",
       "    <tr>\n",
       "      <th>style_9</th>\n",
       "      <td>-90937.91</td>\n",
       "    </tr>\n",
       "    <tr>\n",
       "      <th>ac_YES</th>\n",
       "      <td>-1075.08</td>\n",
       "    </tr>\n",
       "    <tr>\n",
       "      <th>pool_YES</th>\n",
       "      <td>21631.70</td>\n",
       "    </tr>\n",
       "    <tr>\n",
       "      <th>quality_LOW</th>\n",
       "      <td>-136786.65</td>\n",
       "    </tr>\n",
       "    <tr>\n",
       "      <th>quality_MEDIUM</th>\n",
       "      <td>-136349.57</td>\n",
       "    </tr>\n",
       "    <tr>\n",
       "      <th>highway_YES</th>\n",
       "      <td>-31800.51</td>\n",
       "    </tr>\n",
       "  </tbody>\n",
       "</table>\n",
       "</div>"
      ],
      "text/plain": [
       "                     coef\n",
       "area               117.22\n",
       "beds             -2222.98\n",
       "baths             9246.56\n",
       "garage            7423.74\n",
       "year              1300.62\n",
       "lotsize              1.33\n",
       "style_2         -20059.70\n",
       "style_3         -11511.87\n",
       "style_4          23097.27\n",
       "style_5          -7407.63\n",
       "style_6         -30595.70\n",
       "style_7         -46636.80\n",
       "style_9         -90937.91\n",
       "ac_YES           -1075.08\n",
       "pool_YES         21631.70\n",
       "quality_LOW    -136786.65\n",
       "quality_MEDIUM -136349.57\n",
       "highway_YES     -31800.51"
      ]
     },
     "execution_count": 60,
     "metadata": {},
     "output_type": "execute_result"
    }
   ],
   "source": [
    "df3 = pd.DataFrame(model2.coef_.round(2),\n",
    "                   columns = ['coef'],\n",
    "                   index = X.columns)\n",
    "df3"
   ]
  },
  {
   "cell_type": "code",
   "execution_count": 61,
   "metadata": {},
   "outputs": [],
   "source": [
    "# create DataFrame for prediction"
   ]
  },
  {
   "cell_type": "code",
   "execution_count": 62,
   "metadata": {},
   "outputs": [
    {
     "data": {
      "text/html": [
       "<div>\n",
       "<style scoped>\n",
       "    .dataframe tbody tr th:only-of-type {\n",
       "        vertical-align: middle;\n",
       "    }\n",
       "\n",
       "    .dataframe tbody tr th {\n",
       "        vertical-align: top;\n",
       "    }\n",
       "\n",
       "    .dataframe thead th {\n",
       "        text-align: right;\n",
       "    }\n",
       "</style>\n",
       "<table border=\"1\" class=\"dataframe\">\n",
       "  <thead>\n",
       "    <tr style=\"text-align: right;\">\n",
       "      <th></th>\n",
       "      <th>area</th>\n",
       "      <th>beds</th>\n",
       "      <th>baths</th>\n",
       "      <th>garage</th>\n",
       "      <th>year</th>\n",
       "      <th>lotsize</th>\n",
       "      <th>style_2</th>\n",
       "      <th>style_3</th>\n",
       "      <th>style_4</th>\n",
       "      <th>style_5</th>\n",
       "      <th>style_6</th>\n",
       "      <th>style_7</th>\n",
       "      <th>style_9</th>\n",
       "      <th>ac_YES</th>\n",
       "      <th>pool_YES</th>\n",
       "      <th>quality_LOW</th>\n",
       "      <th>quality_MEDIUM</th>\n",
       "      <th>highway_YES</th>\n",
       "    </tr>\n",
       "  </thead>\n",
       "  <tbody>\n",
       "    <tr>\n",
       "      <th>0</th>\n",
       "      <td>3032</td>\n",
       "      <td>4</td>\n",
       "      <td>4</td>\n",
       "      <td>2</td>\n",
       "      <td>1972</td>\n",
       "      <td>22221</td>\n",
       "      <td>0</td>\n",
       "      <td>0</td>\n",
       "      <td>0</td>\n",
       "      <td>0</td>\n",
       "      <td>0</td>\n",
       "      <td>0</td>\n",
       "      <td>0</td>\n",
       "      <td>1</td>\n",
       "      <td>0</td>\n",
       "      <td>0</td>\n",
       "      <td>1</td>\n",
       "      <td>0</td>\n",
       "    </tr>\n",
       "  </tbody>\n",
       "</table>\n",
       "</div>"
      ],
      "text/plain": [
       "   area  beds  baths  garage  year  lotsize  style_2  style_3  style_4  \\\n",
       "0  3032     4      4       2  1972    22221        0        0        0   \n",
       "\n",
       "   style_5  style_6  style_7  style_9  ac_YES  pool_YES  quality_LOW  \\\n",
       "0        0        0        0        0       1         0            0   \n",
       "\n",
       "   quality_MEDIUM  highway_YES  \n",
       "0               1            0  "
      ]
     },
     "execution_count": 62,
     "metadata": {},
     "output_type": "execute_result"
    }
   ],
   "source": [
    "newvalue = df2[:1].copy()\n",
    "del newvalue['price']\n",
    "newvalue"
   ]
  },
  {
   "cell_type": "code",
   "execution_count": 63,
   "metadata": {},
   "outputs": [
    {
     "data": {
      "text/plain": [
       "Index(['area', 'beds', 'baths', 'garage', 'year', 'lotsize', 'style_2',\n",
       "       'style_3', 'style_4', 'style_5', 'style_6', 'style_7', 'style_9',\n",
       "       'ac_YES', 'pool_YES', 'quality_LOW', 'quality_MEDIUM', 'highway_YES'],\n",
       "      dtype='object')"
      ]
     },
     "execution_count": 63,
     "metadata": {},
     "output_type": "execute_result"
    }
   ],
   "source": [
    "newvalue.columns"
   ]
  },
  {
   "cell_type": "code",
   "execution_count": 64,
   "metadata": {},
   "outputs": [
    {
     "data": {
      "text/html": [
       "<div>\n",
       "<style scoped>\n",
       "    .dataframe tbody tr th:only-of-type {\n",
       "        vertical-align: middle;\n",
       "    }\n",
       "\n",
       "    .dataframe tbody tr th {\n",
       "        vertical-align: top;\n",
       "    }\n",
       "\n",
       "    .dataframe thead th {\n",
       "        text-align: right;\n",
       "    }\n",
       "</style>\n",
       "<table border=\"1\" class=\"dataframe\">\n",
       "  <thead>\n",
       "    <tr style=\"text-align: right;\">\n",
       "      <th></th>\n",
       "      <th>area</th>\n",
       "      <th>beds</th>\n",
       "      <th>baths</th>\n",
       "      <th>garage</th>\n",
       "      <th>year</th>\n",
       "      <th>lotsize</th>\n",
       "      <th>style_2</th>\n",
       "      <th>style_3</th>\n",
       "      <th>style_4</th>\n",
       "      <th>style_5</th>\n",
       "      <th>style_6</th>\n",
       "      <th>style_7</th>\n",
       "      <th>style_9</th>\n",
       "      <th>ac_YES</th>\n",
       "      <th>pool_YES</th>\n",
       "      <th>quality_LOW</th>\n",
       "      <th>quality_MEDIUM</th>\n",
       "      <th>highway_YES</th>\n",
       "    </tr>\n",
       "  </thead>\n",
       "  <tbody>\n",
       "    <tr>\n",
       "      <th>0</th>\n",
       "      <td>3150</td>\n",
       "      <td>2</td>\n",
       "      <td>3</td>\n",
       "      <td>2</td>\n",
       "      <td>1996</td>\n",
       "      <td>26250</td>\n",
       "      <td>0</td>\n",
       "      <td>0</td>\n",
       "      <td>0</td>\n",
       "      <td>0</td>\n",
       "      <td>0</td>\n",
       "      <td>0</td>\n",
       "      <td>0</td>\n",
       "      <td>1</td>\n",
       "      <td>1</td>\n",
       "      <td>0</td>\n",
       "      <td>0</td>\n",
       "      <td>0</td>\n",
       "    </tr>\n",
       "  </tbody>\n",
       "</table>\n",
       "</div>"
      ],
      "text/plain": [
       "   area  beds  baths  garage  year  lotsize  style_2  style_3  style_4  \\\n",
       "0  3150     2      3       2  1996    26250        0        0        0   \n",
       "\n",
       "   style_5  style_6  style_7  style_9  ac_YES  pool_YES  quality_LOW  \\\n",
       "0        0        0        0        0       1         1            0   \n",
       "\n",
       "   quality_MEDIUM  highway_YES  \n",
       "0               0            0  "
      ]
     },
     "execution_count": 64,
     "metadata": {},
     "output_type": "execute_result"
    }
   ],
   "source": [
    "newvalue.area = 3150\n",
    "newvalue.beds = 2\n",
    "newvalue.baths = 3\n",
    "newvalue.garage = 2\n",
    "newvalue.year = 1996\n",
    "newvalue.lotsize = 26250 \n",
    "newvalue.ac_YES = 1\n",
    "newvalue.pool_YES = 1\n",
    "newvalue.quality_LOW = 0\n",
    "newvalue.quality_MEDIUM = 0\n",
    "newvalue.highway_YES = 0\n",
    "newvalue"
   ]
  },
  {
   "cell_type": "code",
   "execution_count": 65,
   "metadata": {},
   "outputs": [
    {
     "data": {
      "text/plain": [
       "array([585922.52679621])"
      ]
     },
     "execution_count": 65,
     "metadata": {},
     "output_type": "execute_result"
    }
   ],
   "source": [
    "model2.predict(newvalue)"
   ]
  },
  {
   "cell_type": "code",
   "execution_count": null,
   "metadata": {},
   "outputs": [],
   "source": []
  }
 ],
 "metadata": {
  "kernelspec": {
   "display_name": "Python 3 (ipykernel)",
   "language": "python",
   "name": "python3"
  },
  "language_info": {
   "codemirror_mode": {
    "name": "ipython",
    "version": 3
   },
   "file_extension": ".py",
   "mimetype": "text/x-python",
   "name": "python",
   "nbconvert_exporter": "python",
   "pygments_lexer": "ipython3",
   "version": "3.11.4"
  }
 },
 "nbformat": 4,
 "nbformat_minor": 2
}
