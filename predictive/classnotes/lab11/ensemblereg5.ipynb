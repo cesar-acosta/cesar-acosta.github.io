{
 "cells": [
  {
   "cell_type": "markdown",
   "metadata": {},
   "source": [
    "# Ensemble of Regression Trees"
   ]
  },
  {
   "cell_type": "code",
   "execution_count": 21,
   "metadata": {},
   "outputs": [],
   "source": [
    "import pandas as pd\n",
    "import numpy as np\n",
    "import matplotlib.pyplot as plt"
   ]
  },
  {
   "cell_type": "code",
   "execution_count": 22,
   "metadata": {},
   "outputs": [],
   "source": [
    "from sklearn.model_selection import train_test_split\n",
    "from sklearn.model_selection import GridSearchCV\n",
    "from sklearn.metrics import mean_squared_error"
   ]
  },
  {
   "cell_type": "code",
   "execution_count": 23,
   "metadata": {},
   "outputs": [],
   "source": [
    "from sklearn.tree import DecisionTreeRegressor\n",
    "from sklearn.ensemble import GradientBoostingRegressor\n",
    "from sklearn.ensemble import RandomForestRegressor"
   ]
  },
  {
   "cell_type": "code",
   "execution_count": 24,
   "metadata": {},
   "outputs": [],
   "source": [
    "# RandomForestRegressor is for Bagging and Random Forest regression models"
   ]
  },
  {
   "cell_type": "code",
   "execution_count": 25,
   "metadata": {},
   "outputs": [
    {
     "data": {
      "text/html": [
       "<div>\n",
       "<style scoped>\n",
       "    .dataframe tbody tr th:only-of-type {\n",
       "        vertical-align: middle;\n",
       "    }\n",
       "\n",
       "    .dataframe tbody tr th {\n",
       "        vertical-align: top;\n",
       "    }\n",
       "\n",
       "    .dataframe thead th {\n",
       "        text-align: right;\n",
       "    }\n",
       "</style>\n",
       "<table border=\"1\" class=\"dataframe\">\n",
       "  <thead>\n",
       "    <tr style=\"text-align: right;\">\n",
       "      <th></th>\n",
       "      <th>crim</th>\n",
       "      <th>zn</th>\n",
       "      <th>indus</th>\n",
       "      <th>chas</th>\n",
       "      <th>nox</th>\n",
       "      <th>rm</th>\n",
       "      <th>age</th>\n",
       "      <th>dis</th>\n",
       "      <th>rad</th>\n",
       "      <th>tax</th>\n",
       "      <th>ptratio</th>\n",
       "      <th>black</th>\n",
       "      <th>lstat</th>\n",
       "      <th>medv</th>\n",
       "    </tr>\n",
       "  </thead>\n",
       "  <tbody>\n",
       "    <tr>\n",
       "      <th>0</th>\n",
       "      <td>0.00632</td>\n",
       "      <td>18.0</td>\n",
       "      <td>2.31</td>\n",
       "      <td>0</td>\n",
       "      <td>0.538</td>\n",
       "      <td>6.575</td>\n",
       "      <td>65.2</td>\n",
       "      <td>4.0900</td>\n",
       "      <td>1</td>\n",
       "      <td>296</td>\n",
       "      <td>15.3</td>\n",
       "      <td>396.90</td>\n",
       "      <td>4.98</td>\n",
       "      <td>24.0</td>\n",
       "    </tr>\n",
       "    <tr>\n",
       "      <th>1</th>\n",
       "      <td>0.02731</td>\n",
       "      <td>0.0</td>\n",
       "      <td>7.07</td>\n",
       "      <td>0</td>\n",
       "      <td>0.469</td>\n",
       "      <td>6.421</td>\n",
       "      <td>78.9</td>\n",
       "      <td>4.9671</td>\n",
       "      <td>2</td>\n",
       "      <td>242</td>\n",
       "      <td>17.8</td>\n",
       "      <td>396.90</td>\n",
       "      <td>9.14</td>\n",
       "      <td>21.6</td>\n",
       "    </tr>\n",
       "    <tr>\n",
       "      <th>2</th>\n",
       "      <td>0.02729</td>\n",
       "      <td>0.0</td>\n",
       "      <td>7.07</td>\n",
       "      <td>0</td>\n",
       "      <td>0.469</td>\n",
       "      <td>7.185</td>\n",
       "      <td>61.1</td>\n",
       "      <td>4.9671</td>\n",
       "      <td>2</td>\n",
       "      <td>242</td>\n",
       "      <td>17.8</td>\n",
       "      <td>392.83</td>\n",
       "      <td>4.03</td>\n",
       "      <td>34.7</td>\n",
       "    </tr>\n",
       "    <tr>\n",
       "      <th>3</th>\n",
       "      <td>0.03237</td>\n",
       "      <td>0.0</td>\n",
       "      <td>2.18</td>\n",
       "      <td>0</td>\n",
       "      <td>0.458</td>\n",
       "      <td>6.998</td>\n",
       "      <td>45.8</td>\n",
       "      <td>6.0622</td>\n",
       "      <td>3</td>\n",
       "      <td>222</td>\n",
       "      <td>18.7</td>\n",
       "      <td>394.63</td>\n",
       "      <td>2.94</td>\n",
       "      <td>33.4</td>\n",
       "    </tr>\n",
       "    <tr>\n",
       "      <th>4</th>\n",
       "      <td>0.06905</td>\n",
       "      <td>0.0</td>\n",
       "      <td>2.18</td>\n",
       "      <td>0</td>\n",
       "      <td>0.458</td>\n",
       "      <td>7.147</td>\n",
       "      <td>54.2</td>\n",
       "      <td>6.0622</td>\n",
       "      <td>3</td>\n",
       "      <td>222</td>\n",
       "      <td>18.7</td>\n",
       "      <td>396.90</td>\n",
       "      <td>5.33</td>\n",
       "      <td>36.2</td>\n",
       "    </tr>\n",
       "  </tbody>\n",
       "</table>\n",
       "</div>"
      ],
      "text/plain": [
       "      crim    zn  indus  chas    nox     rm   age     dis  rad  tax  ptratio  \\\n",
       "0  0.00632  18.0   2.31     0  0.538  6.575  65.2  4.0900    1  296     15.3   \n",
       "1  0.02731   0.0   7.07     0  0.469  6.421  78.9  4.9671    2  242     17.8   \n",
       "2  0.02729   0.0   7.07     0  0.469  7.185  61.1  4.9671    2  242     17.8   \n",
       "3  0.03237   0.0   2.18     0  0.458  6.998  45.8  6.0622    3  222     18.7   \n",
       "4  0.06905   0.0   2.18     0  0.458  7.147  54.2  6.0622    3  222     18.7   \n",
       "\n",
       "    black  lstat  medv  \n",
       "0  396.90   4.98  24.0  \n",
       "1  396.90   9.14  21.6  \n",
       "2  392.83   4.03  34.7  \n",
       "3  394.63   2.94  33.4  \n",
       "4  396.90   5.33  36.2  "
      ]
     },
     "execution_count": 25,
     "metadata": {},
     "output_type": "execute_result"
    }
   ],
   "source": [
    "boston_df = pd.read_csv('Boston.csv')\n",
    "boston_df[:5]"
   ]
  },
  {
   "cell_type": "code",
   "execution_count": 26,
   "metadata": {},
   "outputs": [
    {
     "data": {
      "text/plain": [
       "(506, 14)"
      ]
     },
     "execution_count": 26,
     "metadata": {},
     "output_type": "execute_result"
    }
   ],
   "source": [
    "boston_df.shape"
   ]
  },
  {
   "cell_type": "code",
   "execution_count": 27,
   "metadata": {},
   "outputs": [],
   "source": [
    "X = boston_df.drop('medv',axis =1)\n",
    "y = boston_df.medv"
   ]
  },
  {
   "cell_type": "markdown",
   "metadata": {},
   "source": [
    "#### Single Tree"
   ]
  },
  {
   "cell_type": "code",
   "execution_count": 28,
   "metadata": {},
   "outputs": [],
   "source": [
    "X_train,X_test,y_train,y_test =\\\n",
    "train_test_split(X,y,train_size=0.5,random_state=0)"
   ]
  },
  {
   "cell_type": "code",
   "execution_count": 29,
   "metadata": {},
   "outputs": [
    {
     "data": {
      "text/plain": [
       "23.81737151382862"
      ]
     },
     "execution_count": 29,
     "metadata": {},
     "output_type": "execute_result"
    }
   ],
   "source": [
    "tree1 = DecisionTreeRegressor(max_depth=4)\n",
    "tree1.fit(X_train,y_train)\n",
    "pred1 = tree1.predict(X_test)\n",
    "mspe = mean_squared_error(y_test,pred1)\n",
    "mspe"
   ]
  },
  {
   "cell_type": "code",
   "execution_count": 30,
   "metadata": {},
   "outputs": [
    {
     "data": {
      "image/png": "[encoded data removed]",
      "text/plain": [
       "<Figure size 640x480 with 1 Axes>"
      ]
     },
     "metadata": {},
     "output_type": "display_data"
    }
   ],
   "source": [
    "xaxis = np.linspace(0,50,100)\n",
    "plt.scatter(y_test,pred1,s = 6,color='k')\n",
    "plt.plot(xaxis,xaxis,color='r')\n",
    "plt.xlabel('medv')\n",
    "plt.ylabel('medv predicted')\n",
    "plt.grid()"
   ]
  },
  {
   "cell_type": "markdown",
   "metadata": {},
   "source": [
    "## Bagging on B=500 Regression Trees"
   ]
  },
  {
   "cell_type": "markdown",
   "metadata": {},
   "source": [
    "All p=13 predictors will be considered at each split of the tree<br>\n",
    "m = max_features = n. of predictors = p"
   ]
  },
  {
   "cell_type": "code",
   "execution_count": 31,
   "metadata": {},
   "outputs": [
    {
     "data": {
      "text/plain": [
       "17.511475948091437"
      ]
     },
     "execution_count": 31,
     "metadata": {},
     "output_type": "execute_result"
    }
   ],
   "source": [
    "bag500 = RandomForestRegressor(max_features=13,max_depth=4,\n",
    "                               n_estimators = 500,random_state=1)\n",
    "bag500.fit(X_train,y_train);\n",
    "pred2 = bag500.predict(X_test)\n",
    "mean_squared_error(y_test,pred2)"
   ]
  },
  {
   "cell_type": "code",
   "execution_count": 32,
   "metadata": {},
   "outputs": [],
   "source": [
    "# significantly lower than that of a single tree"
   ]
  },
  {
   "cell_type": "code",
   "execution_count": 33,
   "metadata": {},
   "outputs": [
    {
     "data": {
      "image/png": "[encoded data removed]",
      "text/plain": [
       "<Figure size 640x480 with 1 Axes>"
      ]
     },
     "metadata": {},
     "output_type": "display_data"
    }
   ],
   "source": [
    "plt.scatter(y_test,pred2,s = 6,color='k')\n",
    "plt.plot(xaxis,xaxis,color='r')\n",
    "plt.xlabel('medv')\n",
    "plt.ylabel('medv predicted')\n",
    "plt.grid()"
   ]
  },
  {
   "cell_type": "code",
   "execution_count": 34,
   "metadata": {},
   "outputs": [],
   "source": [
    "# Comparison plot 1"
   ]
  },
  {
   "cell_type": "code",
   "execution_count": 35,
   "metadata": {},
   "outputs": [
    {
     "data": {
      "image/png": "[encoded data removed]",
      "text/plain": [
       "<Figure size 1200x600 with 2 Axes>"
      ]
     },
     "metadata": {},
     "output_type": "display_data"
    }
   ],
   "source": [
    "figure,(ax0,ax1) = plt.subplots(ncols = 2,figsize=(12,6))\n",
    "# single tree plot\n",
    "ax0.scatter(y_test,pred1,s = 6,color='k')\n",
    "ax0.plot(xaxis,xaxis,color='r')\n",
    "ax0.set_xlabel('medv')\n",
    "ax0.set_ylabel('predicted medv')\n",
    "ax0.title.set_text('Single Tree')\n",
    "ax0.grid()\n",
    "# bagging plot\n",
    "ax1.scatter(y_test,pred2,s = 6,color='k')\n",
    "ax1.plot(xaxis,xaxis,color='r')\n",
    "ax1.set_xlabel('medv')\n",
    "ax1.title.set_text('500 Bagged Trees')\n",
    "ax1.grid()"
   ]
  },
  {
   "cell_type": "markdown",
   "metadata": {},
   "source": [
    "### Find best n_estimators (holdout cv)"
   ]
  },
  {
   "cell_type": "code",
   "execution_count": 36,
   "metadata": {},
   "outputs": [],
   "source": [
    "X_nontest,X_test,y_nontest,y_test = train_test_split(X,y,test_size=0.5,\n",
    "                                                 random_state=0)"
   ]
  },
  {
   "cell_type": "code",
   "execution_count": 37,
   "metadata": {},
   "outputs": [],
   "source": [
    "X_train,X_validation,y_train,y_validation = train_test_split(X_nontest,y_nontest,\n",
    "                                                 train_size=0.5,\n",
    "                                                 random_state=0)"
   ]
  },
  {
   "cell_type": "code",
   "execution_count": 38,
   "metadata": {},
   "outputs": [],
   "source": [
    "nn = range(25,1100,50)\n",
    "\n",
    "mses = []\n",
    "for k in nn:\n",
    "    model = RandomForestRegressor(max_features=13,max_depth=4,\n",
    "                                      n_estimators = k,\n",
    "                                      random_state=1)\n",
    "    model.fit(X_train,y_train);\n",
    "    yhat = model.predict(X_validation)\n",
    "    mse = mean_squared_error(y_validation,yhat)\n",
    "    mses.append(mse)"
   ]
  },
  {
   "cell_type": "code",
   "execution_count": 39,
   "metadata": {},
   "outputs": [
    {
     "data": {
      "text/html": [
       "<div>\n",
       "<style scoped>\n",
       "    .dataframe tbody tr th:only-of-type {\n",
       "        vertical-align: middle;\n",
       "    }\n",
       "\n",
       "    .dataframe tbody tr th {\n",
       "        vertical-align: top;\n",
       "    }\n",
       "\n",
       "    .dataframe thead th {\n",
       "        text-align: right;\n",
       "    }\n",
       "</style>\n",
       "<table border=\"1\" class=\"dataframe\">\n",
       "  <thead>\n",
       "    <tr style=\"text-align: right;\">\n",
       "      <th>n_estimators</th>\n",
       "      <th>Valid_MSE</th>\n",
       "    </tr>\n",
       "  </thead>\n",
       "  <tbody>\n",
       "    <tr>\n",
       "      <th>25</th>\n",
       "      <td>13.790862</td>\n",
       "    </tr>\n",
       "    <tr>\n",
       "      <th>75</th>\n",
       "      <td>12.680501</td>\n",
       "    </tr>\n",
       "    <tr>\n",
       "      <th>125</th>\n",
       "      <td>12.823402</td>\n",
       "    </tr>\n",
       "    <tr>\n",
       "      <th>175</th>\n",
       "      <td>12.472117</td>\n",
       "    </tr>\n",
       "    <tr>\n",
       "      <th>225</th>\n",
       "      <td>12.431220</td>\n",
       "    </tr>\n",
       "    <tr>\n",
       "      <th>275</th>\n",
       "      <td>12.537799</td>\n",
       "    </tr>\n",
       "    <tr>\n",
       "      <th>325</th>\n",
       "      <td>12.465000</td>\n",
       "    </tr>\n",
       "    <tr>\n",
       "      <th>375</th>\n",
       "      <td>12.392024</td>\n",
       "    </tr>\n",
       "    <tr>\n",
       "      <th>425</th>\n",
       "      <td>12.286661</td>\n",
       "    </tr>\n",
       "    <tr>\n",
       "      <th>475</th>\n",
       "      <td>12.361468</td>\n",
       "    </tr>\n",
       "    <tr>\n",
       "      <th>525</th>\n",
       "      <td>12.466939</td>\n",
       "    </tr>\n",
       "    <tr>\n",
       "      <th>575</th>\n",
       "      <td>12.425720</td>\n",
       "    </tr>\n",
       "    <tr>\n",
       "      <th>625</th>\n",
       "      <td>12.397227</td>\n",
       "    </tr>\n",
       "    <tr>\n",
       "      <th>675</th>\n",
       "      <td>12.385996</td>\n",
       "    </tr>\n",
       "    <tr>\n",
       "      <th>725</th>\n",
       "      <td>12.350061</td>\n",
       "    </tr>\n",
       "    <tr>\n",
       "      <th>775</th>\n",
       "      <td>12.295512</td>\n",
       "    </tr>\n",
       "    <tr>\n",
       "      <th>825</th>\n",
       "      <td>12.306713</td>\n",
       "    </tr>\n",
       "    <tr>\n",
       "      <th>875</th>\n",
       "      <td>12.238240</td>\n",
       "    </tr>\n",
       "    <tr>\n",
       "      <th>925</th>\n",
       "      <td>12.189376</td>\n",
       "    </tr>\n",
       "    <tr>\n",
       "      <th>975</th>\n",
       "      <td>12.218270</td>\n",
       "    </tr>\n",
       "    <tr>\n",
       "      <th>1025</th>\n",
       "      <td>12.235890</td>\n",
       "    </tr>\n",
       "    <tr>\n",
       "      <th>1075</th>\n",
       "      <td>12.276540</td>\n",
       "    </tr>\n",
       "  </tbody>\n",
       "</table>\n",
       "</div>"
      ],
      "text/plain": [
       "n_estimators  Valid_MSE\n",
       "25            13.790862\n",
       "75            12.680501\n",
       "125           12.823402\n",
       "175           12.472117\n",
       "225           12.431220\n",
       "275           12.537799\n",
       "325           12.465000\n",
       "375           12.392024\n",
       "425           12.286661\n",
       "475           12.361468\n",
       "525           12.466939\n",
       "575           12.425720\n",
       "625           12.397227\n",
       "675           12.385996\n",
       "725           12.350061\n",
       "775           12.295512\n",
       "825           12.306713\n",
       "875           12.238240\n",
       "925           12.189376\n",
       "975           12.218270\n",
       "1025          12.235890\n",
       "1075          12.276540"
      ]
     },
     "execution_count": 39,
     "metadata": {},
     "output_type": "execute_result"
    }
   ],
   "source": [
    "df = pd.DataFrame(mses,columns = ['Valid_MSE'])\n",
    "df.index = nn\n",
    "df.columns.name = 'n_estimators'\n",
    "df"
   ]
  },
  {
   "cell_type": "code",
   "execution_count": 64,
   "metadata": {},
   "outputs": [
    {
     "data": {
      "image/png": "[encoded data removed]",
      "text/plain": [
       "<Figure size 640x480 with 1 Axes>"
      ]
     },
     "metadata": {},
     "output_type": "display_data"
    }
   ],
   "source": [
    "df.plot(xlabel = 'n_estimators',ylabel='Valid_MSE')\n",
    "plt.xticks(nn, fontsize=8, rotation=90)\n",
    "plt.title('Bagging model')\n",
    "plt.legend('')\n",
    "plt.grid();"
   ]
  },
  {
   "cell_type": "code",
   "execution_count": 41,
   "metadata": {},
   "outputs": [
    {
     "data": {
      "text/html": [
       "<div>\n",
       "<style scoped>\n",
       "    .dataframe tbody tr th:only-of-type {\n",
       "        vertical-align: middle;\n",
       "    }\n",
       "\n",
       "    .dataframe tbody tr th {\n",
       "        vertical-align: top;\n",
       "    }\n",
       "\n",
       "    .dataframe thead th {\n",
       "        text-align: right;\n",
       "    }\n",
       "</style>\n",
       "<table border=\"1\" class=\"dataframe\">\n",
       "  <thead>\n",
       "    <tr style=\"text-align: right;\">\n",
       "      <th>n_estimators</th>\n",
       "      <th>Valid_MSE</th>\n",
       "    </tr>\n",
       "  </thead>\n",
       "  <tbody>\n",
       "    <tr>\n",
       "      <th>925</th>\n",
       "      <td>12.189376</td>\n",
       "    </tr>\n",
       "  </tbody>\n",
       "</table>\n",
       "</div>"
      ],
      "text/plain": [
       "n_estimators  Valid_MSE\n",
       "925           12.189376"
      ]
     },
     "execution_count": 41,
     "metadata": {},
     "output_type": "execute_result"
    }
   ],
   "source": [
    "df[df['Valid_MSE'] == df['Valid_MSE'].min()]"
   ]
  },
  {
   "cell_type": "code",
   "execution_count": null,
   "metadata": {},
   "outputs": [],
   "source": []
  },
  {
   "cell_type": "markdown",
   "metadata": {},
   "source": [
    "### Test MSE"
   ]
  },
  {
   "cell_type": "code",
   "execution_count": 42,
   "metadata": {},
   "outputs": [
    {
     "data": {
      "text/plain": [
       "17.511475948091437"
      ]
     },
     "execution_count": 42,
     "metadata": {},
     "output_type": "execute_result"
    }
   ],
   "source": [
    "bagging_model =\\\n",
    "RandomForestRegressor(max_features=13, \n",
    "                      max_depth=4,\n",
    "                      n_estimators = 500,\n",
    "                      random_state=1)\n",
    "bagging_model.fit(X_nontest,y_nontest);\n",
    "yhat = bagging_model.predict(X_test)\n",
    "mean_squared_error(y_test,yhat)"
   ]
  },
  {
   "cell_type": "markdown",
   "metadata": {},
   "source": [
    "### importance of each predictor"
   ]
  },
  {
   "cell_type": "code",
   "execution_count": 43,
   "metadata": {},
   "outputs": [
    {
     "data": {
      "image/png": "[encoded data removed]",
      "text/plain": [
       "<Figure size 640x480 with 1 Axes>"
      ]
     },
     "metadata": {},
     "output_type": "display_data"
    }
   ],
   "source": [
    "Importance = pd.DataFrame({'Importance':bagging_model.feature_importances_*100},\n",
    "                          index = X.columns)\n",
    "df8 = Importance.sort_values(by = 'Importance',axis = 0,\n",
    "                             ascending = True)\n",
    "df8.plot(kind = 'barh',color = 'r',legend = False)\n",
    "plt.xlabel('Importance')\n",
    "plt.ylabel('Feature')\n",
    "plt.grid()"
   ]
  },
  {
   "cell_type": "markdown",
   "metadata": {},
   "source": [
    "The wealth level of the community ('lstat') and the house size ('rm')\n",
    "are the two most important predictors"
   ]
  },
  {
   "cell_type": "markdown",
   "metadata": {},
   "source": [
    "## Random Forest on Regression Trees (500 trees)"
   ]
  },
  {
   "cell_type": "markdown",
   "metadata": {},
   "source": [
    "Not all 13 predictors will be considered at each split<br>\n",
    "m = max_features m < n. predictors p<br>\n",
    "I will use m = 6"
   ]
  },
  {
   "cell_type": "code",
   "execution_count": 44,
   "metadata": {},
   "outputs": [],
   "source": [
    "X_train,X_test,y_train,y_test = train_test_split(X,y,train_size=0.5,\n",
    "                                                 random_state=0)"
   ]
  },
  {
   "cell_type": "code",
   "execution_count": 45,
   "metadata": {},
   "outputs": [
    {
     "data": {
      "text/plain": [
       "17.434233348241854"
      ]
     },
     "execution_count": 45,
     "metadata": {},
     "output_type": "execute_result"
    }
   ],
   "source": [
    "forest1 = RandomForestRegressor(max_features = 6,max_depth = 4,\n",
    "                                n_estimators = 500,random_state = 1)\n",
    "forest1.fit(X_train,y_train)\n",
    "pred = forest1.predict(X_test)\n",
    "mean_squared_error(y_test,pred)"
   ]
  },
  {
   "cell_type": "code",
   "execution_count": 46,
   "metadata": {},
   "outputs": [
    {
     "data": {
      "image/png": "[encoded data removed]",
      "text/plain": [
       "<Figure size 640x480 with 1 Axes>"
      ]
     },
     "metadata": {},
     "output_type": "display_data"
    }
   ],
   "source": [
    "xaxis = np.linspace(0,50,100)\n",
    "plt.scatter(y_test,pred,s = 6,color='k')\n",
    "plt.plot(xaxis,xaxis,color='r')\n",
    "plt.xlabel('medv')\n",
    "plt.ylabel('medv predicted')\n",
    "plt.grid()"
   ]
  },
  {
   "cell_type": "code",
   "execution_count": 47,
   "metadata": {},
   "outputs": [],
   "source": [
    "# Comparison plot 2"
   ]
  },
  {
   "cell_type": "code",
   "execution_count": 48,
   "metadata": {},
   "outputs": [
    {
     "data": {
      "image/png": "[encoded data removed]",
      "text/plain": [
       "<Figure size 1200x600 with 2 Axes>"
      ]
     },
     "metadata": {},
     "output_type": "display_data"
    }
   ],
   "source": [
    "figure,(ax0,ax1) = plt.subplots(ncols = 2,figsize=(12,6))\n",
    "# single tree plot\n",
    "ax0.scatter(y_test,pred2,s = 6,color='k')\n",
    "ax0.plot(xaxis,xaxis,color='r')\n",
    "ax0.set_xlabel('medv')\n",
    "ax0.set_ylabel('predicted medv')\n",
    "ax0.title.set_text('500 Bagged Trees')\n",
    "ax0.grid()\n",
    "# bagging plot\n",
    "ax1.scatter(y_test,pred,s = 6,color='k')\n",
    "ax1.plot(xaxis,xaxis,color='r')\n",
    "ax1.set_xlabel('medv')\n",
    "ax1.title.set_text('Random Forest')\n",
    "ax1.grid()"
   ]
  },
  {
   "cell_type": "code",
   "execution_count": null,
   "metadata": {},
   "outputs": [],
   "source": []
  },
  {
   "cell_type": "markdown",
   "metadata": {},
   "source": [
    "### Find best max_features (holdout cv)"
   ]
  },
  {
   "cell_type": "code",
   "execution_count": 50,
   "metadata": {},
   "outputs": [],
   "source": [
    "X_nontest,X_test,y_nontest,y_test = train_test_split(X,y,test_size=0.5,\n",
    "                                                 random_state=0)"
   ]
  },
  {
   "cell_type": "code",
   "execution_count": 51,
   "metadata": {},
   "outputs": [],
   "source": [
    "X_train,X_validation,y_train,y_validation = train_test_split(X_nontest,y_nontest,\n",
    "                                                 train_size=0.5,\n",
    "                                                 random_state=0)"
   ]
  },
  {
   "cell_type": "code",
   "execution_count": 52,
   "metadata": {},
   "outputs": [],
   "source": [
    "nn = range(1,14)\n",
    "\n",
    "mses = []\n",
    "for k in nn:\n",
    "    model = RandomForestRegressor(max_features=k,max_depth=4,\n",
    "                                      n_estimators = 500,\n",
    "                                      random_state=1)\n",
    "    model.fit(X_train,y_train)\n",
    "    yhat = model.predict(X_validation)\n",
    "    mse = mean_squared_error(y_validation,yhat)\n",
    "    mses.append(mse)"
   ]
  },
  {
   "cell_type": "code",
   "execution_count": 53,
   "metadata": {},
   "outputs": [
    {
     "data": {
      "text/html": [
       "<div>\n",
       "<style scoped>\n",
       "    .dataframe tbody tr th:only-of-type {\n",
       "        vertical-align: middle;\n",
       "    }\n",
       "\n",
       "    .dataframe tbody tr th {\n",
       "        vertical-align: top;\n",
       "    }\n",
       "\n",
       "    .dataframe thead th {\n",
       "        text-align: right;\n",
       "    }\n",
       "</style>\n",
       "<table border=\"1\" class=\"dataframe\">\n",
       "  <thead>\n",
       "    <tr style=\"text-align: right;\">\n",
       "      <th>max_features</th>\n",
       "      <th>Valid_MSE</th>\n",
       "    </tr>\n",
       "  </thead>\n",
       "  <tbody>\n",
       "    <tr>\n",
       "      <th>1</th>\n",
       "      <td>24.939713</td>\n",
       "    </tr>\n",
       "    <tr>\n",
       "      <th>2</th>\n",
       "      <td>17.200655</td>\n",
       "    </tr>\n",
       "    <tr>\n",
       "      <th>3</th>\n",
       "      <td>13.943997</td>\n",
       "    </tr>\n",
       "    <tr>\n",
       "      <th>4</th>\n",
       "      <td>12.930648</td>\n",
       "    </tr>\n",
       "    <tr>\n",
       "      <th>5</th>\n",
       "      <td>12.871667</td>\n",
       "    </tr>\n",
       "    <tr>\n",
       "      <th>6</th>\n",
       "      <td>12.339600</td>\n",
       "    </tr>\n",
       "    <tr>\n",
       "      <th>7</th>\n",
       "      <td>11.886289</td>\n",
       "    </tr>\n",
       "    <tr>\n",
       "      <th>8</th>\n",
       "      <td>12.210822</td>\n",
       "    </tr>\n",
       "    <tr>\n",
       "      <th>9</th>\n",
       "      <td>12.199773</td>\n",
       "    </tr>\n",
       "    <tr>\n",
       "      <th>10</th>\n",
       "      <td>12.200606</td>\n",
       "    </tr>\n",
       "    <tr>\n",
       "      <th>11</th>\n",
       "      <td>12.260297</td>\n",
       "    </tr>\n",
       "    <tr>\n",
       "      <th>12</th>\n",
       "      <td>12.328083</td>\n",
       "    </tr>\n",
       "    <tr>\n",
       "      <th>13</th>\n",
       "      <td>12.391338</td>\n",
       "    </tr>\n",
       "  </tbody>\n",
       "</table>\n",
       "</div>"
      ],
      "text/plain": [
       "max_features  Valid_MSE\n",
       "1             24.939713\n",
       "2             17.200655\n",
       "3             13.943997\n",
       "4             12.930648\n",
       "5             12.871667\n",
       "6             12.339600\n",
       "7             11.886289\n",
       "8             12.210822\n",
       "9             12.199773\n",
       "10            12.200606\n",
       "11            12.260297\n",
       "12            12.328083\n",
       "13            12.391338"
      ]
     },
     "execution_count": 53,
     "metadata": {},
     "output_type": "execute_result"
    }
   ],
   "source": [
    "df = pd.DataFrame(mses,columns = ['Valid_MSE'])\n",
    "df.index = nn\n",
    "df.columns.name = 'max_features'\n",
    "df"
   ]
  },
  {
   "cell_type": "code",
   "execution_count": 65,
   "metadata": {},
   "outputs": [
    {
     "data": {
      "image/png": "[encoded data removed]",
      "text/plain": [
       "<Figure size 640x480 with 1 Axes>"
      ]
     },
     "metadata": {},
     "output_type": "display_data"
    }
   ],
   "source": [
    "df.plot(xlabel='max_features',ylabel='Validation MSE',legend = None)\n",
    "plt.xticks(nn, fontsize=8, rotation=0)\n",
    "plt.title('Random Forest (with 500 trees)')\n",
    "plt.grid();"
   ]
  },
  {
   "cell_type": "code",
   "execution_count": 35,
   "metadata": {},
   "outputs": [
    {
     "data": {
      "text/html": [
       "<div>\n",
       "<style scoped>\n",
       "    .dataframe tbody tr th:only-of-type {\n",
       "        vertical-align: middle;\n",
       "    }\n",
       "\n",
       "    .dataframe tbody tr th {\n",
       "        vertical-align: top;\n",
       "    }\n",
       "\n",
       "    .dataframe thead th {\n",
       "        text-align: right;\n",
       "    }\n",
       "</style>\n",
       "<table border=\"1\" class=\"dataframe\">\n",
       "  <thead>\n",
       "    <tr style=\"text-align: right;\">\n",
       "      <th></th>\n",
       "      <th>Valid_MSE</th>\n",
       "    </tr>\n",
       "    <tr>\n",
       "      <th>max_features</th>\n",
       "      <th></th>\n",
       "    </tr>\n",
       "  </thead>\n",
       "  <tbody>\n",
       "    <tr>\n",
       "      <th>7</th>\n",
       "      <td>11.886289</td>\n",
       "    </tr>\n",
       "  </tbody>\n",
       "</table>\n",
       "</div>"
      ],
      "text/plain": [
       "              Valid_MSE\n",
       "max_features           \n",
       "7             11.886289"
      ]
     },
     "execution_count": 35,
     "metadata": {},
     "output_type": "execute_result"
    }
   ],
   "source": [
    "df[df['Valid_MSE'] == df['Valid_MSE'].min()]"
   ]
  },
  {
   "cell_type": "code",
   "execution_count": 36,
   "metadata": {},
   "outputs": [],
   "source": [
    "# best RF test MSE when max_features = 7"
   ]
  },
  {
   "cell_type": "code",
   "execution_count": 37,
   "metadata": {},
   "outputs": [
    {
     "data": {
      "text/plain": [
       "17.31901376537634"
      ]
     },
     "execution_count": 37,
     "metadata": {},
     "output_type": "execute_result"
    }
   ],
   "source": [
    "RF_best_model = RandomForestRegressor(max_features=7, \n",
    "                                      max_depth=4,\n",
    "                                      n_estimators = 500,\n",
    "                                      random_state=1)\n",
    "RF_best_model.fit(X_nontest,y_nontest);\n",
    "yhat = RF_best_model.predict(X_test)\n",
    "mean_squared_error(y_test,yhat)"
   ]
  },
  {
   "cell_type": "code",
   "execution_count": 38,
   "metadata": {},
   "outputs": [],
   "source": [
    "# similar to Bagging Test MSE"
   ]
  },
  {
   "cell_type": "markdown",
   "metadata": {},
   "source": [
    "### importance of each predictor"
   ]
  },
  {
   "cell_type": "code",
   "execution_count": 39,
   "metadata": {},
   "outputs": [
    {
     "data": {
      "image/png": "[encoded data removed]",
      "text/plain": [
       "<Figure size 640x480 with 1 Axes>"
      ]
     },
     "metadata": {},
     "output_type": "display_data"
    }
   ],
   "source": [
    "Importance = pd.DataFrame({'Importance':RF_best_model.feature_importances_*100},\n",
    "                          index = X.columns)\n",
    "df8 = Importance.sort_values(by = 'Importance',axis = 0,\n",
    "                             ascending = True)\n",
    "df8.plot(kind = 'barh',color = 'r',legend = False)\n",
    "plt.xlabel('Importance')\n",
    "plt.ylabel('Feature')\n",
    "plt.grid()"
   ]
  },
  {
   "cell_type": "markdown",
   "metadata": {},
   "source": [
    "Same best features as with bagging. The wealth level of the community ('lstat') and the house size ('rm')\n",
    "are the two most important predictors"
   ]
  },
  {
   "cell_type": "markdown",
   "metadata": {},
   "source": [
    "# Gradient Boosting"
   ]
  },
  {
   "cell_type": "code",
   "execution_count": 40,
   "metadata": {},
   "outputs": [],
   "source": [
    "X_train,X_test,y_train,y_test = train_test_split(X,y,train_size=0.5,\n",
    "                                                 random_state=0)"
   ]
  },
  {
   "cell_type": "markdown",
   "metadata": {},
   "source": [
    "### learning_rate to 0.10"
   ]
  },
  {
   "cell_type": "code",
   "execution_count": 41,
   "metadata": {},
   "outputs": [
    {
     "data": {
      "text/plain": [
       "17.14218723022166"
      ]
     },
     "execution_count": 41,
     "metadata": {},
     "output_type": "execute_result"
    }
   ],
   "source": [
    "boost10 = GradientBoostingRegressor(n_estimators = 500, \n",
    "                                    learning_rate = 0.1,\n",
    "                                    max_depth = 4, \n",
    "                                    random_state =1)\n",
    "boost10.fit(X_train,y_train)\n",
    "mean_squared_error(y_test,boost10.predict(X_test))"
   ]
  },
  {
   "cell_type": "markdown",
   "metadata": {},
   "source": [
    "### learning_rate to 0.40"
   ]
  },
  {
   "cell_type": "code",
   "execution_count": 42,
   "metadata": {},
   "outputs": [
    {
     "data": {
      "text/plain": [
       "16.580039404288993"
      ]
     },
     "execution_count": 42,
     "metadata": {},
     "output_type": "execute_result"
    }
   ],
   "source": [
    "boost40 = GradientBoostingRegressor(n_estimators = 500,\n",
    "                                    learning_rate = 0.40,\n",
    "                                    max_depth = 4, \n",
    "                                    random_state=1)\n",
    "boost40.fit(X_train,y_train)\n",
    "mean_squared_error(y_test,boost40.predict(X_test))"
   ]
  },
  {
   "cell_type": "markdown",
   "metadata": {},
   "source": [
    "### GridSearchCV on GB learning_rate"
   ]
  },
  {
   "cell_type": "code",
   "execution_count": 43,
   "metadata": {},
   "outputs": [],
   "source": [
    "X_train,X_test,y_train,y_test = train_test_split(X,y,train_size=0.5,\n",
    "                                                 random_state=0)"
   ]
  },
  {
   "cell_type": "code",
   "execution_count": 44,
   "metadata": {},
   "outputs": [
    {
     "data": {
      "text/plain": [
       "array([0.01      , 0.06210526, 0.11421053, 0.16631579, 0.21842105,\n",
       "       0.27052632, 0.32263158, 0.37473684, 0.42684211, 0.47894737,\n",
       "       0.53105263, 0.58315789, 0.63526316, 0.68736842, 0.73947368,\n",
       "       0.79157895, 0.84368421, 0.89578947, 0.94789474, 1.        ])"
      ]
     },
     "execution_count": 44,
     "metadata": {},
     "output_type": "execute_result"
    }
   ],
   "source": [
    "lrates = np.linspace(0.01,1,20)\n",
    "lrates"
   ]
  },
  {
   "cell_type": "code",
   "execution_count": 45,
   "metadata": {},
   "outputs": [
    {
     "data": {
      "text/plain": [
       "{'learning_rate': array([0.01      , 0.06210526, 0.11421053, 0.16631579, 0.21842105,\n",
       "        0.27052632, 0.32263158, 0.37473684, 0.42684211, 0.47894737,\n",
       "        0.53105263, 0.58315789, 0.63526316, 0.68736842, 0.73947368,\n",
       "        0.79157895, 0.84368421, 0.89578947, 0.94789474, 1.        ])}"
      ]
     },
     "execution_count": 45,
     "metadata": {},
     "output_type": "execute_result"
    }
   ],
   "source": [
    "params = dict(learning_rate = lrates)\n",
    "params"
   ]
  },
  {
   "cell_type": "code",
   "execution_count": 46,
   "metadata": {},
   "outputs": [],
   "source": [
    "model = GradientBoostingRegressor(n_estimators = 500,\n",
    "                                  max_depth = 4, \n",
    "                                  random_state=1)"
   ]
  },
  {
   "cell_type": "code",
   "execution_count": 47,
   "metadata": {},
   "outputs": [],
   "source": [
    "grid1 = GridSearchCV(model,param_grid = params,\n",
    "                    scoring = 'neg_mean_squared_error',cv = 5)\n",
    "grid1.fit(X_train,y_train);"
   ]
  },
  {
   "cell_type": "code",
   "execution_count": 48,
   "metadata": {},
   "outputs": [
    {
     "data": {
      "text/plain": [
       "{'learning_rate': 0.11421052631578947}"
      ]
     },
     "execution_count": 48,
     "metadata": {},
     "output_type": "execute_result"
    }
   ],
   "source": [
    "grid1.best_params_"
   ]
  },
  {
   "cell_type": "code",
   "execution_count": 49,
   "metadata": {},
   "outputs": [
    {
     "data": {
      "text/plain": [
       "17.525614916769054"
      ]
     },
     "execution_count": 49,
     "metadata": {},
     "output_type": "execute_result"
    }
   ],
   "source": [
    "-grid1.score(X_test,y_test)"
   ]
  },
  {
   "cell_type": "code",
   "execution_count": 50,
   "metadata": {},
   "outputs": [
    {
     "data": {
      "text/plain": [
       "array([0.05      , 0.05526316, 0.06052632, 0.06578947, 0.07105263,\n",
       "       0.07631579, 0.08157895, 0.08684211, 0.09210526, 0.09736842,\n",
       "       0.10263158, 0.10789474, 0.11315789, 0.11842105, 0.12368421,\n",
       "       0.12894737, 0.13421053, 0.13947368, 0.14473684, 0.15      ])"
      ]
     },
     "execution_count": 50,
     "metadata": {},
     "output_type": "execute_result"
    }
   ],
   "source": [
    "# Refine params values\n",
    "\n",
    "lrates = np.linspace(0.05,0.15,20)\n",
    "params = dict(learning_rate = lrates)\n",
    "lrates"
   ]
  },
  {
   "cell_type": "code",
   "execution_count": 51,
   "metadata": {},
   "outputs": [],
   "source": [
    "grid2 = GridSearchCV(model,param_grid = params,\n",
    "                    scoring = 'neg_mean_squared_error',cv = 5)\n",
    "grid2.fit(X_train,y_train);"
   ]
  },
  {
   "cell_type": "code",
   "execution_count": 52,
   "metadata": {},
   "outputs": [
    {
     "data": {
      "text/plain": [
       "{'learning_rate': 0.10263157894736842}"
      ]
     },
     "execution_count": 52,
     "metadata": {},
     "output_type": "execute_result"
    }
   ],
   "source": [
    "grid2.best_params_"
   ]
  },
  {
   "cell_type": "code",
   "execution_count": 53,
   "metadata": {},
   "outputs": [
    {
     "data": {
      "text/plain": [
       "16.879372503369037"
      ]
     },
     "execution_count": 53,
     "metadata": {},
     "output_type": "execute_result"
    }
   ],
   "source": [
    "-grid2.score(X_test,y_test)"
   ]
  },
  {
   "cell_type": "code",
   "execution_count": 54,
   "metadata": {},
   "outputs": [
    {
     "data": {
      "image/png": "[encoded data removed]",
      "text/plain": [
       "<Figure size 640x480 with 1 Axes>"
      ]
     },
     "metadata": {},
     "output_type": "display_data"
    }
   ],
   "source": [
    "Importance2 = grid2.best_estimator_.feature_importances_*100\n",
    "Importance2 = pd.DataFrame({'Importance':Importance2},index = X.columns)\n",
    "df9 = Importance2.sort_values(by = 'Importance',axis = 0,ascending = True)\n",
    "df9.plot(kind = 'barh',color = 'r',legend = False)\n",
    "plt.xlabel('Variable Importance')\n",
    "plt.gca().legend_ = None\n",
    "plt.grid()"
   ]
  },
  {
   "cell_type": "code",
   "execution_count": null,
   "metadata": {},
   "outputs": [],
   "source": []
  },
  {
   "cell_type": "markdown",
   "metadata": {},
   "source": [
    "### GridSearchCV on learning_rate and max_features"
   ]
  },
  {
   "cell_type": "code",
   "execution_count": 55,
   "metadata": {},
   "outputs": [
    {
     "data": {
      "text/plain": [
       "{'learning_rate': array([0.01 , 0.208, 0.406, 0.604, 0.802, 1.   ]),\n",
       " 'max_features': [3, 4, 5, 6, 7, 8]}"
      ]
     },
     "execution_count": 55,
     "metadata": {},
     "output_type": "execute_result"
    }
   ],
   "source": [
    "# Consider 6 values for each parameter\n",
    "params = {'learning_rate': np.linspace(0.01,1,6),\n",
    "              'max_features': list(range(3,9))}\n",
    "params"
   ]
  },
  {
   "cell_type": "code",
   "execution_count": 56,
   "metadata": {},
   "outputs": [],
   "source": [
    "model = GradientBoostingRegressor(n_estimators = 500,\n",
    "                                  max_depth = 4, \n",
    "                                  random_state=1)"
   ]
  },
  {
   "cell_type": "code",
   "execution_count": 57,
   "metadata": {},
   "outputs": [],
   "source": [
    "grid1 = GridSearchCV(model,param_grid = params,\n",
    "                    scoring = 'neg_mean_squared_error',cv = 5)\n",
    "grid1.fit(X_train,y_train);"
   ]
  },
  {
   "cell_type": "code",
   "execution_count": 58,
   "metadata": {},
   "outputs": [
    {
     "data": {
      "text/plain": [
       "{'learning_rate': 0.20800000000000002, 'max_features': 6}"
      ]
     },
     "execution_count": 58,
     "metadata": {},
     "output_type": "execute_result"
    }
   ],
   "source": [
    "grid1.best_params_"
   ]
  },
  {
   "cell_type": "code",
   "execution_count": 59,
   "metadata": {},
   "outputs": [
    {
     "data": {
      "text/html": [
       "<div>\n",
       "<style scoped>\n",
       "    .dataframe tbody tr th:only-of-type {\n",
       "        vertical-align: middle;\n",
       "    }\n",
       "\n",
       "    .dataframe tbody tr th {\n",
       "        vertical-align: top;\n",
       "    }\n",
       "\n",
       "    .dataframe thead th {\n",
       "        text-align: right;\n",
       "    }\n",
       "</style>\n",
       "<table border=\"1\" class=\"dataframe\">\n",
       "  <thead>\n",
       "    <tr style=\"text-align: right;\">\n",
       "      <th></th>\n",
       "      <th>mean_fit_time</th>\n",
       "      <th>std_fit_time</th>\n",
       "      <th>mean_score_time</th>\n",
       "      <th>std_score_time</th>\n",
       "      <th>param_learning_rate</th>\n",
       "      <th>param_max_features</th>\n",
       "      <th>params</th>\n",
       "      <th>split0_test_score</th>\n",
       "      <th>split1_test_score</th>\n",
       "      <th>split2_test_score</th>\n",
       "      <th>split3_test_score</th>\n",
       "      <th>split4_test_score</th>\n",
       "      <th>mean_test_score</th>\n",
       "      <th>std_test_score</th>\n",
       "      <th>rank_test_score</th>\n",
       "    </tr>\n",
       "  </thead>\n",
       "  <tbody>\n",
       "    <tr>\n",
       "      <th>0</th>\n",
       "      <td>0.099172</td>\n",
       "      <td>0.005869</td>\n",
       "      <td>0.001014</td>\n",
       "      <td>0.000088</td>\n",
       "      <td>0.01</td>\n",
       "      <td>3</td>\n",
       "      <td>{'learning_rate': 0.01, 'max_features': 3}</td>\n",
       "      <td>-7.610273</td>\n",
       "      <td>-7.219737</td>\n",
       "      <td>-19.538940</td>\n",
       "      <td>-15.050501</td>\n",
       "      <td>-8.659483</td>\n",
       "      <td>-11.615787</td>\n",
       "      <td>4.872017</td>\n",
       "      <td>6</td>\n",
       "    </tr>\n",
       "    <tr>\n",
       "      <th>1</th>\n",
       "      <td>0.110232</td>\n",
       "      <td>0.000358</td>\n",
       "      <td>0.000960</td>\n",
       "      <td>0.000012</td>\n",
       "      <td>0.01</td>\n",
       "      <td>4</td>\n",
       "      <td>{'learning_rate': 0.01, 'max_features': 4}</td>\n",
       "      <td>-7.708159</td>\n",
       "      <td>-6.622963</td>\n",
       "      <td>-21.477524</td>\n",
       "      <td>-13.002760</td>\n",
       "      <td>-8.364986</td>\n",
       "      <td>-11.435279</td>\n",
       "      <td>5.473211</td>\n",
       "      <td>3</td>\n",
       "    </tr>\n",
       "    <tr>\n",
       "      <th>2</th>\n",
       "      <td>0.125904</td>\n",
       "      <td>0.000559</td>\n",
       "      <td>0.000951</td>\n",
       "      <td>0.000009</td>\n",
       "      <td>0.01</td>\n",
       "      <td>5</td>\n",
       "      <td>{'learning_rate': 0.01, 'max_features': 5}</td>\n",
       "      <td>-8.170496</td>\n",
       "      <td>-6.562454</td>\n",
       "      <td>-19.708259</td>\n",
       "      <td>-13.105675</td>\n",
       "      <td>-8.252056</td>\n",
       "      <td>-11.159788</td>\n",
       "      <td>4.803937</td>\n",
       "      <td>2</td>\n",
       "    </tr>\n",
       "    <tr>\n",
       "      <th>3</th>\n",
       "      <td>0.141992</td>\n",
       "      <td>0.000548</td>\n",
       "      <td>0.000944</td>\n",
       "      <td>0.000007</td>\n",
       "      <td>0.01</td>\n",
       "      <td>6</td>\n",
       "      <td>{'learning_rate': 0.01, 'max_features': 6}</td>\n",
       "      <td>-8.441384</td>\n",
       "      <td>-6.735156</td>\n",
       "      <td>-20.975003</td>\n",
       "      <td>-13.388623</td>\n",
       "      <td>-8.241567</td>\n",
       "      <td>-11.556346</td>\n",
       "      <td>5.215419</td>\n",
       "      <td>4</td>\n",
       "    </tr>\n",
       "    <tr>\n",
       "      <th>4</th>\n",
       "      <td>0.157449</td>\n",
       "      <td>0.000693</td>\n",
       "      <td>0.000936</td>\n",
       "      <td>0.000012</td>\n",
       "      <td>0.01</td>\n",
       "      <td>7</td>\n",
       "      <td>{'learning_rate': 0.01, 'max_features': 7}</td>\n",
       "      <td>-8.525926</td>\n",
       "      <td>-6.441028</td>\n",
       "      <td>-22.558258</td>\n",
       "      <td>-13.630800</td>\n",
       "      <td>-8.303440</td>\n",
       "      <td>-11.891890</td>\n",
       "      <td>5.843181</td>\n",
       "      <td>7</td>\n",
       "    </tr>\n",
       "    <tr>\n",
       "      <th>5</th>\n",
       "      <td>0.173441</td>\n",
       "      <td>0.000995</td>\n",
       "      <td>0.000929</td>\n",
       "      <td>0.000012</td>\n",
       "      <td>0.01</td>\n",
       "      <td>8</td>\n",
       "      <td>{'learning_rate': 0.01, 'max_features': 8}</td>\n",
       "      <td>-8.885766</td>\n",
       "      <td>-6.780975</td>\n",
       "      <td>-24.298762</td>\n",
       "      <td>-12.824106</td>\n",
       "      <td>-8.527026</td>\n",
       "      <td>-12.263327</td>\n",
       "      <td>6.333880</td>\n",
       "      <td>9</td>\n",
       "    </tr>\n",
       "    <tr>\n",
       "      <th>6</th>\n",
       "      <td>0.094076</td>\n",
       "      <td>0.000422</td>\n",
       "      <td>0.000887</td>\n",
       "      <td>0.000011</td>\n",
       "      <td>0.208</td>\n",
       "      <td>3</td>\n",
       "      <td>{'learning_rate': 0.20800000000000002, 'max_fe...</td>\n",
       "      <td>-8.141103</td>\n",
       "      <td>-7.418348</td>\n",
       "      <td>-26.203440</td>\n",
       "      <td>-11.038359</td>\n",
       "      <td>-9.087564</td>\n",
       "      <td>-12.377763</td>\n",
       "      <td>7.018744</td>\n",
       "      <td>11</td>\n",
       "    </tr>\n",
       "    <tr>\n",
       "      <th>7</th>\n",
       "      <td>0.109735</td>\n",
       "      <td>0.000415</td>\n",
       "      <td>0.000877</td>\n",
       "      <td>0.000012</td>\n",
       "      <td>0.208</td>\n",
       "      <td>4</td>\n",
       "      <td>{'learning_rate': 0.20800000000000002, 'max_fe...</td>\n",
       "      <td>-7.453510</td>\n",
       "      <td>-7.635276</td>\n",
       "      <td>-32.294182</td>\n",
       "      <td>-10.132872</td>\n",
       "      <td>-9.154800</td>\n",
       "      <td>-13.334128</td>\n",
       "      <td>9.531601</td>\n",
       "      <td>13</td>\n",
       "    </tr>\n",
       "    <tr>\n",
       "      <th>8</th>\n",
       "      <td>0.125776</td>\n",
       "      <td>0.000464</td>\n",
       "      <td>0.000877</td>\n",
       "      <td>0.000017</td>\n",
       "      <td>0.208</td>\n",
       "      <td>5</td>\n",
       "      <td>{'learning_rate': 0.20800000000000002, 'max_fe...</td>\n",
       "      <td>-9.422320</td>\n",
       "      <td>-7.553995</td>\n",
       "      <td>-22.471541</td>\n",
       "      <td>-13.906707</td>\n",
       "      <td>-7.841920</td>\n",
       "      <td>-12.239297</td>\n",
       "      <td>5.598275</td>\n",
       "      <td>8</td>\n",
       "    </tr>\n",
       "    <tr>\n",
       "      <th>9</th>\n",
       "      <td>0.141585</td>\n",
       "      <td>0.000616</td>\n",
       "      <td>0.000862</td>\n",
       "      <td>0.000013</td>\n",
       "      <td>0.208</td>\n",
       "      <td>6</td>\n",
       "      <td>{'learning_rate': 0.20800000000000002, 'max_fe...</td>\n",
       "      <td>-7.663548</td>\n",
       "      <td>-7.526131</td>\n",
       "      <td>-24.833706</td>\n",
       "      <td>-7.775358</td>\n",
       "      <td>-7.553339</td>\n",
       "      <td>-11.070416</td>\n",
       "      <td>6.882211</td>\n",
       "      <td>1</td>\n",
       "    </tr>\n",
       "    <tr>\n",
       "      <th>10</th>\n",
       "      <td>0.157422</td>\n",
       "      <td>0.000689</td>\n",
       "      <td>0.000852</td>\n",
       "      <td>0.000011</td>\n",
       "      <td>0.208</td>\n",
       "      <td>7</td>\n",
       "      <td>{'learning_rate': 0.20800000000000002, 'max_fe...</td>\n",
       "      <td>-10.054422</td>\n",
       "      <td>-6.957980</td>\n",
       "      <td>-23.055241</td>\n",
       "      <td>-13.269081</td>\n",
       "      <td>-8.480132</td>\n",
       "      <td>-12.363371</td>\n",
       "      <td>5.740478</td>\n",
       "      <td>10</td>\n",
       "    </tr>\n",
       "    <tr>\n",
       "      <th>11</th>\n",
       "      <td>0.173418</td>\n",
       "      <td>0.000959</td>\n",
       "      <td>0.000840</td>\n",
       "      <td>0.000009</td>\n",
       "      <td>0.208</td>\n",
       "      <td>8</td>\n",
       "      <td>{'learning_rate': 0.20800000000000002, 'max_fe...</td>\n",
       "      <td>-9.484694</td>\n",
       "      <td>-8.210084</td>\n",
       "      <td>-25.547913</td>\n",
       "      <td>-16.870862</td>\n",
       "      <td>-7.771741</td>\n",
       "      <td>-13.577059</td>\n",
       "      <td>6.832336</td>\n",
       "      <td>16</td>\n",
       "    </tr>\n",
       "    <tr>\n",
       "      <th>12</th>\n",
       "      <td>0.086762</td>\n",
       "      <td>0.000448</td>\n",
       "      <td>0.000840</td>\n",
       "      <td>0.000007</td>\n",
       "      <td>0.406</td>\n",
       "      <td>3</td>\n",
       "      <td>{'learning_rate': 0.406, 'max_features': 3}</td>\n",
       "      <td>-14.270643</td>\n",
       "      <td>-12.369088</td>\n",
       "      <td>-34.069130</td>\n",
       "      <td>-12.733776</td>\n",
       "      <td>-12.461475</td>\n",
       "      <td>-17.180822</td>\n",
       "      <td>8.472135</td>\n",
       "      <td>20</td>\n",
       "    </tr>\n",
       "    <tr>\n",
       "      <th>13</th>\n",
       "      <td>0.098189</td>\n",
       "      <td>0.001983</td>\n",
       "      <td>0.000816</td>\n",
       "      <td>0.000009</td>\n",
       "      <td>0.406</td>\n",
       "      <td>4</td>\n",
       "      <td>{'learning_rate': 0.406, 'max_features': 4}</td>\n",
       "      <td>-12.490462</td>\n",
       "      <td>-13.914919</td>\n",
       "      <td>-25.923565</td>\n",
       "      <td>-17.196243</td>\n",
       "      <td>-11.664900</td>\n",
       "      <td>-16.238018</td>\n",
       "      <td>5.197738</td>\n",
       "      <td>19</td>\n",
       "    </tr>\n",
       "    <tr>\n",
       "      <th>14</th>\n",
       "      <td>0.107458</td>\n",
       "      <td>0.001787</td>\n",
       "      <td>0.000789</td>\n",
       "      <td>0.000006</td>\n",
       "      <td>0.406</td>\n",
       "      <td>5</td>\n",
       "      <td>{'learning_rate': 0.406, 'max_features': 5}</td>\n",
       "      <td>-14.802628</td>\n",
       "      <td>-11.739519</td>\n",
       "      <td>-27.976221</td>\n",
       "      <td>-26.408940</td>\n",
       "      <td>-9.299902</td>\n",
       "      <td>-18.045442</td>\n",
       "      <td>7.685486</td>\n",
       "      <td>22</td>\n",
       "    </tr>\n",
       "    <tr>\n",
       "      <th>15</th>\n",
       "      <td>0.116731</td>\n",
       "      <td>0.001049</td>\n",
       "      <td>0.000776</td>\n",
       "      <td>0.000007</td>\n",
       "      <td>0.406</td>\n",
       "      <td>6</td>\n",
       "      <td>{'learning_rate': 0.406, 'max_features': 6}</td>\n",
       "      <td>-9.557962</td>\n",
       "      <td>-7.314226</td>\n",
       "      <td>-21.372131</td>\n",
       "      <td>-9.985807</td>\n",
       "      <td>-9.599259</td>\n",
       "      <td>-11.565877</td>\n",
       "      <td>4.992696</td>\n",
       "      <td>5</td>\n",
       "    </tr>\n",
       "    <tr>\n",
       "      <th>16</th>\n",
       "      <td>0.128113</td>\n",
       "      <td>0.003851</td>\n",
       "      <td>0.000761</td>\n",
       "      <td>0.000011</td>\n",
       "      <td>0.406</td>\n",
       "      <td>7</td>\n",
       "      <td>{'learning_rate': 0.406, 'max_features': 7}</td>\n",
       "      <td>-12.182133</td>\n",
       "      <td>-9.851559</td>\n",
       "      <td>-15.980273</td>\n",
       "      <td>-20.216079</td>\n",
       "      <td>-7.398407</td>\n",
       "      <td>-13.125690</td>\n",
       "      <td>4.535069</td>\n",
       "      <td>12</td>\n",
       "    </tr>\n",
       "    <tr>\n",
       "      <th>17</th>\n",
       "      <td>0.140174</td>\n",
       "      <td>0.002020</td>\n",
       "      <td>0.000762</td>\n",
       "      <td>0.000005</td>\n",
       "      <td>0.406</td>\n",
       "      <td>8</td>\n",
       "      <td>{'learning_rate': 0.406, 'max_features': 8}</td>\n",
       "      <td>-8.836877</td>\n",
       "      <td>-13.055886</td>\n",
       "      <td>-23.345063</td>\n",
       "      <td>-12.922735</td>\n",
       "      <td>-9.624064</td>\n",
       "      <td>-13.556925</td>\n",
       "      <td>5.180871</td>\n",
       "      <td>15</td>\n",
       "    </tr>\n",
       "    <tr>\n",
       "      <th>18</th>\n",
       "      <td>0.071051</td>\n",
       "      <td>0.000578</td>\n",
       "      <td>0.000720</td>\n",
       "      <td>0.000006</td>\n",
       "      <td>0.604</td>\n",
       "      <td>3</td>\n",
       "      <td>{'learning_rate': 0.6040000000000001, 'max_fea...</td>\n",
       "      <td>-15.315721</td>\n",
       "      <td>-17.460621</td>\n",
       "      <td>-36.204087</td>\n",
       "      <td>-20.595640</td>\n",
       "      <td>-14.571299</td>\n",
       "      <td>-20.829473</td>\n",
       "      <td>7.966791</td>\n",
       "      <td>25</td>\n",
       "    </tr>\n",
       "    <tr>\n",
       "      <th>19</th>\n",
       "      <td>0.077081</td>\n",
       "      <td>0.000879</td>\n",
       "      <td>0.000692</td>\n",
       "      <td>0.000009</td>\n",
       "      <td>0.604</td>\n",
       "      <td>4</td>\n",
       "      <td>{'learning_rate': 0.6040000000000001, 'max_fea...</td>\n",
       "      <td>-19.984295</td>\n",
       "      <td>-21.515093</td>\n",
       "      <td>-44.379643</td>\n",
       "      <td>-19.785627</td>\n",
       "      <td>-15.330006</td>\n",
       "      <td>-24.198933</td>\n",
       "      <td>10.299149</td>\n",
       "      <td>27</td>\n",
       "    </tr>\n",
       "    <tr>\n",
       "      <th>20</th>\n",
       "      <td>0.083544</td>\n",
       "      <td>0.000469</td>\n",
       "      <td>0.000680</td>\n",
       "      <td>0.000005</td>\n",
       "      <td>0.604</td>\n",
       "      <td>5</td>\n",
       "      <td>{'learning_rate': 0.6040000000000001, 'max_fea...</td>\n",
       "      <td>-28.945117</td>\n",
       "      <td>-16.604732</td>\n",
       "      <td>-30.497197</td>\n",
       "      <td>-37.189840</td>\n",
       "      <td>-10.060832</td>\n",
       "      <td>-24.659544</td>\n",
       "      <td>9.873754</td>\n",
       "      <td>28</td>\n",
       "    </tr>\n",
       "    <tr>\n",
       "      <th>21</th>\n",
       "      <td>0.089091</td>\n",
       "      <td>0.001171</td>\n",
       "      <td>0.000671</td>\n",
       "      <td>0.000007</td>\n",
       "      <td>0.604</td>\n",
       "      <td>6</td>\n",
       "      <td>{'learning_rate': 0.6040000000000001, 'max_fea...</td>\n",
       "      <td>-7.738872</td>\n",
       "      <td>-9.283252</td>\n",
       "      <td>-28.089776</td>\n",
       "      <td>-11.375551</td>\n",
       "      <td>-10.552807</td>\n",
       "      <td>-13.408052</td>\n",
       "      <td>7.442984</td>\n",
       "      <td>14</td>\n",
       "    </tr>\n",
       "    <tr>\n",
       "      <th>22</th>\n",
       "      <td>0.095891</td>\n",
       "      <td>0.001709</td>\n",
       "      <td>0.000666</td>\n",
       "      <td>0.000005</td>\n",
       "      <td>0.604</td>\n",
       "      <td>7</td>\n",
       "      <td>{'learning_rate': 0.6040000000000001, 'max_fea...</td>\n",
       "      <td>-15.203224</td>\n",
       "      <td>-16.447304</td>\n",
       "      <td>-25.050166</td>\n",
       "      <td>-24.088225</td>\n",
       "      <td>-7.911358</td>\n",
       "      <td>-17.740055</td>\n",
       "      <td>6.299952</td>\n",
       "      <td>21</td>\n",
       "    </tr>\n",
       "    <tr>\n",
       "      <th>23</th>\n",
       "      <td>0.103323</td>\n",
       "      <td>0.001402</td>\n",
       "      <td>0.000664</td>\n",
       "      <td>0.000011</td>\n",
       "      <td>0.604</td>\n",
       "      <td>8</td>\n",
       "      <td>{'learning_rate': 0.6040000000000001, 'max_fea...</td>\n",
       "      <td>-9.760145</td>\n",
       "      <td>-17.641065</td>\n",
       "      <td>-23.867521</td>\n",
       "      <td>-15.726499</td>\n",
       "      <td>-11.282274</td>\n",
       "      <td>-15.655501</td>\n",
       "      <td>5.005299</td>\n",
       "      <td>18</td>\n",
       "    </tr>\n",
       "    <tr>\n",
       "      <th>24</th>\n",
       "      <td>0.063595</td>\n",
       "      <td>0.000643</td>\n",
       "      <td>0.000667</td>\n",
       "      <td>0.000023</td>\n",
       "      <td>0.802</td>\n",
       "      <td>3</td>\n",
       "      <td>{'learning_rate': 0.802, 'max_features': 3}</td>\n",
       "      <td>-23.694562</td>\n",
       "      <td>-21.765260</td>\n",
       "      <td>-61.522314</td>\n",
       "      <td>-28.568626</td>\n",
       "      <td>-18.946263</td>\n",
       "      <td>-30.899405</td>\n",
       "      <td>15.629556</td>\n",
       "      <td>31</td>\n",
       "    </tr>\n",
       "    <tr>\n",
       "      <th>25</th>\n",
       "      <td>0.067404</td>\n",
       "      <td>0.000604</td>\n",
       "      <td>0.000640</td>\n",
       "      <td>0.000008</td>\n",
       "      <td>0.802</td>\n",
       "      <td>4</td>\n",
       "      <td>{'learning_rate': 0.802, 'max_features': 4}</td>\n",
       "      <td>-23.141844</td>\n",
       "      <td>-35.539491</td>\n",
       "      <td>-53.767722</td>\n",
       "      <td>-26.125552</td>\n",
       "      <td>-18.125211</td>\n",
       "      <td>-31.339964</td>\n",
       "      <td>12.567174</td>\n",
       "      <td>32</td>\n",
       "    </tr>\n",
       "    <tr>\n",
       "      <th>26</th>\n",
       "      <td>0.071247</td>\n",
       "      <td>0.000567</td>\n",
       "      <td>0.000624</td>\n",
       "      <td>0.000003</td>\n",
       "      <td>0.802</td>\n",
       "      <td>5</td>\n",
       "      <td>{'learning_rate': 0.802, 'max_features': 5}</td>\n",
       "      <td>-43.553836</td>\n",
       "      <td>-29.593042</td>\n",
       "      <td>-32.970511</td>\n",
       "      <td>-56.103898</td>\n",
       "      <td>-12.491643</td>\n",
       "      <td>-34.942586</td>\n",
       "      <td>14.549957</td>\n",
       "      <td>33</td>\n",
       "    </tr>\n",
       "    <tr>\n",
       "      <th>27</th>\n",
       "      <td>0.076581</td>\n",
       "      <td>0.001537</td>\n",
       "      <td>0.000626</td>\n",
       "      <td>0.000009</td>\n",
       "      <td>0.802</td>\n",
       "      <td>6</td>\n",
       "      <td>{'learning_rate': 0.802, 'max_features': 6}</td>\n",
       "      <td>-7.790428</td>\n",
       "      <td>-10.320759</td>\n",
       "      <td>-27.609543</td>\n",
       "      <td>-14.720094</td>\n",
       "      <td>-10.029630</td>\n",
       "      <td>-14.094091</td>\n",
       "      <td>7.121143</td>\n",
       "      <td>17</td>\n",
       "    </tr>\n",
       "    <tr>\n",
       "      <th>28</th>\n",
       "      <td>0.080974</td>\n",
       "      <td>0.001263</td>\n",
       "      <td>0.000612</td>\n",
       "      <td>0.000005</td>\n",
       "      <td>0.802</td>\n",
       "      <td>7</td>\n",
       "      <td>{'learning_rate': 0.802, 'max_features': 7}</td>\n",
       "      <td>-14.021720</td>\n",
       "      <td>-21.247946</td>\n",
       "      <td>-27.849875</td>\n",
       "      <td>-29.861530</td>\n",
       "      <td>-11.456754</td>\n",
       "      <td>-20.887565</td>\n",
       "      <td>7.283072</td>\n",
       "      <td>26</td>\n",
       "    </tr>\n",
       "    <tr>\n",
       "      <th>29</th>\n",
       "      <td>0.085035</td>\n",
       "      <td>0.001318</td>\n",
       "      <td>0.000614</td>\n",
       "      <td>0.000003</td>\n",
       "      <td>0.802</td>\n",
       "      <td>8</td>\n",
       "      <td>{'learning_rate': 0.802, 'max_features': 8}</td>\n",
       "      <td>-12.748866</td>\n",
       "      <td>-24.179964</td>\n",
       "      <td>-23.865224</td>\n",
       "      <td>-25.111507</td>\n",
       "      <td>-11.412198</td>\n",
       "      <td>-19.463552</td>\n",
       "      <td>6.056896</td>\n",
       "      <td>23</td>\n",
       "    </tr>\n",
       "    <tr>\n",
       "      <th>30</th>\n",
       "      <td>0.060097</td>\n",
       "      <td>0.000638</td>\n",
       "      <td>0.000646</td>\n",
       "      <td>0.000004</td>\n",
       "      <td>1.0</td>\n",
       "      <td>3</td>\n",
       "      <td>{'learning_rate': 1.0, 'max_features': 3}</td>\n",
       "      <td>-27.923115</td>\n",
       "      <td>-25.875397</td>\n",
       "      <td>-74.777105</td>\n",
       "      <td>-31.011951</td>\n",
       "      <td>-25.878963</td>\n",
       "      <td>-37.093306</td>\n",
       "      <td>18.935400</td>\n",
       "      <td>34</td>\n",
       "    </tr>\n",
       "    <tr>\n",
       "      <th>31</th>\n",
       "      <td>0.064160</td>\n",
       "      <td>0.000684</td>\n",
       "      <td>0.000632</td>\n",
       "      <td>0.000011</td>\n",
       "      <td>1.0</td>\n",
       "      <td>4</td>\n",
       "      <td>{'learning_rate': 1.0, 'max_features': 4}</td>\n",
       "      <td>-38.856015</td>\n",
       "      <td>-52.211604</td>\n",
       "      <td>-76.507066</td>\n",
       "      <td>-27.541101</td>\n",
       "      <td>-37.291892</td>\n",
       "      <td>-46.481536</td>\n",
       "      <td>16.945232</td>\n",
       "      <td>36</td>\n",
       "    </tr>\n",
       "    <tr>\n",
       "      <th>32</th>\n",
       "      <td>0.068040</td>\n",
       "      <td>0.000389</td>\n",
       "      <td>0.000629</td>\n",
       "      <td>0.000015</td>\n",
       "      <td>1.0</td>\n",
       "      <td>5</td>\n",
       "      <td>{'learning_rate': 1.0, 'max_features': 5}</td>\n",
       "      <td>-35.347646</td>\n",
       "      <td>-40.393255</td>\n",
       "      <td>-45.477558</td>\n",
       "      <td>-69.323929</td>\n",
       "      <td>-15.974374</td>\n",
       "      <td>-41.303353</td>\n",
       "      <td>17.207165</td>\n",
       "      <td>35</td>\n",
       "    </tr>\n",
       "    <tr>\n",
       "      <th>33</th>\n",
       "      <td>0.070959</td>\n",
       "      <td>0.000458</td>\n",
       "      <td>0.000616</td>\n",
       "      <td>0.000016</td>\n",
       "      <td>1.0</td>\n",
       "      <td>6</td>\n",
       "      <td>{'learning_rate': 1.0, 'max_features': 6}</td>\n",
       "      <td>-9.651419</td>\n",
       "      <td>-13.638897</td>\n",
       "      <td>-40.164992</td>\n",
       "      <td>-14.859993</td>\n",
       "      <td>-19.585805</td>\n",
       "      <td>-19.580221</td>\n",
       "      <td>10.769344</td>\n",
       "      <td>24</td>\n",
       "    </tr>\n",
       "    <tr>\n",
       "      <th>34</th>\n",
       "      <td>0.074712</td>\n",
       "      <td>0.000571</td>\n",
       "      <td>0.000608</td>\n",
       "      <td>0.000011</td>\n",
       "      <td>1.0</td>\n",
       "      <td>7</td>\n",
       "      <td>{'learning_rate': 1.0, 'max_features': 7}</td>\n",
       "      <td>-17.735918</td>\n",
       "      <td>-33.797920</td>\n",
       "      <td>-38.428165</td>\n",
       "      <td>-41.828443</td>\n",
       "      <td>-14.393354</td>\n",
       "      <td>-29.236760</td>\n",
       "      <td>11.103447</td>\n",
       "      <td>30</td>\n",
       "    </tr>\n",
       "    <tr>\n",
       "      <th>35</th>\n",
       "      <td>0.077458</td>\n",
       "      <td>0.001139</td>\n",
       "      <td>0.000594</td>\n",
       "      <td>0.000008</td>\n",
       "      <td>1.0</td>\n",
       "      <td>8</td>\n",
       "      <td>{'learning_rate': 1.0, 'max_features': 8}</td>\n",
       "      <td>-18.388718</td>\n",
       "      <td>-29.525147</td>\n",
       "      <td>-30.364853</td>\n",
       "      <td>-36.193948</td>\n",
       "      <td>-14.150935</td>\n",
       "      <td>-25.724720</td>\n",
       "      <td>8.165148</td>\n",
       "      <td>29</td>\n",
       "    </tr>\n",
       "  </tbody>\n",
       "</table>\n",
       "</div>"
      ],
      "text/plain": [
       "    mean_fit_time  std_fit_time  mean_score_time  std_score_time  \\\n",
       "0        0.099172      0.005869         0.001014        0.000088   \n",
       "1        0.110232      0.000358         0.000960        0.000012   \n",
       "2        0.125904      0.000559         0.000951        0.000009   \n",
       "3        0.141992      0.000548         0.000944        0.000007   \n",
       "4        0.157449      0.000693         0.000936        0.000012   \n",
       "5        0.173441      0.000995         0.000929        0.000012   \n",
       "6        0.094076      0.000422         0.000887        0.000011   \n",
       "7        0.109735      0.000415         0.000877        0.000012   \n",
       "8        0.125776      0.000464         0.000877        0.000017   \n",
       "9        0.141585      0.000616         0.000862        0.000013   \n",
       "10       0.157422      0.000689         0.000852        0.000011   \n",
       "11       0.173418      0.000959         0.000840        0.000009   \n",
       "12       0.086762      0.000448         0.000840        0.000007   \n",
       "13       0.098189      0.001983         0.000816        0.000009   \n",
       "14       0.107458      0.001787         0.000789        0.000006   \n",
       "15       0.116731      0.001049         0.000776        0.000007   \n",
       "16       0.128113      0.003851         0.000761        0.000011   \n",
       "17       0.140174      0.002020         0.000762        0.000005   \n",
       "18       0.071051      0.000578         0.000720        0.000006   \n",
       "19       0.077081      0.000879         0.000692        0.000009   \n",
       "20       0.083544      0.000469         0.000680        0.000005   \n",
       "21       0.089091      0.001171         0.000671        0.000007   \n",
       "22       0.095891      0.001709         0.000666        0.000005   \n",
       "23       0.103323      0.001402         0.000664        0.000011   \n",
       "24       0.063595      0.000643         0.000667        0.000023   \n",
       "25       0.067404      0.000604         0.000640        0.000008   \n",
       "26       0.071247      0.000567         0.000624        0.000003   \n",
       "27       0.076581      0.001537         0.000626        0.000009   \n",
       "28       0.080974      0.001263         0.000612        0.000005   \n",
       "29       0.085035      0.001318         0.000614        0.000003   \n",
       "30       0.060097      0.000638         0.000646        0.000004   \n",
       "31       0.064160      0.000684         0.000632        0.000011   \n",
       "32       0.068040      0.000389         0.000629        0.000015   \n",
       "33       0.070959      0.000458         0.000616        0.000016   \n",
       "34       0.074712      0.000571         0.000608        0.000011   \n",
       "35       0.077458      0.001139         0.000594        0.000008   \n",
       "\n",
       "   param_learning_rate param_max_features  \\\n",
       "0                 0.01                  3   \n",
       "1                 0.01                  4   \n",
       "2                 0.01                  5   \n",
       "3                 0.01                  6   \n",
       "4                 0.01                  7   \n",
       "5                 0.01                  8   \n",
       "6                0.208                  3   \n",
       "7                0.208                  4   \n",
       "8                0.208                  5   \n",
       "9                0.208                  6   \n",
       "10               0.208                  7   \n",
       "11               0.208                  8   \n",
       "12               0.406                  3   \n",
       "13               0.406                  4   \n",
       "14               0.406                  5   \n",
       "15               0.406                  6   \n",
       "16               0.406                  7   \n",
       "17               0.406                  8   \n",
       "18               0.604                  3   \n",
       "19               0.604                  4   \n",
       "20               0.604                  5   \n",
       "21               0.604                  6   \n",
       "22               0.604                  7   \n",
       "23               0.604                  8   \n",
       "24               0.802                  3   \n",
       "25               0.802                  4   \n",
       "26               0.802                  5   \n",
       "27               0.802                  6   \n",
       "28               0.802                  7   \n",
       "29               0.802                  8   \n",
       "30                 1.0                  3   \n",
       "31                 1.0                  4   \n",
       "32                 1.0                  5   \n",
       "33                 1.0                  6   \n",
       "34                 1.0                  7   \n",
       "35                 1.0                  8   \n",
       "\n",
       "                                               params  split0_test_score  \\\n",
       "0          {'learning_rate': 0.01, 'max_features': 3}          -7.610273   \n",
       "1          {'learning_rate': 0.01, 'max_features': 4}          -7.708159   \n",
       "2          {'learning_rate': 0.01, 'max_features': 5}          -8.170496   \n",
       "3          {'learning_rate': 0.01, 'max_features': 6}          -8.441384   \n",
       "4          {'learning_rate': 0.01, 'max_features': 7}          -8.525926   \n",
       "5          {'learning_rate': 0.01, 'max_features': 8}          -8.885766   \n",
       "6   {'learning_rate': 0.20800000000000002, 'max_fe...          -8.141103   \n",
       "7   {'learning_rate': 0.20800000000000002, 'max_fe...          -7.453510   \n",
       "8   {'learning_rate': 0.20800000000000002, 'max_fe...          -9.422320   \n",
       "9   {'learning_rate': 0.20800000000000002, 'max_fe...          -7.663548   \n",
       "10  {'learning_rate': 0.20800000000000002, 'max_fe...         -10.054422   \n",
       "11  {'learning_rate': 0.20800000000000002, 'max_fe...          -9.484694   \n",
       "12        {'learning_rate': 0.406, 'max_features': 3}         -14.270643   \n",
       "13        {'learning_rate': 0.406, 'max_features': 4}         -12.490462   \n",
       "14        {'learning_rate': 0.406, 'max_features': 5}         -14.802628   \n",
       "15        {'learning_rate': 0.406, 'max_features': 6}          -9.557962   \n",
       "16        {'learning_rate': 0.406, 'max_features': 7}         -12.182133   \n",
       "17        {'learning_rate': 0.406, 'max_features': 8}          -8.836877   \n",
       "18  {'learning_rate': 0.6040000000000001, 'max_fea...         -15.315721   \n",
       "19  {'learning_rate': 0.6040000000000001, 'max_fea...         -19.984295   \n",
       "20  {'learning_rate': 0.6040000000000001, 'max_fea...         -28.945117   \n",
       "21  {'learning_rate': 0.6040000000000001, 'max_fea...          -7.738872   \n",
       "22  {'learning_rate': 0.6040000000000001, 'max_fea...         -15.203224   \n",
       "23  {'learning_rate': 0.6040000000000001, 'max_fea...          -9.760145   \n",
       "24        {'learning_rate': 0.802, 'max_features': 3}         -23.694562   \n",
       "25        {'learning_rate': 0.802, 'max_features': 4}         -23.141844   \n",
       "26        {'learning_rate': 0.802, 'max_features': 5}         -43.553836   \n",
       "27        {'learning_rate': 0.802, 'max_features': 6}          -7.790428   \n",
       "28        {'learning_rate': 0.802, 'max_features': 7}         -14.021720   \n",
       "29        {'learning_rate': 0.802, 'max_features': 8}         -12.748866   \n",
       "30          {'learning_rate': 1.0, 'max_features': 3}         -27.923115   \n",
       "31          {'learning_rate': 1.0, 'max_features': 4}         -38.856015   \n",
       "32          {'learning_rate': 1.0, 'max_features': 5}         -35.347646   \n",
       "33          {'learning_rate': 1.0, 'max_features': 6}          -9.651419   \n",
       "34          {'learning_rate': 1.0, 'max_features': 7}         -17.735918   \n",
       "35          {'learning_rate': 1.0, 'max_features': 8}         -18.388718   \n",
       "\n",
       "    split1_test_score  split2_test_score  split3_test_score  \\\n",
       "0           -7.219737         -19.538940         -15.050501   \n",
       "1           -6.622963         -21.477524         -13.002760   \n",
       "2           -6.562454         -19.708259         -13.105675   \n",
       "3           -6.735156         -20.975003         -13.388623   \n",
       "4           -6.441028         -22.558258         -13.630800   \n",
       "5           -6.780975         -24.298762         -12.824106   \n",
       "6           -7.418348         -26.203440         -11.038359   \n",
       "7           -7.635276         -32.294182         -10.132872   \n",
       "8           -7.553995         -22.471541         -13.906707   \n",
       "9           -7.526131         -24.833706          -7.775358   \n",
       "10          -6.957980         -23.055241         -13.269081   \n",
       "11          -8.210084         -25.547913         -16.870862   \n",
       "12         -12.369088         -34.069130         -12.733776   \n",
       "13         -13.914919         -25.923565         -17.196243   \n",
       "14         -11.739519         -27.976221         -26.408940   \n",
       "15          -7.314226         -21.372131          -9.985807   \n",
       "16          -9.851559         -15.980273         -20.216079   \n",
       "17         -13.055886         -23.345063         -12.922735   \n",
       "18         -17.460621         -36.204087         -20.595640   \n",
       "19         -21.515093         -44.379643         -19.785627   \n",
       "20         -16.604732         -30.497197         -37.189840   \n",
       "21          -9.283252         -28.089776         -11.375551   \n",
       "22         -16.447304         -25.050166         -24.088225   \n",
       "23         -17.641065         -23.867521         -15.726499   \n",
       "24         -21.765260         -61.522314         -28.568626   \n",
       "25         -35.539491         -53.767722         -26.125552   \n",
       "26         -29.593042         -32.970511         -56.103898   \n",
       "27         -10.320759         -27.609543         -14.720094   \n",
       "28         -21.247946         -27.849875         -29.861530   \n",
       "29         -24.179964         -23.865224         -25.111507   \n",
       "30         -25.875397         -74.777105         -31.011951   \n",
       "31         -52.211604         -76.507066         -27.541101   \n",
       "32         -40.393255         -45.477558         -69.323929   \n",
       "33         -13.638897         -40.164992         -14.859993   \n",
       "34         -33.797920         -38.428165         -41.828443   \n",
       "35         -29.525147         -30.364853         -36.193948   \n",
       "\n",
       "    split4_test_score  mean_test_score  std_test_score  rank_test_score  \n",
       "0           -8.659483       -11.615787        4.872017                6  \n",
       "1           -8.364986       -11.435279        5.473211                3  \n",
       "2           -8.252056       -11.159788        4.803937                2  \n",
       "3           -8.241567       -11.556346        5.215419                4  \n",
       "4           -8.303440       -11.891890        5.843181                7  \n",
       "5           -8.527026       -12.263327        6.333880                9  \n",
       "6           -9.087564       -12.377763        7.018744               11  \n",
       "7           -9.154800       -13.334128        9.531601               13  \n",
       "8           -7.841920       -12.239297        5.598275                8  \n",
       "9           -7.553339       -11.070416        6.882211                1  \n",
       "10          -8.480132       -12.363371        5.740478               10  \n",
       "11          -7.771741       -13.577059        6.832336               16  \n",
       "12         -12.461475       -17.180822        8.472135               20  \n",
       "13         -11.664900       -16.238018        5.197738               19  \n",
       "14          -9.299902       -18.045442        7.685486               22  \n",
       "15          -9.599259       -11.565877        4.992696                5  \n",
       "16          -7.398407       -13.125690        4.535069               12  \n",
       "17          -9.624064       -13.556925        5.180871               15  \n",
       "18         -14.571299       -20.829473        7.966791               25  \n",
       "19         -15.330006       -24.198933       10.299149               27  \n",
       "20         -10.060832       -24.659544        9.873754               28  \n",
       "21         -10.552807       -13.408052        7.442984               14  \n",
       "22          -7.911358       -17.740055        6.299952               21  \n",
       "23         -11.282274       -15.655501        5.005299               18  \n",
       "24         -18.946263       -30.899405       15.629556               31  \n",
       "25         -18.125211       -31.339964       12.567174               32  \n",
       "26         -12.491643       -34.942586       14.549957               33  \n",
       "27         -10.029630       -14.094091        7.121143               17  \n",
       "28         -11.456754       -20.887565        7.283072               26  \n",
       "29         -11.412198       -19.463552        6.056896               23  \n",
       "30         -25.878963       -37.093306       18.935400               34  \n",
       "31         -37.291892       -46.481536       16.945232               36  \n",
       "32         -15.974374       -41.303353       17.207165               35  \n",
       "33         -19.585805       -19.580221       10.769344               24  \n",
       "34         -14.393354       -29.236760       11.103447               30  \n",
       "35         -14.150935       -25.724720        8.165148               29  "
      ]
     },
     "execution_count": 59,
     "metadata": {},
     "output_type": "execute_result"
    }
   ],
   "source": [
    "df1 = pd.DataFrame(grid1.cv_results_)\n",
    "df1"
   ]
  },
  {
   "cell_type": "code",
   "execution_count": 60,
   "metadata": {},
   "outputs": [
    {
     "data": {
      "text/html": [
       "<div>\n",
       "<style scoped>\n",
       "    .dataframe tbody tr th:only-of-type {\n",
       "        vertical-align: middle;\n",
       "    }\n",
       "\n",
       "    .dataframe tbody tr th {\n",
       "        vertical-align: top;\n",
       "    }\n",
       "\n",
       "    .dataframe thead th {\n",
       "        text-align: right;\n",
       "    }\n",
       "</style>\n",
       "<table border=\"1\" class=\"dataframe\">\n",
       "  <thead>\n",
       "    <tr style=\"text-align: right;\">\n",
       "      <th></th>\n",
       "      <th>param_learning_rate</th>\n",
       "      <th>param_max_features</th>\n",
       "      <th>mean_test_score</th>\n",
       "    </tr>\n",
       "  </thead>\n",
       "  <tbody>\n",
       "    <tr>\n",
       "      <th>0</th>\n",
       "      <td>0.01</td>\n",
       "      <td>3</td>\n",
       "      <td>11.615787</td>\n",
       "    </tr>\n",
       "    <tr>\n",
       "      <th>1</th>\n",
       "      <td>0.01</td>\n",
       "      <td>4</td>\n",
       "      <td>11.435279</td>\n",
       "    </tr>\n",
       "    <tr>\n",
       "      <th>2</th>\n",
       "      <td>0.01</td>\n",
       "      <td>5</td>\n",
       "      <td>11.159788</td>\n",
       "    </tr>\n",
       "    <tr>\n",
       "      <th>3</th>\n",
       "      <td>0.01</td>\n",
       "      <td>6</td>\n",
       "      <td>11.556346</td>\n",
       "    </tr>\n",
       "    <tr>\n",
       "      <th>4</th>\n",
       "      <td>0.01</td>\n",
       "      <td>7</td>\n",
       "      <td>11.891890</td>\n",
       "    </tr>\n",
       "    <tr>\n",
       "      <th>5</th>\n",
       "      <td>0.01</td>\n",
       "      <td>8</td>\n",
       "      <td>12.263327</td>\n",
       "    </tr>\n",
       "    <tr>\n",
       "      <th>6</th>\n",
       "      <td>0.208</td>\n",
       "      <td>3</td>\n",
       "      <td>12.377763</td>\n",
       "    </tr>\n",
       "    <tr>\n",
       "      <th>7</th>\n",
       "      <td>0.208</td>\n",
       "      <td>4</td>\n",
       "      <td>13.334128</td>\n",
       "    </tr>\n",
       "    <tr>\n",
       "      <th>8</th>\n",
       "      <td>0.208</td>\n",
       "      <td>5</td>\n",
       "      <td>12.239297</td>\n",
       "    </tr>\n",
       "  </tbody>\n",
       "</table>\n",
       "</div>"
      ],
      "text/plain": [
       "  param_learning_rate param_max_features  mean_test_score\n",
       "0                0.01                  3        11.615787\n",
       "1                0.01                  4        11.435279\n",
       "2                0.01                  5        11.159788\n",
       "3                0.01                  6        11.556346\n",
       "4                0.01                  7        11.891890\n",
       "5                0.01                  8        12.263327\n",
       "6               0.208                  3        12.377763\n",
       "7               0.208                  4        13.334128\n",
       "8               0.208                  5        12.239297"
      ]
     },
     "execution_count": 60,
     "metadata": {},
     "output_type": "execute_result"
    }
   ],
   "source": [
    "df2 = df1.iloc[:,[4,5,12]].copy()\n",
    "df2.mean_test_score = -df2.mean_test_score\n",
    "df2[:9]"
   ]
  },
  {
   "cell_type": "code",
   "execution_count": 61,
   "metadata": {},
   "outputs": [
    {
     "data": {
      "text/html": [
       "<div>\n",
       "<style scoped>\n",
       "    .dataframe tbody tr th:only-of-type {\n",
       "        vertical-align: middle;\n",
       "    }\n",
       "\n",
       "    .dataframe tbody tr th {\n",
       "        vertical-align: top;\n",
       "    }\n",
       "\n",
       "    .dataframe thead th {\n",
       "        text-align: right;\n",
       "    }\n",
       "</style>\n",
       "<table border=\"1\" class=\"dataframe\">\n",
       "  <thead>\n",
       "    <tr style=\"text-align: right;\">\n",
       "      <th></th>\n",
       "      <th>param_learning_rate</th>\n",
       "      <th>param_max_features</th>\n",
       "      <th>mean_test_score</th>\n",
       "    </tr>\n",
       "  </thead>\n",
       "  <tbody>\n",
       "    <tr>\n",
       "      <th>27</th>\n",
       "      <td>0.802</td>\n",
       "      <td>6</td>\n",
       "      <td>14.094091</td>\n",
       "    </tr>\n",
       "    <tr>\n",
       "      <th>28</th>\n",
       "      <td>0.802</td>\n",
       "      <td>7</td>\n",
       "      <td>20.887565</td>\n",
       "    </tr>\n",
       "    <tr>\n",
       "      <th>29</th>\n",
       "      <td>0.802</td>\n",
       "      <td>8</td>\n",
       "      <td>19.463552</td>\n",
       "    </tr>\n",
       "    <tr>\n",
       "      <th>30</th>\n",
       "      <td>1.0</td>\n",
       "      <td>3</td>\n",
       "      <td>37.093306</td>\n",
       "    </tr>\n",
       "    <tr>\n",
       "      <th>31</th>\n",
       "      <td>1.0</td>\n",
       "      <td>4</td>\n",
       "      <td>46.481536</td>\n",
       "    </tr>\n",
       "    <tr>\n",
       "      <th>32</th>\n",
       "      <td>1.0</td>\n",
       "      <td>5</td>\n",
       "      <td>41.303353</td>\n",
       "    </tr>\n",
       "    <tr>\n",
       "      <th>33</th>\n",
       "      <td>1.0</td>\n",
       "      <td>6</td>\n",
       "      <td>19.580221</td>\n",
       "    </tr>\n",
       "    <tr>\n",
       "      <th>34</th>\n",
       "      <td>1.0</td>\n",
       "      <td>7</td>\n",
       "      <td>29.236760</td>\n",
       "    </tr>\n",
       "    <tr>\n",
       "      <th>35</th>\n",
       "      <td>1.0</td>\n",
       "      <td>8</td>\n",
       "      <td>25.724720</td>\n",
       "    </tr>\n",
       "  </tbody>\n",
       "</table>\n",
       "</div>"
      ],
      "text/plain": [
       "   param_learning_rate param_max_features  mean_test_score\n",
       "27               0.802                  6        14.094091\n",
       "28               0.802                  7        20.887565\n",
       "29               0.802                  8        19.463552\n",
       "30                 1.0                  3        37.093306\n",
       "31                 1.0                  4        46.481536\n",
       "32                 1.0                  5        41.303353\n",
       "33                 1.0                  6        19.580221\n",
       "34                 1.0                  7        29.236760\n",
       "35                 1.0                  8        25.724720"
      ]
     },
     "execution_count": 61,
     "metadata": {},
     "output_type": "execute_result"
    }
   ],
   "source": [
    "df2[-9:]"
   ]
  },
  {
   "cell_type": "code",
   "execution_count": 62,
   "metadata": {},
   "outputs": [],
   "source": [
    "df2.param_learning_rate = df2.param_learning_rate.astype('float64')\n",
    "df2.param_learning_rate = df2.param_learning_rate.round(3)"
   ]
  },
  {
   "cell_type": "code",
   "execution_count": 63,
   "metadata": {},
   "outputs": [
    {
     "data": {
      "text/html": [
       "<div>\n",
       "<style scoped>\n",
       "    .dataframe tbody tr th:only-of-type {\n",
       "        vertical-align: middle;\n",
       "    }\n",
       "\n",
       "    .dataframe tbody tr th {\n",
       "        vertical-align: top;\n",
       "    }\n",
       "\n",
       "    .dataframe thead th {\n",
       "        text-align: right;\n",
       "    }\n",
       "</style>\n",
       "<table border=\"1\" class=\"dataframe\">\n",
       "  <thead>\n",
       "    <tr style=\"text-align: right;\">\n",
       "      <th>param_learning_rate</th>\n",
       "      <th>0.010</th>\n",
       "      <th>0.208</th>\n",
       "      <th>0.406</th>\n",
       "      <th>0.604</th>\n",
       "      <th>0.802</th>\n",
       "      <th>1.000</th>\n",
       "    </tr>\n",
       "    <tr>\n",
       "      <th>param_max_features</th>\n",
       "      <th></th>\n",
       "      <th></th>\n",
       "      <th></th>\n",
       "      <th></th>\n",
       "      <th></th>\n",
       "      <th></th>\n",
       "    </tr>\n",
       "  </thead>\n",
       "  <tbody>\n",
       "    <tr>\n",
       "      <th>3</th>\n",
       "      <td>11.615787</td>\n",
       "      <td>12.377763</td>\n",
       "      <td>17.180822</td>\n",
       "      <td>20.829473</td>\n",
       "      <td>30.899405</td>\n",
       "      <td>37.093306</td>\n",
       "    </tr>\n",
       "    <tr>\n",
       "      <th>4</th>\n",
       "      <td>11.435279</td>\n",
       "      <td>13.334128</td>\n",
       "      <td>16.238018</td>\n",
       "      <td>24.198933</td>\n",
       "      <td>31.339964</td>\n",
       "      <td>46.481536</td>\n",
       "    </tr>\n",
       "    <tr>\n",
       "      <th>5</th>\n",
       "      <td>11.159788</td>\n",
       "      <td>12.239297</td>\n",
       "      <td>18.045442</td>\n",
       "      <td>24.659544</td>\n",
       "      <td>34.942586</td>\n",
       "      <td>41.303353</td>\n",
       "    </tr>\n",
       "    <tr>\n",
       "      <th>6</th>\n",
       "      <td>11.556346</td>\n",
       "      <td>11.070416</td>\n",
       "      <td>11.565877</td>\n",
       "      <td>13.408052</td>\n",
       "      <td>14.094091</td>\n",
       "      <td>19.580221</td>\n",
       "    </tr>\n",
       "    <tr>\n",
       "      <th>7</th>\n",
       "      <td>11.891890</td>\n",
       "      <td>12.363371</td>\n",
       "      <td>13.125690</td>\n",
       "      <td>17.740055</td>\n",
       "      <td>20.887565</td>\n",
       "      <td>29.236760</td>\n",
       "    </tr>\n",
       "    <tr>\n",
       "      <th>8</th>\n",
       "      <td>12.263327</td>\n",
       "      <td>13.577059</td>\n",
       "      <td>13.556925</td>\n",
       "      <td>15.655501</td>\n",
       "      <td>19.463552</td>\n",
       "      <td>25.724720</td>\n",
       "    </tr>\n",
       "  </tbody>\n",
       "</table>\n",
       "</div>"
      ],
      "text/plain": [
       "param_learning_rate      0.010      0.208      0.406      0.604      0.802  \\\n",
       "param_max_features                                                           \n",
       "3                    11.615787  12.377763  17.180822  20.829473  30.899405   \n",
       "4                    11.435279  13.334128  16.238018  24.198933  31.339964   \n",
       "5                    11.159788  12.239297  18.045442  24.659544  34.942586   \n",
       "6                    11.556346  11.070416  11.565877  13.408052  14.094091   \n",
       "7                    11.891890  12.363371  13.125690  17.740055  20.887565   \n",
       "8                    12.263327  13.577059  13.556925  15.655501  19.463552   \n",
       "\n",
       "param_learning_rate      1.000  \n",
       "param_max_features              \n",
       "3                    37.093306  \n",
       "4                    46.481536  \n",
       "5                    41.303353  \n",
       "6                    19.580221  \n",
       "7                    29.236760  \n",
       "8                    25.724720  "
      ]
     },
     "execution_count": 63,
     "metadata": {},
     "output_type": "execute_result"
    }
   ],
   "source": [
    "df2 = df2.pivot_table('mean_test_score',\n",
    "                      columns = 'param_learning_rate',\n",
    "                      index = 'param_max_features')\n",
    "df2"
   ]
  },
  {
   "cell_type": "code",
   "execution_count": 64,
   "metadata": {},
   "outputs": [
    {
     "data": {
      "text/plain": [
       "array([[11.616, 12.378, 17.181, 20.829, 30.899, 37.093],\n",
       "       [11.435, 13.334, 16.238, 24.199, 31.34 , 46.482],\n",
       "       [11.16 , 12.239, 18.045, 24.66 , 34.943, 41.303],\n",
       "       [11.556, 11.07 , 11.566, 13.408, 14.094, 19.58 ],\n",
       "       [11.892, 12.363, 13.126, 17.74 , 20.888, 29.237],\n",
       "       [12.263, 13.577, 13.557, 15.656, 19.464, 25.725]])"
      ]
     },
     "execution_count": 64,
     "metadata": {},
     "output_type": "execute_result"
    }
   ],
   "source": [
    "# transform dataframe to numpy array\n",
    "arates = df2.values\n",
    "arates = np.round(arates,3)\n",
    "arates"
   ]
  },
  {
   "cell_type": "code",
   "execution_count": 65,
   "metadata": {},
   "outputs": [
    {
     "data": {
      "image/png": "[encoded data removed]",
      "text/plain": [
       "<Figure size 800x800 with 2 Axes>"
      ]
     },
     "metadata": {},
     "output_type": "display_data"
    }
   ],
   "source": [
    "plt.figure(figsize=(8,8))\n",
    "plt.xticks(range(6),df2.columns)\n",
    "plt.yticks(range(6),df2.index)\n",
    "plt.ylabel('max_features')\n",
    "plt.xlabel('learning_rate')\n",
    "plt.title('Validation MSE',c='r')\n",
    "plt.imshow(arates)\n",
    "for i in range(6):\n",
    "    for j in range(6):\n",
    "        text = plt.text(j,i,arates[i,j],\n",
    "                        ha=\"center\",\n",
    "                        va=\"center\",\n",
    "                        color=\"r\",\n",
    "                        size = 13)\n",
    "plt.colorbar();"
   ]
  },
  {
   "cell_type": "markdown",
   "metadata": {},
   "source": [
    "### Test MSE"
   ]
  },
  {
   "cell_type": "code",
   "execution_count": 66,
   "metadata": {},
   "outputs": [
    {
     "data": {
      "text/plain": [
       "15.688938784290462"
      ]
     },
     "execution_count": 66,
     "metadata": {},
     "output_type": "execute_result"
    }
   ],
   "source": [
    "model = GradientBoostingRegressor(n_estimators = 500,\n",
    "                                  max_features = 6,\n",
    "                                  max_depth = 4,\n",
    "                learning_rate = 0.20800000000000002,\n",
    "                                  random_state=1)\n",
    "model.fit(X_train,y_train)\n",
    "pred2 = model.predict(X_test)\n",
    "mean_squared_error(y_test,pred2)"
   ]
  },
  {
   "cell_type": "code",
   "execution_count": 67,
   "metadata": {},
   "outputs": [
    {
     "data": {
      "text/plain": [
       "15.688938784290462"
      ]
     },
     "execution_count": 67,
     "metadata": {},
     "output_type": "execute_result"
    }
   ],
   "source": [
    "-grid1.score(X_test,y_test)"
   ]
  },
  {
   "cell_type": "code",
   "execution_count": 68,
   "metadata": {},
   "outputs": [
    {
     "data": {
      "text/plain": [
       "15.127755055051313"
      ]
     },
     "execution_count": 68,
     "metadata": {},
     "output_type": "execute_result"
    }
   ],
   "source": [
    "model = GradientBoostingRegressor(n_estimators = 500,\n",
    "                                  max_features = 6,\n",
    "                                  max_depth = 4,\n",
    "                                  learning_rate = 0.208,\n",
    "                                  random_state=1)\n",
    "model.fit(X_train,y_train)\n",
    "pred2 = model.predict(X_test)\n",
    "mean_squared_error(y_test,pred2)"
   ]
  },
  {
   "cell_type": "code",
   "execution_count": null,
   "metadata": {},
   "outputs": [],
   "source": []
  }
 ],
 "metadata": {
  "kernelspec": {
   "display_name": "Python 3 (ipykernel)",
   "language": "python",
   "name": "python3"
  },
  "language_info": {
   "codemirror_mode": {
    "name": "ipython",
    "version": 3
   },
   "file_extension": ".py",
   "mimetype": "text/x-python",
   "name": "python",
   "nbconvert_exporter": "python",
   "pygments_lexer": "ipython3",
   "version": "3.11.4"
  }
 },
 "nbformat": 4,
 "nbformat_minor": 2
}
