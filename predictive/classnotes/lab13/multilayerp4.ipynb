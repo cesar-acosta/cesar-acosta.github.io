{
 "cells": [
  {
   "cell_type": "markdown",
   "metadata": {},
   "source": [
    "# Multilayer Perceptron"
   ]
  },
  {
   "cell_type": "code",
   "execution_count": null,
   "metadata": {},
   "outputs": [],
   "source": [
    "import numpy as np\n",
    "import pandas as pd\n",
    "import matplotlib.pyplot as plt"
   ]
  },
  {
   "cell_type": "code",
   "execution_count": 28,
   "metadata": {},
   "outputs": [
    {
     "name": "stdout",
     "output_type": "stream",
     "text": [
      "1.3.0\n"
     ]
    }
   ],
   "source": [
    "from sklearn import __version__\n",
    "print(__version__)"
   ]
  },
  {
   "cell_type": "code",
   "execution_count": 2,
   "metadata": {},
   "outputs": [],
   "source": [
    "from sklearn.preprocessing import StandardScaler\n",
    "from sklearn.model_selection import train_test_split\n",
    "from sklearn.metrics import accuracy_score\n",
    "from sklearn.metrics import confusion_matrix"
   ]
  },
  {
   "cell_type": "code",
   "execution_count": 3,
   "metadata": {},
   "outputs": [],
   "source": [
    "from sklearn.neural_network import MLPClassifier"
   ]
  },
  {
   "cell_type": "code",
   "execution_count": 23,
   "metadata": {},
   "outputs": [],
   "source": [
    "def plot1(model, X, y, h=0.01, pad=0.25):\n",
    "    x_min, x_max = X[:, 0].min()-pad, X[:, 0].max()+pad\n",
    "    y_min, y_max = X[:, 1].min()-pad, X[:, 1].max()+pad\n",
    "    xx, yy = np.meshgrid(np.arange(x_min, x_max, h), \n",
    "                         np.arange(y_min, y_max, h))\n",
    "    \n",
    "    Z = model.predict(np.c_[xx.ravel(), yy.ravel()])\n",
    "    Z = Z.reshape(xx.shape)\n",
    "    \n",
    "    plt.figure(figsize=(8,4))\n",
    "    plt.contourf(xx, yy, Z, cmap=plt.cm.Paired, alpha=0.2)     \n",
    "    \n",
    "    my_dict = {-1:'r', 1:'b', 0:'g'}\n",
    "    colors = np.vectorize(my_dict.get)(y)\n",
    "    plt.scatter(X[:,0], X[:,1], s=15, c=colors, alpha=0.7)\n",
    "    plt.xlim(x_min, x_max)\n",
    "    plt.ylim(y_min, y_max)\n",
    "    plt.xlabel('X1')\n",
    "    plt.ylabel('X2')\n",
    "    plt.grid()\n",
    "#    plt.show()"
   ]
  },
  {
   "cell_type": "code",
   "execution_count": 5,
   "metadata": {},
   "outputs": [],
   "source": [
    "# function plot1 requires X to be numpy array\n",
    "# so use X.values if X is a dataframe"
   ]
  },
  {
   "cell_type": "code",
   "execution_count": 6,
   "metadata": {},
   "outputs": [
    {
     "data": {
      "text/html": [
       "<div>\n",
       "<style scoped>\n",
       "    .dataframe tbody tr th:only-of-type {\n",
       "        vertical-align: middle;\n",
       "    }\n",
       "\n",
       "    .dataframe tbody tr th {\n",
       "        vertical-align: top;\n",
       "    }\n",
       "\n",
       "    .dataframe thead th {\n",
       "        text-align: right;\n",
       "    }\n",
       "</style>\n",
       "<table border=\"1\" class=\"dataframe\">\n",
       "  <thead>\n",
       "    <tr style=\"text-align: right;\">\n",
       "      <th></th>\n",
       "      <th>feature1</th>\n",
       "      <th>feature2</th>\n",
       "      <th>label</th>\n",
       "    </tr>\n",
       "  </thead>\n",
       "  <tbody>\n",
       "    <tr>\n",
       "      <th>0</th>\n",
       "      <td>0.161278</td>\n",
       "      <td>1.040189</td>\n",
       "      <td>0</td>\n",
       "    </tr>\n",
       "    <tr>\n",
       "      <th>1</th>\n",
       "      <td>-0.198249</td>\n",
       "      <td>0.650045</td>\n",
       "      <td>0</td>\n",
       "    </tr>\n",
       "    <tr>\n",
       "      <th>2</th>\n",
       "      <td>0.718082</td>\n",
       "      <td>-0.387594</td>\n",
       "      <td>1</td>\n",
       "    </tr>\n",
       "    <tr>\n",
       "      <th>3</th>\n",
       "      <td>1.982498</td>\n",
       "      <td>0.491790</td>\n",
       "      <td>1</td>\n",
       "    </tr>\n",
       "    <tr>\n",
       "      <th>4</th>\n",
       "      <td>1.475928</td>\n",
       "      <td>-0.443255</td>\n",
       "      <td>1</td>\n",
       "    </tr>\n",
       "    <tr>\n",
       "      <th>...</th>\n",
       "      <td>...</td>\n",
       "      <td>...</td>\n",
       "      <td>...</td>\n",
       "    </tr>\n",
       "    <tr>\n",
       "      <th>195</th>\n",
       "      <td>0.955191</td>\n",
       "      <td>-0.200922</td>\n",
       "      <td>0</td>\n",
       "    </tr>\n",
       "    <tr>\n",
       "      <th>196</th>\n",
       "      <td>1.729702</td>\n",
       "      <td>0.231600</td>\n",
       "      <td>1</td>\n",
       "    </tr>\n",
       "    <tr>\n",
       "      <th>197</th>\n",
       "      <td>0.415915</td>\n",
       "      <td>-0.104263</td>\n",
       "      <td>1</td>\n",
       "    </tr>\n",
       "    <tr>\n",
       "      <th>198</th>\n",
       "      <td>1.165601</td>\n",
       "      <td>-0.702048</td>\n",
       "      <td>1</td>\n",
       "    </tr>\n",
       "    <tr>\n",
       "      <th>199</th>\n",
       "      <td>-0.361503</td>\n",
       "      <td>0.173300</td>\n",
       "      <td>1</td>\n",
       "    </tr>\n",
       "  </tbody>\n",
       "</table>\n",
       "<p>200 rows × 3 columns</p>\n",
       "</div>"
      ],
      "text/plain": [
       "     feature1  feature2  label\n",
       "0    0.161278  1.040189      0\n",
       "1   -0.198249  0.650045      0\n",
       "2    0.718082 -0.387594      1\n",
       "3    1.982498  0.491790      1\n",
       "4    1.475928 -0.443255      1\n",
       "..        ...       ...    ...\n",
       "195  0.955191 -0.200922      0\n",
       "196  1.729702  0.231600      1\n",
       "197  0.415915 -0.104263      1\n",
       "198  1.165601 -0.702048      1\n",
       "199 -0.361503  0.173300      1\n",
       "\n",
       "[200 rows x 3 columns]"
      ]
     },
     "execution_count": 6,
     "metadata": {},
     "output_type": "execute_result"
    }
   ],
   "source": [
    "df = pd.read_csv('moons.csv')\n",
    "df"
   ]
  },
  {
   "cell_type": "code",
   "execution_count": 7,
   "metadata": {},
   "outputs": [],
   "source": [
    "y = df.label\n",
    "X = df.drop(['label'],axis=1)"
   ]
  },
  {
   "cell_type": "code",
   "execution_count": 8,
   "metadata": {},
   "outputs": [
    {
     "data": {
      "text/plain": [
       "0    100\n",
       "1    100\n",
       "Name: label, dtype: int64"
      ]
     },
     "execution_count": 8,
     "metadata": {},
     "output_type": "execute_result"
    }
   ],
   "source": [
    "y.value_counts()"
   ]
  },
  {
   "cell_type": "code",
   "execution_count": 8,
   "metadata": {},
   "outputs": [
    {
     "data": {
      "text/plain": [
       "array(['g', 'g', 'b', 'b', 'b', 'g', 'b', 'g', 'g', 'b', 'b', 'g', 'g',\n",
       "       'b', 'b', 'b', 'g', 'g', 'g', 'g', 'g', 'b', 'g', 'g', 'b', 'b',\n",
       "       'b', 'b', 'b', 'g', 'g', 'g', 'b', 'g', 'g', 'b', 'g', 'g', 'g',\n",
       "       'b', 'b', 'b', 'b', 'g', 'g', 'b', 'b', 'b', 'g', 'b', 'g', 'b',\n",
       "       'g', 'b', 'b', 'b', 'g', 'g', 'b', 'b', 'g', 'g', 'g', 'g', 'g',\n",
       "       'b', 'b', 'g', 'b', 'g', 'g', 'b', 'b', 'b', 'b', 'b', 'b', 'g',\n",
       "       'b', 'g', 'g', 'g', 'g', 'b', 'b', 'b', 'g', 'g', 'b', 'g', 'b',\n",
       "       'b', 'b', 'g', 'b', 'g', 'b', 'b', 'b', 'g', 'g', 'g', 'g', 'b',\n",
       "       'g', 'g', 'g', 'b', 'g', 'g', 'g', 'b', 'b', 'g', 'g', 'g', 'g',\n",
       "       'g', 'b', 'b', 'b', 'g', 'b', 'g', 'g', 'g', 'b', 'g', 'b', 'b',\n",
       "       'g', 'g', 'b', 'g', 'b', 'g', 'b', 'g', 'g', 'g', 'b', 'g', 'g',\n",
       "       'b', 'b', 'b', 'g', 'g', 'b', 'b', 'b', 'g', 'b', 'g', 'b', 'g',\n",
       "       'b', 'b', 'g', 'g', 'g', 'g', 'g', 'b', 'g', 'g', 'g', 'b', 'b',\n",
       "       'b', 'g', 'b', 'b', 'g', 'g', 'b', 'g', 'g', 'g', 'b', 'g', 'g',\n",
       "       'b', 'b', 'g', 'b', 'b', 'b', 'b', 'b', 'b', 'b', 'b', 'b', 'g',\n",
       "       'g', 'b', 'b', 'b', 'b'], dtype='<U1')"
      ]
     },
     "execution_count": 8,
     "metadata": {},
     "output_type": "execute_result"
    }
   ],
   "source": [
    "my_dict = {-1:'r', 1:'b', 0:'g'}\n",
    "colors = np.vectorize(my_dict.get)(y)\n",
    "colors"
   ]
  },
  {
   "cell_type": "code",
   "execution_count": 9,
   "metadata": {},
   "outputs": [
    {
     "data": {
      "text/plain": [
       "array(['g', 'g', 'b', 'b', 'b', 'g', 'b', 'g', 'g', 'b', 'b', 'g', 'g',\n",
       "       'b', 'b', 'b', 'g', 'g', 'g', 'g', 'g', 'b', 'g', 'g', 'b', 'b',\n",
       "       'b', 'b', 'b', 'g', 'g', 'g', 'b', 'g', 'g', 'b', 'g', 'g', 'g',\n",
       "       'b', 'b', 'b', 'b', 'g', 'g', 'b', 'b', 'b', 'g', 'b', 'g', 'b',\n",
       "       'g', 'b', 'b', 'b', 'g', 'g', 'b', 'b', 'g', 'g', 'g', 'g', 'g',\n",
       "       'b', 'b', 'g', 'b', 'g', 'g', 'b', 'b', 'b', 'b', 'b', 'b', 'g',\n",
       "       'b', 'g', 'g', 'g', 'g', 'b', 'b', 'b', 'g', 'g', 'b', 'g', 'b',\n",
       "       'b', 'b', 'g', 'b', 'g', 'b', 'b', 'b', 'g', 'g', 'g', 'g', 'b',\n",
       "       'g', 'g', 'g', 'b', 'g', 'g', 'g', 'b', 'b', 'g', 'g', 'g', 'g',\n",
       "       'g', 'b', 'b', 'b', 'g', 'b', 'g', 'g', 'g', 'b', 'g', 'b', 'b',\n",
       "       'g', 'g', 'b', 'g', 'b', 'g', 'b', 'g', 'g', 'g', 'b', 'g', 'g',\n",
       "       'b', 'b', 'b', 'g', 'g', 'b', 'b', 'b', 'g', 'b', 'g', 'b', 'g',\n",
       "       'b', 'b', 'g', 'g', 'g', 'g', 'g', 'b', 'g', 'g', 'g', 'b', 'b',\n",
       "       'b', 'g', 'b', 'b', 'g', 'g', 'b', 'g', 'g', 'g', 'b', 'g', 'g',\n",
       "       'b', 'b', 'g', 'b', 'b', 'b', 'b', 'b', 'b', 'b', 'b', 'b', 'g',\n",
       "       'g', 'b', 'b', 'b', 'b'], dtype='<U1')"
      ]
     },
     "execution_count": 9,
     "metadata": {},
     "output_type": "execute_result"
    }
   ],
   "source": [
    "colors = np.where(y>0,'b','g')\n",
    "colors"
   ]
  },
  {
   "cell_type": "code",
   "execution_count": 13,
   "metadata": {},
   "outputs": [
    {
     "data": {
      "image/png": "[encoded data removed]",
      "text/plain": [
       "<Figure size 640x480 with 1 Axes>"
      ]
     },
     "metadata": {},
     "output_type": "display_data"
    }
   ],
   "source": [
    "plt.figure()\n",
    "plt.scatter(X.feature1, X.feature2, s=8, c=colors, alpha=0.7)\n",
    "plt.xlabel('X1')\n",
    "plt.ylabel('X2')\n",
    "plt.grid()"
   ]
  },
  {
   "cell_type": "code",
   "execution_count": 14,
   "metadata": {},
   "outputs": [],
   "source": [
    "X_train, X_test, y_train, y_test = train_test_split(X,y, stratify=y,\n",
    "                                                    random_state=42)\n",
    "X_train = X_train.values\n",
    "X_test = X_test.values"
   ]
  },
  {
   "cell_type": "code",
   "execution_count": 15,
   "metadata": {},
   "outputs": [],
   "source": [
    "# One hidden layer with 10 nodes"
   ]
  },
  {
   "cell_type": "code",
   "execution_count": 25,
   "metadata": {},
   "outputs": [
    {
     "data": {
      "image/png": "[encoded data removed]",
      "text/plain": [
       "<Figure size 800x400 with 1 Axes>"
      ]
     },
     "metadata": {},
     "output_type": "display_data"
    }
   ],
   "source": [
    "mlp = MLPClassifier(solver='lbfgs', random_state=0,hidden_layer_sizes=[10])\n",
    "mlp.fit(X_train, y_train)\n",
    "plot1(mlp,X_train, y_train)"
   ]
  },
  {
   "cell_type": "code",
   "execution_count": 14,
   "metadata": {},
   "outputs": [],
   "source": [
    "# Use 100 nodes in hidden layer "
   ]
  },
  {
   "cell_type": "code",
   "execution_count": 26,
   "metadata": {},
   "outputs": [
    {
     "data": {
      "image/png": "[encoded data removed]",
      "text/plain": [
       "<Figure size 800x400 with 1 Axes>"
      ]
     },
     "metadata": {},
     "output_type": "display_data"
    }
   ],
   "source": [
    "mlp = MLPClassifier(solver='lbfgs',random_state=0,hidden_layer_sizes=[100])\n",
    "mlp.fit(X_train, y_train)\n",
    "plot1(mlp,X_train, y_train)"
   ]
  },
  {
   "cell_type": "code",
   "execution_count": 16,
   "metadata": {},
   "outputs": [],
   "source": [
    "# Two hidden layers, with 10 nodes each"
   ]
  },
  {
   "cell_type": "code",
   "execution_count": 32,
   "metadata": {},
   "outputs": [
    {
     "data": {
      "image/png": "[encoded data removed]",
      "text/plain": [
       "<Figure size 800x400 with 1 Axes>"
      ]
     },
     "metadata": {},
     "output_type": "display_data"
    }
   ],
   "source": [
    "mlp = MLPClassifier(solver='lbfgs', random_state=0,hidden_layer_sizes=[10,10])\n",
    "mlp.fit(X_train, y_train)\n",
    "plot1(mlp,X_train, y_train)"
   ]
  },
  {
   "cell_type": "code",
   "execution_count": 33,
   "metadata": {},
   "outputs": [],
   "source": [
    "# Two hidden layers, with 10 units each, with tanh activation func."
   ]
  },
  {
   "cell_type": "code",
   "execution_count": 38,
   "metadata": {},
   "outputs": [
    {
     "data": {
      "image/png": "[encoded data removed]",
      "text/plain": [
       "<Figure size 800x400 with 1 Axes>"
      ]
     },
     "metadata": {},
     "output_type": "display_data"
    }
   ],
   "source": [
    "mlp = MLPClassifier(solver='lbfgs',activation='tanh', max_iter = 1000,\n",
    "                    random_state=0, hidden_layer_sizes=[10, 10])\n",
    "mlp.fit(X_train, y_train)\n",
    "plot1(mlp,X_train, y_train)"
   ]
  },
  {
   "cell_type": "code",
   "execution_count": 19,
   "metadata": {},
   "outputs": [],
   "source": [
    "# Test accuracy rate"
   ]
  },
  {
   "cell_type": "code",
   "execution_count": 35,
   "metadata": {},
   "outputs": [
    {
     "data": {
      "text/plain": [
       "0.98"
      ]
     },
     "execution_count": 35,
     "metadata": {},
     "output_type": "execute_result"
    }
   ],
   "source": [
    "mlp.fit(X_train, y_train)\n",
    "y_pred = mlp.predict(X_test)\n",
    "accuracy_score(y_test, y_pred)"
   ]
  },
  {
   "cell_type": "code",
   "execution_count": 36,
   "metadata": {},
   "outputs": [
    {
     "data": {
      "text/html": [
       "<div>\n",
       "<style scoped>\n",
       "    .dataframe tbody tr th:only-of-type {\n",
       "        vertical-align: middle;\n",
       "    }\n",
       "\n",
       "    .dataframe tbody tr th {\n",
       "        vertical-align: top;\n",
       "    }\n",
       "\n",
       "    .dataframe thead th {\n",
       "        text-align: right;\n",
       "    }\n",
       "</style>\n",
       "<table border=\"1\" class=\"dataframe\">\n",
       "  <thead>\n",
       "    <tr style=\"text-align: right;\">\n",
       "      <th>predictions</th>\n",
       "      <th>0</th>\n",
       "      <th>1</th>\n",
       "    </tr>\n",
       "    <tr>\n",
       "      <th>y_test</th>\n",
       "      <th></th>\n",
       "      <th></th>\n",
       "    </tr>\n",
       "  </thead>\n",
       "  <tbody>\n",
       "    <tr>\n",
       "      <th>0</th>\n",
       "      <td>24</td>\n",
       "      <td>1</td>\n",
       "    </tr>\n",
       "    <tr>\n",
       "      <th>1</th>\n",
       "      <td>0</td>\n",
       "      <td>25</td>\n",
       "    </tr>\n",
       "  </tbody>\n",
       "</table>\n",
       "</div>"
      ],
      "text/plain": [
       "predictions   0   1\n",
       "y_test             \n",
       "0            24   1\n",
       "1             0  25"
      ]
     },
     "execution_count": 36,
     "metadata": {},
     "output_type": "execute_result"
    }
   ],
   "source": [
    "pd.crosstab(y_test, y_pred,rownames = ['y_test'],colnames=['predictions'])"
   ]
  },
  {
   "cell_type": "markdown",
   "metadata": {},
   "source": [
    "## Example 2 -Cancer data"
   ]
  },
  {
   "cell_type": "code",
   "execution_count": 39,
   "metadata": {},
   "outputs": [],
   "source": [
    "from sklearn.preprocessing import StandardScaler\n",
    "from sklearn.model_selection import train_test_split\n",
    "\n",
    "from sklearn.neural_network import MLPClassifier\n",
    "from sklearn.datasets import load_breast_cancer"
   ]
  },
  {
   "cell_type": "code",
   "execution_count": 40,
   "metadata": {},
   "outputs": [
    {
     "data": {
      "text/plain": [
       "dict_keys(['data', 'target', 'frame', 'target_names', 'DESCR', 'feature_names', 'filename', 'data_module'])"
      ]
     },
     "execution_count": 40,
     "metadata": {},
     "output_type": "execute_result"
    }
   ],
   "source": [
    "cancer = load_breast_cancer()\n",
    "cancer.keys()"
   ]
  },
  {
   "cell_type": "code",
   "execution_count": 54,
   "metadata": {},
   "outputs": [],
   "source": [
    "X_train, X_test, y_train, y_test = train_test_split(\n",
    "      cancer.data, cancer.target, random_state=0)\n",
    "\n",
    "mlp = MLPClassifier(random_state=42)\n",
    "mlp.fit(X_train, y_train);"
   ]
  },
  {
   "cell_type": "code",
   "execution_count": 55,
   "metadata": {},
   "outputs": [
    {
     "data": {
      "text/plain": [
       "0.916083916083916"
      ]
     },
     "execution_count": 55,
     "metadata": {},
     "output_type": "execute_result"
    }
   ],
   "source": [
    "# Accuracy rate\n",
    "mlp.score(X_test, y_test)"
   ]
  },
  {
   "cell_type": "markdown",
   "metadata": {},
   "source": [
    "### Standardize the data"
   ]
  },
  {
   "cell_type": "code",
   "execution_count": 43,
   "metadata": {},
   "outputs": [],
   "source": [
    "scaler = StandardScaler()\n",
    "scaler.fit(X_train)\n",
    "X_train_scaled = scaler.transform(X_train)\n",
    "X_test_scaled = scaler.transform(X_test)"
   ]
  },
  {
   "cell_type": "markdown",
   "metadata": {},
   "source": [
    "### Multilayer Perceptron"
   ]
  },
  {
   "cell_type": "code",
   "execution_count": 44,
   "metadata": {},
   "outputs": [
    {
     "name": "stderr",
     "output_type": "stream",
     "text": [
      "/Users/cam/anaconda3/lib/python3.11/site-packages/sklearn/neural_network/_multilayer_perceptron.py:691: ConvergenceWarning: Stochastic Optimizer: Maximum iterations (200) reached and the optimization hasn't converged yet.\n",
      "  warnings.warn(\n"
     ]
    }
   ],
   "source": [
    "mlp = MLPClassifier(random_state=0)\n",
    "mlp.fit(X_train_scaled, y_train);"
   ]
  },
  {
   "cell_type": "code",
   "execution_count": 45,
   "metadata": {},
   "outputs": [
    {
     "data": {
      "text/plain": [
       "0.965034965034965"
      ]
     },
     "execution_count": 45,
     "metadata": {},
     "output_type": "execute_result"
    }
   ],
   "source": [
    "mlp.score(X_test_scaled, y_test)"
   ]
  },
  {
   "cell_type": "markdown",
   "metadata": {},
   "source": [
    "### Increase max_iter"
   ]
  },
  {
   "cell_type": "code",
   "execution_count": 46,
   "metadata": {},
   "outputs": [
    {
     "data": {
      "text/plain": [
       "0.972027972027972"
      ]
     },
     "execution_count": 46,
     "metadata": {},
     "output_type": "execute_result"
    }
   ],
   "source": [
    "mlp = MLPClassifier(max_iter=1000, random_state=0)\n",
    "mlp.fit(X_train_scaled, y_train)\n",
    "mlp.score(X_test_scaled, y_test)"
   ]
  },
  {
   "cell_type": "markdown",
   "metadata": {},
   "source": [
    "### Regularization on MLP"
   ]
  },
  {
   "cell_type": "code",
   "execution_count": 47,
   "metadata": {},
   "outputs": [
    {
     "data": {
      "text/plain": [
       "0.9790209790209791"
      ]
     },
     "execution_count": 47,
     "metadata": {},
     "output_type": "execute_result"
    }
   ],
   "source": [
    "mlp = MLPClassifier(max_iter=1000, alpha=0.9, random_state=0)\n",
    "mlp.fit(X_train_scaled, y_train)\n",
    "mlp.score(X_test_scaled, y_test)"
   ]
  },
  {
   "cell_type": "code",
   "execution_count": 48,
   "metadata": {},
   "outputs": [
    {
     "data": {
      "text/plain": [
       "0.9790209790209791"
      ]
     },
     "execution_count": 48,
     "metadata": {},
     "output_type": "execute_result"
    }
   ],
   "source": [
    "y_pred = mlp.predict(X_test_scaled)\n",
    "accuracy_score(y_test, y_pred)"
   ]
  },
  {
   "cell_type": "code",
   "execution_count": 49,
   "metadata": {},
   "outputs": [
    {
     "data": {
      "text/html": [
       "<div>\n",
       "<style scoped>\n",
       "    .dataframe tbody tr th:only-of-type {\n",
       "        vertical-align: middle;\n",
       "    }\n",
       "\n",
       "    .dataframe tbody tr th {\n",
       "        vertical-align: top;\n",
       "    }\n",
       "\n",
       "    .dataframe thead th {\n",
       "        text-align: right;\n",
       "    }\n",
       "</style>\n",
       "<table border=\"1\" class=\"dataframe\">\n",
       "  <thead>\n",
       "    <tr style=\"text-align: right;\">\n",
       "      <th>predictions</th>\n",
       "      <th>0</th>\n",
       "      <th>1</th>\n",
       "    </tr>\n",
       "    <tr>\n",
       "      <th>y_test</th>\n",
       "      <th></th>\n",
       "      <th></th>\n",
       "    </tr>\n",
       "  </thead>\n",
       "  <tbody>\n",
       "    <tr>\n",
       "      <th>0</th>\n",
       "      <td>51</td>\n",
       "      <td>2</td>\n",
       "    </tr>\n",
       "    <tr>\n",
       "      <th>1</th>\n",
       "      <td>1</td>\n",
       "      <td>89</td>\n",
       "    </tr>\n",
       "  </tbody>\n",
       "</table>\n",
       "</div>"
      ],
      "text/plain": [
       "predictions   0   1\n",
       "y_test             \n",
       "0            51   2\n",
       "1             1  89"
      ]
     },
     "execution_count": 49,
     "metadata": {},
     "output_type": "execute_result"
    }
   ],
   "source": [
    "pd.crosstab(y_test, y_pred,rownames = ['y_test'],colnames=['predictions'])"
   ]
  },
  {
   "cell_type": "code",
   "execution_count": 58,
   "metadata": {},
   "outputs": [
    {
     "data": {
      "text/html": [
       "<div>\n",
       "<style scoped>\n",
       "    .dataframe tbody tr th:only-of-type {\n",
       "        vertical-align: middle;\n",
       "    }\n",
       "\n",
       "    .dataframe tbody tr th {\n",
       "        vertical-align: top;\n",
       "    }\n",
       "\n",
       "    .dataframe thead th {\n",
       "        text-align: right;\n",
       "    }\n",
       "</style>\n",
       "<table border=\"1\" class=\"dataframe\">\n",
       "  <thead>\n",
       "    <tr style=\"text-align: right;\">\n",
       "      <th></th>\n",
       "      <th>patient</th>\n",
       "      <th>prediction</th>\n",
       "    </tr>\n",
       "  </thead>\n",
       "  <tbody>\n",
       "    <tr>\n",
       "      <th>0</th>\n",
       "      <td>0</td>\n",
       "      <td>0</td>\n",
       "    </tr>\n",
       "    <tr>\n",
       "      <th>1</th>\n",
       "      <td>1</td>\n",
       "      <td>1</td>\n",
       "    </tr>\n",
       "    <tr>\n",
       "      <th>2</th>\n",
       "      <td>1</td>\n",
       "      <td>1</td>\n",
       "    </tr>\n",
       "    <tr>\n",
       "      <th>3</th>\n",
       "      <td>1</td>\n",
       "      <td>1</td>\n",
       "    </tr>\n",
       "    <tr>\n",
       "      <th>4</th>\n",
       "      <td>1</td>\n",
       "      <td>1</td>\n",
       "    </tr>\n",
       "    <tr>\n",
       "      <th>...</th>\n",
       "      <td>...</td>\n",
       "      <td>...</td>\n",
       "    </tr>\n",
       "    <tr>\n",
       "      <th>138</th>\n",
       "      <td>0</td>\n",
       "      <td>0</td>\n",
       "    </tr>\n",
       "    <tr>\n",
       "      <th>139</th>\n",
       "      <td>1</td>\n",
       "      <td>1</td>\n",
       "    </tr>\n",
       "    <tr>\n",
       "      <th>140</th>\n",
       "      <td>1</td>\n",
       "      <td>1</td>\n",
       "    </tr>\n",
       "    <tr>\n",
       "      <th>141</th>\n",
       "      <td>1</td>\n",
       "      <td>1</td>\n",
       "    </tr>\n",
       "    <tr>\n",
       "      <th>142</th>\n",
       "      <td>0</td>\n",
       "      <td>0</td>\n",
       "    </tr>\n",
       "  </tbody>\n",
       "</table>\n",
       "<p>143 rows × 2 columns</p>\n",
       "</div>"
      ],
      "text/plain": [
       "     patient  prediction\n",
       "0          0           0\n",
       "1          1           1\n",
       "2          1           1\n",
       "3          1           1\n",
       "4          1           1\n",
       "..       ...         ...\n",
       "138        0           0\n",
       "139        1           1\n",
       "140        1           1\n",
       "141        1           1\n",
       "142        0           0\n",
       "\n",
       "[143 rows x 2 columns]"
      ]
     },
     "execution_count": 58,
     "metadata": {},
     "output_type": "execute_result"
    }
   ],
   "source": [
    "df2 = pd.DataFrame()\n",
    "df2['patient'] = y_test\n",
    "df2['prediction'] = y_pred\n",
    "df2"
   ]
  },
  {
   "cell_type": "code",
   "execution_count": 59,
   "metadata": {},
   "outputs": [
    {
     "data": {
      "text/html": [
       "<div>\n",
       "<style scoped>\n",
       "    .dataframe tbody tr th:only-of-type {\n",
       "        vertical-align: middle;\n",
       "    }\n",
       "\n",
       "    .dataframe tbody tr th {\n",
       "        vertical-align: top;\n",
       "    }\n",
       "\n",
       "    .dataframe thead th {\n",
       "        text-align: right;\n",
       "    }\n",
       "</style>\n",
       "<table border=\"1\" class=\"dataframe\">\n",
       "  <thead>\n",
       "    <tr style=\"text-align: right;\">\n",
       "      <th></th>\n",
       "      <th>patient</th>\n",
       "      <th>prediction</th>\n",
       "    </tr>\n",
       "  </thead>\n",
       "  <tbody>\n",
       "    <tr>\n",
       "      <th>92</th>\n",
       "      <td>1</td>\n",
       "      <td>0</td>\n",
       "    </tr>\n",
       "    <tr>\n",
       "      <th>108</th>\n",
       "      <td>0</td>\n",
       "      <td>1</td>\n",
       "    </tr>\n",
       "    <tr>\n",
       "      <th>109</th>\n",
       "      <td>0</td>\n",
       "      <td>1</td>\n",
       "    </tr>\n",
       "  </tbody>\n",
       "</table>\n",
       "</div>"
      ],
      "text/plain": [
       "     patient  prediction\n",
       "92         1           0\n",
       "108        0           1\n",
       "109        0           1"
      ]
     },
     "execution_count": 59,
     "metadata": {},
     "output_type": "execute_result"
    }
   ],
   "source": [
    "# find out which patients were mistakenly predicted \n",
    "aux = df2[df2.patient!=df2.prediction]\n",
    "aux"
   ]
  },
  {
   "cell_type": "markdown",
   "metadata": {},
   "source": [
    "### Weights"
   ]
  },
  {
   "cell_type": "code",
   "execution_count": 60,
   "metadata": {},
   "outputs": [
    {
     "data": {
      "text/plain": [
       "list"
      ]
     },
     "execution_count": 60,
     "metadata": {},
     "output_type": "execute_result"
    }
   ],
   "source": [
    "type(mlp.coefs_)"
   ]
  },
  {
   "cell_type": "code",
   "execution_count": 61,
   "metadata": {},
   "outputs": [
    {
     "data": {
      "text/plain": [
       "2"
      ]
     },
     "execution_count": 61,
     "metadata": {},
     "output_type": "execute_result"
    }
   ],
   "source": [
    "len(mlp.coefs_)"
   ]
  },
  {
   "cell_type": "code",
   "execution_count": 62,
   "metadata": {},
   "outputs": [],
   "source": [
    "# weights from 30 inputs to 100 hidden nodes"
   ]
  },
  {
   "cell_type": "code",
   "execution_count": 63,
   "metadata": {
    "scrolled": false
   },
   "outputs": [
    {
     "data": {
      "text/plain": [
       "(30, 100)"
      ]
     },
     "execution_count": 63,
     "metadata": {},
     "output_type": "execute_result"
    }
   ],
   "source": [
    "mlp.coefs_[0].shape"
   ]
  },
  {
   "cell_type": "code",
   "execution_count": 64,
   "metadata": {},
   "outputs": [],
   "source": [
    "# weights from 100 hidden nodes to the ouput node"
   ]
  },
  {
   "cell_type": "code",
   "execution_count": 65,
   "metadata": {},
   "outputs": [
    {
     "data": {
      "text/plain": [
       "(100, 1)"
      ]
     },
     "execution_count": 65,
     "metadata": {},
     "output_type": "execute_result"
    }
   ],
   "source": [
    "mlp.coefs_[1].shape"
   ]
  },
  {
   "cell_type": "code",
   "execution_count": 67,
   "metadata": {},
   "outputs": [
    {
     "data": {
      "text/html": [
       "<div>\n",
       "<style scoped>\n",
       "    .dataframe tbody tr th:only-of-type {\n",
       "        vertical-align: middle;\n",
       "    }\n",
       "\n",
       "    .dataframe tbody tr th {\n",
       "        vertical-align: top;\n",
       "    }\n",
       "\n",
       "    .dataframe thead th {\n",
       "        text-align: right;\n",
       "    }\n",
       "</style>\n",
       "<table border=\"1\" class=\"dataframe\">\n",
       "  <thead>\n",
       "    <tr style=\"text-align: right;\">\n",
       "      <th></th>\n",
       "      <th>x1</th>\n",
       "      <th>x2</th>\n",
       "      <th>x3</th>\n",
       "      <th>x4</th>\n",
       "      <th>x5</th>\n",
       "      <th>x6</th>\n",
       "      <th>x7</th>\n",
       "      <th>x8</th>\n",
       "      <th>x9</th>\n",
       "      <th>x10</th>\n",
       "      <th>...</th>\n",
       "      <th>x91</th>\n",
       "      <th>x92</th>\n",
       "      <th>x93</th>\n",
       "      <th>x94</th>\n",
       "      <th>x95</th>\n",
       "      <th>x96</th>\n",
       "      <th>x97</th>\n",
       "      <th>x98</th>\n",
       "      <th>x99</th>\n",
       "      <th>x100</th>\n",
       "    </tr>\n",
       "  </thead>\n",
       "  <tbody>\n",
       "    <tr>\n",
       "      <th>mean radius</th>\n",
       "      <td>-0.0666</td>\n",
       "      <td>0.2167</td>\n",
       "      <td>0.0002</td>\n",
       "      <td>0.0000</td>\n",
       "      <td>-0.1716</td>\n",
       "      <td>-0.1724</td>\n",
       "      <td>-0.0144</td>\n",
       "      <td>0.1295</td>\n",
       "      <td>0.0000</td>\n",
       "      <td>0.0017</td>\n",
       "      <td>...</td>\n",
       "      <td>-0.1856</td>\n",
       "      <td>0.0001</td>\n",
       "      <td>0.0423</td>\n",
       "      <td>0.0000</td>\n",
       "      <td>0.0948</td>\n",
       "      <td>0.0162</td>\n",
       "      <td>0.0376</td>\n",
       "      <td>0.0000</td>\n",
       "      <td>-0.2276</td>\n",
       "      <td>-0.1928</td>\n",
       "    </tr>\n",
       "    <tr>\n",
       "      <th>mean texture</th>\n",
       "      <td>-0.2148</td>\n",
       "      <td>0.0662</td>\n",
       "      <td>-0.0000</td>\n",
       "      <td>-0.0000</td>\n",
       "      <td>0.1667</td>\n",
       "      <td>-0.1189</td>\n",
       "      <td>-0.0000</td>\n",
       "      <td>0.0777</td>\n",
       "      <td>-0.0009</td>\n",
       "      <td>-0.0777</td>\n",
       "      <td>...</td>\n",
       "      <td>-0.1800</td>\n",
       "      <td>0.0088</td>\n",
       "      <td>0.0941</td>\n",
       "      <td>0.0000</td>\n",
       "      <td>-0.0707</td>\n",
       "      <td>-0.0601</td>\n",
       "      <td>0.0979</td>\n",
       "      <td>0.0088</td>\n",
       "      <td>0.1583</td>\n",
       "      <td>0.1112</td>\n",
       "    </tr>\n",
       "    <tr>\n",
       "      <th>mean perimeter</th>\n",
       "      <td>0.0522</td>\n",
       "      <td>-0.1585</td>\n",
       "      <td>-0.0037</td>\n",
       "      <td>0.0089</td>\n",
       "      <td>0.0247</td>\n",
       "      <td>-0.2331</td>\n",
       "      <td>-0.0089</td>\n",
       "      <td>0.0432</td>\n",
       "      <td>-0.0229</td>\n",
       "      <td>-0.0521</td>\n",
       "      <td>...</td>\n",
       "      <td>-0.2212</td>\n",
       "      <td>-0.0175</td>\n",
       "      <td>0.0645</td>\n",
       "      <td>-0.0000</td>\n",
       "      <td>-0.1789</td>\n",
       "      <td>0.0257</td>\n",
       "      <td>0.1401</td>\n",
       "      <td>-0.0012</td>\n",
       "      <td>0.0320</td>\n",
       "      <td>-0.1997</td>\n",
       "    </tr>\n",
       "    <tr>\n",
       "      <th>mean area</th>\n",
       "      <td>-0.1934</td>\n",
       "      <td>0.0265</td>\n",
       "      <td>0.0000</td>\n",
       "      <td>0.0000</td>\n",
       "      <td>0.0830</td>\n",
       "      <td>0.1879</td>\n",
       "      <td>0.0000</td>\n",
       "      <td>-0.0991</td>\n",
       "      <td>0.0016</td>\n",
       "      <td>-0.0243</td>\n",
       "      <td>...</td>\n",
       "      <td>0.1973</td>\n",
       "      <td>-0.0000</td>\n",
       "      <td>-0.0175</td>\n",
       "      <td>0.0010</td>\n",
       "      <td>-0.0827</td>\n",
       "      <td>0.1939</td>\n",
       "      <td>0.1717</td>\n",
       "      <td>0.0000</td>\n",
       "      <td>0.0940</td>\n",
       "      <td>0.0944</td>\n",
       "    </tr>\n",
       "    <tr>\n",
       "      <th>mean smoothness</th>\n",
       "      <td>-0.1693</td>\n",
       "      <td>0.1882</td>\n",
       "      <td>-0.0000</td>\n",
       "      <td>0.0030</td>\n",
       "      <td>-0.0931</td>\n",
       "      <td>0.1523</td>\n",
       "      <td>0.0000</td>\n",
       "      <td>-0.2373</td>\n",
       "      <td>0.0097</td>\n",
       "      <td>-0.0407</td>\n",
       "      <td>...</td>\n",
       "      <td>-0.0334</td>\n",
       "      <td>-0.0000</td>\n",
       "      <td>-0.0427</td>\n",
       "      <td>-0.0023</td>\n",
       "      <td>-0.0253</td>\n",
       "      <td>-0.0505</td>\n",
       "      <td>0.0514</td>\n",
       "      <td>-0.0117</td>\n",
       "      <td>0.1882</td>\n",
       "      <td>0.1924</td>\n",
       "    </tr>\n",
       "    <tr>\n",
       "      <th>mean compactness</th>\n",
       "      <td>0.1589</td>\n",
       "      <td>-0.0196</td>\n",
       "      <td>-0.0000</td>\n",
       "      <td>0.0024</td>\n",
       "      <td>0.1134</td>\n",
       "      <td>-0.1178</td>\n",
       "      <td>0.0103</td>\n",
       "      <td>0.1277</td>\n",
       "      <td>0.0155</td>\n",
       "      <td>0.0006</td>\n",
       "      <td>...</td>\n",
       "      <td>-0.1209</td>\n",
       "      <td>0.0000</td>\n",
       "      <td>-0.0754</td>\n",
       "      <td>-0.0000</td>\n",
       "      <td>0.2156</td>\n",
       "      <td>-0.0448</td>\n",
       "      <td>0.0256</td>\n",
       "      <td>-0.0031</td>\n",
       "      <td>-0.0972</td>\n",
       "      <td>-0.1640</td>\n",
       "    </tr>\n",
       "    <tr>\n",
       "      <th>mean concavity</th>\n",
       "      <td>-0.0126</td>\n",
       "      <td>-0.1817</td>\n",
       "      <td>-0.0028</td>\n",
       "      <td>-0.0104</td>\n",
       "      <td>-0.0735</td>\n",
       "      <td>0.0677</td>\n",
       "      <td>-0.0015</td>\n",
       "      <td>-0.0542</td>\n",
       "      <td>-0.0000</td>\n",
       "      <td>-0.0035</td>\n",
       "      <td>...</td>\n",
       "      <td>0.0121</td>\n",
       "      <td>0.0000</td>\n",
       "      <td>-0.0091</td>\n",
       "      <td>-0.0006</td>\n",
       "      <td>-0.0628</td>\n",
       "      <td>-0.0263</td>\n",
       "      <td>-0.2159</td>\n",
       "      <td>-0.0000</td>\n",
       "      <td>-0.0582</td>\n",
       "      <td>0.0827</td>\n",
       "    </tr>\n",
       "    <tr>\n",
       "      <th>mean concave points</th>\n",
       "      <td>0.1279</td>\n",
       "      <td>-0.2572</td>\n",
       "      <td>-0.0000</td>\n",
       "      <td>-0.0058</td>\n",
       "      <td>-0.1201</td>\n",
       "      <td>0.2725</td>\n",
       "      <td>-0.0000</td>\n",
       "      <td>0.1377</td>\n",
       "      <td>-0.0004</td>\n",
       "      <td>-0.0022</td>\n",
       "      <td>...</td>\n",
       "      <td>-0.0830</td>\n",
       "      <td>0.0000</td>\n",
       "      <td>-0.0099</td>\n",
       "      <td>-0.0000</td>\n",
       "      <td>-0.1341</td>\n",
       "      <td>0.1036</td>\n",
       "      <td>0.0877</td>\n",
       "      <td>0.0000</td>\n",
       "      <td>0.1525</td>\n",
       "      <td>0.2494</td>\n",
       "    </tr>\n",
       "    <tr>\n",
       "      <th>mean symmetry</th>\n",
       "      <td>0.0892</td>\n",
       "      <td>-0.1357</td>\n",
       "      <td>-0.0000</td>\n",
       "      <td>-0.0000</td>\n",
       "      <td>-0.0468</td>\n",
       "      <td>0.0855</td>\n",
       "      <td>0.0133</td>\n",
       "      <td>0.1542</td>\n",
       "      <td>0.0000</td>\n",
       "      <td>-0.0480</td>\n",
       "      <td>...</td>\n",
       "      <td>0.0836</td>\n",
       "      <td>0.0050</td>\n",
       "      <td>0.0609</td>\n",
       "      <td>-0.0000</td>\n",
       "      <td>0.0665</td>\n",
       "      <td>-0.1160</td>\n",
       "      <td>-0.0762</td>\n",
       "      <td>0.0087</td>\n",
       "      <td>-0.2231</td>\n",
       "      <td>-0.1927</td>\n",
       "    </tr>\n",
       "    <tr>\n",
       "      <th>mean fractal dimension</th>\n",
       "      <td>-0.1391</td>\n",
       "      <td>-0.1794</td>\n",
       "      <td>-0.0026</td>\n",
       "      <td>-0.0000</td>\n",
       "      <td>-0.0579</td>\n",
       "      <td>0.1440</td>\n",
       "      <td>0.0025</td>\n",
       "      <td>-0.0990</td>\n",
       "      <td>-0.0003</td>\n",
       "      <td>-0.0045</td>\n",
       "      <td>...</td>\n",
       "      <td>0.1071</td>\n",
       "      <td>0.0000</td>\n",
       "      <td>-0.0425</td>\n",
       "      <td>0.0000</td>\n",
       "      <td>-0.0760</td>\n",
       "      <td>-0.1539</td>\n",
       "      <td>0.2042</td>\n",
       "      <td>-0.0056</td>\n",
       "      <td>0.1693</td>\n",
       "      <td>-0.0475</td>\n",
       "    </tr>\n",
       "    <tr>\n",
       "      <th>radius error</th>\n",
       "      <td>-0.1867</td>\n",
       "      <td>0.0257</td>\n",
       "      <td>0.0064</td>\n",
       "      <td>0.0002</td>\n",
       "      <td>0.1229</td>\n",
       "      <td>0.0561</td>\n",
       "      <td>0.0000</td>\n",
       "      <td>0.1175</td>\n",
       "      <td>-0.0005</td>\n",
       "      <td>-0.0035</td>\n",
       "      <td>...</td>\n",
       "      <td>0.1839</td>\n",
       "      <td>0.0000</td>\n",
       "      <td>-0.0016</td>\n",
       "      <td>0.0000</td>\n",
       "      <td>-0.1261</td>\n",
       "      <td>-0.1353</td>\n",
       "      <td>-0.1269</td>\n",
       "      <td>-0.0024</td>\n",
       "      <td>0.1116</td>\n",
       "      <td>-0.0742</td>\n",
       "    </tr>\n",
       "    <tr>\n",
       "      <th>texture error</th>\n",
       "      <td>-0.2210</td>\n",
       "      <td>0.2007</td>\n",
       "      <td>0.0074</td>\n",
       "      <td>0.0124</td>\n",
       "      <td>0.2124</td>\n",
       "      <td>-0.1445</td>\n",
       "      <td>-0.0000</td>\n",
       "      <td>0.0771</td>\n",
       "      <td>0.0000</td>\n",
       "      <td>-0.0485</td>\n",
       "      <td>...</td>\n",
       "      <td>-0.1836</td>\n",
       "      <td>-0.0000</td>\n",
       "      <td>-0.0233</td>\n",
       "      <td>-0.0000</td>\n",
       "      <td>-0.1851</td>\n",
       "      <td>0.1559</td>\n",
       "      <td>0.1852</td>\n",
       "      <td>0.0184</td>\n",
       "      <td>0.1075</td>\n",
       "      <td>-0.1600</td>\n",
       "    </tr>\n",
       "    <tr>\n",
       "      <th>perimeter error</th>\n",
       "      <td>0.0681</td>\n",
       "      <td>-0.2046</td>\n",
       "      <td>-0.0199</td>\n",
       "      <td>-0.0000</td>\n",
       "      <td>-0.0055</td>\n",
       "      <td>0.1116</td>\n",
       "      <td>0.0000</td>\n",
       "      <td>-0.0539</td>\n",
       "      <td>-0.0002</td>\n",
       "      <td>0.0849</td>\n",
       "      <td>...</td>\n",
       "      <td>-0.0428</td>\n",
       "      <td>-0.0059</td>\n",
       "      <td>-0.0050</td>\n",
       "      <td>0.0000</td>\n",
       "      <td>0.1274</td>\n",
       "      <td>-0.1322</td>\n",
       "      <td>-0.1609</td>\n",
       "      <td>-0.0086</td>\n",
       "      <td>0.0584</td>\n",
       "      <td>0.0872</td>\n",
       "    </tr>\n",
       "    <tr>\n",
       "      <th>area error</th>\n",
       "      <td>-0.2298</td>\n",
       "      <td>0.1816</td>\n",
       "      <td>-0.0152</td>\n",
       "      <td>0.0000</td>\n",
       "      <td>0.0953</td>\n",
       "      <td>0.1612</td>\n",
       "      <td>0.0001</td>\n",
       "      <td>0.1075</td>\n",
       "      <td>-0.0000</td>\n",
       "      <td>0.0302</td>\n",
       "      <td>...</td>\n",
       "      <td>-0.1070</td>\n",
       "      <td>-0.0123</td>\n",
       "      <td>-0.0807</td>\n",
       "      <td>-0.0000</td>\n",
       "      <td>-0.0690</td>\n",
       "      <td>0.1336</td>\n",
       "      <td>-0.0539</td>\n",
       "      <td>-0.0005</td>\n",
       "      <td>0.0561</td>\n",
       "      <td>0.0936</td>\n",
       "    </tr>\n",
       "    <tr>\n",
       "      <th>smoothness error</th>\n",
       "      <td>-0.1667</td>\n",
       "      <td>-0.1377</td>\n",
       "      <td>-0.0176</td>\n",
       "      <td>0.0003</td>\n",
       "      <td>0.0646</td>\n",
       "      <td>-0.0191</td>\n",
       "      <td>0.0041</td>\n",
       "      <td>0.0935</td>\n",
       "      <td>-0.0000</td>\n",
       "      <td>0.0061</td>\n",
       "      <td>...</td>\n",
       "      <td>-0.1148</td>\n",
       "      <td>-0.0000</td>\n",
       "      <td>-0.0339</td>\n",
       "      <td>-0.0123</td>\n",
       "      <td>0.0530</td>\n",
       "      <td>0.0709</td>\n",
       "      <td>0.0440</td>\n",
       "      <td>-0.0000</td>\n",
       "      <td>-0.0566</td>\n",
       "      <td>0.1482</td>\n",
       "    </tr>\n",
       "    <tr>\n",
       "      <th>compactness error</th>\n",
       "      <td>0.0590</td>\n",
       "      <td>-0.0419</td>\n",
       "      <td>-0.0193</td>\n",
       "      <td>-0.0000</td>\n",
       "      <td>-0.0204</td>\n",
       "      <td>-0.0200</td>\n",
       "      <td>-0.0000</td>\n",
       "      <td>-0.0063</td>\n",
       "      <td>-0.0000</td>\n",
       "      <td>0.0022</td>\n",
       "      <td>...</td>\n",
       "      <td>0.1137</td>\n",
       "      <td>0.0222</td>\n",
       "      <td>-0.0835</td>\n",
       "      <td>-0.0086</td>\n",
       "      <td>0.1450</td>\n",
       "      <td>0.0004</td>\n",
       "      <td>-0.1392</td>\n",
       "      <td>-0.0115</td>\n",
       "      <td>-0.1459</td>\n",
       "      <td>0.1985</td>\n",
       "    </tr>\n",
       "    <tr>\n",
       "      <th>concavity error</th>\n",
       "      <td>-0.1003</td>\n",
       "      <td>-0.1121</td>\n",
       "      <td>-0.0009</td>\n",
       "      <td>-0.0000</td>\n",
       "      <td>-0.1508</td>\n",
       "      <td>0.0338</td>\n",
       "      <td>-0.0131</td>\n",
       "      <td>0.0957</td>\n",
       "      <td>-0.0008</td>\n",
       "      <td>-0.0020</td>\n",
       "      <td>...</td>\n",
       "      <td>-0.1058</td>\n",
       "      <td>-0.0000</td>\n",
       "      <td>-0.0138</td>\n",
       "      <td>-0.0048</td>\n",
       "      <td>0.0043</td>\n",
       "      <td>-0.2200</td>\n",
       "      <td>-0.2569</td>\n",
       "      <td>-0.0057</td>\n",
       "      <td>0.2338</td>\n",
       "      <td>0.0539</td>\n",
       "    </tr>\n",
       "    <tr>\n",
       "      <th>concave points error</th>\n",
       "      <td>0.2322</td>\n",
       "      <td>-0.0568</td>\n",
       "      <td>-0.0000</td>\n",
       "      <td>-0.0000</td>\n",
       "      <td>0.0005</td>\n",
       "      <td>-0.1475</td>\n",
       "      <td>0.0000</td>\n",
       "      <td>-0.1430</td>\n",
       "      <td>-0.0000</td>\n",
       "      <td>-0.0001</td>\n",
       "      <td>...</td>\n",
       "      <td>-0.1241</td>\n",
       "      <td>0.0003</td>\n",
       "      <td>-0.0078</td>\n",
       "      <td>0.0000</td>\n",
       "      <td>-0.1606</td>\n",
       "      <td>-0.2024</td>\n",
       "      <td>0.0467</td>\n",
       "      <td>-0.0125</td>\n",
       "      <td>-0.1565</td>\n",
       "      <td>-0.1827</td>\n",
       "    </tr>\n",
       "    <tr>\n",
       "      <th>symmetry error</th>\n",
       "      <td>0.2031</td>\n",
       "      <td>0.1038</td>\n",
       "      <td>-0.0000</td>\n",
       "      <td>-0.0001</td>\n",
       "      <td>-0.0673</td>\n",
       "      <td>0.1108</td>\n",
       "      <td>0.0000</td>\n",
       "      <td>-0.1645</td>\n",
       "      <td>-0.0030</td>\n",
       "      <td>-0.0111</td>\n",
       "      <td>...</td>\n",
       "      <td>-0.1718</td>\n",
       "      <td>-0.0000</td>\n",
       "      <td>0.0370</td>\n",
       "      <td>-0.0016</td>\n",
       "      <td>0.0366</td>\n",
       "      <td>0.0980</td>\n",
       "      <td>0.0422</td>\n",
       "      <td>-0.0023</td>\n",
       "      <td>-0.0644</td>\n",
       "      <td>0.1179</td>\n",
       "    </tr>\n",
       "    <tr>\n",
       "      <th>fractal dimension error</th>\n",
       "      <td>0.0350</td>\n",
       "      <td>-0.2150</td>\n",
       "      <td>0.0006</td>\n",
       "      <td>-0.0178</td>\n",
       "      <td>0.1072</td>\n",
       "      <td>-0.1241</td>\n",
       "      <td>0.0167</td>\n",
       "      <td>-0.0892</td>\n",
       "      <td>-0.0000</td>\n",
       "      <td>-0.0048</td>\n",
       "      <td>...</td>\n",
       "      <td>0.1171</td>\n",
       "      <td>-0.0039</td>\n",
       "      <td>-0.0010</td>\n",
       "      <td>-0.0057</td>\n",
       "      <td>0.1309</td>\n",
       "      <td>0.0557</td>\n",
       "      <td>0.1858</td>\n",
       "      <td>-0.0129</td>\n",
       "      <td>-0.1862</td>\n",
       "      <td>-0.0898</td>\n",
       "    </tr>\n",
       "    <tr>\n",
       "      <th>worst radius</th>\n",
       "      <td>-0.1153</td>\n",
       "      <td>-0.0851</td>\n",
       "      <td>0.0098</td>\n",
       "      <td>-0.0005</td>\n",
       "      <td>-0.1225</td>\n",
       "      <td>0.0861</td>\n",
       "      <td>0.0000</td>\n",
       "      <td>0.0914</td>\n",
       "      <td>-0.0134</td>\n",
       "      <td>-0.0090</td>\n",
       "      <td>...</td>\n",
       "      <td>0.0957</td>\n",
       "      <td>0.0177</td>\n",
       "      <td>-0.0683</td>\n",
       "      <td>-0.0000</td>\n",
       "      <td>-0.1133</td>\n",
       "      <td>0.1450</td>\n",
       "      <td>0.0628</td>\n",
       "      <td>0.0000</td>\n",
       "      <td>0.1036</td>\n",
       "      <td>-0.0698</td>\n",
       "    </tr>\n",
       "    <tr>\n",
       "      <th>worst texture</th>\n",
       "      <td>0.1767</td>\n",
       "      <td>0.0181</td>\n",
       "      <td>-0.0040</td>\n",
       "      <td>0.0000</td>\n",
       "      <td>0.1212</td>\n",
       "      <td>-0.0867</td>\n",
       "      <td>0.0051</td>\n",
       "      <td>0.1451</td>\n",
       "      <td>-0.0002</td>\n",
       "      <td>0.0818</td>\n",
       "      <td>...</td>\n",
       "      <td>-0.1049</td>\n",
       "      <td>0.0099</td>\n",
       "      <td>0.0145</td>\n",
       "      <td>0.0000</td>\n",
       "      <td>-0.1639</td>\n",
       "      <td>-0.0214</td>\n",
       "      <td>-0.0207</td>\n",
       "      <td>0.0057</td>\n",
       "      <td>0.0157</td>\n",
       "      <td>-0.0569</td>\n",
       "    </tr>\n",
       "    <tr>\n",
       "      <th>worst perimeter</th>\n",
       "      <td>0.1974</td>\n",
       "      <td>-0.1479</td>\n",
       "      <td>0.0000</td>\n",
       "      <td>-0.0167</td>\n",
       "      <td>0.0828</td>\n",
       "      <td>0.1579</td>\n",
       "      <td>-0.0001</td>\n",
       "      <td>0.1276</td>\n",
       "      <td>-0.0001</td>\n",
       "      <td>0.0565</td>\n",
       "      <td>...</td>\n",
       "      <td>0.0289</td>\n",
       "      <td>-0.0001</td>\n",
       "      <td>-0.0673</td>\n",
       "      <td>0.0000</td>\n",
       "      <td>-0.2299</td>\n",
       "      <td>-0.1963</td>\n",
       "      <td>-0.0968</td>\n",
       "      <td>-0.0176</td>\n",
       "      <td>-0.1885</td>\n",
       "      <td>-0.0902</td>\n",
       "    </tr>\n",
       "    <tr>\n",
       "      <th>worst area</th>\n",
       "      <td>0.1290</td>\n",
       "      <td>0.0445</td>\n",
       "      <td>0.0000</td>\n",
       "      <td>-0.0001</td>\n",
       "      <td>0.1708</td>\n",
       "      <td>-0.0614</td>\n",
       "      <td>-0.0106</td>\n",
       "      <td>0.0293</td>\n",
       "      <td>-0.0076</td>\n",
       "      <td>-0.0129</td>\n",
       "      <td>...</td>\n",
       "      <td>-0.0678</td>\n",
       "      <td>-0.0034</td>\n",
       "      <td>-0.0086</td>\n",
       "      <td>-0.0051</td>\n",
       "      <td>0.1536</td>\n",
       "      <td>-0.0570</td>\n",
       "      <td>-0.1276</td>\n",
       "      <td>-0.0194</td>\n",
       "      <td>0.0482</td>\n",
       "      <td>0.0431</td>\n",
       "    </tr>\n",
       "    <tr>\n",
       "      <th>worst smoothness</th>\n",
       "      <td>-0.0586</td>\n",
       "      <td>-0.1732</td>\n",
       "      <td>-0.0000</td>\n",
       "      <td>-0.0000</td>\n",
       "      <td>0.0646</td>\n",
       "      <td>0.0317</td>\n",
       "      <td>-0.0000</td>\n",
       "      <td>-0.1476</td>\n",
       "      <td>0.0217</td>\n",
       "      <td>-0.0078</td>\n",
       "      <td>...</td>\n",
       "      <td>-0.1017</td>\n",
       "      <td>-0.0016</td>\n",
       "      <td>0.0371</td>\n",
       "      <td>0.0000</td>\n",
       "      <td>0.0013</td>\n",
       "      <td>0.0048</td>\n",
       "      <td>0.0437</td>\n",
       "      <td>0.0058</td>\n",
       "      <td>0.1953</td>\n",
       "      <td>-0.0518</td>\n",
       "    </tr>\n",
       "    <tr>\n",
       "      <th>worst compactness</th>\n",
       "      <td>0.2454</td>\n",
       "      <td>0.0657</td>\n",
       "      <td>-0.0000</td>\n",
       "      <td>0.0164</td>\n",
       "      <td>-0.0813</td>\n",
       "      <td>-0.1279</td>\n",
       "      <td>0.0048</td>\n",
       "      <td>-0.0257</td>\n",
       "      <td>0.0043</td>\n",
       "      <td>0.0422</td>\n",
       "      <td>...</td>\n",
       "      <td>0.1855</td>\n",
       "      <td>0.0019</td>\n",
       "      <td>-0.0075</td>\n",
       "      <td>-0.0000</td>\n",
       "      <td>-0.0956</td>\n",
       "      <td>0.0741</td>\n",
       "      <td>-0.1536</td>\n",
       "      <td>0.0000</td>\n",
       "      <td>-0.0443</td>\n",
       "      <td>-0.1107</td>\n",
       "    </tr>\n",
       "    <tr>\n",
       "      <th>worst concavity</th>\n",
       "      <td>0.1743</td>\n",
       "      <td>-0.2612</td>\n",
       "      <td>0.0004</td>\n",
       "      <td>-0.0000</td>\n",
       "      <td>-0.1442</td>\n",
       "      <td>0.0683</td>\n",
       "      <td>-0.0160</td>\n",
       "      <td>-0.0919</td>\n",
       "      <td>0.0001</td>\n",
       "      <td>-0.0798</td>\n",
       "      <td>...</td>\n",
       "      <td>0.0824</td>\n",
       "      <td>0.0000</td>\n",
       "      <td>-0.1430</td>\n",
       "      <td>-0.0000</td>\n",
       "      <td>0.2818</td>\n",
       "      <td>-0.0530</td>\n",
       "      <td>-0.0175</td>\n",
       "      <td>-0.0000</td>\n",
       "      <td>0.1893</td>\n",
       "      <td>0.1878</td>\n",
       "    </tr>\n",
       "    <tr>\n",
       "      <th>worst concave points</th>\n",
       "      <td>0.1056</td>\n",
       "      <td>0.1613</td>\n",
       "      <td>-0.0065</td>\n",
       "      <td>-0.0208</td>\n",
       "      <td>0.1596</td>\n",
       "      <td>0.1693</td>\n",
       "      <td>-0.0070</td>\n",
       "      <td>-0.1019</td>\n",
       "      <td>-0.0207</td>\n",
       "      <td>-0.0175</td>\n",
       "      <td>...</td>\n",
       "      <td>0.1332</td>\n",
       "      <td>0.0205</td>\n",
       "      <td>-0.0082</td>\n",
       "      <td>-0.0003</td>\n",
       "      <td>0.0230</td>\n",
       "      <td>0.0013</td>\n",
       "      <td>-0.2428</td>\n",
       "      <td>-0.0000</td>\n",
       "      <td>0.2511</td>\n",
       "      <td>-0.0899</td>\n",
       "    </tr>\n",
       "    <tr>\n",
       "      <th>worst symmetry</th>\n",
       "      <td>0.1469</td>\n",
       "      <td>0.1839</td>\n",
       "      <td>0.0146</td>\n",
       "      <td>0.0171</td>\n",
       "      <td>-0.0002</td>\n",
       "      <td>0.1931</td>\n",
       "      <td>0.0006</td>\n",
       "      <td>-0.1696</td>\n",
       "      <td>0.0000</td>\n",
       "      <td>0.0013</td>\n",
       "      <td>...</td>\n",
       "      <td>-0.0791</td>\n",
       "      <td>0.0000</td>\n",
       "      <td>0.0416</td>\n",
       "      <td>0.0000</td>\n",
       "      <td>-0.1497</td>\n",
       "      <td>0.1675</td>\n",
       "      <td>0.0262</td>\n",
       "      <td>-0.0001</td>\n",
       "      <td>-0.0412</td>\n",
       "      <td>-0.2087</td>\n",
       "    </tr>\n",
       "    <tr>\n",
       "      <th>worst fractal dimension</th>\n",
       "      <td>-0.1443</td>\n",
       "      <td>0.1236</td>\n",
       "      <td>-0.0238</td>\n",
       "      <td>0.0000</td>\n",
       "      <td>-0.0006</td>\n",
       "      <td>-0.2036</td>\n",
       "      <td>0.0191</td>\n",
       "      <td>-0.1432</td>\n",
       "      <td>-0.0000</td>\n",
       "      <td>-0.0117</td>\n",
       "      <td>...</td>\n",
       "      <td>-0.1459</td>\n",
       "      <td>0.0018</td>\n",
       "      <td>-0.0079</td>\n",
       "      <td>-0.0000</td>\n",
       "      <td>-0.1589</td>\n",
       "      <td>0.1634</td>\n",
       "      <td>-0.1361</td>\n",
       "      <td>-0.0000</td>\n",
       "      <td>-0.1001</td>\n",
       "      <td>0.1485</td>\n",
       "    </tr>\n",
       "  </tbody>\n",
       "</table>\n",
       "<p>30 rows × 100 columns</p>\n",
       "</div>"
      ],
      "text/plain": [
       "                             x1      x2      x3      x4      x5      x6  \\\n",
       "mean radius             -0.0666  0.2167  0.0002  0.0000 -0.1716 -0.1724   \n",
       "mean texture            -0.2148  0.0662 -0.0000 -0.0000  0.1667 -0.1189   \n",
       "mean perimeter           0.0522 -0.1585 -0.0037  0.0089  0.0247 -0.2331   \n",
       "mean area               -0.1934  0.0265  0.0000  0.0000  0.0830  0.1879   \n",
       "mean smoothness         -0.1693  0.1882 -0.0000  0.0030 -0.0931  0.1523   \n",
       "mean compactness         0.1589 -0.0196 -0.0000  0.0024  0.1134 -0.1178   \n",
       "mean concavity          -0.0126 -0.1817 -0.0028 -0.0104 -0.0735  0.0677   \n",
       "mean concave points      0.1279 -0.2572 -0.0000 -0.0058 -0.1201  0.2725   \n",
       "mean symmetry            0.0892 -0.1357 -0.0000 -0.0000 -0.0468  0.0855   \n",
       "mean fractal dimension  -0.1391 -0.1794 -0.0026 -0.0000 -0.0579  0.1440   \n",
       "radius error            -0.1867  0.0257  0.0064  0.0002  0.1229  0.0561   \n",
       "texture error           -0.2210  0.2007  0.0074  0.0124  0.2124 -0.1445   \n",
       "perimeter error          0.0681 -0.2046 -0.0199 -0.0000 -0.0055  0.1116   \n",
       "area error              -0.2298  0.1816 -0.0152  0.0000  0.0953  0.1612   \n",
       "smoothness error        -0.1667 -0.1377 -0.0176  0.0003  0.0646 -0.0191   \n",
       "compactness error        0.0590 -0.0419 -0.0193 -0.0000 -0.0204 -0.0200   \n",
       "concavity error         -0.1003 -0.1121 -0.0009 -0.0000 -0.1508  0.0338   \n",
       "concave points error     0.2322 -0.0568 -0.0000 -0.0000  0.0005 -0.1475   \n",
       "symmetry error           0.2031  0.1038 -0.0000 -0.0001 -0.0673  0.1108   \n",
       "fractal dimension error  0.0350 -0.2150  0.0006 -0.0178  0.1072 -0.1241   \n",
       "worst radius            -0.1153 -0.0851  0.0098 -0.0005 -0.1225  0.0861   \n",
       "worst texture            0.1767  0.0181 -0.0040  0.0000  0.1212 -0.0867   \n",
       "worst perimeter          0.1974 -0.1479  0.0000 -0.0167  0.0828  0.1579   \n",
       "worst area               0.1290  0.0445  0.0000 -0.0001  0.1708 -0.0614   \n",
       "worst smoothness        -0.0586 -0.1732 -0.0000 -0.0000  0.0646  0.0317   \n",
       "worst compactness        0.2454  0.0657 -0.0000  0.0164 -0.0813 -0.1279   \n",
       "worst concavity          0.1743 -0.2612  0.0004 -0.0000 -0.1442  0.0683   \n",
       "worst concave points     0.1056  0.1613 -0.0065 -0.0208  0.1596  0.1693   \n",
       "worst symmetry           0.1469  0.1839  0.0146  0.0171 -0.0002  0.1931   \n",
       "worst fractal dimension -0.1443  0.1236 -0.0238  0.0000 -0.0006 -0.2036   \n",
       "\n",
       "                             x7      x8      x9     x10  ...     x91     x92  \\\n",
       "mean radius             -0.0144  0.1295  0.0000  0.0017  ... -0.1856  0.0001   \n",
       "mean texture            -0.0000  0.0777 -0.0009 -0.0777  ... -0.1800  0.0088   \n",
       "mean perimeter          -0.0089  0.0432 -0.0229 -0.0521  ... -0.2212 -0.0175   \n",
       "mean area                0.0000 -0.0991  0.0016 -0.0243  ...  0.1973 -0.0000   \n",
       "mean smoothness          0.0000 -0.2373  0.0097 -0.0407  ... -0.0334 -0.0000   \n",
       "mean compactness         0.0103  0.1277  0.0155  0.0006  ... -0.1209  0.0000   \n",
       "mean concavity          -0.0015 -0.0542 -0.0000 -0.0035  ...  0.0121  0.0000   \n",
       "mean concave points     -0.0000  0.1377 -0.0004 -0.0022  ... -0.0830  0.0000   \n",
       "mean symmetry            0.0133  0.1542  0.0000 -0.0480  ...  0.0836  0.0050   \n",
       "mean fractal dimension   0.0025 -0.0990 -0.0003 -0.0045  ...  0.1071  0.0000   \n",
       "radius error             0.0000  0.1175 -0.0005 -0.0035  ...  0.1839  0.0000   \n",
       "texture error           -0.0000  0.0771  0.0000 -0.0485  ... -0.1836 -0.0000   \n",
       "perimeter error          0.0000 -0.0539 -0.0002  0.0849  ... -0.0428 -0.0059   \n",
       "area error               0.0001  0.1075 -0.0000  0.0302  ... -0.1070 -0.0123   \n",
       "smoothness error         0.0041  0.0935 -0.0000  0.0061  ... -0.1148 -0.0000   \n",
       "compactness error       -0.0000 -0.0063 -0.0000  0.0022  ...  0.1137  0.0222   \n",
       "concavity error         -0.0131  0.0957 -0.0008 -0.0020  ... -0.1058 -0.0000   \n",
       "concave points error     0.0000 -0.1430 -0.0000 -0.0001  ... -0.1241  0.0003   \n",
       "symmetry error           0.0000 -0.1645 -0.0030 -0.0111  ... -0.1718 -0.0000   \n",
       "fractal dimension error  0.0167 -0.0892 -0.0000 -0.0048  ...  0.1171 -0.0039   \n",
       "worst radius             0.0000  0.0914 -0.0134 -0.0090  ...  0.0957  0.0177   \n",
       "worst texture            0.0051  0.1451 -0.0002  0.0818  ... -0.1049  0.0099   \n",
       "worst perimeter         -0.0001  0.1276 -0.0001  0.0565  ...  0.0289 -0.0001   \n",
       "worst area              -0.0106  0.0293 -0.0076 -0.0129  ... -0.0678 -0.0034   \n",
       "worst smoothness        -0.0000 -0.1476  0.0217 -0.0078  ... -0.1017 -0.0016   \n",
       "worst compactness        0.0048 -0.0257  0.0043  0.0422  ...  0.1855  0.0019   \n",
       "worst concavity         -0.0160 -0.0919  0.0001 -0.0798  ...  0.0824  0.0000   \n",
       "worst concave points    -0.0070 -0.1019 -0.0207 -0.0175  ...  0.1332  0.0205   \n",
       "worst symmetry           0.0006 -0.1696  0.0000  0.0013  ... -0.0791  0.0000   \n",
       "worst fractal dimension  0.0191 -0.1432 -0.0000 -0.0117  ... -0.1459  0.0018   \n",
       "\n",
       "                            x93     x94     x95     x96     x97     x98  \\\n",
       "mean radius              0.0423  0.0000  0.0948  0.0162  0.0376  0.0000   \n",
       "mean texture             0.0941  0.0000 -0.0707 -0.0601  0.0979  0.0088   \n",
       "mean perimeter           0.0645 -0.0000 -0.1789  0.0257  0.1401 -0.0012   \n",
       "mean area               -0.0175  0.0010 -0.0827  0.1939  0.1717  0.0000   \n",
       "mean smoothness         -0.0427 -0.0023 -0.0253 -0.0505  0.0514 -0.0117   \n",
       "mean compactness        -0.0754 -0.0000  0.2156 -0.0448  0.0256 -0.0031   \n",
       "mean concavity          -0.0091 -0.0006 -0.0628 -0.0263 -0.2159 -0.0000   \n",
       "mean concave points     -0.0099 -0.0000 -0.1341  0.1036  0.0877  0.0000   \n",
       "mean symmetry            0.0609 -0.0000  0.0665 -0.1160 -0.0762  0.0087   \n",
       "mean fractal dimension  -0.0425  0.0000 -0.0760 -0.1539  0.2042 -0.0056   \n",
       "radius error            -0.0016  0.0000 -0.1261 -0.1353 -0.1269 -0.0024   \n",
       "texture error           -0.0233 -0.0000 -0.1851  0.1559  0.1852  0.0184   \n",
       "perimeter error         -0.0050  0.0000  0.1274 -0.1322 -0.1609 -0.0086   \n",
       "area error              -0.0807 -0.0000 -0.0690  0.1336 -0.0539 -0.0005   \n",
       "smoothness error        -0.0339 -0.0123  0.0530  0.0709  0.0440 -0.0000   \n",
       "compactness error       -0.0835 -0.0086  0.1450  0.0004 -0.1392 -0.0115   \n",
       "concavity error         -0.0138 -0.0048  0.0043 -0.2200 -0.2569 -0.0057   \n",
       "concave points error    -0.0078  0.0000 -0.1606 -0.2024  0.0467 -0.0125   \n",
       "symmetry error           0.0370 -0.0016  0.0366  0.0980  0.0422 -0.0023   \n",
       "fractal dimension error -0.0010 -0.0057  0.1309  0.0557  0.1858 -0.0129   \n",
       "worst radius            -0.0683 -0.0000 -0.1133  0.1450  0.0628  0.0000   \n",
       "worst texture            0.0145  0.0000 -0.1639 -0.0214 -0.0207  0.0057   \n",
       "worst perimeter         -0.0673  0.0000 -0.2299 -0.1963 -0.0968 -0.0176   \n",
       "worst area              -0.0086 -0.0051  0.1536 -0.0570 -0.1276 -0.0194   \n",
       "worst smoothness         0.0371  0.0000  0.0013  0.0048  0.0437  0.0058   \n",
       "worst compactness       -0.0075 -0.0000 -0.0956  0.0741 -0.1536  0.0000   \n",
       "worst concavity         -0.1430 -0.0000  0.2818 -0.0530 -0.0175 -0.0000   \n",
       "worst concave points    -0.0082 -0.0003  0.0230  0.0013 -0.2428 -0.0000   \n",
       "worst symmetry           0.0416  0.0000 -0.1497  0.1675  0.0262 -0.0001   \n",
       "worst fractal dimension -0.0079 -0.0000 -0.1589  0.1634 -0.1361 -0.0000   \n",
       "\n",
       "                            x99    x100  \n",
       "mean radius             -0.2276 -0.1928  \n",
       "mean texture             0.1583  0.1112  \n",
       "mean perimeter           0.0320 -0.1997  \n",
       "mean area                0.0940  0.0944  \n",
       "mean smoothness          0.1882  0.1924  \n",
       "mean compactness        -0.0972 -0.1640  \n",
       "mean concavity          -0.0582  0.0827  \n",
       "mean concave points      0.1525  0.2494  \n",
       "mean symmetry           -0.2231 -0.1927  \n",
       "mean fractal dimension   0.1693 -0.0475  \n",
       "radius error             0.1116 -0.0742  \n",
       "texture error            0.1075 -0.1600  \n",
       "perimeter error          0.0584  0.0872  \n",
       "area error               0.0561  0.0936  \n",
       "smoothness error        -0.0566  0.1482  \n",
       "compactness error       -0.1459  0.1985  \n",
       "concavity error          0.2338  0.0539  \n",
       "concave points error    -0.1565 -0.1827  \n",
       "symmetry error          -0.0644  0.1179  \n",
       "fractal dimension error -0.1862 -0.0898  \n",
       "worst radius             0.1036 -0.0698  \n",
       "worst texture            0.0157 -0.0569  \n",
       "worst perimeter         -0.1885 -0.0902  \n",
       "worst area               0.0482  0.0431  \n",
       "worst smoothness         0.1953 -0.0518  \n",
       "worst compactness       -0.0443 -0.1107  \n",
       "worst concavity          0.1893  0.1878  \n",
       "worst concave points     0.2511 -0.0899  \n",
       "worst symmetry          -0.0412 -0.2087  \n",
       "worst fractal dimension -0.1001  0.1485  \n",
       "\n",
       "[30 rows x 100 columns]"
      ]
     },
     "execution_count": 67,
     "metadata": {},
     "output_type": "execute_result"
    }
   ],
   "source": [
    "# weights from 30 inputs to 100 hidden nodes\n",
    "\n",
    "dfc = pd.DataFrame(mlp.coefs_[0])\n",
    "dfc.columns = ['x' + str(x) for x in range(1,101)]\n",
    "dfc.index = cancer.feature_names\n",
    "np.round(dfc,4)"
   ]
  },
  {
   "cell_type": "code",
   "execution_count": 69,
   "metadata": {},
   "outputs": [
    {
     "data": {
      "text/html": [
       "<div>\n",
       "<style scoped>\n",
       "    .dataframe tbody tr th:only-of-type {\n",
       "        vertical-align: middle;\n",
       "    }\n",
       "\n",
       "    .dataframe tbody tr th {\n",
       "        vertical-align: top;\n",
       "    }\n",
       "\n",
       "    .dataframe thead th {\n",
       "        text-align: right;\n",
       "    }\n",
       "</style>\n",
       "<table border=\"1\" class=\"dataframe\">\n",
       "  <thead>\n",
       "    <tr style=\"text-align: right;\">\n",
       "      <th></th>\n",
       "      <th>y</th>\n",
       "    </tr>\n",
       "  </thead>\n",
       "  <tbody>\n",
       "    <tr>\n",
       "      <th>x1</th>\n",
       "      <td>-0.1964</td>\n",
       "    </tr>\n",
       "    <tr>\n",
       "      <th>x2</th>\n",
       "      <td>0.1213</td>\n",
       "    </tr>\n",
       "    <tr>\n",
       "      <th>x3</th>\n",
       "      <td>0.0187</td>\n",
       "    </tr>\n",
       "    <tr>\n",
       "      <th>x4</th>\n",
       "      <td>0.0000</td>\n",
       "    </tr>\n",
       "    <tr>\n",
       "      <th>x5</th>\n",
       "      <td>-0.1035</td>\n",
       "    </tr>\n",
       "    <tr>\n",
       "      <th>...</th>\n",
       "      <td>...</td>\n",
       "    </tr>\n",
       "    <tr>\n",
       "      <th>x96</th>\n",
       "      <td>0.0111</td>\n",
       "    </tr>\n",
       "    <tr>\n",
       "      <th>x97</th>\n",
       "      <td>0.1944</td>\n",
       "    </tr>\n",
       "    <tr>\n",
       "      <th>x98</th>\n",
       "      <td>0.0123</td>\n",
       "    </tr>\n",
       "    <tr>\n",
       "      <th>x99</th>\n",
       "      <td>-0.1806</td>\n",
       "    </tr>\n",
       "    <tr>\n",
       "      <th>x100</th>\n",
       "      <td>-0.0408</td>\n",
       "    </tr>\n",
       "  </tbody>\n",
       "</table>\n",
       "<p>100 rows × 1 columns</p>\n",
       "</div>"
      ],
      "text/plain": [
       "           y\n",
       "x1   -0.1964\n",
       "x2    0.1213\n",
       "x3    0.0187\n",
       "x4    0.0000\n",
       "x5   -0.1035\n",
       "...      ...\n",
       "x96   0.0111\n",
       "x97   0.1944\n",
       "x98   0.0123\n",
       "x99  -0.1806\n",
       "x100 -0.0408\n",
       "\n",
       "[100 rows x 1 columns]"
      ]
     },
     "execution_count": 69,
     "metadata": {},
     "output_type": "execute_result"
    }
   ],
   "source": [
    "# weights from 100 hidden nodes to the ouput node\n",
    "\n",
    "dfc = pd.DataFrame(mlp.coefs_[1])\n",
    "dfc.index = ['x' + str(x) for x in range(1,101)]\n",
    "dfc.columns = ['y']\n",
    "np.round(dfc,4)"
   ]
  },
  {
   "cell_type": "code",
   "execution_count": null,
   "metadata": {},
   "outputs": [],
   "source": []
  }
 ],
 "metadata": {
  "kernelspec": {
   "display_name": "Python 3 (ipykernel)",
   "language": "python",
   "name": "python3"
  },
  "language_info": {
   "codemirror_mode": {
    "name": "ipython",
    "version": 3
   },
   "file_extension": ".py",
   "mimetype": "text/x-python",
   "name": "python",
   "nbconvert_exporter": "python",
   "pygments_lexer": "ipython3",
   "version": "3.11.4"
  },
  "latex_metadata": {
   "author": "Andreas C. M\\\"ller",
   "title": "Machine Learning with Python"
  }
 },
 "nbformat": 4,
 "nbformat_minor": 2
}
